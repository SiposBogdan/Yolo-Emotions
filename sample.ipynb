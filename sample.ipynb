{
 "cells": [
  {
   "metadata": {},
   "cell_type": "markdown",
   "source": [
    "# This is a sample Jupyter Notebook\n",
    "\n",
    "Below is an example of a code cell. \n",
    "Put your cursor into the cell and press Shift+Enter to execute it and select the next one, or click 'Run Cell' button.\n",
    "\n",
    "Press Double Shift to search everywhere for classes, files, tool windows, actions, and settings.\n",
    "\n",
    "To learn more about Jupyter Notebooks in PyCharm, see [help](https://www.jetbrains.com/help/pycharm/ipython-notebook-support.html).\n",
    "For an overview of PyCharm, go to Help -> Learn IDE features or refer to [our documentation](https://www.jetbrains.com/help/pycharm/getting-started.html)."
   ],
   "id": "8a77807f92f26ee"
  },
  {
   "metadata": {},
   "cell_type": "code",
   "source": "!pip install -q ultralytics kaggle pillow\n",
   "id": "94fb722533012d79",
   "outputs": [],
   "execution_count": null
  },
  {
   "metadata": {},
   "cell_type": "code",
   "source": [
    "import os\n",
    "import json\n",
    "\n",
    "kaggle_token = {\n",
    "    \"username\": \"\",  \n",
    "    \"key\": \"\"             \n",
    "}\n",
    "\n",
    "os.makedirs(os.path.expanduser(\"~/.kaggle\"), exist_ok=True)\n",
    "with open(os.path.expanduser(\"~/.kaggle/kaggle.json\"), \"w\") as f:\n",
    "    json.dump(kaggle_token, f)\n",
    "os.chmod(os.path.expanduser(\"~/.kaggle/kaggle.json\"), 0o600)\n"
   ],
   "id": "c54098030b58dab2",
   "outputs": [],
   "execution_count": null
  },
  {
   "metadata": {},
   "cell_type": "code",
   "source": [
    "!kaggle datasets download -d fatihkgg/affectnet-yolo-format\n",
    "\n"
   ],
   "id": "27a4a2edad6686e6",
   "outputs": [],
   "execution_count": null
  },
  {
   "metadata": {},
   "cell_type": "code",
   "source": [
    "import zipfile\n",
    "\n",
    "with zipfile.ZipFile(\"affectnet-yolo-format.zip\", 'r') as zip_ref:\n",
    "    zip_ref.extractall(\"data\")"
   ],
   "id": "cfcecf59f0314973",
   "outputs": [],
   "execution_count": null
  },
  {
   "metadata": {
    "ExecuteTime": {
     "end_time": "2025-05-26T13:28:33.320597Z",
     "start_time": "2025-05-26T13:28:33.288968Z"
    }
   },
   "cell_type": "code",
   "source": [
    "import os\n",
    "import shutil\n",
    "import random\n",
    "from collections import defaultdict\n",
    "\n",
    "def subset_by_class_shuffled(\n",
    "    src_img_dir: str,\n",
    "    src_lbl_dir: str,\n",
    "    dst_img_dir: str,\n",
    "    dst_lbl_dir: str,\n",
    "    limit_per_class: int,\n",
    "    class_count: int = 8\n",
    "):\n",
    "   \n",
    "    available = defaultdict(int)\n",
    "    for lbl in os.listdir(src_lbl_dir):\n",
    "        if not lbl.endswith(\".txt\"):\n",
    "            continue\n",
    "        with open(os.path.join(src_lbl_dir, lbl)) as f:\n",
    "            cls_ids = {int(line.split()[0]) for line in f if line.strip()}\n",
    "        for cid in cls_ids:\n",
    "            if 0 <= cid < class_count:\n",
    "                available[cid] += 1\n",
    "\n",
    "    shortages = [(cid, available.get(cid, 0)) for cid in range(class_count)\n",
    "                 if available.get(cid, 0) < limit_per_class]\n",
    "    if shortages:\n",
    "        msgs = [f\" Class {cid}: {got} available, needs {limit_per_class}\"\n",
    "                for cid, got in shortages]\n",
    "        raise ValueError(\"Cannot create subset; shortages detected:\\n\" + \"\\n\".join(msgs))\n",
    "\n",
    "    for folder in (dst_img_dir, dst_lbl_dir):\n",
    "        if os.path.exists(folder):\n",
    "            shutil.rmtree(folder)\n",
    "        os.makedirs(folder, exist_ok=True)\n",
    "\n",
    "    selected_per_class = defaultdict(list)\n",
    "    for lbl in sorted(os.listdir(src_lbl_dir)):\n",
    "        if not lbl.endswith(\".txt\"):\n",
    "            continue\n",
    "        with open(os.path.join(src_lbl_dir, lbl)) as f:\n",
    "            cls_ids = {int(line.split()[0]) for line in f if line.strip()}\n",
    "        for cid in cls_ids:\n",
    "            if len(selected_per_class[cid]) < limit_per_class:\n",
    "                selected_per_class[cid].append(lbl)\n",
    "                break\n",
    "\n",
    "    all_selected = []\n",
    "    for cid, lbls in selected_per_class.items():\n",
    "        all_selected += [(lbl, cid) for lbl in lbls]\n",
    "    random.shuffle(all_selected)\n",
    "\n",
    "    for lbl, cid in all_selected:\n",
    "        base = os.path.splitext(lbl)[0]\n",
    "        img_src = None\n",
    "        for ext in (\".jpg\", \".png\"):\n",
    "            candidate = os.path.join(src_img_dir, base + ext)\n",
    "            if os.path.exists(candidate):\n",
    "                img_src = candidate\n",
    "                break\n",
    "        if img_src is None:\n",
    "            print(f\"Skipping {lbl}: image not found\")\n",
    "            continue\n",
    "\n",
    "        shutil.copy(img_src, os.path.join(dst_img_dir, os.path.basename(img_src)))\n",
    "        shutil.copy(os.path.join(src_lbl_dir, lbl), os.path.join(dst_lbl_dir, lbl))\n",
    "\n",
    "    print(f\"Subset created: {limit_per_class} images per class, shuffled\")\n",
    "    counts = defaultdict(int)\n",
    "    for _, cid in all_selected:\n",
    "        counts[cid] += 1\n",
    "    for cid in range(class_count):\n",
    "        print(f\" Class {cid}: {counts[cid]} images\")\n"
   ],
   "id": "493c7bdfdfaedb0b",
   "outputs": [],
   "execution_count": 155
  },
  {
   "metadata": {
    "ExecuteTime": {
     "end_time": "2025-05-26T13:29:37.258335Z",
     "start_time": "2025-05-26T13:28:37.070639Z"
    }
   },
   "cell_type": "code",
   "source": [
    "subset_by_class_shuffled(\n",
    "    src_img_dir   = \"data/YOLO_format/train/images\",\n",
    "    src_lbl_dir   = \"data/YOLO_format/train/labels\",\n",
    "    dst_img_dir   = \"data/YOLO_subset/train/images\",\n",
    "    dst_lbl_dir   = \"data/YOLO_subset/train/labels\",\n",
    "    limit_per_class = 800,\n",
    "    class_count   = 8\n",
    ")\n",
    "\n",
    "subset_by_class_shuffled(\n",
    "    src_img_dir   = \"data/YOLO_format/valid/images\",\n",
    "    src_lbl_dir   = \"data/YOLO_format/valid/labels\",\n",
    "    dst_img_dir   = \"data/YOLO_subset/valid/images\",\n",
    "    dst_lbl_dir   = \"data/YOLO_subset/valid/labels\",\n",
    "    limit_per_class = 200,\n",
    "    class_count   = 8\n",
    ")\n"
   ],
   "id": "d42ae1a2dc176522",
   "outputs": [
    {
     "name": "stdout",
     "output_type": "stream",
     "text": [
      "Subset created: 800 images per class, shuffled\n",
      " Class 0: 800 images\n",
      " Class 1: 800 images\n",
      " Class 2: 800 images\n",
      " Class 3: 800 images\n",
      " Class 4: 800 images\n",
      " Class 5: 800 images\n",
      " Class 6: 800 images\n",
      " Class 7: 800 images\n",
      "Subset created: 200 images per class, shuffled\n",
      " Class 0: 200 images\n",
      " Class 1: 200 images\n",
      " Class 2: 200 images\n",
      " Class 3: 200 images\n",
      " Class 4: 200 images\n",
      " Class 5: 200 images\n",
      " Class 6: 200 images\n",
      " Class 7: 200 images\n"
     ]
    }
   ],
   "execution_count": 156
  },
  {
   "metadata": {
    "ExecuteTime": {
     "end_time": "2025-05-24T21:45:51.046811Z",
     "start_time": "2025-05-24T21:45:51.031817Z"
    }
   },
   "cell_type": "code",
   "source": [
    "yaml_content = \"\"\"\n",
    "train: D:/Sisteme inteligente/scientificProject1/data/YOLO_subset/train/images\n",
    "val: D:/Sisteme inteligente/scientificProject1/data/YOLO_subset/valid/images\n",
    "test: D:/Sisteme inteligente/scientificProject1/data/YOLO_subset/test/images\n",
    "\n",
    "nc: 8\n",
    "names:\n",
    "  0: anger\n",
    "  1: contempt\n",
    "  2: disgust\n",
    "  3: fear\n",
    "  4: happy\n",
    "  5: neutral\n",
    "  6: sad\n",
    "  7: surprise\n",
    "\"\"\"\n",
    "\n",
    "with open(\"data/YOLO_subset/data.yaml\", \"w\") as f:\n",
    "    f.write(yaml_content)\n"
   ],
   "id": "3a1a7febb223c8cd",
   "outputs": [],
   "execution_count": 104
  },
  {
   "metadata": {
    "ExecuteTime": {
     "end_time": "2025-05-25T01:04:05.659802Z",
     "start_time": "2025-05-24T21:47:52.065731Z"
    }
   },
   "cell_type": "code",
   "source": [
    "from ultralytics import YOLO\n",
    "\n",
    "model = YOLO('yolov8n.pt')\n",
    "model.train(data='data/YOLO_subset/data.yaml', epochs=150, batch = 16, imgsz = 96, patience = 30)\n"
   ],
   "id": "c900a1ecbba8f23c",
   "outputs": [
    {
     "name": "stdout",
     "output_type": "stream",
     "text": [
      "New https://pypi.org/project/ultralytics/8.3.144 available  Update with 'pip install -U ultralytics'\n",
      "Ultralytics 8.3.143  Python-3.10.0 torch-2.7.0+cpu CPU (11th Gen Intel Core(TM) i7-11370H 3.30GHz)\n",
      "\u001B[34m\u001B[1mengine\\trainer: \u001B[0magnostic_nms=False, amp=True, augment=False, auto_augment=randaugment, batch=16, bgr=0.0, box=7.5, cache=False, cfg=None, classes=None, close_mosaic=10, cls=0.5, conf=None, copy_paste=0.0, copy_paste_mode=flip, cos_lr=False, cutmix=0.0, data=data/YOLO_subset/data.yaml, degrees=0.0, deterministic=True, device=cpu, dfl=1.5, dnn=False, dropout=0.0, dynamic=False, embed=None, epochs=150, erasing=0.4, exist_ok=False, fliplr=0.5, flipud=0.0, format=torchscript, fraction=1.0, freeze=None, half=False, hsv_h=0.015, hsv_s=0.7, hsv_v=0.4, imgsz=96, int8=False, iou=0.7, keras=False, kobj=1.0, line_width=None, lr0=0.01, lrf=0.01, mask_ratio=4, max_det=300, mixup=0.0, mode=train, model=yolov8n.pt, momentum=0.937, mosaic=1.0, multi_scale=False, name=train16, nbs=64, nms=False, opset=None, optimize=False, optimizer=auto, overlap_mask=True, patience=30, perspective=0.0, plots=True, pose=12.0, pretrained=True, profile=False, project=None, rect=False, resume=False, retina_masks=False, save=True, save_conf=False, save_crop=False, save_dir=runs\\detect\\train16, save_frames=False, save_json=False, save_period=-1, save_txt=False, scale=0.5, seed=0, shear=0.0, show=False, show_boxes=True, show_conf=True, show_labels=True, simplify=True, single_cls=False, source=None, split=val, stream_buffer=False, task=detect, time=None, tracker=botsort.yaml, translate=0.1, val=True, verbose=True, vid_stride=1, visualize=False, warmup_bias_lr=0.1, warmup_epochs=3.0, warmup_momentum=0.8, weight_decay=0.0005, workers=8, workspace=None\n",
      "Overriding model.yaml nc=80 with nc=8\n",
      "\n",
      "                   from  n    params  module                                       arguments                     \n",
      "  0                  -1  1       464  ultralytics.nn.modules.conv.Conv             [3, 16, 3, 2]                 \n",
      "  1                  -1  1      4672  ultralytics.nn.modules.conv.Conv             [16, 32, 3, 2]                \n",
      "  2                  -1  1      7360  ultralytics.nn.modules.block.C2f             [32, 32, 1, True]             \n",
      "  3                  -1  1     18560  ultralytics.nn.modules.conv.Conv             [32, 64, 3, 2]                \n",
      "  4                  -1  2     49664  ultralytics.nn.modules.block.C2f             [64, 64, 2, True]             \n",
      "  5                  -1  1     73984  ultralytics.nn.modules.conv.Conv             [64, 128, 3, 2]               \n",
      "  6                  -1  2    197632  ultralytics.nn.modules.block.C2f             [128, 128, 2, True]           \n",
      "  7                  -1  1    295424  ultralytics.nn.modules.conv.Conv             [128, 256, 3, 2]              \n",
      "  8                  -1  1    460288  ultralytics.nn.modules.block.C2f             [256, 256, 1, True]           \n",
      "  9                  -1  1    164608  ultralytics.nn.modules.block.SPPF            [256, 256, 5]                 \n",
      " 10                  -1  1         0  torch.nn.modules.upsampling.Upsample         [None, 2, 'nearest']          \n",
      " 11             [-1, 6]  1         0  ultralytics.nn.modules.conv.Concat           [1]                           \n",
      " 12                  -1  1    148224  ultralytics.nn.modules.block.C2f             [384, 128, 1]                 \n",
      " 13                  -1  1         0  torch.nn.modules.upsampling.Upsample         [None, 2, 'nearest']          \n",
      " 14             [-1, 4]  1         0  ultralytics.nn.modules.conv.Concat           [1]                           \n",
      " 15                  -1  1     37248  ultralytics.nn.modules.block.C2f             [192, 64, 1]                  \n",
      " 16                  -1  1     36992  ultralytics.nn.modules.conv.Conv             [64, 64, 3, 2]                \n",
      " 17            [-1, 12]  1         0  ultralytics.nn.modules.conv.Concat           [1]                           \n",
      " 18                  -1  1    123648  ultralytics.nn.modules.block.C2f             [192, 128, 1]                 \n",
      " 19                  -1  1    147712  ultralytics.nn.modules.conv.Conv             [128, 128, 3, 2]              \n",
      " 20             [-1, 9]  1         0  ultralytics.nn.modules.conv.Concat           [1]                           \n",
      " 21                  -1  1    493056  ultralytics.nn.modules.block.C2f             [384, 256, 1]                 \n",
      " 22        [15, 18, 21]  1    752872  ultralytics.nn.modules.head.Detect           [8, [64, 128, 256]]           \n",
      "Model summary: 129 layers, 3,012,408 parameters, 3,012,392 gradients, 8.2 GFLOPs\n",
      "\n",
      "Transferred 319/355 items from pretrained weights\n",
      "Freezing layer 'model.22.dfl.conv.weight'\n",
      "\u001B[34m\u001B[1mtrain: \u001B[0mFast image access  (ping: 0.20.2 ms, read: 90.743.2 MB/s, size: 15.7 KB)\n"
     ]
    },
    {
     "name": "stderr",
     "output_type": "stream",
     "text": [
      "\u001B[34m\u001B[1mtrain: \u001B[0mScanning D:\\Sisteme inteligente\\scientificProject1\\data\\YOLO_subset\\train\\labels.cache... 6400 images, 0 backgrounds, 0 corrupt: 100%|██████████| 6400/6400 [00:00<?, ?it/s]"
     ]
    },
    {
     "name": "stdout",
     "output_type": "stream",
     "text": [
      "\u001B[34m\u001B[1mval: \u001B[0mFast image access  (ping: 0.10.0 ms, read: 105.523.1 MB/s, size: 20.2 KB)\n"
     ]
    },
    {
     "name": "stderr",
     "output_type": "stream",
     "text": [
      "\n",
      "\u001B[34m\u001B[1mval: \u001B[0mScanning D:\\Sisteme inteligente\\scientificProject1\\data\\YOLO_subset\\valid\\labels.cache... 1600 images, 0 backgrounds, 0 corrupt: 100%|██████████| 1600/1600 [00:00<?, ?it/s]"
     ]
    },
    {
     "name": "stdout",
     "output_type": "stream",
     "text": [
      "Plotting labels to runs\\detect\\train16\\labels.jpg... \n"
     ]
    },
    {
     "name": "stderr",
     "output_type": "stream",
     "text": [
      "\n"
     ]
    },
    {
     "name": "stdout",
     "output_type": "stream",
     "text": [
      "\u001B[34m\u001B[1moptimizer:\u001B[0m 'optimizer=auto' found, ignoring 'lr0=0.01' and 'momentum=0.937' and determining best 'optimizer', 'lr0' and 'momentum' automatically... \n",
      "\u001B[34m\u001B[1moptimizer:\u001B[0m SGD(lr=0.01, momentum=0.9) with parameter groups 57 weight(decay=0.0), 64 weight(decay=0.0005), 63 bias(decay=0.0)\n",
      "Image sizes 96 train, 96 val\n",
      "Using 0 dataloader workers\n",
      "Logging results to \u001B[1mruns\\detect\\train16\u001B[0m\n",
      "Starting training for 150 epochs...\n",
      "\n",
      "      Epoch    GPU_mem   box_loss   cls_loss   dfl_loss  Instances       Size\n"
     ]
    },
    {
     "name": "stderr",
     "output_type": "stream",
     "text": [
      "      1/150         0G     0.6624      3.621      1.139         56         96: 100%|██████████| 400/400 [01:06<00:00,  6.00it/s]\n",
      "                 Class     Images  Instances      Box(P          R      mAP50  mAP50-95): 100%|██████████| 50/50 [00:07<00:00,  6.29it/s]"
     ]
    },
    {
     "name": "stdout",
     "output_type": "stream",
     "text": [
      "                   all       1600       1600      0.119      0.671      0.131      0.128\n"
     ]
    },
    {
     "name": "stderr",
     "output_type": "stream",
     "text": [
      "\n"
     ]
    },
    {
     "name": "stdout",
     "output_type": "stream",
     "text": [
      "\n",
      "      Epoch    GPU_mem   box_loss   cls_loss   dfl_loss  Instances       Size\n"
     ]
    },
    {
     "name": "stderr",
     "output_type": "stream",
     "text": [
      "      2/150         0G     0.3992      1.938       0.98         48         96: 100%|██████████| 400/400 [01:01<00:00,  6.46it/s]\n",
      "                 Class     Images  Instances      Box(P          R      mAP50  mAP50-95): 100%|██████████| 50/50 [00:08<00:00,  5.88it/s]\n"
     ]
    },
    {
     "name": "stdout",
     "output_type": "stream",
     "text": [
      "                   all       1600       1600       0.12      0.863      0.131      0.124\n",
      "\n",
      "      Epoch    GPU_mem   box_loss   cls_loss   dfl_loss  Instances       Size\n"
     ]
    },
    {
     "name": "stderr",
     "output_type": "stream",
     "text": [
      "      3/150         0G     0.4137      1.798     0.9702         47         96: 100%|██████████| 400/400 [01:00<00:00,  6.66it/s]\n",
      "                 Class     Images  Instances      Box(P          R      mAP50  mAP50-95): 100%|██████████| 50/50 [00:08<00:00,  5.81it/s]\n"
     ]
    },
    {
     "name": "stdout",
     "output_type": "stream",
     "text": [
      "                   all       1600       1600     0.0566      0.774     0.0698     0.0695\n",
      "\n",
      "      Epoch    GPU_mem   box_loss   cls_loss   dfl_loss  Instances       Size\n"
     ]
    },
    {
     "name": "stderr",
     "output_type": "stream",
     "text": [
      "      4/150         0G     0.3838      1.771     0.9573         40         96: 100%|██████████| 400/400 [01:00<00:00,  6.64it/s]\n",
      "                 Class     Images  Instances      Box(P          R      mAP50  mAP50-95): 100%|██████████| 50/50 [00:08<00:00,  5.69it/s]\n"
     ]
    },
    {
     "name": "stdout",
     "output_type": "stream",
     "text": [
      "                   all       1600       1600     0.0986      0.594       0.12      0.116\n",
      "\n",
      "      Epoch    GPU_mem   box_loss   cls_loss   dfl_loss  Instances       Size\n"
     ]
    },
    {
     "name": "stderr",
     "output_type": "stream",
     "text": [
      "      5/150         0G     0.3505       1.74     0.9485         47         96: 100%|██████████| 400/400 [01:01<00:00,  6.54it/s]\n",
      "                 Class     Images  Instances      Box(P          R      mAP50  mAP50-95): 100%|██████████| 50/50 [00:09<00:00,  5.51it/s]\n"
     ]
    },
    {
     "name": "stdout",
     "output_type": "stream",
     "text": [
      "                   all       1600       1600     0.0807      0.572      0.119      0.115\n",
      "\n",
      "      Epoch    GPU_mem   box_loss   cls_loss   dfl_loss  Instances       Size\n"
     ]
    },
    {
     "name": "stderr",
     "output_type": "stream",
     "text": [
      "      6/150         0G     0.3041       1.71     0.9371         54         96: 100%|██████████| 400/400 [01:00<00:00,  6.60it/s]\n",
      "                 Class     Images  Instances      Box(P          R      mAP50  mAP50-95): 100%|██████████| 50/50 [00:08<00:00,  5.70it/s]\n"
     ]
    },
    {
     "name": "stdout",
     "output_type": "stream",
     "text": [
      "                   all       1600       1600      0.132      0.717      0.176      0.161\n",
      "\n",
      "      Epoch    GPU_mem   box_loss   cls_loss   dfl_loss  Instances       Size\n"
     ]
    },
    {
     "name": "stderr",
     "output_type": "stream",
     "text": [
      "      7/150         0G     0.2864      1.685     0.9323         48         96: 100%|██████████| 400/400 [01:02<00:00,  6.44it/s]\n",
      "                 Class     Images  Instances      Box(P          R      mAP50  mAP50-95): 100%|██████████| 50/50 [00:09<00:00,  5.54it/s]\n"
     ]
    },
    {
     "name": "stdout",
     "output_type": "stream",
     "text": [
      "                   all       1600       1600       0.14      0.296      0.124      0.123\n",
      "\n",
      "      Epoch    GPU_mem   box_loss   cls_loss   dfl_loss  Instances       Size\n"
     ]
    },
    {
     "name": "stderr",
     "output_type": "stream",
     "text": [
      "      8/150         0G     0.2579      1.655     0.9208         51         96: 100%|██████████| 400/400 [01:10<00:00,  5.67it/s]\n",
      "                 Class     Images  Instances      Box(P          R      mAP50  mAP50-95): 100%|██████████| 50/50 [00:09<00:00,  5.18it/s]\n"
     ]
    },
    {
     "name": "stdout",
     "output_type": "stream",
     "text": [
      "                   all       1600       1600       0.33      0.463      0.217      0.214\n",
      "\n",
      "      Epoch    GPU_mem   box_loss   cls_loss   dfl_loss  Instances       Size\n"
     ]
    },
    {
     "name": "stderr",
     "output_type": "stream",
     "text": [
      "      9/150         0G     0.2444      1.636       0.92         50         96: 100%|██████████| 400/400 [01:12<00:00,  5.54it/s]\n",
      "                 Class     Images  Instances      Box(P          R      mAP50  mAP50-95): 100%|██████████| 50/50 [00:09<00:00,  5.35it/s]\n"
     ]
    },
    {
     "name": "stdout",
     "output_type": "stream",
     "text": [
      "                   all       1600       1600      0.139       0.56      0.173      0.161\n",
      "\n",
      "      Epoch    GPU_mem   box_loss   cls_loss   dfl_loss  Instances       Size\n"
     ]
    },
    {
     "name": "stderr",
     "output_type": "stream",
     "text": [
      "     10/150         0G     0.2373      1.628     0.9193         48         96: 100%|██████████| 400/400 [01:10<00:00,  5.67it/s]\n",
      "                 Class     Images  Instances      Box(P          R      mAP50  mAP50-95): 100%|██████████| 50/50 [00:08<00:00,  5.60it/s]\n"
     ]
    },
    {
     "name": "stdout",
     "output_type": "stream",
     "text": [
      "                   all       1600       1600      0.174      0.708      0.275      0.273\n",
      "\n",
      "      Epoch    GPU_mem   box_loss   cls_loss   dfl_loss  Instances       Size\n"
     ]
    },
    {
     "name": "stderr",
     "output_type": "stream",
     "text": [
      "     11/150         0G     0.2268      1.606     0.9165         44         96: 100%|██████████| 400/400 [01:11<00:00,  5.63it/s]\n",
      "                 Class     Images  Instances      Box(P          R      mAP50  mAP50-95): 100%|██████████| 50/50 [00:09<00:00,  5.04it/s]\n"
     ]
    },
    {
     "name": "stdout",
     "output_type": "stream",
     "text": [
      "                   all       1600       1600      0.316       0.43      0.234      0.228\n",
      "\n",
      "      Epoch    GPU_mem   box_loss   cls_loss   dfl_loss  Instances       Size\n"
     ]
    },
    {
     "name": "stderr",
     "output_type": "stream",
     "text": [
      "     12/150         0G     0.2179      1.593     0.9143         46         96: 100%|██████████| 400/400 [01:14<00:00,  5.39it/s]\n",
      "                 Class     Images  Instances      Box(P          R      mAP50  mAP50-95): 100%|██████████| 50/50 [00:08<00:00,  5.78it/s]\n"
     ]
    },
    {
     "name": "stdout",
     "output_type": "stream",
     "text": [
      "                   all       1600       1600      0.156       0.37      0.249      0.246\n",
      "\n",
      "      Epoch    GPU_mem   box_loss   cls_loss   dfl_loss  Instances       Size\n"
     ]
    },
    {
     "name": "stderr",
     "output_type": "stream",
     "text": [
      "     13/150         0G     0.2161      1.584     0.9145         54         96: 100%|██████████| 400/400 [01:15<00:00,  5.28it/s]\n",
      "                 Class     Images  Instances      Box(P          R      mAP50  mAP50-95): 100%|██████████| 50/50 [00:08<00:00,  6.06it/s]\n"
     ]
    },
    {
     "name": "stdout",
     "output_type": "stream",
     "text": [
      "                   all       1600       1600      0.316      0.469       0.26      0.257\n",
      "\n",
      "      Epoch    GPU_mem   box_loss   cls_loss   dfl_loss  Instances       Size\n"
     ]
    },
    {
     "name": "stderr",
     "output_type": "stream",
     "text": [
      "     14/150         0G     0.2023      1.566     0.9108         49         96: 100%|██████████| 400/400 [01:04<00:00,  6.21it/s]\n",
      "                 Class     Images  Instances      Box(P          R      mAP50  mAP50-95): 100%|██████████| 50/50 [00:08<00:00,  6.00it/s]\n"
     ]
    },
    {
     "name": "stdout",
     "output_type": "stream",
     "text": [
      "                   all       1600       1600      0.289      0.516      0.287      0.286\n",
      "\n",
      "      Epoch    GPU_mem   box_loss   cls_loss   dfl_loss  Instances       Size\n"
     ]
    },
    {
     "name": "stderr",
     "output_type": "stream",
     "text": [
      "     15/150         0G     0.2008      1.556     0.9097         53         96: 100%|██████████| 400/400 [01:02<00:00,  6.44it/s]\n",
      "                 Class     Images  Instances      Box(P          R      mAP50  mAP50-95): 100%|██████████| 50/50 [00:08<00:00,  5.97it/s]\n"
     ]
    },
    {
     "name": "stdout",
     "output_type": "stream",
     "text": [
      "                   all       1600       1600      0.286      0.461      0.287      0.285\n",
      "\n",
      "      Epoch    GPU_mem   box_loss   cls_loss   dfl_loss  Instances       Size\n"
     ]
    },
    {
     "name": "stderr",
     "output_type": "stream",
     "text": [
      "     16/150         0G     0.1949      1.552     0.9091         40         96: 100%|██████████| 400/400 [01:00<00:00,  6.62it/s]\n",
      "                 Class     Images  Instances      Box(P          R      mAP50  mAP50-95): 100%|██████████| 50/50 [00:08<00:00,  6.23it/s]\n"
     ]
    },
    {
     "name": "stdout",
     "output_type": "stream",
     "text": [
      "                   all       1600       1600      0.285      0.652      0.368      0.365\n",
      "\n",
      "      Epoch    GPU_mem   box_loss   cls_loss   dfl_loss  Instances       Size\n"
     ]
    },
    {
     "name": "stderr",
     "output_type": "stream",
     "text": [
      "     17/150         0G     0.1914      1.532     0.9081         43         96: 100%|██████████| 400/400 [00:58<00:00,  6.80it/s]\n",
      "                 Class     Images  Instances      Box(P          R      mAP50  mAP50-95): 100%|██████████| 50/50 [00:07<00:00,  6.51it/s]\n"
     ]
    },
    {
     "name": "stdout",
     "output_type": "stream",
     "text": [
      "                   all       1600       1600      0.234      0.698      0.378      0.374\n",
      "\n",
      "      Epoch    GPU_mem   box_loss   cls_loss   dfl_loss  Instances       Size\n"
     ]
    },
    {
     "name": "stderr",
     "output_type": "stream",
     "text": [
      "     18/150         0G     0.1832      1.524     0.9042         41         96: 100%|██████████| 400/400 [01:00<00:00,  6.62it/s]\n",
      "                 Class     Images  Instances      Box(P          R      mAP50  mAP50-95): 100%|██████████| 50/50 [00:07<00:00,  6.29it/s]\n"
     ]
    },
    {
     "name": "stdout",
     "output_type": "stream",
     "text": [
      "                   all       1600       1600       0.31      0.641      0.397      0.395\n",
      "\n",
      "      Epoch    GPU_mem   box_loss   cls_loss   dfl_loss  Instances       Size\n"
     ]
    },
    {
     "name": "stderr",
     "output_type": "stream",
     "text": [
      "     19/150         0G     0.1856      1.517      0.905         47         96: 100%|██████████| 400/400 [01:00<00:00,  6.63it/s]\n",
      "                 Class     Images  Instances      Box(P          R      mAP50  mAP50-95): 100%|██████████| 50/50 [00:07<00:00,  6.34it/s]\n"
     ]
    },
    {
     "name": "stdout",
     "output_type": "stream",
     "text": [
      "                   all       1600       1600      0.328      0.595      0.396      0.395\n",
      "\n",
      "      Epoch    GPU_mem   box_loss   cls_loss   dfl_loss  Instances       Size\n"
     ]
    },
    {
     "name": "stderr",
     "output_type": "stream",
     "text": [
      "     20/150         0G     0.1795      1.506     0.9042         52         96: 100%|██████████| 400/400 [01:00<00:00,  6.64it/s]\n",
      "                 Class     Images  Instances      Box(P          R      mAP50  mAP50-95): 100%|██████████| 50/50 [00:07<00:00,  6.29it/s]\n"
     ]
    },
    {
     "name": "stdout",
     "output_type": "stream",
     "text": [
      "                   all       1600       1600      0.277      0.616      0.375      0.369\n",
      "\n",
      "      Epoch    GPU_mem   box_loss   cls_loss   dfl_loss  Instances       Size\n"
     ]
    },
    {
     "name": "stderr",
     "output_type": "stream",
     "text": [
      "     21/150         0G     0.1744      1.504     0.9037         48         96: 100%|██████████| 400/400 [01:01<00:00,  6.55it/s]\n",
      "                 Class     Images  Instances      Box(P          R      mAP50  mAP50-95): 100%|██████████| 50/50 [00:09<00:00,  5.45it/s]\n"
     ]
    },
    {
     "name": "stdout",
     "output_type": "stream",
     "text": [
      "                   all       1600       1600        0.3      0.586      0.354      0.348\n",
      "\n",
      "      Epoch    GPU_mem   box_loss   cls_loss   dfl_loss  Instances       Size\n"
     ]
    },
    {
     "name": "stderr",
     "output_type": "stream",
     "text": [
      "     22/150         0G     0.1711      1.489     0.9032         51         96: 100%|██████████| 400/400 [01:00<00:00,  6.62it/s]\n",
      "                 Class     Images  Instances      Box(P          R      mAP50  mAP50-95): 100%|██████████| 50/50 [00:07<00:00,  6.46it/s]\n"
     ]
    },
    {
     "name": "stdout",
     "output_type": "stream",
     "text": [
      "                   all       1600       1600      0.335      0.676      0.399      0.399\n",
      "\n",
      "      Epoch    GPU_mem   box_loss   cls_loss   dfl_loss  Instances       Size\n"
     ]
    },
    {
     "name": "stderr",
     "output_type": "stream",
     "text": [
      "     23/150         0G       0.17      1.485     0.9012         46         96: 100%|██████████| 400/400 [01:00<00:00,  6.59it/s]\n",
      "                 Class     Images  Instances      Box(P          R      mAP50  mAP50-95): 100%|██████████| 50/50 [00:08<00:00,  6.23it/s]\n"
     ]
    },
    {
     "name": "stdout",
     "output_type": "stream",
     "text": [
      "                   all       1600       1600      0.339      0.536      0.366      0.364\n",
      "\n",
      "      Epoch    GPU_mem   box_loss   cls_loss   dfl_loss  Instances       Size\n"
     ]
    },
    {
     "name": "stderr",
     "output_type": "stream",
     "text": [
      "     24/150         0G     0.1653      1.483     0.9011         55         96: 100%|██████████| 400/400 [00:59<00:00,  6.69it/s]\n",
      "                 Class     Images  Instances      Box(P          R      mAP50  mAP50-95): 100%|██████████| 50/50 [00:07<00:00,  6.39it/s]\n"
     ]
    },
    {
     "name": "stdout",
     "output_type": "stream",
     "text": [
      "                   all       1600       1600      0.286      0.586      0.328      0.299\n",
      "\n",
      "      Epoch    GPU_mem   box_loss   cls_loss   dfl_loss  Instances       Size\n"
     ]
    },
    {
     "name": "stderr",
     "output_type": "stream",
     "text": [
      "     25/150         0G     0.1628      1.476     0.9027         53         96: 100%|██████████| 400/400 [01:00<00:00,  6.61it/s]\n",
      "                 Class     Images  Instances      Box(P          R      mAP50  mAP50-95): 100%|██████████| 50/50 [00:07<00:00,  6.57it/s]\n"
     ]
    },
    {
     "name": "stdout",
     "output_type": "stream",
     "text": [
      "                   all       1600       1600      0.303      0.637      0.392      0.381\n",
      "\n",
      "      Epoch    GPU_mem   box_loss   cls_loss   dfl_loss  Instances       Size\n"
     ]
    },
    {
     "name": "stderr",
     "output_type": "stream",
     "text": [
      "     26/150         0G     0.1627      1.468     0.9011         49         96: 100%|██████████| 400/400 [00:59<00:00,  6.72it/s]\n",
      "                 Class     Images  Instances      Box(P          R      mAP50  mAP50-95): 100%|██████████| 50/50 [00:07<00:00,  6.46it/s]\n"
     ]
    },
    {
     "name": "stdout",
     "output_type": "stream",
     "text": [
      "                   all       1600       1600      0.203      0.526      0.293      0.267\n",
      "\n",
      "      Epoch    GPU_mem   box_loss   cls_loss   dfl_loss  Instances       Size\n"
     ]
    },
    {
     "name": "stderr",
     "output_type": "stream",
     "text": [
      "     27/150         0G     0.1595      1.461     0.8995         51         96: 100%|██████████| 400/400 [00:58<00:00,  6.81it/s]\n",
      "                 Class     Images  Instances      Box(P          R      mAP50  mAP50-95): 100%|██████████| 50/50 [00:07<00:00,  6.45it/s]\n"
     ]
    },
    {
     "name": "stdout",
     "output_type": "stream",
     "text": [
      "                   all       1600       1600      0.364      0.659      0.445      0.444\n",
      "\n",
      "      Epoch    GPU_mem   box_loss   cls_loss   dfl_loss  Instances       Size\n"
     ]
    },
    {
     "name": "stderr",
     "output_type": "stream",
     "text": [
      "     28/150         0G     0.1569      1.454     0.9029         50         96: 100%|██████████| 400/400 [01:00<00:00,  6.61it/s]\n",
      "                 Class     Images  Instances      Box(P          R      mAP50  mAP50-95): 100%|██████████| 50/50 [00:07<00:00,  6.26it/s]\n"
     ]
    },
    {
     "name": "stdout",
     "output_type": "stream",
     "text": [
      "                   all       1600       1600      0.329      0.571      0.419      0.416\n",
      "\n",
      "      Epoch    GPU_mem   box_loss   cls_loss   dfl_loss  Instances       Size\n"
     ]
    },
    {
     "name": "stderr",
     "output_type": "stream",
     "text": [
      "     29/150         0G     0.1576      1.451     0.8993         52         96: 100%|██████████| 400/400 [00:58<00:00,  6.81it/s]\n",
      "                 Class     Images  Instances      Box(P          R      mAP50  mAP50-95): 100%|██████████| 50/50 [00:07<00:00,  6.25it/s]\n"
     ]
    },
    {
     "name": "stdout",
     "output_type": "stream",
     "text": [
      "                   all       1600       1600       0.49       0.55      0.435      0.432\n",
      "\n",
      "      Epoch    GPU_mem   box_loss   cls_loss   dfl_loss  Instances       Size\n"
     ]
    },
    {
     "name": "stderr",
     "output_type": "stream",
     "text": [
      "     30/150         0G     0.1543      1.447     0.9011         52         96: 100%|██████████| 400/400 [01:03<00:00,  6.27it/s]\n",
      "                 Class     Images  Instances      Box(P          R      mAP50  mAP50-95): 100%|██████████| 50/50 [00:09<00:00,  5.24it/s]"
     ]
    },
    {
     "name": "stdout",
     "output_type": "stream",
     "text": [
      "                   all       1600       1600      0.329      0.682      0.439      0.438\n"
     ]
    },
    {
     "name": "stderr",
     "output_type": "stream",
     "text": [
      "\n"
     ]
    },
    {
     "name": "stdout",
     "output_type": "stream",
     "text": [
      "\n",
      "      Epoch    GPU_mem   box_loss   cls_loss   dfl_loss  Instances       Size\n"
     ]
    },
    {
     "name": "stderr",
     "output_type": "stream",
     "text": [
      "     31/150         0G      0.151      1.442     0.9005         47         96: 100%|██████████| 400/400 [01:25<00:00,  4.67it/s]\n",
      "                 Class     Images  Instances      Box(P          R      mAP50  mAP50-95): 100%|██████████| 50/50 [00:09<00:00,  5.23it/s]"
     ]
    },
    {
     "name": "stdout",
     "output_type": "stream",
     "text": [
      "                   all       1600       1600      0.316      0.708      0.447      0.446\n"
     ]
    },
    {
     "name": "stderr",
     "output_type": "stream",
     "text": [
      "\n"
     ]
    },
    {
     "name": "stdout",
     "output_type": "stream",
     "text": [
      "\n",
      "      Epoch    GPU_mem   box_loss   cls_loss   dfl_loss  Instances       Size\n"
     ]
    },
    {
     "name": "stderr",
     "output_type": "stream",
     "text": [
      "     32/150         0G     0.1496      1.442     0.9025         50         96: 100%|██████████| 400/400 [01:30<00:00,  4.42it/s]\n",
      "                 Class     Images  Instances      Box(P          R      mAP50  mAP50-95): 100%|██████████| 50/50 [00:09<00:00,  5.11it/s]\n"
     ]
    },
    {
     "name": "stdout",
     "output_type": "stream",
     "text": [
      "                   all       1600       1600      0.368      0.708      0.457      0.456\n",
      "\n",
      "      Epoch    GPU_mem   box_loss   cls_loss   dfl_loss  Instances       Size\n"
     ]
    },
    {
     "name": "stderr",
     "output_type": "stream",
     "text": [
      "     33/150         0G     0.1487      1.439     0.9015         50         96: 100%|██████████| 400/400 [01:15<00:00,  5.29it/s]\n",
      "                 Class     Images  Instances      Box(P          R      mAP50  mAP50-95): 100%|██████████| 50/50 [00:07<00:00,  6.35it/s]\n"
     ]
    },
    {
     "name": "stdout",
     "output_type": "stream",
     "text": [
      "                   all       1600       1600      0.368      0.696      0.462      0.459\n",
      "\n",
      "      Epoch    GPU_mem   box_loss   cls_loss   dfl_loss  Instances       Size\n"
     ]
    },
    {
     "name": "stderr",
     "output_type": "stream",
     "text": [
      "     34/150         0G     0.1471      1.439     0.8988         45         96: 100%|██████████| 400/400 [01:11<00:00,  5.57it/s]\n",
      "                 Class     Images  Instances      Box(P          R      mAP50  mAP50-95): 100%|██████████| 50/50 [00:08<00:00,  6.16it/s]"
     ]
    },
    {
     "name": "stdout",
     "output_type": "stream",
     "text": [
      "                   all       1600       1600      0.368      0.717      0.458      0.457\n"
     ]
    },
    {
     "name": "stderr",
     "output_type": "stream",
     "text": [
      "\n"
     ]
    },
    {
     "name": "stdout",
     "output_type": "stream",
     "text": [
      "\n",
      "      Epoch    GPU_mem   box_loss   cls_loss   dfl_loss  Instances       Size\n"
     ]
    },
    {
     "name": "stderr",
     "output_type": "stream",
     "text": [
      "     35/150         0G      0.145       1.43     0.8984         55         96: 100%|██████████| 400/400 [01:15<00:00,  5.29it/s]\n",
      "                 Class     Images  Instances      Box(P          R      mAP50  mAP50-95): 100%|██████████| 50/50 [00:08<00:00,  6.22it/s]\n"
     ]
    },
    {
     "name": "stdout",
     "output_type": "stream",
     "text": [
      "                   all       1600       1600        0.4      0.686      0.472      0.472\n",
      "\n",
      "      Epoch    GPU_mem   box_loss   cls_loss   dfl_loss  Instances       Size\n"
     ]
    },
    {
     "name": "stderr",
     "output_type": "stream",
     "text": [
      "     36/150         0G     0.1443      1.417     0.8968         44         96: 100%|██████████| 400/400 [01:24<00:00,  4.76it/s]\n",
      "                 Class     Images  Instances      Box(P          R      mAP50  mAP50-95): 100%|██████████| 50/50 [00:09<00:00,  5.19it/s]"
     ]
    },
    {
     "name": "stdout",
     "output_type": "stream",
     "text": [
      "                   all       1600       1600      0.368      0.698      0.472      0.471\n"
     ]
    },
    {
     "name": "stderr",
     "output_type": "stream",
     "text": [
      "\n"
     ]
    },
    {
     "name": "stdout",
     "output_type": "stream",
     "text": [
      "\n",
      "      Epoch    GPU_mem   box_loss   cls_loss   dfl_loss  Instances       Size\n"
     ]
    },
    {
     "name": "stderr",
     "output_type": "stream",
     "text": [
      "     37/150         0G     0.1439       1.42     0.8978         53         96: 100%|██████████| 400/400 [01:24<00:00,  4.75it/s]\n",
      "                 Class     Images  Instances      Box(P          R      mAP50  mAP50-95): 100%|██████████| 50/50 [00:08<00:00,  6.17it/s]\n"
     ]
    },
    {
     "name": "stdout",
     "output_type": "stream",
     "text": [
      "                   all       1600       1600      0.377      0.694      0.469      0.464\n",
      "\n",
      "      Epoch    GPU_mem   box_loss   cls_loss   dfl_loss  Instances       Size\n"
     ]
    },
    {
     "name": "stderr",
     "output_type": "stream",
     "text": [
      "     38/150         0G     0.1472      1.426     0.8986         49         96: 100%|██████████| 400/400 [01:19<00:00,  5.03it/s]\n",
      "                 Class     Images  Instances      Box(P          R      mAP50  mAP50-95): 100%|██████████| 50/50 [00:09<00:00,  5.44it/s]\n"
     ]
    },
    {
     "name": "stdout",
     "output_type": "stream",
     "text": [
      "                   all       1600       1600      0.375      0.714      0.498      0.496\n",
      "\n",
      "      Epoch    GPU_mem   box_loss   cls_loss   dfl_loss  Instances       Size\n"
     ]
    },
    {
     "name": "stderr",
     "output_type": "stream",
     "text": [
      "     39/150         0G     0.1419      1.417     0.8993         53         96: 100%|██████████| 400/400 [01:08<00:00,  5.81it/s]\n",
      "                 Class     Images  Instances      Box(P          R      mAP50  mAP50-95): 100%|██████████| 50/50 [00:07<00:00,  6.37it/s]\n"
     ]
    },
    {
     "name": "stdout",
     "output_type": "stream",
     "text": [
      "                   all       1600       1600      0.356      0.692      0.465      0.456\n",
      "\n",
      "      Epoch    GPU_mem   box_loss   cls_loss   dfl_loss  Instances       Size\n"
     ]
    },
    {
     "name": "stderr",
     "output_type": "stream",
     "text": [
      "     40/150         0G     0.1398      1.409      0.901         46         96: 100%|██████████| 400/400 [01:10<00:00,  5.68it/s]\n",
      "                 Class     Images  Instances      Box(P          R      mAP50  mAP50-95): 100%|██████████| 50/50 [00:08<00:00,  6.14it/s]\n"
     ]
    },
    {
     "name": "stdout",
     "output_type": "stream",
     "text": [
      "                   all       1600       1600      0.367      0.728      0.499      0.498\n",
      "\n",
      "      Epoch    GPU_mem   box_loss   cls_loss   dfl_loss  Instances       Size\n"
     ]
    },
    {
     "name": "stderr",
     "output_type": "stream",
     "text": [
      "     41/150         0G     0.1405      1.404     0.8982         56         96: 100%|██████████| 400/400 [01:14<00:00,  5.39it/s]\n",
      "                 Class     Images  Instances      Box(P          R      mAP50  mAP50-95): 100%|██████████| 50/50 [00:07<00:00,  6.28it/s]\n"
     ]
    },
    {
     "name": "stdout",
     "output_type": "stream",
     "text": [
      "                   all       1600       1600      0.399      0.644      0.498      0.498\n",
      "\n",
      "      Epoch    GPU_mem   box_loss   cls_loss   dfl_loss  Instances       Size\n"
     ]
    },
    {
     "name": "stderr",
     "output_type": "stream",
     "text": [
      "     42/150         0G     0.1394      1.409     0.8965         54         96: 100%|██████████| 400/400 [01:11<00:00,  5.61it/s]\n",
      "                 Class     Images  Instances      Box(P          R      mAP50  mAP50-95): 100%|██████████| 50/50 [00:07<00:00,  6.29it/s]\n"
     ]
    },
    {
     "name": "stdout",
     "output_type": "stream",
     "text": [
      "                   all       1600       1600      0.372      0.694      0.518      0.517\n",
      "\n",
      "      Epoch    GPU_mem   box_loss   cls_loss   dfl_loss  Instances       Size\n"
     ]
    },
    {
     "name": "stderr",
     "output_type": "stream",
     "text": [
      "     43/150         0G     0.1379      1.399      0.898         47         96: 100%|██████████| 400/400 [01:18<00:00,  5.13it/s]\n",
      "                 Class     Images  Instances      Box(P          R      mAP50  mAP50-95): 100%|██████████| 50/50 [00:10<00:00,  4.95it/s]"
     ]
    },
    {
     "name": "stdout",
     "output_type": "stream",
     "text": [
      "                   all       1600       1600      0.393      0.664      0.512      0.509\n"
     ]
    },
    {
     "name": "stderr",
     "output_type": "stream",
     "text": [
      "\n"
     ]
    },
    {
     "name": "stdout",
     "output_type": "stream",
     "text": [
      "\n",
      "      Epoch    GPU_mem   box_loss   cls_loss   dfl_loss  Instances       Size\n"
     ]
    },
    {
     "name": "stderr",
     "output_type": "stream",
     "text": [
      "     44/150         0G     0.1373      1.398     0.8975         44         96: 100%|██████████| 400/400 [01:15<00:00,  5.30it/s]\n",
      "                 Class     Images  Instances      Box(P          R      mAP50  mAP50-95): 100%|██████████| 50/50 [00:07<00:00,  6.51it/s]\n"
     ]
    },
    {
     "name": "stdout",
     "output_type": "stream",
     "text": [
      "                   all       1600       1600      0.391      0.723      0.531       0.53\n",
      "\n",
      "      Epoch    GPU_mem   box_loss   cls_loss   dfl_loss  Instances       Size\n"
     ]
    },
    {
     "name": "stderr",
     "output_type": "stream",
     "text": [
      "     45/150         0G     0.1347      1.394     0.8963         45         96: 100%|██████████| 400/400 [01:00<00:00,  6.62it/s]\n",
      "                 Class     Images  Instances      Box(P          R      mAP50  mAP50-95): 100%|██████████| 50/50 [00:08<00:00,  6.24it/s]\n"
     ]
    },
    {
     "name": "stdout",
     "output_type": "stream",
     "text": [
      "                   all       1600       1600      0.403      0.709       0.52       0.52\n",
      "\n",
      "      Epoch    GPU_mem   box_loss   cls_loss   dfl_loss  Instances       Size\n"
     ]
    },
    {
     "name": "stderr",
     "output_type": "stream",
     "text": [
      "     46/150         0G     0.1339      1.398     0.8961         54         96: 100%|██████████| 400/400 [01:00<00:00,  6.61it/s]\n",
      "                 Class     Images  Instances      Box(P          R      mAP50  mAP50-95): 100%|██████████| 50/50 [00:07<00:00,  6.52it/s]"
     ]
    },
    {
     "name": "stdout",
     "output_type": "stream",
     "text": [
      "                   all       1600       1600      0.409      0.677      0.556      0.555\n"
     ]
    },
    {
     "name": "stderr",
     "output_type": "stream",
     "text": [
      "\n"
     ]
    },
    {
     "name": "stdout",
     "output_type": "stream",
     "text": [
      "\n",
      "      Epoch    GPU_mem   box_loss   cls_loss   dfl_loss  Instances       Size\n"
     ]
    },
    {
     "name": "stderr",
     "output_type": "stream",
     "text": [
      "     47/150         0G     0.1335      1.386     0.8995         45         96: 100%|██████████| 400/400 [01:00<00:00,  6.63it/s]\n",
      "                 Class     Images  Instances      Box(P          R      mAP50  mAP50-95): 100%|██████████| 50/50 [00:08<00:00,  6.20it/s]\n"
     ]
    },
    {
     "name": "stdout",
     "output_type": "stream",
     "text": [
      "                   all       1600       1600      0.361      0.705      0.518      0.517\n",
      "\n",
      "      Epoch    GPU_mem   box_loss   cls_loss   dfl_loss  Instances       Size\n"
     ]
    },
    {
     "name": "stderr",
     "output_type": "stream",
     "text": [
      "     48/150         0G     0.1313      1.386     0.8955         52         96: 100%|██████████| 400/400 [01:00<00:00,  6.58it/s]\n",
      "                 Class     Images  Instances      Box(P          R      mAP50  mAP50-95): 100%|██████████| 50/50 [00:07<00:00,  6.58it/s]\n"
     ]
    },
    {
     "name": "stdout",
     "output_type": "stream",
     "text": [
      "                   all       1600       1600       0.39       0.73      0.532      0.531\n",
      "\n",
      "      Epoch    GPU_mem   box_loss   cls_loss   dfl_loss  Instances       Size\n"
     ]
    },
    {
     "name": "stderr",
     "output_type": "stream",
     "text": [
      "     49/150         0G     0.1324      1.393     0.8981         49         96: 100%|██████████| 400/400 [01:16<00:00,  5.24it/s]\n",
      "                 Class     Images  Instances      Box(P          R      mAP50  mAP50-95): 100%|██████████| 50/50 [00:08<00:00,  6.14it/s]\n"
     ]
    },
    {
     "name": "stdout",
     "output_type": "stream",
     "text": [
      "                   all       1600       1600      0.411      0.706      0.534      0.533\n",
      "\n",
      "      Epoch    GPU_mem   box_loss   cls_loss   dfl_loss  Instances       Size\n"
     ]
    },
    {
     "name": "stderr",
     "output_type": "stream",
     "text": [
      "     50/150         0G     0.1309      1.382     0.8971         42         96: 100%|██████████| 400/400 [01:14<00:00,  5.35it/s]\n",
      "                 Class     Images  Instances      Box(P          R      mAP50  mAP50-95): 100%|██████████| 50/50 [00:07<00:00,  6.56it/s]\n"
     ]
    },
    {
     "name": "stdout",
     "output_type": "stream",
     "text": [
      "                   all       1600       1600      0.432      0.657      0.511       0.51\n",
      "\n",
      "      Epoch    GPU_mem   box_loss   cls_loss   dfl_loss  Instances       Size\n"
     ]
    },
    {
     "name": "stderr",
     "output_type": "stream",
     "text": [
      "     51/150         0G     0.1305      1.374      0.898         47         96: 100%|██████████| 400/400 [01:11<00:00,  5.58it/s]\n",
      "                 Class     Images  Instances      Box(P          R      mAP50  mAP50-95): 100%|██████████| 50/50 [00:07<00:00,  6.55it/s]"
     ]
    },
    {
     "name": "stdout",
     "output_type": "stream",
     "text": [
      "                   all       1600       1600      0.416      0.706      0.532      0.531\n"
     ]
    },
    {
     "name": "stderr",
     "output_type": "stream",
     "text": [
      "\n"
     ]
    },
    {
     "name": "stdout",
     "output_type": "stream",
     "text": [
      "\n",
      "      Epoch    GPU_mem   box_loss   cls_loss   dfl_loss  Instances       Size\n"
     ]
    },
    {
     "name": "stderr",
     "output_type": "stream",
     "text": [
      "     52/150         0G     0.1316      1.375     0.8968         52         96: 100%|██████████| 400/400 [01:29<00:00,  4.49it/s]\n",
      "                 Class     Images  Instances      Box(P          R      mAP50  mAP50-95): 100%|██████████| 50/50 [00:08<00:00,  5.66it/s]\n"
     ]
    },
    {
     "name": "stdout",
     "output_type": "stream",
     "text": [
      "                   all       1600       1600      0.433      0.716      0.563      0.563\n",
      "\n",
      "      Epoch    GPU_mem   box_loss   cls_loss   dfl_loss  Instances       Size\n"
     ]
    },
    {
     "name": "stderr",
     "output_type": "stream",
     "text": [
      "     53/150         0G     0.1284      1.374     0.8963         51         96: 100%|██████████| 400/400 [01:12<00:00,  5.50it/s]\n",
      "                 Class     Images  Instances      Box(P          R      mAP50  mAP50-95): 100%|██████████| 50/50 [00:08<00:00,  6.06it/s]\n"
     ]
    },
    {
     "name": "stdout",
     "output_type": "stream",
     "text": [
      "                   all       1600       1600      0.435      0.693      0.546      0.546\n",
      "\n",
      "      Epoch    GPU_mem   box_loss   cls_loss   dfl_loss  Instances       Size\n"
     ]
    },
    {
     "name": "stderr",
     "output_type": "stream",
     "text": [
      "     54/150         0G     0.1279      1.366     0.8965         46         96: 100%|██████████| 400/400 [01:31<00:00,  4.35it/s]\n",
      "                 Class     Images  Instances      Box(P          R      mAP50  mAP50-95): 100%|██████████| 50/50 [00:08<00:00,  5.73it/s]\n"
     ]
    },
    {
     "name": "stdout",
     "output_type": "stream",
     "text": [
      "                   all       1600       1600      0.417      0.713      0.557      0.553\n",
      "\n",
      "      Epoch    GPU_mem   box_loss   cls_loss   dfl_loss  Instances       Size\n"
     ]
    },
    {
     "name": "stderr",
     "output_type": "stream",
     "text": [
      "     55/150         0G     0.1264      1.372     0.8972         49         96: 100%|██████████| 400/400 [01:22<00:00,  4.83it/s]\n",
      "                 Class     Images  Instances      Box(P          R      mAP50  mAP50-95): 100%|██████████| 50/50 [00:09<00:00,  5.27it/s]\n"
     ]
    },
    {
     "name": "stdout",
     "output_type": "stream",
     "text": [
      "                   all       1600       1600      0.449      0.696      0.555      0.552\n",
      "\n",
      "      Epoch    GPU_mem   box_loss   cls_loss   dfl_loss  Instances       Size\n"
     ]
    },
    {
     "name": "stderr",
     "output_type": "stream",
     "text": [
      "     56/150         0G     0.1269      1.367     0.8945         53         96: 100%|██████████| 400/400 [01:13<00:00,  5.42it/s]\n",
      "                 Class     Images  Instances      Box(P          R      mAP50  mAP50-95): 100%|██████████| 50/50 [00:08<00:00,  5.72it/s]"
     ]
    },
    {
     "name": "stdout",
     "output_type": "stream",
     "text": [
      "                   all       1600       1600      0.427      0.704      0.569      0.565\n"
     ]
    },
    {
     "name": "stderr",
     "output_type": "stream",
     "text": [
      "\n"
     ]
    },
    {
     "name": "stdout",
     "output_type": "stream",
     "text": [
      "\n",
      "      Epoch    GPU_mem   box_loss   cls_loss   dfl_loss  Instances       Size\n"
     ]
    },
    {
     "name": "stderr",
     "output_type": "stream",
     "text": [
      "     57/150         0G     0.1253      1.367     0.8962         55         96: 100%|██████████| 400/400 [01:08<00:00,  5.80it/s]\n",
      "                 Class     Images  Instances      Box(P          R      mAP50  mAP50-95): 100%|██████████| 50/50 [00:08<00:00,  5.95it/s]"
     ]
    },
    {
     "name": "stdout",
     "output_type": "stream",
     "text": [
      "                   all       1600       1600      0.434      0.682      0.568      0.566\n"
     ]
    },
    {
     "name": "stderr",
     "output_type": "stream",
     "text": [
      "\n"
     ]
    },
    {
     "name": "stdout",
     "output_type": "stream",
     "text": [
      "\n",
      "      Epoch    GPU_mem   box_loss   cls_loss   dfl_loss  Instances       Size\n"
     ]
    },
    {
     "name": "stderr",
     "output_type": "stream",
     "text": [
      "     58/150         0G     0.1244      1.371     0.8956         48         96: 100%|██████████| 400/400 [01:12<00:00,  5.52it/s]\n",
      "                 Class     Images  Instances      Box(P          R      mAP50  mAP50-95): 100%|██████████| 50/50 [00:08<00:00,  5.75it/s]\n"
     ]
    },
    {
     "name": "stdout",
     "output_type": "stream",
     "text": [
      "                   all       1600       1600      0.442        0.7       0.57      0.569\n",
      "\n",
      "      Epoch    GPU_mem   box_loss   cls_loss   dfl_loss  Instances       Size\n"
     ]
    },
    {
     "name": "stderr",
     "output_type": "stream",
     "text": [
      "     59/150         0G     0.1237       1.36     0.8935         49         96: 100%|██████████| 400/400 [01:12<00:00,  5.54it/s]\n",
      "                 Class     Images  Instances      Box(P          R      mAP50  mAP50-95): 100%|██████████| 50/50 [00:08<00:00,  5.84it/s]\n"
     ]
    },
    {
     "name": "stdout",
     "output_type": "stream",
     "text": [
      "                   all       1600       1600      0.488      0.581      0.547      0.546\n",
      "\n",
      "      Epoch    GPU_mem   box_loss   cls_loss   dfl_loss  Instances       Size\n"
     ]
    },
    {
     "name": "stderr",
     "output_type": "stream",
     "text": [
      "     60/150         0G     0.1254      1.356      0.895         45         96: 100%|██████████| 400/400 [01:10<00:00,  5.65it/s]\n",
      "                 Class     Images  Instances      Box(P          R      mAP50  mAP50-95): 100%|██████████| 50/50 [00:08<00:00,  6.00it/s]\n"
     ]
    },
    {
     "name": "stdout",
     "output_type": "stream",
     "text": [
      "                   all       1600       1600      0.578      0.555      0.547      0.547\n",
      "\n",
      "      Epoch    GPU_mem   box_loss   cls_loss   dfl_loss  Instances       Size\n"
     ]
    },
    {
     "name": "stderr",
     "output_type": "stream",
     "text": [
      "     61/150         0G     0.1229      1.347     0.8943         49         96: 100%|██████████| 400/400 [01:11<00:00,  5.60it/s]\n",
      "                 Class     Images  Instances      Box(P          R      mAP50  mAP50-95): 100%|██████████| 50/50 [00:08<00:00,  5.83it/s]\n"
     ]
    },
    {
     "name": "stdout",
     "output_type": "stream",
     "text": [
      "                   all       1600       1600      0.453      0.698      0.588      0.587\n",
      "\n",
      "      Epoch    GPU_mem   box_loss   cls_loss   dfl_loss  Instances       Size\n"
     ]
    },
    {
     "name": "stderr",
     "output_type": "stream",
     "text": [
      "     62/150         0G     0.1227      1.353     0.8946         52         96: 100%|██████████| 400/400 [01:10<00:00,  5.67it/s]\n",
      "                 Class     Images  Instances      Box(P          R      mAP50  mAP50-95): 100%|██████████| 50/50 [00:08<00:00,  5.76it/s]\n"
     ]
    },
    {
     "name": "stdout",
     "output_type": "stream",
     "text": [
      "                   all       1600       1600      0.442      0.676      0.573      0.572\n",
      "\n",
      "      Epoch    GPU_mem   box_loss   cls_loss   dfl_loss  Instances       Size\n"
     ]
    },
    {
     "name": "stderr",
     "output_type": "stream",
     "text": [
      "     63/150         0G     0.1217       1.35     0.8971         50         96: 100%|██████████| 400/400 [01:13<00:00,  5.43it/s]\n",
      "                 Class     Images  Instances      Box(P          R      mAP50  mAP50-95): 100%|██████████| 50/50 [00:07<00:00,  6.49it/s]\n"
     ]
    },
    {
     "name": "stdout",
     "output_type": "stream",
     "text": [
      "                   all       1600       1600      0.439      0.701      0.562      0.562\n",
      "\n",
      "      Epoch    GPU_mem   box_loss   cls_loss   dfl_loss  Instances       Size\n"
     ]
    },
    {
     "name": "stderr",
     "output_type": "stream",
     "text": [
      "     64/150         0G     0.1217      1.343     0.8931         49         96: 100%|██████████| 400/400 [01:07<00:00,  5.92it/s]\n",
      "                 Class     Images  Instances      Box(P          R      mAP50  mAP50-95): 100%|██████████| 50/50 [00:08<00:00,  5.81it/s]"
     ]
    },
    {
     "name": "stdout",
     "output_type": "stream",
     "text": [
      "                   all       1600       1600      0.441      0.688      0.575      0.575\n"
     ]
    },
    {
     "name": "stderr",
     "output_type": "stream",
     "text": [
      "\n"
     ]
    },
    {
     "name": "stdout",
     "output_type": "stream",
     "text": [
      "\n",
      "      Epoch    GPU_mem   box_loss   cls_loss   dfl_loss  Instances       Size\n"
     ]
    },
    {
     "name": "stderr",
     "output_type": "stream",
     "text": [
      "     65/150         0G     0.1196      1.349     0.8952         56         96: 100%|██████████| 400/400 [01:11<00:00,  5.58it/s]\n",
      "                 Class     Images  Instances      Box(P          R      mAP50  mAP50-95): 100%|██████████| 50/50 [00:08<00:00,  5.79it/s]"
     ]
    },
    {
     "name": "stdout",
     "output_type": "stream",
     "text": [
      "                   all       1600       1600      0.469      0.649      0.572      0.571\n"
     ]
    },
    {
     "name": "stderr",
     "output_type": "stream",
     "text": [
      "\n"
     ]
    },
    {
     "name": "stdout",
     "output_type": "stream",
     "text": [
      "\n",
      "      Epoch    GPU_mem   box_loss   cls_loss   dfl_loss  Instances       Size\n"
     ]
    },
    {
     "name": "stderr",
     "output_type": "stream",
     "text": [
      "     66/150         0G     0.1206      1.348     0.8974         42         96: 100%|██████████| 400/400 [01:10<00:00,  5.71it/s]\n",
      "                 Class     Images  Instances      Box(P          R      mAP50  mAP50-95): 100%|██████████| 50/50 [00:08<00:00,  5.91it/s]\n"
     ]
    },
    {
     "name": "stdout",
     "output_type": "stream",
     "text": [
      "                   all       1600       1600       0.52       0.59       0.57      0.563\n",
      "\n",
      "      Epoch    GPU_mem   box_loss   cls_loss   dfl_loss  Instances       Size\n"
     ]
    },
    {
     "name": "stderr",
     "output_type": "stream",
     "text": [
      "     67/150         0G     0.1192      1.342     0.8939         52         96: 100%|██████████| 400/400 [01:12<00:00,  5.55it/s]\n",
      "                 Class     Images  Instances      Box(P          R      mAP50  mAP50-95): 100%|██████████| 50/50 [00:09<00:00,  5.55it/s]\n"
     ]
    },
    {
     "name": "stdout",
     "output_type": "stream",
     "text": [
      "                   all       1600       1600      0.575      0.553      0.541      0.529\n",
      "\n",
      "      Epoch    GPU_mem   box_loss   cls_loss   dfl_loss  Instances       Size\n"
     ]
    },
    {
     "name": "stderr",
     "output_type": "stream",
     "text": [
      "     68/150         0G     0.1201      1.334     0.8919         51         96: 100%|██████████| 400/400 [01:10<00:00,  5.63it/s]\n",
      "                 Class     Images  Instances      Box(P          R      mAP50  mAP50-95): 100%|██████████| 50/50 [00:08<00:00,  6.06it/s]\n"
     ]
    },
    {
     "name": "stdout",
     "output_type": "stream",
     "text": [
      "                   all       1600       1600      0.494      0.654      0.587      0.583\n",
      "\n",
      "      Epoch    GPU_mem   box_loss   cls_loss   dfl_loss  Instances       Size\n"
     ]
    },
    {
     "name": "stderr",
     "output_type": "stream",
     "text": [
      "     69/150         0G      0.119      1.334     0.8932         54         96: 100%|██████████| 400/400 [01:10<00:00,  5.67it/s]\n",
      "                 Class     Images  Instances      Box(P          R      mAP50  mAP50-95): 100%|██████████| 50/50 [00:08<00:00,  5.89it/s]\n"
     ]
    },
    {
     "name": "stdout",
     "output_type": "stream",
     "text": [
      "                   all       1600       1600      0.594      0.588      0.592      0.591\n",
      "\n",
      "      Epoch    GPU_mem   box_loss   cls_loss   dfl_loss  Instances       Size\n"
     ]
    },
    {
     "name": "stderr",
     "output_type": "stream",
     "text": [
      "     70/150         0G     0.1175      1.333     0.8929         53         96: 100%|██████████| 400/400 [01:09<00:00,  5.73it/s]\n",
      "                 Class     Images  Instances      Box(P          R      mAP50  mAP50-95): 100%|██████████| 50/50 [00:08<00:00,  5.75it/s]\n"
     ]
    },
    {
     "name": "stdout",
     "output_type": "stream",
     "text": [
      "                   all       1600       1600      0.532      0.627      0.586      0.585\n",
      "\n",
      "      Epoch    GPU_mem   box_loss   cls_loss   dfl_loss  Instances       Size\n"
     ]
    },
    {
     "name": "stderr",
     "output_type": "stream",
     "text": [
      "     71/150         0G     0.1178      1.331     0.8946         50         96: 100%|██████████| 400/400 [01:09<00:00,  5.73it/s]\n",
      "                 Class     Images  Instances      Box(P          R      mAP50  mAP50-95): 100%|██████████| 50/50 [00:09<00:00,  5.52it/s]\n"
     ]
    },
    {
     "name": "stdout",
     "output_type": "stream",
     "text": [
      "                   all       1600       1600      0.563       0.63      0.592      0.589\n",
      "\n",
      "      Epoch    GPU_mem   box_loss   cls_loss   dfl_loss  Instances       Size\n"
     ]
    },
    {
     "name": "stderr",
     "output_type": "stream",
     "text": [
      "     72/150         0G      0.116      1.324     0.8912         56         96: 100%|██████████| 400/400 [01:12<00:00,  5.55it/s]\n",
      "                 Class     Images  Instances      Box(P          R      mAP50  mAP50-95): 100%|██████████| 50/50 [00:08<00:00,  5.94it/s]\n"
     ]
    },
    {
     "name": "stdout",
     "output_type": "stream",
     "text": [
      "                   all       1600       1600       0.56      0.592      0.559      0.553\n",
      "\n",
      "      Epoch    GPU_mem   box_loss   cls_loss   dfl_loss  Instances       Size\n"
     ]
    },
    {
     "name": "stderr",
     "output_type": "stream",
     "text": [
      "     73/150         0G     0.1161      1.328     0.8947         52         96: 100%|██████████| 400/400 [01:10<00:00,  5.70it/s]\n",
      "                 Class     Images  Instances      Box(P          R      mAP50  mAP50-95): 100%|██████████| 50/50 [00:08<00:00,  5.90it/s]\n"
     ]
    },
    {
     "name": "stdout",
     "output_type": "stream",
     "text": [
      "                   all       1600       1600      0.553      0.609      0.584      0.584\n",
      "\n",
      "      Epoch    GPU_mem   box_loss   cls_loss   dfl_loss  Instances       Size\n"
     ]
    },
    {
     "name": "stderr",
     "output_type": "stream",
     "text": [
      "     74/150         0G     0.1153      1.325     0.8904         46         96: 100%|██████████| 400/400 [01:11<00:00,  5.57it/s]\n",
      "                 Class     Images  Instances      Box(P          R      mAP50  mAP50-95): 100%|██████████| 50/50 [00:08<00:00,  5.84it/s]\n"
     ]
    },
    {
     "name": "stdout",
     "output_type": "stream",
     "text": [
      "                   all       1600       1600      0.619      0.585      0.585      0.582\n",
      "\n",
      "      Epoch    GPU_mem   box_loss   cls_loss   dfl_loss  Instances       Size\n"
     ]
    },
    {
     "name": "stderr",
     "output_type": "stream",
     "text": [
      "     75/150         0G     0.1136      1.323      0.893         48         96: 100%|██████████| 400/400 [01:09<00:00,  5.73it/s]\n",
      "                 Class     Images  Instances      Box(P          R      mAP50  mAP50-95): 100%|██████████| 50/50 [00:08<00:00,  5.93it/s]\n"
     ]
    },
    {
     "name": "stdout",
     "output_type": "stream",
     "text": [
      "                   all       1600       1600      0.564      0.604      0.574      0.569\n",
      "\n",
      "      Epoch    GPU_mem   box_loss   cls_loss   dfl_loss  Instances       Size\n"
     ]
    },
    {
     "name": "stderr",
     "output_type": "stream",
     "text": [
      "     76/150         0G     0.1147      1.322     0.8951         49         96: 100%|██████████| 400/400 [01:10<00:00,  5.64it/s]\n",
      "                 Class     Images  Instances      Box(P          R      mAP50  mAP50-95): 100%|██████████| 50/50 [00:08<00:00,  5.88it/s]"
     ]
    },
    {
     "name": "stdout",
     "output_type": "stream",
     "text": [
      "                   all       1600       1600       0.63      0.621      0.604      0.603\n"
     ]
    },
    {
     "name": "stderr",
     "output_type": "stream",
     "text": [
      "\n"
     ]
    },
    {
     "name": "stdout",
     "output_type": "stream",
     "text": [
      "\n",
      "      Epoch    GPU_mem   box_loss   cls_loss   dfl_loss  Instances       Size\n"
     ]
    },
    {
     "name": "stderr",
     "output_type": "stream",
     "text": [
      "     77/150         0G     0.1139      1.324     0.8939         48         96: 100%|██████████| 400/400 [01:10<00:00,  5.71it/s]\n",
      "                 Class     Images  Instances      Box(P          R      mAP50  mAP50-95): 100%|██████████| 50/50 [00:08<00:00,  5.93it/s]\n"
     ]
    },
    {
     "name": "stdout",
     "output_type": "stream",
     "text": [
      "                   all       1600       1600      0.511      0.667      0.609      0.607\n",
      "\n",
      "      Epoch    GPU_mem   box_loss   cls_loss   dfl_loss  Instances       Size\n"
     ]
    },
    {
     "name": "stderr",
     "output_type": "stream",
     "text": [
      "     78/150         0G      0.113      1.319     0.8933         47         96: 100%|██████████| 400/400 [01:09<00:00,  5.73it/s]\n",
      "                 Class     Images  Instances      Box(P          R      mAP50  mAP50-95): 100%|██████████| 50/50 [00:08<00:00,  5.88it/s]\n"
     ]
    },
    {
     "name": "stdout",
     "output_type": "stream",
     "text": [
      "                   all       1600       1600      0.483      0.667      0.608      0.606\n",
      "\n",
      "      Epoch    GPU_mem   box_loss   cls_loss   dfl_loss  Instances       Size\n"
     ]
    },
    {
     "name": "stderr",
     "output_type": "stream",
     "text": [
      "     79/150         0G      0.113      1.309     0.8934         55         96: 100%|██████████| 400/400 [01:11<00:00,  5.59it/s]\n",
      "                 Class     Images  Instances      Box(P          R      mAP50  mAP50-95): 100%|██████████| 50/50 [00:08<00:00,  6.12it/s]"
     ]
    },
    {
     "name": "stdout",
     "output_type": "stream",
     "text": [
      "                   all       1600       1600      0.553      0.614      0.607      0.601\n"
     ]
    },
    {
     "name": "stderr",
     "output_type": "stream",
     "text": [
      "\n"
     ]
    },
    {
     "name": "stdout",
     "output_type": "stream",
     "text": [
      "\n",
      "      Epoch    GPU_mem   box_loss   cls_loss   dfl_loss  Instances       Size\n"
     ]
    },
    {
     "name": "stderr",
     "output_type": "stream",
     "text": [
      "     80/150         0G     0.1121      1.318     0.8921         52         96: 100%|██████████| 400/400 [01:10<00:00,  5.67it/s]\n",
      "                 Class     Images  Instances      Box(P          R      mAP50  mAP50-95): 100%|██████████| 50/50 [00:08<00:00,  5.89it/s]\n"
     ]
    },
    {
     "name": "stdout",
     "output_type": "stream",
     "text": [
      "                   all       1600       1600      0.528      0.647       0.61      0.606\n",
      "\n",
      "      Epoch    GPU_mem   box_loss   cls_loss   dfl_loss  Instances       Size\n"
     ]
    },
    {
     "name": "stderr",
     "output_type": "stream",
     "text": [
      "     81/150         0G     0.1118      1.309     0.8941         41         96: 100%|██████████| 400/400 [01:09<00:00,  5.72it/s]\n",
      "                 Class     Images  Instances      Box(P          R      mAP50  mAP50-95): 100%|██████████| 50/50 [00:08<00:00,  6.00it/s]\n"
     ]
    },
    {
     "name": "stdout",
     "output_type": "stream",
     "text": [
      "                   all       1600       1600      0.584      0.642      0.622      0.622\n",
      "\n",
      "      Epoch    GPU_mem   box_loss   cls_loss   dfl_loss  Instances       Size\n"
     ]
    },
    {
     "name": "stderr",
     "output_type": "stream",
     "text": [
      "     82/150         0G     0.1099      1.302     0.8923         48         96: 100%|██████████| 400/400 [01:11<00:00,  5.60it/s]\n",
      "                 Class     Images  Instances      Box(P          R      mAP50  mAP50-95): 100%|██████████| 50/50 [00:08<00:00,  6.14it/s]\n"
     ]
    },
    {
     "name": "stdout",
     "output_type": "stream",
     "text": [
      "                   all       1600       1600      0.529      0.669      0.623      0.622\n",
      "\n",
      "      Epoch    GPU_mem   box_loss   cls_loss   dfl_loss  Instances       Size\n"
     ]
    },
    {
     "name": "stderr",
     "output_type": "stream",
     "text": [
      "     83/150         0G     0.1103      1.308     0.8914         49         96: 100%|██████████| 400/400 [01:12<00:00,  5.55it/s]\n",
      "                 Class     Images  Instances      Box(P          R      mAP50  mAP50-95): 100%|██████████| 50/50 [00:08<00:00,  5.86it/s]"
     ]
    },
    {
     "name": "stdout",
     "output_type": "stream",
     "text": [
      "                   all       1600       1600      0.543      0.646       0.62      0.619\n"
     ]
    },
    {
     "name": "stderr",
     "output_type": "stream",
     "text": [
      "\n"
     ]
    },
    {
     "name": "stdout",
     "output_type": "stream",
     "text": [
      "\n",
      "      Epoch    GPU_mem   box_loss   cls_loss   dfl_loss  Instances       Size\n"
     ]
    },
    {
     "name": "stderr",
     "output_type": "stream",
     "text": [
      "     84/150         0G     0.1116      1.304     0.8923         42         96: 100%|██████████| 400/400 [01:09<00:00,  5.74it/s]\n",
      "                 Class     Images  Instances      Box(P          R      mAP50  mAP50-95): 100%|██████████| 50/50 [00:08<00:00,  6.10it/s]"
     ]
    },
    {
     "name": "stdout",
     "output_type": "stream",
     "text": [
      "                   all       1600       1600      0.557      0.634      0.624      0.624\n"
     ]
    },
    {
     "name": "stderr",
     "output_type": "stream",
     "text": [
      "\n"
     ]
    },
    {
     "name": "stdout",
     "output_type": "stream",
     "text": [
      "\n",
      "      Epoch    GPU_mem   box_loss   cls_loss   dfl_loss  Instances       Size\n"
     ]
    },
    {
     "name": "stderr",
     "output_type": "stream",
     "text": [
      "     85/150         0G     0.1102      1.305     0.8907         52         96: 100%|██████████| 400/400 [01:10<00:00,  5.71it/s]\n",
      "                 Class     Images  Instances      Box(P          R      mAP50  mAP50-95): 100%|██████████| 50/50 [00:08<00:00,  5.94it/s]\n"
     ]
    },
    {
     "name": "stdout",
     "output_type": "stream",
     "text": [
      "                   all       1600       1600      0.552      0.649       0.63      0.629\n",
      "\n",
      "      Epoch    GPU_mem   box_loss   cls_loss   dfl_loss  Instances       Size\n"
     ]
    },
    {
     "name": "stderr",
     "output_type": "stream",
     "text": [
      "     86/150         0G     0.1096        1.3     0.8925         48         96: 100%|██████████| 400/400 [01:10<00:00,  5.68it/s]\n",
      "                 Class     Images  Instances      Box(P          R      mAP50  mAP50-95): 100%|██████████| 50/50 [00:08<00:00,  5.98it/s]"
     ]
    },
    {
     "name": "stdout",
     "output_type": "stream",
     "text": [
      "                   all       1600       1600       0.54      0.653      0.632      0.631\n"
     ]
    },
    {
     "name": "stderr",
     "output_type": "stream",
     "text": [
      "\n"
     ]
    },
    {
     "name": "stdout",
     "output_type": "stream",
     "text": [
      "\n",
      "      Epoch    GPU_mem   box_loss   cls_loss   dfl_loss  Instances       Size\n"
     ]
    },
    {
     "name": "stderr",
     "output_type": "stream",
     "text": [
      "     87/150         0G     0.1083      1.304      0.893         57         96: 100%|██████████| 400/400 [01:10<00:00,  5.71it/s]\n",
      "                 Class     Images  Instances      Box(P          R      mAP50  mAP50-95): 100%|██████████| 50/50 [00:08<00:00,  5.88it/s]\n"
     ]
    },
    {
     "name": "stdout",
     "output_type": "stream",
     "text": [
      "                   all       1600       1600      0.554      0.656      0.637      0.637\n",
      "\n",
      "      Epoch    GPU_mem   box_loss   cls_loss   dfl_loss  Instances       Size\n"
     ]
    },
    {
     "name": "stderr",
     "output_type": "stream",
     "text": [
      "     88/150         0G     0.1077      1.302     0.8931         48         96: 100%|██████████| 400/400 [01:10<00:00,  5.70it/s]\n",
      "                 Class     Images  Instances      Box(P          R      mAP50  mAP50-95): 100%|██████████| 50/50 [00:08<00:00,  5.91it/s]\n"
     ]
    },
    {
     "name": "stdout",
     "output_type": "stream",
     "text": [
      "                   all       1600       1600      0.561      0.652       0.63       0.63\n",
      "\n",
      "      Epoch    GPU_mem   box_loss   cls_loss   dfl_loss  Instances       Size\n"
     ]
    },
    {
     "name": "stderr",
     "output_type": "stream",
     "text": [
      "     89/150         0G     0.1076      1.295     0.8936         49         96: 100%|██████████| 400/400 [01:11<00:00,  5.61it/s]\n",
      "                 Class     Images  Instances      Box(P          R      mAP50  mAP50-95): 100%|██████████| 50/50 [00:08<00:00,  5.98it/s]\n"
     ]
    },
    {
     "name": "stdout",
     "output_type": "stream",
     "text": [
      "                   all       1600       1600      0.552       0.66      0.632      0.632\n",
      "\n",
      "      Epoch    GPU_mem   box_loss   cls_loss   dfl_loss  Instances       Size\n"
     ]
    },
    {
     "name": "stderr",
     "output_type": "stream",
     "text": [
      "     90/150         0G     0.1066      1.292     0.8905         44         96: 100%|██████████| 400/400 [01:11<00:00,  5.62it/s]\n",
      "                 Class     Images  Instances      Box(P          R      mAP50  mAP50-95): 100%|██████████| 50/50 [00:08<00:00,  6.01it/s]\n"
     ]
    },
    {
     "name": "stdout",
     "output_type": "stream",
     "text": [
      "                   all       1600       1600      0.533      0.676      0.638      0.638\n",
      "\n",
      "      Epoch    GPU_mem   box_loss   cls_loss   dfl_loss  Instances       Size\n"
     ]
    },
    {
     "name": "stderr",
     "output_type": "stream",
     "text": [
      "     91/150         0G     0.1058      1.289     0.8915         53         96: 100%|██████████| 400/400 [01:10<00:00,  5.69it/s]\n",
      "                 Class     Images  Instances      Box(P          R      mAP50  mAP50-95): 100%|██████████| 50/50 [00:08<00:00,  5.91it/s]\n"
     ]
    },
    {
     "name": "stdout",
     "output_type": "stream",
     "text": [
      "                   all       1600       1600      0.544       0.68      0.645      0.645\n",
      "\n",
      "      Epoch    GPU_mem   box_loss   cls_loss   dfl_loss  Instances       Size\n"
     ]
    },
    {
     "name": "stderr",
     "output_type": "stream",
     "text": [
      "     92/150         0G     0.1053      1.299     0.8908         45         96: 100%|██████████| 400/400 [01:09<00:00,  5.75it/s]\n",
      "                 Class     Images  Instances      Box(P          R      mAP50  mAP50-95): 100%|██████████| 50/50 [00:08<00:00,  6.02it/s]\n"
     ]
    },
    {
     "name": "stdout",
     "output_type": "stream",
     "text": [
      "                   all       1600       1600      0.545      0.676      0.648      0.648\n",
      "\n",
      "      Epoch    GPU_mem   box_loss   cls_loss   dfl_loss  Instances       Size\n"
     ]
    },
    {
     "name": "stderr",
     "output_type": "stream",
     "text": [
      "     93/150         0G     0.1064      1.289     0.8933         50         96: 100%|██████████| 400/400 [01:10<00:00,  5.67it/s]\n",
      "                 Class     Images  Instances      Box(P          R      mAP50  mAP50-95): 100%|██████████| 50/50 [00:08<00:00,  5.82it/s]\n"
     ]
    },
    {
     "name": "stdout",
     "output_type": "stream",
     "text": [
      "                   all       1600       1600      0.536      0.675      0.641       0.64\n",
      "\n",
      "      Epoch    GPU_mem   box_loss   cls_loss   dfl_loss  Instances       Size\n"
     ]
    },
    {
     "name": "stderr",
     "output_type": "stream",
     "text": [
      "     94/150         0G      0.105      1.287     0.8935         55         96: 100%|██████████| 400/400 [01:11<00:00,  5.63it/s]\n",
      "                 Class     Images  Instances      Box(P          R      mAP50  mAP50-95): 100%|██████████| 50/50 [00:08<00:00,  5.87it/s]\n"
     ]
    },
    {
     "name": "stdout",
     "output_type": "stream",
     "text": [
      "                   all       1600       1600      0.566      0.644      0.634      0.633\n",
      "\n",
      "      Epoch    GPU_mem   box_loss   cls_loss   dfl_loss  Instances       Size\n"
     ]
    },
    {
     "name": "stderr",
     "output_type": "stream",
     "text": [
      "     95/150         0G     0.1029      1.283      0.892         46         96: 100%|██████████| 400/400 [01:10<00:00,  5.68it/s]\n",
      "                 Class     Images  Instances      Box(P          R      mAP50  mAP50-95): 100%|██████████| 50/50 [00:08<00:00,  5.97it/s]\n"
     ]
    },
    {
     "name": "stdout",
     "output_type": "stream",
     "text": [
      "                   all       1600       1600       0.55      0.662       0.64       0.64\n",
      "\n",
      "      Epoch    GPU_mem   box_loss   cls_loss   dfl_loss  Instances       Size\n"
     ]
    },
    {
     "name": "stderr",
     "output_type": "stream",
     "text": [
      "     96/150         0G     0.1028      1.285     0.8914         52         96: 100%|██████████| 400/400 [01:09<00:00,  5.73it/s]\n",
      "                 Class     Images  Instances      Box(P          R      mAP50  mAP50-95): 100%|██████████| 50/50 [00:09<00:00,  5.45it/s]\n"
     ]
    },
    {
     "name": "stdout",
     "output_type": "stream",
     "text": [
      "                   all       1600       1600      0.561      0.661      0.644      0.644\n",
      "\n",
      "      Epoch    GPU_mem   box_loss   cls_loss   dfl_loss  Instances       Size\n"
     ]
    },
    {
     "name": "stderr",
     "output_type": "stream",
     "text": [
      "     97/150         0G     0.1055       1.28     0.8888         52         96: 100%|██████████| 400/400 [01:12<00:00,  5.55it/s]\n",
      "                 Class     Images  Instances      Box(P          R      mAP50  mAP50-95): 100%|██████████| 50/50 [00:08<00:00,  5.77it/s]"
     ]
    },
    {
     "name": "stdout",
     "output_type": "stream",
     "text": [
      "                   all       1600       1600      0.537      0.671       0.64      0.639\n"
     ]
    },
    {
     "name": "stderr",
     "output_type": "stream",
     "text": [
      "\n"
     ]
    },
    {
     "name": "stdout",
     "output_type": "stream",
     "text": [
      "\n",
      "      Epoch    GPU_mem   box_loss   cls_loss   dfl_loss  Instances       Size\n"
     ]
    },
    {
     "name": "stderr",
     "output_type": "stream",
     "text": [
      "     98/150         0G     0.1014      1.271     0.8917         41         96: 100%|██████████| 400/400 [01:10<00:00,  5.65it/s]\n",
      "                 Class     Images  Instances      Box(P          R      mAP50  mAP50-95): 100%|██████████| 50/50 [00:08<00:00,  5.91it/s]"
     ]
    },
    {
     "name": "stdout",
     "output_type": "stream",
     "text": [
      "                   all       1600       1600      0.539      0.666       0.64      0.639\n"
     ]
    },
    {
     "name": "stderr",
     "output_type": "stream",
     "text": [
      "\n"
     ]
    },
    {
     "name": "stdout",
     "output_type": "stream",
     "text": [
      "\n",
      "      Epoch    GPU_mem   box_loss   cls_loss   dfl_loss  Instances       Size\n"
     ]
    },
    {
     "name": "stderr",
     "output_type": "stream",
     "text": [
      "     99/150         0G     0.1012      1.279     0.8912         54         96: 100%|██████████| 400/400 [01:09<00:00,  5.75it/s]\n",
      "                 Class     Images  Instances      Box(P          R      mAP50  mAP50-95): 100%|██████████| 50/50 [00:08<00:00,  5.91it/s]\n"
     ]
    },
    {
     "name": "stdout",
     "output_type": "stream",
     "text": [
      "                   all       1600       1600      0.541      0.649      0.629      0.628\n",
      "\n",
      "      Epoch    GPU_mem   box_loss   cls_loss   dfl_loss  Instances       Size\n"
     ]
    },
    {
     "name": "stderr",
     "output_type": "stream",
     "text": [
      "    100/150         0G     0.1034       1.28     0.8917         47         96: 100%|██████████| 400/400 [01:09<00:00,  5.76it/s]\n",
      "                 Class     Images  Instances      Box(P          R      mAP50  mAP50-95): 100%|██████████| 50/50 [00:08<00:00,  5.88it/s]\n"
     ]
    },
    {
     "name": "stdout",
     "output_type": "stream",
     "text": [
      "                   all       1600       1600       0.53      0.657      0.626      0.624\n",
      "\n",
      "      Epoch    GPU_mem   box_loss   cls_loss   dfl_loss  Instances       Size\n"
     ]
    },
    {
     "name": "stderr",
     "output_type": "stream",
     "text": [
      "    101/150         0G     0.1011      1.269     0.8904         51         96: 100%|██████████| 400/400 [01:09<00:00,  5.73it/s]\n",
      "                 Class     Images  Instances      Box(P          R      mAP50  mAP50-95): 100%|██████████| 50/50 [00:08<00:00,  5.91it/s]\n"
     ]
    },
    {
     "name": "stdout",
     "output_type": "stream",
     "text": [
      "                   all       1600       1600      0.554      0.632      0.622       0.62\n",
      "\n",
      "      Epoch    GPU_mem   box_loss   cls_loss   dfl_loss  Instances       Size\n"
     ]
    },
    {
     "name": "stderr",
     "output_type": "stream",
     "text": [
      "    102/150         0G     0.1013      1.276     0.8902         51         96: 100%|██████████| 400/400 [01:11<00:00,  5.62it/s]\n",
      "                 Class     Images  Instances      Box(P          R      mAP50  mAP50-95): 100%|██████████| 50/50 [00:08<00:00,  6.22it/s]\n"
     ]
    },
    {
     "name": "stdout",
     "output_type": "stream",
     "text": [
      "                   all       1600       1600       0.54      0.615      0.619      0.616\n",
      "\n",
      "      Epoch    GPU_mem   box_loss   cls_loss   dfl_loss  Instances       Size\n"
     ]
    },
    {
     "name": "stderr",
     "output_type": "stream",
     "text": [
      "    103/150         0G     0.1022      1.274     0.8902         51         96: 100%|██████████| 400/400 [01:09<00:00,  5.72it/s]\n",
      "                 Class     Images  Instances      Box(P          R      mAP50  mAP50-95): 100%|██████████| 50/50 [00:08<00:00,  5.86it/s]"
     ]
    },
    {
     "name": "stdout",
     "output_type": "stream",
     "text": [
      "                   all       1600       1600      0.562      0.623      0.633      0.631\n"
     ]
    },
    {
     "name": "stderr",
     "output_type": "stream",
     "text": [
      "\n"
     ]
    },
    {
     "name": "stdout",
     "output_type": "stream",
     "text": [
      "\n",
      "      Epoch    GPU_mem   box_loss   cls_loss   dfl_loss  Instances       Size\n"
     ]
    },
    {
     "name": "stderr",
     "output_type": "stream",
     "text": [
      "    104/150         0G     0.1004      1.268     0.8914         51         96: 100%|██████████| 400/400 [01:10<00:00,  5.71it/s]\n",
      "                 Class     Images  Instances      Box(P          R      mAP50  mAP50-95): 100%|██████████| 50/50 [00:08<00:00,  5.72it/s]"
     ]
    },
    {
     "name": "stdout",
     "output_type": "stream",
     "text": [
      "                   all       1600       1600       0.53      0.672      0.636      0.635\n"
     ]
    },
    {
     "name": "stderr",
     "output_type": "stream",
     "text": [
      "\n"
     ]
    },
    {
     "name": "stdout",
     "output_type": "stream",
     "text": [
      "\n",
      "      Epoch    GPU_mem   box_loss   cls_loss   dfl_loss  Instances       Size\n"
     ]
    },
    {
     "name": "stderr",
     "output_type": "stream",
     "text": [
      "    105/150         0G     0.1004       1.27     0.8898         51         96: 100%|██████████| 400/400 [01:10<00:00,  5.69it/s]\n",
      "                 Class     Images  Instances      Box(P          R      mAP50  mAP50-95): 100%|██████████| 50/50 [00:08<00:00,  6.15it/s]\n"
     ]
    },
    {
     "name": "stdout",
     "output_type": "stream",
     "text": [
      "                   all       1600       1600       0.55      0.665      0.643      0.641\n",
      "\n",
      "      Epoch    GPU_mem   box_loss   cls_loss   dfl_loss  Instances       Size\n"
     ]
    },
    {
     "name": "stderr",
     "output_type": "stream",
     "text": [
      "    106/150         0G    0.09863      1.276     0.8943         52         96: 100%|██████████| 400/400 [01:10<00:00,  5.67it/s]\n",
      "                 Class     Images  Instances      Box(P          R      mAP50  mAP50-95): 100%|██████████| 50/50 [00:08<00:00,  5.90it/s]\n"
     ]
    },
    {
     "name": "stdout",
     "output_type": "stream",
     "text": [
      "                   all       1600       1600      0.541      0.652      0.635      0.633\n",
      "\n",
      "      Epoch    GPU_mem   box_loss   cls_loss   dfl_loss  Instances       Size\n"
     ]
    },
    {
     "name": "stderr",
     "output_type": "stream",
     "text": [
      "    107/150         0G    0.09887      1.269     0.8907         49         96: 100%|██████████| 400/400 [01:09<00:00,  5.78it/s]\n",
      "                 Class     Images  Instances      Box(P          R      mAP50  mAP50-95): 100%|██████████| 50/50 [00:08<00:00,  5.86it/s]\n"
     ]
    },
    {
     "name": "stdout",
     "output_type": "stream",
     "text": [
      "                   all       1600       1600      0.542       0.66      0.637      0.635\n",
      "\n",
      "      Epoch    GPU_mem   box_loss   cls_loss   dfl_loss  Instances       Size\n"
     ]
    },
    {
     "name": "stderr",
     "output_type": "stream",
     "text": [
      "    108/150         0G    0.09816      1.271     0.8908         53         96: 100%|██████████| 400/400 [01:09<00:00,  5.77it/s]\n",
      "                 Class     Images  Instances      Box(P          R      mAP50  mAP50-95): 100%|██████████| 50/50 [00:08<00:00,  6.12it/s]\n"
     ]
    },
    {
     "name": "stdout",
     "output_type": "stream",
     "text": [
      "                   all       1600       1600      0.554      0.648       0.64      0.638\n",
      "\n",
      "      Epoch    GPU_mem   box_loss   cls_loss   dfl_loss  Instances       Size\n"
     ]
    },
    {
     "name": "stderr",
     "output_type": "stream",
     "text": [
      "    109/150         0G     0.0967      1.264      0.891         50         96: 100%|██████████| 400/400 [01:10<00:00,  5.65it/s]\n",
      "                 Class     Images  Instances      Box(P          R      mAP50  mAP50-95): 100%|██████████| 50/50 [00:08<00:00,  6.16it/s]"
     ]
    },
    {
     "name": "stdout",
     "output_type": "stream",
     "text": [
      "                   all       1600       1600       0.55       0.69      0.653      0.652\n"
     ]
    },
    {
     "name": "stderr",
     "output_type": "stream",
     "text": [
      "\n"
     ]
    },
    {
     "name": "stdout",
     "output_type": "stream",
     "text": [
      "\n",
      "      Epoch    GPU_mem   box_loss   cls_loss   dfl_loss  Instances       Size\n"
     ]
    },
    {
     "name": "stderr",
     "output_type": "stream",
     "text": [
      "    110/150         0G    0.09778      1.255     0.8903         47         96: 100%|██████████| 400/400 [01:11<00:00,  5.62it/s]\n",
      "                 Class     Images  Instances      Box(P          R      mAP50  mAP50-95): 100%|██████████| 50/50 [00:08<00:00,  5.95it/s]"
     ]
    },
    {
     "name": "stdout",
     "output_type": "stream",
     "text": [
      "                   all       1600       1600      0.551      0.696      0.658      0.657\n"
     ]
    },
    {
     "name": "stderr",
     "output_type": "stream",
     "text": [
      "\n"
     ]
    },
    {
     "name": "stdout",
     "output_type": "stream",
     "text": [
      "\n",
      "      Epoch    GPU_mem   box_loss   cls_loss   dfl_loss  Instances       Size\n"
     ]
    },
    {
     "name": "stderr",
     "output_type": "stream",
     "text": [
      "    111/150         0G    0.09682      1.257     0.8924         43         96: 100%|██████████| 400/400 [01:09<00:00,  5.74it/s]\n",
      "                 Class     Images  Instances      Box(P          R      mAP50  mAP50-95): 100%|██████████| 50/50 [00:08<00:00,  6.18it/s]\n"
     ]
    },
    {
     "name": "stdout",
     "output_type": "stream",
     "text": [
      "                   all       1600       1600       0.54       0.71      0.656      0.656\n",
      "\n",
      "      Epoch    GPU_mem   box_loss   cls_loss   dfl_loss  Instances       Size\n"
     ]
    },
    {
     "name": "stderr",
     "output_type": "stream",
     "text": [
      "    112/150         0G    0.09726      1.265     0.8908         50         96: 100%|██████████| 400/400 [01:12<00:00,  5.49it/s]\n",
      "                 Class     Images  Instances      Box(P          R      mAP50  mAP50-95): 100%|██████████| 50/50 [00:08<00:00,  5.88it/s]\n"
     ]
    },
    {
     "name": "stdout",
     "output_type": "stream",
     "text": [
      "                   all       1600       1600      0.538      0.696      0.657      0.656\n",
      "\n",
      "      Epoch    GPU_mem   box_loss   cls_loss   dfl_loss  Instances       Size\n"
     ]
    },
    {
     "name": "stderr",
     "output_type": "stream",
     "text": [
      "    113/150         0G    0.09558      1.259     0.8901         43         96: 100%|██████████| 400/400 [01:10<00:00,  5.69it/s]\n",
      "                 Class     Images  Instances      Box(P          R      mAP50  mAP50-95): 100%|██████████| 50/50 [00:08<00:00,  5.95it/s]\n"
     ]
    },
    {
     "name": "stdout",
     "output_type": "stream",
     "text": [
      "                   all       1600       1600      0.539      0.701      0.656      0.656\n",
      "\n",
      "      Epoch    GPU_mem   box_loss   cls_loss   dfl_loss  Instances       Size\n"
     ]
    },
    {
     "name": "stderr",
     "output_type": "stream",
     "text": [
      "    114/150         0G    0.09537      1.247     0.8902         44         96: 100%|██████████| 400/400 [01:09<00:00,  5.72it/s]\n",
      "                 Class     Images  Instances      Box(P          R      mAP50  mAP50-95): 100%|██████████| 50/50 [00:08<00:00,  5.97it/s]"
     ]
    },
    {
     "name": "stdout",
     "output_type": "stream",
     "text": [
      "                   all       1600       1600      0.549      0.698       0.66       0.66\n"
     ]
    },
    {
     "name": "stderr",
     "output_type": "stream",
     "text": [
      "\n"
     ]
    },
    {
     "name": "stdout",
     "output_type": "stream",
     "text": [
      "\n",
      "      Epoch    GPU_mem   box_loss   cls_loss   dfl_loss  Instances       Size\n"
     ]
    },
    {
     "name": "stderr",
     "output_type": "stream",
     "text": [
      "    115/150         0G    0.09513       1.25     0.8939         38         96: 100%|██████████| 400/400 [01:09<00:00,  5.73it/s]\n",
      "                 Class     Images  Instances      Box(P          R      mAP50  mAP50-95): 100%|██████████| 50/50 [00:08<00:00,  5.92it/s]\n"
     ]
    },
    {
     "name": "stdout",
     "output_type": "stream",
     "text": [
      "                   all       1600       1600      0.555      0.701      0.662      0.662\n",
      "\n",
      "      Epoch    GPU_mem   box_loss   cls_loss   dfl_loss  Instances       Size\n"
     ]
    },
    {
     "name": "stderr",
     "output_type": "stream",
     "text": [
      "    116/150         0G    0.09452      1.252     0.8902         52         96: 100%|██████████| 400/400 [01:09<00:00,  5.76it/s]\n",
      "                 Class     Images  Instances      Box(P          R      mAP50  mAP50-95): 100%|██████████| 50/50 [00:08<00:00,  5.94it/s]\n"
     ]
    },
    {
     "name": "stdout",
     "output_type": "stream",
     "text": [
      "                   all       1600       1600       0.55      0.713      0.663      0.663\n",
      "\n",
      "      Epoch    GPU_mem   box_loss   cls_loss   dfl_loss  Instances       Size\n"
     ]
    },
    {
     "name": "stderr",
     "output_type": "stream",
     "text": [
      "    117/150         0G    0.09372       1.25     0.8909         47         96: 100%|██████████| 400/400 [01:10<00:00,  5.70it/s]\n",
      "                 Class     Images  Instances      Box(P          R      mAP50  mAP50-95): 100%|██████████| 50/50 [00:08<00:00,  5.91it/s]\n"
     ]
    },
    {
     "name": "stdout",
     "output_type": "stream",
     "text": [
      "                   all       1600       1600      0.555      0.712      0.665      0.665\n",
      "\n",
      "      Epoch    GPU_mem   box_loss   cls_loss   dfl_loss  Instances       Size\n"
     ]
    },
    {
     "name": "stderr",
     "output_type": "stream",
     "text": [
      "    118/150         0G    0.09254      1.253      0.888         47         96: 100%|██████████| 400/400 [01:09<00:00,  5.76it/s]\n",
      "                 Class     Images  Instances      Box(P          R      mAP50  mAP50-95): 100%|██████████| 50/50 [00:08<00:00,  5.99it/s]\n"
     ]
    },
    {
     "name": "stdout",
     "output_type": "stream",
     "text": [
      "                   all       1600       1600      0.559      0.708      0.667      0.667\n",
      "\n",
      "      Epoch    GPU_mem   box_loss   cls_loss   dfl_loss  Instances       Size\n"
     ]
    },
    {
     "name": "stderr",
     "output_type": "stream",
     "text": [
      "    119/150         0G    0.09235      1.248     0.8903         50         96: 100%|██████████| 400/400 [01:11<00:00,  5.61it/s]\n",
      "                 Class     Images  Instances      Box(P          R      mAP50  mAP50-95): 100%|██████████| 50/50 [00:08<00:00,  5.75it/s]\n"
     ]
    },
    {
     "name": "stdout",
     "output_type": "stream",
     "text": [
      "                   all       1600       1600      0.564      0.702      0.668      0.668\n",
      "\n",
      "      Epoch    GPU_mem   box_loss   cls_loss   dfl_loss  Instances       Size\n"
     ]
    },
    {
     "name": "stderr",
     "output_type": "stream",
     "text": [
      "    120/150         0G    0.09103       1.24     0.8901         46         96: 100%|██████████| 400/400 [01:12<00:00,  5.52it/s]\n",
      "                 Class     Images  Instances      Box(P          R      mAP50  mAP50-95): 100%|██████████| 50/50 [00:08<00:00,  5.97it/s]"
     ]
    },
    {
     "name": "stdout",
     "output_type": "stream",
     "text": [
      "                   all       1600       1600      0.566      0.701      0.669      0.669\n"
     ]
    },
    {
     "name": "stderr",
     "output_type": "stream",
     "text": [
      "\n"
     ]
    },
    {
     "name": "stdout",
     "output_type": "stream",
     "text": [
      "\n",
      "      Epoch    GPU_mem   box_loss   cls_loss   dfl_loss  Instances       Size\n"
     ]
    },
    {
     "name": "stderr",
     "output_type": "stream",
     "text": [
      "    121/150         0G    0.09093      1.237     0.8897         48         96: 100%|██████████| 400/400 [01:09<00:00,  5.73it/s]\n",
      "                 Class     Images  Instances      Box(P          R      mAP50  mAP50-95): 100%|██████████| 50/50 [00:08<00:00,  5.86it/s]\n"
     ]
    },
    {
     "name": "stdout",
     "output_type": "stream",
     "text": [
      "                   all       1600       1600      0.562      0.704       0.67       0.67\n",
      "\n",
      "      Epoch    GPU_mem   box_loss   cls_loss   dfl_loss  Instances       Size\n"
     ]
    },
    {
     "name": "stderr",
     "output_type": "stream",
     "text": [
      "    122/150         0G     0.0925      1.239     0.8891         54         96: 100%|██████████| 400/400 [01:08<00:00,  5.80it/s]\n",
      "                 Class     Images  Instances      Box(P          R      mAP50  mAP50-95): 100%|██████████| 50/50 [00:08<00:00,  5.91it/s]\n"
     ]
    },
    {
     "name": "stdout",
     "output_type": "stream",
     "text": [
      "                   all       1600       1600       0.56      0.703      0.673      0.672\n",
      "\n",
      "      Epoch    GPU_mem   box_loss   cls_loss   dfl_loss  Instances       Size\n"
     ]
    },
    {
     "name": "stderr",
     "output_type": "stream",
     "text": [
      "    123/150         0G    0.08961      1.241     0.8899         50         96: 100%|██████████| 400/400 [01:09<00:00,  5.77it/s]\n",
      "                 Class     Images  Instances      Box(P          R      mAP50  mAP50-95): 100%|██████████| 50/50 [00:08<00:00,  5.96it/s]\n"
     ]
    },
    {
     "name": "stdout",
     "output_type": "stream",
     "text": [
      "                   all       1600       1600      0.566      0.699      0.674      0.674\n",
      "\n",
      "      Epoch    GPU_mem   box_loss   cls_loss   dfl_loss  Instances       Size\n"
     ]
    },
    {
     "name": "stderr",
     "output_type": "stream",
     "text": [
      "    124/150         0G    0.09134      1.236     0.8908         39         96: 100%|██████████| 400/400 [01:09<00:00,  5.73it/s]\n",
      "                 Class     Images  Instances      Box(P          R      mAP50  mAP50-95): 100%|██████████| 50/50 [00:08<00:00,  5.92it/s]\n"
     ]
    },
    {
     "name": "stdout",
     "output_type": "stream",
     "text": [
      "                   all       1600       1600      0.577      0.688      0.676      0.676\n",
      "\n",
      "      Epoch    GPU_mem   box_loss   cls_loss   dfl_loss  Instances       Size\n"
     ]
    },
    {
     "name": "stderr",
     "output_type": "stream",
     "text": [
      "    125/150         0G    0.09193      1.229      0.889         49         96: 100%|██████████| 400/400 [01:10<00:00,  5.67it/s]\n",
      "                 Class     Images  Instances      Box(P          R      mAP50  mAP50-95): 100%|██████████| 50/50 [00:08<00:00,  5.91it/s]\n"
     ]
    },
    {
     "name": "stdout",
     "output_type": "stream",
     "text": [
      "                   all       1600       1600      0.584      0.694      0.678      0.678\n",
      "\n",
      "      Epoch    GPU_mem   box_loss   cls_loss   dfl_loss  Instances       Size\n"
     ]
    },
    {
     "name": "stderr",
     "output_type": "stream",
     "text": [
      "    126/150         0G    0.09055      1.227     0.8914         49         96: 100%|██████████| 400/400 [01:09<00:00,  5.73it/s]\n",
      "                 Class     Images  Instances      Box(P          R      mAP50  mAP50-95): 100%|██████████| 50/50 [00:08<00:00,  6.16it/s]\n"
     ]
    },
    {
     "name": "stdout",
     "output_type": "stream",
     "text": [
      "                   all       1600       1600      0.588      0.688      0.679      0.679\n",
      "\n",
      "      Epoch    GPU_mem   box_loss   cls_loss   dfl_loss  Instances       Size\n"
     ]
    },
    {
     "name": "stderr",
     "output_type": "stream",
     "text": [
      "    127/150         0G    0.09034      1.231      0.888         45         96: 100%|██████████| 400/400 [01:10<00:00,  5.65it/s]\n",
      "                 Class     Images  Instances      Box(P          R      mAP50  mAP50-95): 100%|██████████| 50/50 [00:08<00:00,  5.97it/s]\n"
     ]
    },
    {
     "name": "stdout",
     "output_type": "stream",
     "text": [
      "                   all       1600       1600      0.585      0.695      0.679      0.679\n",
      "\n",
      "      Epoch    GPU_mem   box_loss   cls_loss   dfl_loss  Instances       Size\n"
     ]
    },
    {
     "name": "stderr",
     "output_type": "stream",
     "text": [
      "    128/150         0G    0.08939      1.229     0.8901         50         96: 100%|██████████| 400/400 [01:15<00:00,  5.29it/s]\n",
      "                 Class     Images  Instances      Box(P          R      mAP50  mAP50-95): 100%|██████████| 50/50 [00:08<00:00,  5.96it/s]\n"
     ]
    },
    {
     "name": "stdout",
     "output_type": "stream",
     "text": [
      "                   all       1600       1600      0.584       0.69      0.678      0.678\n",
      "\n",
      "      Epoch    GPU_mem   box_loss   cls_loss   dfl_loss  Instances       Size\n"
     ]
    },
    {
     "name": "stderr",
     "output_type": "stream",
     "text": [
      "    129/150         0G    0.08721      1.229     0.8911         51         96: 100%|██████████| 400/400 [01:09<00:00,  5.72it/s]\n",
      "                 Class     Images  Instances      Box(P          R      mAP50  mAP50-95): 100%|██████████| 50/50 [00:08<00:00,  6.00it/s]\n"
     ]
    },
    {
     "name": "stdout",
     "output_type": "stream",
     "text": [
      "                   all       1600       1600      0.583      0.692      0.678      0.678\n",
      "\n",
      "      Epoch    GPU_mem   box_loss   cls_loss   dfl_loss  Instances       Size\n"
     ]
    },
    {
     "name": "stderr",
     "output_type": "stream",
     "text": [
      "    130/150         0G    0.08852      1.224     0.8893         42         96: 100%|██████████| 400/400 [01:09<00:00,  5.79it/s]\n",
      "                 Class     Images  Instances      Box(P          R      mAP50  mAP50-95): 100%|██████████| 50/50 [00:08<00:00,  5.98it/s]\n"
     ]
    },
    {
     "name": "stdout",
     "output_type": "stream",
     "text": [
      "                   all       1600       1600      0.582      0.693      0.678      0.677\n",
      "\n",
      "      Epoch    GPU_mem   box_loss   cls_loss   dfl_loss  Instances       Size\n"
     ]
    },
    {
     "name": "stderr",
     "output_type": "stream",
     "text": [
      "    131/150         0G    0.08775      1.224     0.8905         45         96: 100%|██████████| 400/400 [01:09<00:00,  5.76it/s]\n",
      "                 Class     Images  Instances      Box(P          R      mAP50  mAP50-95): 100%|██████████| 50/50 [00:08<00:00,  5.99it/s]\n"
     ]
    },
    {
     "name": "stdout",
     "output_type": "stream",
     "text": [
      "                   all       1600       1600      0.587      0.689      0.678      0.677\n",
      "\n",
      "      Epoch    GPU_mem   box_loss   cls_loss   dfl_loss  Instances       Size\n"
     ]
    },
    {
     "name": "stderr",
     "output_type": "stream",
     "text": [
      "    132/150         0G    0.08745      1.225     0.8892         48         96: 100%|██████████| 400/400 [01:10<00:00,  5.69it/s]\n",
      "                 Class     Images  Instances      Box(P          R      mAP50  mAP50-95): 100%|██████████| 50/50 [00:08<00:00,  5.95it/s]\n"
     ]
    },
    {
     "name": "stdout",
     "output_type": "stream",
     "text": [
      "                   all       1600       1600      0.586      0.691      0.678      0.678\n",
      "\n",
      "      Epoch    GPU_mem   box_loss   cls_loss   dfl_loss  Instances       Size\n"
     ]
    },
    {
     "name": "stderr",
     "output_type": "stream",
     "text": [
      "    133/150         0G     0.0873      1.212     0.8922         47         96: 100%|██████████| 400/400 [01:09<00:00,  5.75it/s]\n",
      "                 Class     Images  Instances      Box(P          R      mAP50  mAP50-95): 100%|██████████| 50/50 [00:08<00:00,  5.96it/s]\n"
     ]
    },
    {
     "name": "stdout",
     "output_type": "stream",
     "text": [
      "                   all       1600       1600      0.589      0.682      0.677      0.677\n",
      "\n",
      "      Epoch    GPU_mem   box_loss   cls_loss   dfl_loss  Instances       Size\n"
     ]
    },
    {
     "name": "stderr",
     "output_type": "stream",
     "text": [
      "    134/150         0G    0.08691      1.212     0.8905         47         96: 100%|██████████| 400/400 [01:09<00:00,  5.77it/s]\n",
      "                 Class     Images  Instances      Box(P          R      mAP50  mAP50-95): 100%|██████████| 50/50 [00:08<00:00,  5.63it/s]\n"
     ]
    },
    {
     "name": "stdout",
     "output_type": "stream",
     "text": [
      "                   all       1600       1600      0.594      0.669      0.676      0.676\n",
      "\n",
      "      Epoch    GPU_mem   box_loss   cls_loss   dfl_loss  Instances       Size\n"
     ]
    },
    {
     "name": "stderr",
     "output_type": "stream",
     "text": [
      "    135/150         0G    0.08514      1.227       0.89         45         96: 100%|██████████| 400/400 [01:10<00:00,  5.71it/s]\n",
      "                 Class     Images  Instances      Box(P          R      mAP50  mAP50-95): 100%|██████████| 50/50 [00:08<00:00,  5.95it/s]"
     ]
    },
    {
     "name": "stdout",
     "output_type": "stream",
     "text": [
      "                   all       1600       1600      0.596      0.666      0.677      0.677\n"
     ]
    },
    {
     "name": "stderr",
     "output_type": "stream",
     "text": [
      "\n"
     ]
    },
    {
     "name": "stdout",
     "output_type": "stream",
     "text": [
      "\n",
      "      Epoch    GPU_mem   box_loss   cls_loss   dfl_loss  Instances       Size\n"
     ]
    },
    {
     "name": "stderr",
     "output_type": "stream",
     "text": [
      "    136/150         0G    0.08633      1.215     0.8893         48         96: 100%|██████████| 400/400 [01:10<00:00,  5.64it/s]\n",
      "                 Class     Images  Instances      Box(P          R      mAP50  mAP50-95): 100%|██████████| 50/50 [00:08<00:00,  5.94it/s]\n"
     ]
    },
    {
     "name": "stdout",
     "output_type": "stream",
     "text": [
      "                   all       1600       1600      0.603      0.656      0.678      0.677\n",
      "\n",
      "      Epoch    GPU_mem   box_loss   cls_loss   dfl_loss  Instances       Size\n"
     ]
    },
    {
     "name": "stderr",
     "output_type": "stream",
     "text": [
      "    137/150         0G    0.08428      1.208     0.8898         42         96: 100%|██████████| 400/400 [01:09<00:00,  5.75it/s]\n",
      "                 Class     Images  Instances      Box(P          R      mAP50  mAP50-95): 100%|██████████| 50/50 [00:08<00:00,  5.92it/s]\n"
     ]
    },
    {
     "name": "stdout",
     "output_type": "stream",
     "text": [
      "                   all       1600       1600      0.601      0.657      0.678      0.678\n",
      "\n",
      "      Epoch    GPU_mem   box_loss   cls_loss   dfl_loss  Instances       Size\n"
     ]
    },
    {
     "name": "stderr",
     "output_type": "stream",
     "text": [
      "    138/150         0G    0.08376      1.213     0.8924         48         96: 100%|██████████| 400/400 [01:11<00:00,  5.61it/s]\n",
      "                 Class     Images  Instances      Box(P          R      mAP50  mAP50-95): 100%|██████████| 50/50 [00:08<00:00,  5.95it/s]\n"
     ]
    },
    {
     "name": "stdout",
     "output_type": "stream",
     "text": [
      "                   all       1600       1600      0.602      0.666      0.679      0.679\n",
      "\n",
      "      Epoch    GPU_mem   box_loss   cls_loss   dfl_loss  Instances       Size\n"
     ]
    },
    {
     "name": "stderr",
     "output_type": "stream",
     "text": [
      "    139/150         0G    0.08401      1.214     0.8863         49         96: 100%|██████████| 400/400 [01:10<00:00,  5.69it/s]\n",
      "                 Class     Images  Instances      Box(P          R      mAP50  mAP50-95): 100%|██████████| 50/50 [00:08<00:00,  5.96it/s]"
     ]
    },
    {
     "name": "stdout",
     "output_type": "stream",
     "text": [
      "                   all       1600       1600      0.602      0.668       0.68      0.679\n"
     ]
    },
    {
     "name": "stderr",
     "output_type": "stream",
     "text": [
      "\n"
     ]
    },
    {
     "name": "stdout",
     "output_type": "stream",
     "text": [
      "\n",
      "      Epoch    GPU_mem   box_loss   cls_loss   dfl_loss  Instances       Size\n"
     ]
    },
    {
     "name": "stderr",
     "output_type": "stream",
     "text": [
      "    140/150         0G    0.08255      1.206      0.887         49         96: 100%|██████████| 400/400 [01:10<00:00,  5.71it/s]\n",
      "                 Class     Images  Instances      Box(P          R      mAP50  mAP50-95): 100%|██████████| 50/50 [00:08<00:00,  5.90it/s]\n"
     ]
    },
    {
     "name": "stdout",
     "output_type": "stream",
     "text": [
      "                   all       1600       1600      0.602      0.664       0.68       0.68\n",
      "Closing dataloader mosaic\n",
      "\n",
      "      Epoch    GPU_mem   box_loss   cls_loss   dfl_loss  Instances       Size\n"
     ]
    },
    {
     "name": "stderr",
     "output_type": "stream",
     "text": [
      "    141/150         0G    0.06749     0.9093     0.9098         16         96: 100%|██████████| 400/400 [01:08<00:00,  5.83it/s]\n",
      "                 Class     Images  Instances      Box(P          R      mAP50  mAP50-95): 100%|██████████| 50/50 [00:08<00:00,  5.95it/s]\n"
     ]
    },
    {
     "name": "stdout",
     "output_type": "stream",
     "text": [
      "                   all       1600       1600      0.601      0.685       0.68       0.68\n",
      "\n",
      "      Epoch    GPU_mem   box_loss   cls_loss   dfl_loss  Instances       Size\n"
     ]
    },
    {
     "name": "stderr",
     "output_type": "stream",
     "text": [
      "    142/150         0G    0.06254     0.8526     0.9043         16         96: 100%|██████████| 400/400 [01:08<00:00,  5.87it/s]\n",
      "                 Class     Images  Instances      Box(P          R      mAP50  mAP50-95): 100%|██████████| 50/50 [00:08<00:00,  5.96it/s]"
     ]
    },
    {
     "name": "stdout",
     "output_type": "stream",
     "text": [
      "                   all       1600       1600      0.595      0.693      0.682      0.682\n"
     ]
    },
    {
     "name": "stderr",
     "output_type": "stream",
     "text": [
      "\n"
     ]
    },
    {
     "name": "stdout",
     "output_type": "stream",
     "text": [
      "\n",
      "      Epoch    GPU_mem   box_loss   cls_loss   dfl_loss  Instances       Size\n"
     ]
    },
    {
     "name": "stderr",
     "output_type": "stream",
     "text": [
      "    143/150         0G    0.05987     0.8397     0.9034         16         96: 100%|██████████| 400/400 [01:07<00:00,  5.90it/s]\n",
      "                 Class     Images  Instances      Box(P          R      mAP50  mAP50-95): 100%|██████████| 50/50 [00:08<00:00,  5.97it/s]\n"
     ]
    },
    {
     "name": "stdout",
     "output_type": "stream",
     "text": [
      "                   all       1600       1600      0.596      0.694      0.685      0.685\n",
      "\n",
      "      Epoch    GPU_mem   box_loss   cls_loss   dfl_loss  Instances       Size\n"
     ]
    },
    {
     "name": "stderr",
     "output_type": "stream",
     "text": [
      "    144/150         0G     0.0573     0.8423     0.9064         16         96: 100%|██████████| 400/400 [01:06<00:00,  5.97it/s]\n",
      "                 Class     Images  Instances      Box(P          R      mAP50  mAP50-95): 100%|██████████| 50/50 [00:08<00:00,  6.13it/s]"
     ]
    },
    {
     "name": "stdout",
     "output_type": "stream",
     "text": [
      "                   all       1600       1600      0.598      0.699      0.687      0.687\n"
     ]
    },
    {
     "name": "stderr",
     "output_type": "stream",
     "text": [
      "\n"
     ]
    },
    {
     "name": "stdout",
     "output_type": "stream",
     "text": [
      "\n",
      "      Epoch    GPU_mem   box_loss   cls_loss   dfl_loss  Instances       Size\n"
     ]
    },
    {
     "name": "stderr",
     "output_type": "stream",
     "text": [
      "    145/150         0G    0.05604     0.8274      0.905         16         96: 100%|██████████| 400/400 [01:07<00:00,  5.94it/s]\n",
      "                 Class     Images  Instances      Box(P          R      mAP50  mAP50-95): 100%|██████████| 50/50 [00:08<00:00,  5.72it/s]\n"
     ]
    },
    {
     "name": "stdout",
     "output_type": "stream",
     "text": [
      "                   all       1600       1600      0.599      0.701      0.689      0.689\n",
      "\n",
      "      Epoch    GPU_mem   box_loss   cls_loss   dfl_loss  Instances       Size\n"
     ]
    },
    {
     "name": "stderr",
     "output_type": "stream",
     "text": [
      "    146/150         0G    0.05695     0.8337     0.9054         16         96: 100%|██████████| 400/400 [01:06<00:00,  6.01it/s]\n",
      "                 Class     Images  Instances      Box(P          R      mAP50  mAP50-95): 100%|██████████| 50/50 [00:08<00:00,  6.02it/s]"
     ]
    },
    {
     "name": "stdout",
     "output_type": "stream",
     "text": [
      "                   all       1600       1600      0.597      0.701      0.691      0.691\n"
     ]
    },
    {
     "name": "stderr",
     "output_type": "stream",
     "text": [
      "\n"
     ]
    },
    {
     "name": "stdout",
     "output_type": "stream",
     "text": [
      "\n",
      "      Epoch    GPU_mem   box_loss   cls_loss   dfl_loss  Instances       Size\n"
     ]
    },
    {
     "name": "stderr",
     "output_type": "stream",
     "text": [
      "    147/150         0G    0.05556     0.8197     0.9021         16         96: 100%|██████████| 400/400 [01:07<00:00,  5.93it/s]\n",
      "                 Class     Images  Instances      Box(P          R      mAP50  mAP50-95): 100%|██████████| 50/50 [00:08<00:00,  5.78it/s]\n"
     ]
    },
    {
     "name": "stdout",
     "output_type": "stream",
     "text": [
      "                   all       1600       1600      0.598      0.699      0.693      0.693\n",
      "\n",
      "      Epoch    GPU_mem   box_loss   cls_loss   dfl_loss  Instances       Size\n"
     ]
    },
    {
     "name": "stderr",
     "output_type": "stream",
     "text": [
      "    148/150         0G    0.05275     0.8158     0.9046         16         96: 100%|██████████| 400/400 [01:07<00:00,  5.90it/s]\n",
      "                 Class     Images  Instances      Box(P          R      mAP50  mAP50-95): 100%|██████████| 50/50 [00:08<00:00,  5.97it/s]\n"
     ]
    },
    {
     "name": "stdout",
     "output_type": "stream",
     "text": [
      "                   all       1600       1600      0.599      0.695      0.694      0.694\n",
      "\n",
      "      Epoch    GPU_mem   box_loss   cls_loss   dfl_loss  Instances       Size\n"
     ]
    },
    {
     "name": "stderr",
     "output_type": "stream",
     "text": [
      "    149/150         0G    0.05335     0.8057     0.9039         16         96: 100%|██████████| 400/400 [01:07<00:00,  5.96it/s]\n",
      "                 Class     Images  Instances      Box(P          R      mAP50  mAP50-95): 100%|██████████| 50/50 [00:08<00:00,  6.10it/s]"
     ]
    },
    {
     "name": "stdout",
     "output_type": "stream",
     "text": [
      "                   all       1600       1600      0.603      0.697      0.695      0.695\n"
     ]
    },
    {
     "name": "stderr",
     "output_type": "stream",
     "text": [
      "\n"
     ]
    },
    {
     "name": "stdout",
     "output_type": "stream",
     "text": [
      "\n",
      "      Epoch    GPU_mem   box_loss   cls_loss   dfl_loss  Instances       Size\n"
     ]
    },
    {
     "name": "stderr",
     "output_type": "stream",
     "text": [
      "    150/150         0G    0.05371     0.8113     0.8989         16         96: 100%|██████████| 400/400 [01:07<00:00,  5.90it/s]\n",
      "                 Class     Images  Instances      Box(P          R      mAP50  mAP50-95): 100%|██████████| 50/50 [00:08<00:00,  5.61it/s]\n"
     ]
    },
    {
     "name": "stdout",
     "output_type": "stream",
     "text": [
      "                   all       1600       1600      0.602      0.698      0.696      0.696\n",
      "\n",
      "150 epochs completed in 3.266 hours.\n",
      "Optimizer stripped from runs\\detect\\train16\\weights\\last.pt, 6.2MB\n",
      "Optimizer stripped from runs\\detect\\train16\\weights\\best.pt, 6.2MB\n",
      "\n",
      "Validating runs\\detect\\train16\\weights\\best.pt...\n",
      "Ultralytics 8.3.143  Python-3.10.0 torch-2.7.0+cpu CPU (11th Gen Intel Core(TM) i7-11370H 3.30GHz)\n",
      "Model summary (fused): 72 layers, 3,007,208 parameters, 0 gradients, 8.1 GFLOPs\n"
     ]
    },
    {
     "name": "stderr",
     "output_type": "stream",
     "text": [
      "                 Class     Images  Instances      Box(P          R      mAP50  mAP50-95): 100%|██████████| 50/50 [00:07<00:00,  6.27it/s]\n"
     ]
    },
    {
     "name": "stdout",
     "output_type": "stream",
     "text": [
      "                   all       1600       1600      0.604      0.695      0.696      0.696\n",
      "                 anger        200        200      0.566        0.7      0.682      0.682\n",
      "              contempt        200        200      0.619      0.755      0.754      0.754\n",
      "               disgust        200        200      0.504      0.645      0.546      0.546\n",
      "                  fear        200        200      0.855      0.625      0.814      0.814\n",
      "                 happy        200        200      0.693      0.855      0.897      0.897\n",
      "               neutral        200        200      0.483      0.744      0.643      0.643\n",
      "                   sad        200        200      0.502      0.423      0.458      0.458\n",
      "              surprise        200        200      0.609      0.815      0.772      0.772\n",
      "Speed: 0.1ms preprocess, 2.4ms inference, 0.0ms loss, 0.3ms postprocess per image\n",
      "Results saved to \u001B[1mruns\\detect\\train16\u001B[0m\n"
     ]
    },
    {
     "data": {
      "text/plain": [
       "ultralytics.utils.metrics.DetMetrics object with attributes:\n",
       "\n",
       "ap_class_index: array([0, 1, 2, 3, 4, 5, 6, 7])\n",
       "box: ultralytics.utils.metrics.Metric object\n",
       "confusion_matrix: <ultralytics.utils.metrics.ConfusionMatrix object at 0x000001D4B46BEE90>\n",
       "curves: ['Precision-Recall(B)', 'F1-Confidence(B)', 'Precision-Confidence(B)', 'Recall-Confidence(B)']\n",
       "curves_results: [[array([          0,    0.001001,    0.002002,    0.003003,    0.004004,    0.005005,    0.006006,    0.007007,    0.008008,    0.009009,     0.01001,    0.011011,    0.012012,    0.013013,    0.014014,    0.015015,    0.016016,    0.017017,    0.018018,    0.019019,     0.02002,    0.021021,    0.022022,    0.023023,\n",
       "          0.024024,    0.025025,    0.026026,    0.027027,    0.028028,    0.029029,     0.03003,    0.031031,    0.032032,    0.033033,    0.034034,    0.035035,    0.036036,    0.037037,    0.038038,    0.039039,     0.04004,    0.041041,    0.042042,    0.043043,    0.044044,    0.045045,    0.046046,    0.047047,\n",
       "          0.048048,    0.049049,     0.05005,    0.051051,    0.052052,    0.053053,    0.054054,    0.055055,    0.056056,    0.057057,    0.058058,    0.059059,     0.06006,    0.061061,    0.062062,    0.063063,    0.064064,    0.065065,    0.066066,    0.067067,    0.068068,    0.069069,     0.07007,    0.071071,\n",
       "          0.072072,    0.073073,    0.074074,    0.075075,    0.076076,    0.077077,    0.078078,    0.079079,     0.08008,    0.081081,    0.082082,    0.083083,    0.084084,    0.085085,    0.086086,    0.087087,    0.088088,    0.089089,     0.09009,    0.091091,    0.092092,    0.093093,    0.094094,    0.095095,\n",
       "          0.096096,    0.097097,    0.098098,    0.099099,      0.1001,      0.1011,      0.1021,      0.1031,      0.1041,     0.10511,     0.10611,     0.10711,     0.10811,     0.10911,     0.11011,     0.11111,     0.11211,     0.11311,     0.11411,     0.11512,     0.11612,     0.11712,     0.11812,     0.11912,\n",
       "           0.12012,     0.12112,     0.12212,     0.12312,     0.12412,     0.12513,     0.12613,     0.12713,     0.12813,     0.12913,     0.13013,     0.13113,     0.13213,     0.13313,     0.13413,     0.13514,     0.13614,     0.13714,     0.13814,     0.13914,     0.14014,     0.14114,     0.14214,     0.14314,\n",
       "           0.14414,     0.14515,     0.14615,     0.14715,     0.14815,     0.14915,     0.15015,     0.15115,     0.15215,     0.15315,     0.15415,     0.15516,     0.15616,     0.15716,     0.15816,     0.15916,     0.16016,     0.16116,     0.16216,     0.16316,     0.16416,     0.16517,     0.16617,     0.16717,\n",
       "           0.16817,     0.16917,     0.17017,     0.17117,     0.17217,     0.17317,     0.17417,     0.17518,     0.17618,     0.17718,     0.17818,     0.17918,     0.18018,     0.18118,     0.18218,     0.18318,     0.18418,     0.18519,     0.18619,     0.18719,     0.18819,     0.18919,     0.19019,     0.19119,\n",
       "           0.19219,     0.19319,     0.19419,      0.1952,      0.1962,      0.1972,      0.1982,      0.1992,      0.2002,      0.2012,      0.2022,      0.2032,      0.2042,     0.20521,     0.20621,     0.20721,     0.20821,     0.20921,     0.21021,     0.21121,     0.21221,     0.21321,     0.21421,     0.21522,\n",
       "           0.21622,     0.21722,     0.21822,     0.21922,     0.22022,     0.22122,     0.22222,     0.22322,     0.22422,     0.22523,     0.22623,     0.22723,     0.22823,     0.22923,     0.23023,     0.23123,     0.23223,     0.23323,     0.23423,     0.23524,     0.23624,     0.23724,     0.23824,     0.23924,\n",
       "           0.24024,     0.24124,     0.24224,     0.24324,     0.24424,     0.24525,     0.24625,     0.24725,     0.24825,     0.24925,     0.25025,     0.25125,     0.25225,     0.25325,     0.25425,     0.25526,     0.25626,     0.25726,     0.25826,     0.25926,     0.26026,     0.26126,     0.26226,     0.26326,\n",
       "           0.26426,     0.26527,     0.26627,     0.26727,     0.26827,     0.26927,     0.27027,     0.27127,     0.27227,     0.27327,     0.27427,     0.27528,     0.27628,     0.27728,     0.27828,     0.27928,     0.28028,     0.28128,     0.28228,     0.28328,     0.28428,     0.28529,     0.28629,     0.28729,\n",
       "           0.28829,     0.28929,     0.29029,     0.29129,     0.29229,     0.29329,     0.29429,      0.2953,      0.2963,      0.2973,      0.2983,      0.2993,      0.3003,      0.3013,      0.3023,      0.3033,      0.3043,     0.30531,     0.30631,     0.30731,     0.30831,     0.30931,     0.31031,     0.31131,\n",
       "           0.31231,     0.31331,     0.31431,     0.31532,     0.31632,     0.31732,     0.31832,     0.31932,     0.32032,     0.32132,     0.32232,     0.32332,     0.32432,     0.32533,     0.32633,     0.32733,     0.32833,     0.32933,     0.33033,     0.33133,     0.33233,     0.33333,     0.33433,     0.33534,\n",
       "           0.33634,     0.33734,     0.33834,     0.33934,     0.34034,     0.34134,     0.34234,     0.34334,     0.34434,     0.34535,     0.34635,     0.34735,     0.34835,     0.34935,     0.35035,     0.35135,     0.35235,     0.35335,     0.35435,     0.35536,     0.35636,     0.35736,     0.35836,     0.35936,\n",
       "           0.36036,     0.36136,     0.36236,     0.36336,     0.36436,     0.36537,     0.36637,     0.36737,     0.36837,     0.36937,     0.37037,     0.37137,     0.37237,     0.37337,     0.37437,     0.37538,     0.37638,     0.37738,     0.37838,     0.37938,     0.38038,     0.38138,     0.38238,     0.38338,\n",
       "           0.38438,     0.38539,     0.38639,     0.38739,     0.38839,     0.38939,     0.39039,     0.39139,     0.39239,     0.39339,     0.39439,      0.3954,      0.3964,      0.3974,      0.3984,      0.3994,      0.4004,      0.4014,      0.4024,      0.4034,      0.4044,     0.40541,     0.40641,     0.40741,\n",
       "           0.40841,     0.40941,     0.41041,     0.41141,     0.41241,     0.41341,     0.41441,     0.41542,     0.41642,     0.41742,     0.41842,     0.41942,     0.42042,     0.42142,     0.42242,     0.42342,     0.42442,     0.42543,     0.42643,     0.42743,     0.42843,     0.42943,     0.43043,     0.43143,\n",
       "           0.43243,     0.43343,     0.43443,     0.43544,     0.43644,     0.43744,     0.43844,     0.43944,     0.44044,     0.44144,     0.44244,     0.44344,     0.44444,     0.44545,     0.44645,     0.44745,     0.44845,     0.44945,     0.45045,     0.45145,     0.45245,     0.45345,     0.45445,     0.45546,\n",
       "           0.45646,     0.45746,     0.45846,     0.45946,     0.46046,     0.46146,     0.46246,     0.46346,     0.46446,     0.46547,     0.46647,     0.46747,     0.46847,     0.46947,     0.47047,     0.47147,     0.47247,     0.47347,     0.47447,     0.47548,     0.47648,     0.47748,     0.47848,     0.47948,\n",
       "           0.48048,     0.48148,     0.48248,     0.48348,     0.48448,     0.48549,     0.48649,     0.48749,     0.48849,     0.48949,     0.49049,     0.49149,     0.49249,     0.49349,     0.49449,      0.4955,      0.4965,      0.4975,      0.4985,      0.4995,      0.5005,      0.5015,      0.5025,      0.5035,\n",
       "            0.5045,     0.50551,     0.50651,     0.50751,     0.50851,     0.50951,     0.51051,     0.51151,     0.51251,     0.51351,     0.51451,     0.51552,     0.51652,     0.51752,     0.51852,     0.51952,     0.52052,     0.52152,     0.52252,     0.52352,     0.52452,     0.52553,     0.52653,     0.52753,\n",
       "           0.52853,     0.52953,     0.53053,     0.53153,     0.53253,     0.53353,     0.53453,     0.53554,     0.53654,     0.53754,     0.53854,     0.53954,     0.54054,     0.54154,     0.54254,     0.54354,     0.54454,     0.54555,     0.54655,     0.54755,     0.54855,     0.54955,     0.55055,     0.55155,\n",
       "           0.55255,     0.55355,     0.55455,     0.55556,     0.55656,     0.55756,     0.55856,     0.55956,     0.56056,     0.56156,     0.56256,     0.56356,     0.56456,     0.56557,     0.56657,     0.56757,     0.56857,     0.56957,     0.57057,     0.57157,     0.57257,     0.57357,     0.57457,     0.57558,\n",
       "           0.57658,     0.57758,     0.57858,     0.57958,     0.58058,     0.58158,     0.58258,     0.58358,     0.58458,     0.58559,     0.58659,     0.58759,     0.58859,     0.58959,     0.59059,     0.59159,     0.59259,     0.59359,     0.59459,      0.5956,      0.5966,      0.5976,      0.5986,      0.5996,\n",
       "            0.6006,      0.6016,      0.6026,      0.6036,      0.6046,     0.60561,     0.60661,     0.60761,     0.60861,     0.60961,     0.61061,     0.61161,     0.61261,     0.61361,     0.61461,     0.61562,     0.61662,     0.61762,     0.61862,     0.61962,     0.62062,     0.62162,     0.62262,     0.62362,\n",
       "           0.62462,     0.62563,     0.62663,     0.62763,     0.62863,     0.62963,     0.63063,     0.63163,     0.63263,     0.63363,     0.63463,     0.63564,     0.63664,     0.63764,     0.63864,     0.63964,     0.64064,     0.64164,     0.64264,     0.64364,     0.64464,     0.64565,     0.64665,     0.64765,\n",
       "           0.64865,     0.64965,     0.65065,     0.65165,     0.65265,     0.65365,     0.65465,     0.65566,     0.65666,     0.65766,     0.65866,     0.65966,     0.66066,     0.66166,     0.66266,     0.66366,     0.66466,     0.66567,     0.66667,     0.66767,     0.66867,     0.66967,     0.67067,     0.67167,\n",
       "           0.67267,     0.67367,     0.67467,     0.67568,     0.67668,     0.67768,     0.67868,     0.67968,     0.68068,     0.68168,     0.68268,     0.68368,     0.68468,     0.68569,     0.68669,     0.68769,     0.68869,     0.68969,     0.69069,     0.69169,     0.69269,     0.69369,     0.69469,      0.6957,\n",
       "            0.6967,      0.6977,      0.6987,      0.6997,      0.7007,      0.7017,      0.7027,      0.7037,      0.7047,     0.70571,     0.70671,     0.70771,     0.70871,     0.70971,     0.71071,     0.71171,     0.71271,     0.71371,     0.71471,     0.71572,     0.71672,     0.71772,     0.71872,     0.71972,\n",
       "           0.72072,     0.72172,     0.72272,     0.72372,     0.72472,     0.72573,     0.72673,     0.72773,     0.72873,     0.72973,     0.73073,     0.73173,     0.73273,     0.73373,     0.73473,     0.73574,     0.73674,     0.73774,     0.73874,     0.73974,     0.74074,     0.74174,     0.74274,     0.74374,\n",
       "           0.74474,     0.74575,     0.74675,     0.74775,     0.74875,     0.74975,     0.75075,     0.75175,     0.75275,     0.75375,     0.75475,     0.75576,     0.75676,     0.75776,     0.75876,     0.75976,     0.76076,     0.76176,     0.76276,     0.76376,     0.76476,     0.76577,     0.76677,     0.76777,\n",
       "           0.76877,     0.76977,     0.77077,     0.77177,     0.77277,     0.77377,     0.77477,     0.77578,     0.77678,     0.77778,     0.77878,     0.77978,     0.78078,     0.78178,     0.78278,     0.78378,     0.78478,     0.78579,     0.78679,     0.78779,     0.78879,     0.78979,     0.79079,     0.79179,\n",
       "           0.79279,     0.79379,     0.79479,      0.7958,      0.7968,      0.7978,      0.7988,      0.7998,      0.8008,      0.8018,      0.8028,      0.8038,      0.8048,     0.80581,     0.80681,     0.80781,     0.80881,     0.80981,     0.81081,     0.81181,     0.81281,     0.81381,     0.81481,     0.81582,\n",
       "           0.81682,     0.81782,     0.81882,     0.81982,     0.82082,     0.82182,     0.82282,     0.82382,     0.82482,     0.82583,     0.82683,     0.82783,     0.82883,     0.82983,     0.83083,     0.83183,     0.83283,     0.83383,     0.83483,     0.83584,     0.83684,     0.83784,     0.83884,     0.83984,\n",
       "           0.84084,     0.84184,     0.84284,     0.84384,     0.84484,     0.84585,     0.84685,     0.84785,     0.84885,     0.84985,     0.85085,     0.85185,     0.85285,     0.85385,     0.85485,     0.85586,     0.85686,     0.85786,     0.85886,     0.85986,     0.86086,     0.86186,     0.86286,     0.86386,\n",
       "           0.86486,     0.86587,     0.86687,     0.86787,     0.86887,     0.86987,     0.87087,     0.87187,     0.87287,     0.87387,     0.87487,     0.87588,     0.87688,     0.87788,     0.87888,     0.87988,     0.88088,     0.88188,     0.88288,     0.88388,     0.88488,     0.88589,     0.88689,     0.88789,\n",
       "           0.88889,     0.88989,     0.89089,     0.89189,     0.89289,     0.89389,     0.89489,      0.8959,      0.8969,      0.8979,      0.8989,      0.8999,      0.9009,      0.9019,      0.9029,      0.9039,      0.9049,     0.90591,     0.90691,     0.90791,     0.90891,     0.90991,     0.91091,     0.91191,\n",
       "           0.91291,     0.91391,     0.91491,     0.91592,     0.91692,     0.91792,     0.91892,     0.91992,     0.92092,     0.92192,     0.92292,     0.92392,     0.92492,     0.92593,     0.92693,     0.92793,     0.92893,     0.92993,     0.93093,     0.93193,     0.93293,     0.93393,     0.93493,     0.93594,\n",
       "           0.93694,     0.93794,     0.93894,     0.93994,     0.94094,     0.94194,     0.94294,     0.94394,     0.94494,     0.94595,     0.94695,     0.94795,     0.94895,     0.94995,     0.95095,     0.95195,     0.95295,     0.95395,     0.95495,     0.95596,     0.95696,     0.95796,     0.95896,     0.95996,\n",
       "           0.96096,     0.96196,     0.96296,     0.96396,     0.96496,     0.96597,     0.96697,     0.96797,     0.96897,     0.96997,     0.97097,     0.97197,     0.97297,     0.97397,     0.97497,     0.97598,     0.97698,     0.97798,     0.97898,     0.97998,     0.98098,     0.98198,     0.98298,     0.98398,\n",
       "           0.98498,     0.98599,     0.98699,     0.98799,     0.98899,     0.98999,     0.99099,     0.99199,     0.99299,     0.99399,     0.99499,       0.996,       0.997,       0.998,       0.999,           1]), array([[          1,           1,           1, ...,     0.07326,     0.07326,           0],\n",
       "       [          1,           1,           1, ...,     0.14286,     0.14286,           0],\n",
       "       [    0.79167,     0.79167,     0.79167, ...,    0.075643,    0.075643,           0],\n",
       "       ...,\n",
       "       [          1,           1,           1, ...,     0.17986,     0.17986,           0],\n",
       "       [          1,           1,           1, ...,    0.045861,    0.045861,           0],\n",
       "       [          1,           1,           1, ...,    0.079936,    0.079936,           0]]), 'Recall', 'Precision'], [array([          0,    0.001001,    0.002002,    0.003003,    0.004004,    0.005005,    0.006006,    0.007007,    0.008008,    0.009009,     0.01001,    0.011011,    0.012012,    0.013013,    0.014014,    0.015015,    0.016016,    0.017017,    0.018018,    0.019019,     0.02002,    0.021021,    0.022022,    0.023023,\n",
       "          0.024024,    0.025025,    0.026026,    0.027027,    0.028028,    0.029029,     0.03003,    0.031031,    0.032032,    0.033033,    0.034034,    0.035035,    0.036036,    0.037037,    0.038038,    0.039039,     0.04004,    0.041041,    0.042042,    0.043043,    0.044044,    0.045045,    0.046046,    0.047047,\n",
       "          0.048048,    0.049049,     0.05005,    0.051051,    0.052052,    0.053053,    0.054054,    0.055055,    0.056056,    0.057057,    0.058058,    0.059059,     0.06006,    0.061061,    0.062062,    0.063063,    0.064064,    0.065065,    0.066066,    0.067067,    0.068068,    0.069069,     0.07007,    0.071071,\n",
       "          0.072072,    0.073073,    0.074074,    0.075075,    0.076076,    0.077077,    0.078078,    0.079079,     0.08008,    0.081081,    0.082082,    0.083083,    0.084084,    0.085085,    0.086086,    0.087087,    0.088088,    0.089089,     0.09009,    0.091091,    0.092092,    0.093093,    0.094094,    0.095095,\n",
       "          0.096096,    0.097097,    0.098098,    0.099099,      0.1001,      0.1011,      0.1021,      0.1031,      0.1041,     0.10511,     0.10611,     0.10711,     0.10811,     0.10911,     0.11011,     0.11111,     0.11211,     0.11311,     0.11411,     0.11512,     0.11612,     0.11712,     0.11812,     0.11912,\n",
       "           0.12012,     0.12112,     0.12212,     0.12312,     0.12412,     0.12513,     0.12613,     0.12713,     0.12813,     0.12913,     0.13013,     0.13113,     0.13213,     0.13313,     0.13413,     0.13514,     0.13614,     0.13714,     0.13814,     0.13914,     0.14014,     0.14114,     0.14214,     0.14314,\n",
       "           0.14414,     0.14515,     0.14615,     0.14715,     0.14815,     0.14915,     0.15015,     0.15115,     0.15215,     0.15315,     0.15415,     0.15516,     0.15616,     0.15716,     0.15816,     0.15916,     0.16016,     0.16116,     0.16216,     0.16316,     0.16416,     0.16517,     0.16617,     0.16717,\n",
       "           0.16817,     0.16917,     0.17017,     0.17117,     0.17217,     0.17317,     0.17417,     0.17518,     0.17618,     0.17718,     0.17818,     0.17918,     0.18018,     0.18118,     0.18218,     0.18318,     0.18418,     0.18519,     0.18619,     0.18719,     0.18819,     0.18919,     0.19019,     0.19119,\n",
       "           0.19219,     0.19319,     0.19419,      0.1952,      0.1962,      0.1972,      0.1982,      0.1992,      0.2002,      0.2012,      0.2022,      0.2032,      0.2042,     0.20521,     0.20621,     0.20721,     0.20821,     0.20921,     0.21021,     0.21121,     0.21221,     0.21321,     0.21421,     0.21522,\n",
       "           0.21622,     0.21722,     0.21822,     0.21922,     0.22022,     0.22122,     0.22222,     0.22322,     0.22422,     0.22523,     0.22623,     0.22723,     0.22823,     0.22923,     0.23023,     0.23123,     0.23223,     0.23323,     0.23423,     0.23524,     0.23624,     0.23724,     0.23824,     0.23924,\n",
       "           0.24024,     0.24124,     0.24224,     0.24324,     0.24424,     0.24525,     0.24625,     0.24725,     0.24825,     0.24925,     0.25025,     0.25125,     0.25225,     0.25325,     0.25425,     0.25526,     0.25626,     0.25726,     0.25826,     0.25926,     0.26026,     0.26126,     0.26226,     0.26326,\n",
       "           0.26426,     0.26527,     0.26627,     0.26727,     0.26827,     0.26927,     0.27027,     0.27127,     0.27227,     0.27327,     0.27427,     0.27528,     0.27628,     0.27728,     0.27828,     0.27928,     0.28028,     0.28128,     0.28228,     0.28328,     0.28428,     0.28529,     0.28629,     0.28729,\n",
       "           0.28829,     0.28929,     0.29029,     0.29129,     0.29229,     0.29329,     0.29429,      0.2953,      0.2963,      0.2973,      0.2983,      0.2993,      0.3003,      0.3013,      0.3023,      0.3033,      0.3043,     0.30531,     0.30631,     0.30731,     0.30831,     0.30931,     0.31031,     0.31131,\n",
       "           0.31231,     0.31331,     0.31431,     0.31532,     0.31632,     0.31732,     0.31832,     0.31932,     0.32032,     0.32132,     0.32232,     0.32332,     0.32432,     0.32533,     0.32633,     0.32733,     0.32833,     0.32933,     0.33033,     0.33133,     0.33233,     0.33333,     0.33433,     0.33534,\n",
       "           0.33634,     0.33734,     0.33834,     0.33934,     0.34034,     0.34134,     0.34234,     0.34334,     0.34434,     0.34535,     0.34635,     0.34735,     0.34835,     0.34935,     0.35035,     0.35135,     0.35235,     0.35335,     0.35435,     0.35536,     0.35636,     0.35736,     0.35836,     0.35936,\n",
       "           0.36036,     0.36136,     0.36236,     0.36336,     0.36436,     0.36537,     0.36637,     0.36737,     0.36837,     0.36937,     0.37037,     0.37137,     0.37237,     0.37337,     0.37437,     0.37538,     0.37638,     0.37738,     0.37838,     0.37938,     0.38038,     0.38138,     0.38238,     0.38338,\n",
       "           0.38438,     0.38539,     0.38639,     0.38739,     0.38839,     0.38939,     0.39039,     0.39139,     0.39239,     0.39339,     0.39439,      0.3954,      0.3964,      0.3974,      0.3984,      0.3994,      0.4004,      0.4014,      0.4024,      0.4034,      0.4044,     0.40541,     0.40641,     0.40741,\n",
       "           0.40841,     0.40941,     0.41041,     0.41141,     0.41241,     0.41341,     0.41441,     0.41542,     0.41642,     0.41742,     0.41842,     0.41942,     0.42042,     0.42142,     0.42242,     0.42342,     0.42442,     0.42543,     0.42643,     0.42743,     0.42843,     0.42943,     0.43043,     0.43143,\n",
       "           0.43243,     0.43343,     0.43443,     0.43544,     0.43644,     0.43744,     0.43844,     0.43944,     0.44044,     0.44144,     0.44244,     0.44344,     0.44444,     0.44545,     0.44645,     0.44745,     0.44845,     0.44945,     0.45045,     0.45145,     0.45245,     0.45345,     0.45445,     0.45546,\n",
       "           0.45646,     0.45746,     0.45846,     0.45946,     0.46046,     0.46146,     0.46246,     0.46346,     0.46446,     0.46547,     0.46647,     0.46747,     0.46847,     0.46947,     0.47047,     0.47147,     0.47247,     0.47347,     0.47447,     0.47548,     0.47648,     0.47748,     0.47848,     0.47948,\n",
       "           0.48048,     0.48148,     0.48248,     0.48348,     0.48448,     0.48549,     0.48649,     0.48749,     0.48849,     0.48949,     0.49049,     0.49149,     0.49249,     0.49349,     0.49449,      0.4955,      0.4965,      0.4975,      0.4985,      0.4995,      0.5005,      0.5015,      0.5025,      0.5035,\n",
       "            0.5045,     0.50551,     0.50651,     0.50751,     0.50851,     0.50951,     0.51051,     0.51151,     0.51251,     0.51351,     0.51451,     0.51552,     0.51652,     0.51752,     0.51852,     0.51952,     0.52052,     0.52152,     0.52252,     0.52352,     0.52452,     0.52553,     0.52653,     0.52753,\n",
       "           0.52853,     0.52953,     0.53053,     0.53153,     0.53253,     0.53353,     0.53453,     0.53554,     0.53654,     0.53754,     0.53854,     0.53954,     0.54054,     0.54154,     0.54254,     0.54354,     0.54454,     0.54555,     0.54655,     0.54755,     0.54855,     0.54955,     0.55055,     0.55155,\n",
       "           0.55255,     0.55355,     0.55455,     0.55556,     0.55656,     0.55756,     0.55856,     0.55956,     0.56056,     0.56156,     0.56256,     0.56356,     0.56456,     0.56557,     0.56657,     0.56757,     0.56857,     0.56957,     0.57057,     0.57157,     0.57257,     0.57357,     0.57457,     0.57558,\n",
       "           0.57658,     0.57758,     0.57858,     0.57958,     0.58058,     0.58158,     0.58258,     0.58358,     0.58458,     0.58559,     0.58659,     0.58759,     0.58859,     0.58959,     0.59059,     0.59159,     0.59259,     0.59359,     0.59459,      0.5956,      0.5966,      0.5976,      0.5986,      0.5996,\n",
       "            0.6006,      0.6016,      0.6026,      0.6036,      0.6046,     0.60561,     0.60661,     0.60761,     0.60861,     0.60961,     0.61061,     0.61161,     0.61261,     0.61361,     0.61461,     0.61562,     0.61662,     0.61762,     0.61862,     0.61962,     0.62062,     0.62162,     0.62262,     0.62362,\n",
       "           0.62462,     0.62563,     0.62663,     0.62763,     0.62863,     0.62963,     0.63063,     0.63163,     0.63263,     0.63363,     0.63463,     0.63564,     0.63664,     0.63764,     0.63864,     0.63964,     0.64064,     0.64164,     0.64264,     0.64364,     0.64464,     0.64565,     0.64665,     0.64765,\n",
       "           0.64865,     0.64965,     0.65065,     0.65165,     0.65265,     0.65365,     0.65465,     0.65566,     0.65666,     0.65766,     0.65866,     0.65966,     0.66066,     0.66166,     0.66266,     0.66366,     0.66466,     0.66567,     0.66667,     0.66767,     0.66867,     0.66967,     0.67067,     0.67167,\n",
       "           0.67267,     0.67367,     0.67467,     0.67568,     0.67668,     0.67768,     0.67868,     0.67968,     0.68068,     0.68168,     0.68268,     0.68368,     0.68468,     0.68569,     0.68669,     0.68769,     0.68869,     0.68969,     0.69069,     0.69169,     0.69269,     0.69369,     0.69469,      0.6957,\n",
       "            0.6967,      0.6977,      0.6987,      0.6997,      0.7007,      0.7017,      0.7027,      0.7037,      0.7047,     0.70571,     0.70671,     0.70771,     0.70871,     0.70971,     0.71071,     0.71171,     0.71271,     0.71371,     0.71471,     0.71572,     0.71672,     0.71772,     0.71872,     0.71972,\n",
       "           0.72072,     0.72172,     0.72272,     0.72372,     0.72472,     0.72573,     0.72673,     0.72773,     0.72873,     0.72973,     0.73073,     0.73173,     0.73273,     0.73373,     0.73473,     0.73574,     0.73674,     0.73774,     0.73874,     0.73974,     0.74074,     0.74174,     0.74274,     0.74374,\n",
       "           0.74474,     0.74575,     0.74675,     0.74775,     0.74875,     0.74975,     0.75075,     0.75175,     0.75275,     0.75375,     0.75475,     0.75576,     0.75676,     0.75776,     0.75876,     0.75976,     0.76076,     0.76176,     0.76276,     0.76376,     0.76476,     0.76577,     0.76677,     0.76777,\n",
       "           0.76877,     0.76977,     0.77077,     0.77177,     0.77277,     0.77377,     0.77477,     0.77578,     0.77678,     0.77778,     0.77878,     0.77978,     0.78078,     0.78178,     0.78278,     0.78378,     0.78478,     0.78579,     0.78679,     0.78779,     0.78879,     0.78979,     0.79079,     0.79179,\n",
       "           0.79279,     0.79379,     0.79479,      0.7958,      0.7968,      0.7978,      0.7988,      0.7998,      0.8008,      0.8018,      0.8028,      0.8038,      0.8048,     0.80581,     0.80681,     0.80781,     0.80881,     0.80981,     0.81081,     0.81181,     0.81281,     0.81381,     0.81481,     0.81582,\n",
       "           0.81682,     0.81782,     0.81882,     0.81982,     0.82082,     0.82182,     0.82282,     0.82382,     0.82482,     0.82583,     0.82683,     0.82783,     0.82883,     0.82983,     0.83083,     0.83183,     0.83283,     0.83383,     0.83483,     0.83584,     0.83684,     0.83784,     0.83884,     0.83984,\n",
       "           0.84084,     0.84184,     0.84284,     0.84384,     0.84484,     0.84585,     0.84685,     0.84785,     0.84885,     0.84985,     0.85085,     0.85185,     0.85285,     0.85385,     0.85485,     0.85586,     0.85686,     0.85786,     0.85886,     0.85986,     0.86086,     0.86186,     0.86286,     0.86386,\n",
       "           0.86486,     0.86587,     0.86687,     0.86787,     0.86887,     0.86987,     0.87087,     0.87187,     0.87287,     0.87387,     0.87487,     0.87588,     0.87688,     0.87788,     0.87888,     0.87988,     0.88088,     0.88188,     0.88288,     0.88388,     0.88488,     0.88589,     0.88689,     0.88789,\n",
       "           0.88889,     0.88989,     0.89089,     0.89189,     0.89289,     0.89389,     0.89489,      0.8959,      0.8969,      0.8979,      0.8989,      0.8999,      0.9009,      0.9019,      0.9029,      0.9039,      0.9049,     0.90591,     0.90691,     0.90791,     0.90891,     0.90991,     0.91091,     0.91191,\n",
       "           0.91291,     0.91391,     0.91491,     0.91592,     0.91692,     0.91792,     0.91892,     0.91992,     0.92092,     0.92192,     0.92292,     0.92392,     0.92492,     0.92593,     0.92693,     0.92793,     0.92893,     0.92993,     0.93093,     0.93193,     0.93293,     0.93393,     0.93493,     0.93594,\n",
       "           0.93694,     0.93794,     0.93894,     0.93994,     0.94094,     0.94194,     0.94294,     0.94394,     0.94494,     0.94595,     0.94695,     0.94795,     0.94895,     0.94995,     0.95095,     0.95195,     0.95295,     0.95395,     0.95495,     0.95596,     0.95696,     0.95796,     0.95896,     0.95996,\n",
       "           0.96096,     0.96196,     0.96296,     0.96396,     0.96496,     0.96597,     0.96697,     0.96797,     0.96897,     0.96997,     0.97097,     0.97197,     0.97297,     0.97397,     0.97497,     0.97598,     0.97698,     0.97798,     0.97898,     0.97998,     0.98098,     0.98198,     0.98298,     0.98398,\n",
       "           0.98498,     0.98599,     0.98699,     0.98799,     0.98899,     0.98999,     0.99099,     0.99199,     0.99299,     0.99399,     0.99499,       0.996,       0.997,       0.998,       0.999,           1]), array([[   0.054149,    0.054152,    0.067357, ...,   0.0099585,           0,           0],\n",
       "       [   0.068587,    0.068623,    0.093623, ...,           0,           0,           0],\n",
       "       [   0.052833,    0.052833,    0.066737, ...,           0,           0,           0],\n",
       "       ...,\n",
       "       [   0.073206,    0.073206,    0.096176, ...,           0,           0,           0],\n",
       "       [   0.057862,    0.057871,    0.074095, ...,           0,           0,           0],\n",
       "       [   0.055157,    0.055169,    0.069941, ...,           0,           0,           0]]), 'Confidence', 'F1'], [array([          0,    0.001001,    0.002002,    0.003003,    0.004004,    0.005005,    0.006006,    0.007007,    0.008008,    0.009009,     0.01001,    0.011011,    0.012012,    0.013013,    0.014014,    0.015015,    0.016016,    0.017017,    0.018018,    0.019019,     0.02002,    0.021021,    0.022022,    0.023023,\n",
       "          0.024024,    0.025025,    0.026026,    0.027027,    0.028028,    0.029029,     0.03003,    0.031031,    0.032032,    0.033033,    0.034034,    0.035035,    0.036036,    0.037037,    0.038038,    0.039039,     0.04004,    0.041041,    0.042042,    0.043043,    0.044044,    0.045045,    0.046046,    0.047047,\n",
       "          0.048048,    0.049049,     0.05005,    0.051051,    0.052052,    0.053053,    0.054054,    0.055055,    0.056056,    0.057057,    0.058058,    0.059059,     0.06006,    0.061061,    0.062062,    0.063063,    0.064064,    0.065065,    0.066066,    0.067067,    0.068068,    0.069069,     0.07007,    0.071071,\n",
       "          0.072072,    0.073073,    0.074074,    0.075075,    0.076076,    0.077077,    0.078078,    0.079079,     0.08008,    0.081081,    0.082082,    0.083083,    0.084084,    0.085085,    0.086086,    0.087087,    0.088088,    0.089089,     0.09009,    0.091091,    0.092092,    0.093093,    0.094094,    0.095095,\n",
       "          0.096096,    0.097097,    0.098098,    0.099099,      0.1001,      0.1011,      0.1021,      0.1031,      0.1041,     0.10511,     0.10611,     0.10711,     0.10811,     0.10911,     0.11011,     0.11111,     0.11211,     0.11311,     0.11411,     0.11512,     0.11612,     0.11712,     0.11812,     0.11912,\n",
       "           0.12012,     0.12112,     0.12212,     0.12312,     0.12412,     0.12513,     0.12613,     0.12713,     0.12813,     0.12913,     0.13013,     0.13113,     0.13213,     0.13313,     0.13413,     0.13514,     0.13614,     0.13714,     0.13814,     0.13914,     0.14014,     0.14114,     0.14214,     0.14314,\n",
       "           0.14414,     0.14515,     0.14615,     0.14715,     0.14815,     0.14915,     0.15015,     0.15115,     0.15215,     0.15315,     0.15415,     0.15516,     0.15616,     0.15716,     0.15816,     0.15916,     0.16016,     0.16116,     0.16216,     0.16316,     0.16416,     0.16517,     0.16617,     0.16717,\n",
       "           0.16817,     0.16917,     0.17017,     0.17117,     0.17217,     0.17317,     0.17417,     0.17518,     0.17618,     0.17718,     0.17818,     0.17918,     0.18018,     0.18118,     0.18218,     0.18318,     0.18418,     0.18519,     0.18619,     0.18719,     0.18819,     0.18919,     0.19019,     0.19119,\n",
       "           0.19219,     0.19319,     0.19419,      0.1952,      0.1962,      0.1972,      0.1982,      0.1992,      0.2002,      0.2012,      0.2022,      0.2032,      0.2042,     0.20521,     0.20621,     0.20721,     0.20821,     0.20921,     0.21021,     0.21121,     0.21221,     0.21321,     0.21421,     0.21522,\n",
       "           0.21622,     0.21722,     0.21822,     0.21922,     0.22022,     0.22122,     0.22222,     0.22322,     0.22422,     0.22523,     0.22623,     0.22723,     0.22823,     0.22923,     0.23023,     0.23123,     0.23223,     0.23323,     0.23423,     0.23524,     0.23624,     0.23724,     0.23824,     0.23924,\n",
       "           0.24024,     0.24124,     0.24224,     0.24324,     0.24424,     0.24525,     0.24625,     0.24725,     0.24825,     0.24925,     0.25025,     0.25125,     0.25225,     0.25325,     0.25425,     0.25526,     0.25626,     0.25726,     0.25826,     0.25926,     0.26026,     0.26126,     0.26226,     0.26326,\n",
       "           0.26426,     0.26527,     0.26627,     0.26727,     0.26827,     0.26927,     0.27027,     0.27127,     0.27227,     0.27327,     0.27427,     0.27528,     0.27628,     0.27728,     0.27828,     0.27928,     0.28028,     0.28128,     0.28228,     0.28328,     0.28428,     0.28529,     0.28629,     0.28729,\n",
       "           0.28829,     0.28929,     0.29029,     0.29129,     0.29229,     0.29329,     0.29429,      0.2953,      0.2963,      0.2973,      0.2983,      0.2993,      0.3003,      0.3013,      0.3023,      0.3033,      0.3043,     0.30531,     0.30631,     0.30731,     0.30831,     0.30931,     0.31031,     0.31131,\n",
       "           0.31231,     0.31331,     0.31431,     0.31532,     0.31632,     0.31732,     0.31832,     0.31932,     0.32032,     0.32132,     0.32232,     0.32332,     0.32432,     0.32533,     0.32633,     0.32733,     0.32833,     0.32933,     0.33033,     0.33133,     0.33233,     0.33333,     0.33433,     0.33534,\n",
       "           0.33634,     0.33734,     0.33834,     0.33934,     0.34034,     0.34134,     0.34234,     0.34334,     0.34434,     0.34535,     0.34635,     0.34735,     0.34835,     0.34935,     0.35035,     0.35135,     0.35235,     0.35335,     0.35435,     0.35536,     0.35636,     0.35736,     0.35836,     0.35936,\n",
       "           0.36036,     0.36136,     0.36236,     0.36336,     0.36436,     0.36537,     0.36637,     0.36737,     0.36837,     0.36937,     0.37037,     0.37137,     0.37237,     0.37337,     0.37437,     0.37538,     0.37638,     0.37738,     0.37838,     0.37938,     0.38038,     0.38138,     0.38238,     0.38338,\n",
       "           0.38438,     0.38539,     0.38639,     0.38739,     0.38839,     0.38939,     0.39039,     0.39139,     0.39239,     0.39339,     0.39439,      0.3954,      0.3964,      0.3974,      0.3984,      0.3994,      0.4004,      0.4014,      0.4024,      0.4034,      0.4044,     0.40541,     0.40641,     0.40741,\n",
       "           0.40841,     0.40941,     0.41041,     0.41141,     0.41241,     0.41341,     0.41441,     0.41542,     0.41642,     0.41742,     0.41842,     0.41942,     0.42042,     0.42142,     0.42242,     0.42342,     0.42442,     0.42543,     0.42643,     0.42743,     0.42843,     0.42943,     0.43043,     0.43143,\n",
       "           0.43243,     0.43343,     0.43443,     0.43544,     0.43644,     0.43744,     0.43844,     0.43944,     0.44044,     0.44144,     0.44244,     0.44344,     0.44444,     0.44545,     0.44645,     0.44745,     0.44845,     0.44945,     0.45045,     0.45145,     0.45245,     0.45345,     0.45445,     0.45546,\n",
       "           0.45646,     0.45746,     0.45846,     0.45946,     0.46046,     0.46146,     0.46246,     0.46346,     0.46446,     0.46547,     0.46647,     0.46747,     0.46847,     0.46947,     0.47047,     0.47147,     0.47247,     0.47347,     0.47447,     0.47548,     0.47648,     0.47748,     0.47848,     0.47948,\n",
       "           0.48048,     0.48148,     0.48248,     0.48348,     0.48448,     0.48549,     0.48649,     0.48749,     0.48849,     0.48949,     0.49049,     0.49149,     0.49249,     0.49349,     0.49449,      0.4955,      0.4965,      0.4975,      0.4985,      0.4995,      0.5005,      0.5015,      0.5025,      0.5035,\n",
       "            0.5045,     0.50551,     0.50651,     0.50751,     0.50851,     0.50951,     0.51051,     0.51151,     0.51251,     0.51351,     0.51451,     0.51552,     0.51652,     0.51752,     0.51852,     0.51952,     0.52052,     0.52152,     0.52252,     0.52352,     0.52452,     0.52553,     0.52653,     0.52753,\n",
       "           0.52853,     0.52953,     0.53053,     0.53153,     0.53253,     0.53353,     0.53453,     0.53554,     0.53654,     0.53754,     0.53854,     0.53954,     0.54054,     0.54154,     0.54254,     0.54354,     0.54454,     0.54555,     0.54655,     0.54755,     0.54855,     0.54955,     0.55055,     0.55155,\n",
       "           0.55255,     0.55355,     0.55455,     0.55556,     0.55656,     0.55756,     0.55856,     0.55956,     0.56056,     0.56156,     0.56256,     0.56356,     0.56456,     0.56557,     0.56657,     0.56757,     0.56857,     0.56957,     0.57057,     0.57157,     0.57257,     0.57357,     0.57457,     0.57558,\n",
       "           0.57658,     0.57758,     0.57858,     0.57958,     0.58058,     0.58158,     0.58258,     0.58358,     0.58458,     0.58559,     0.58659,     0.58759,     0.58859,     0.58959,     0.59059,     0.59159,     0.59259,     0.59359,     0.59459,      0.5956,      0.5966,      0.5976,      0.5986,      0.5996,\n",
       "            0.6006,      0.6016,      0.6026,      0.6036,      0.6046,     0.60561,     0.60661,     0.60761,     0.60861,     0.60961,     0.61061,     0.61161,     0.61261,     0.61361,     0.61461,     0.61562,     0.61662,     0.61762,     0.61862,     0.61962,     0.62062,     0.62162,     0.62262,     0.62362,\n",
       "           0.62462,     0.62563,     0.62663,     0.62763,     0.62863,     0.62963,     0.63063,     0.63163,     0.63263,     0.63363,     0.63463,     0.63564,     0.63664,     0.63764,     0.63864,     0.63964,     0.64064,     0.64164,     0.64264,     0.64364,     0.64464,     0.64565,     0.64665,     0.64765,\n",
       "           0.64865,     0.64965,     0.65065,     0.65165,     0.65265,     0.65365,     0.65465,     0.65566,     0.65666,     0.65766,     0.65866,     0.65966,     0.66066,     0.66166,     0.66266,     0.66366,     0.66466,     0.66567,     0.66667,     0.66767,     0.66867,     0.66967,     0.67067,     0.67167,\n",
       "           0.67267,     0.67367,     0.67467,     0.67568,     0.67668,     0.67768,     0.67868,     0.67968,     0.68068,     0.68168,     0.68268,     0.68368,     0.68468,     0.68569,     0.68669,     0.68769,     0.68869,     0.68969,     0.69069,     0.69169,     0.69269,     0.69369,     0.69469,      0.6957,\n",
       "            0.6967,      0.6977,      0.6987,      0.6997,      0.7007,      0.7017,      0.7027,      0.7037,      0.7047,     0.70571,     0.70671,     0.70771,     0.70871,     0.70971,     0.71071,     0.71171,     0.71271,     0.71371,     0.71471,     0.71572,     0.71672,     0.71772,     0.71872,     0.71972,\n",
       "           0.72072,     0.72172,     0.72272,     0.72372,     0.72472,     0.72573,     0.72673,     0.72773,     0.72873,     0.72973,     0.73073,     0.73173,     0.73273,     0.73373,     0.73473,     0.73574,     0.73674,     0.73774,     0.73874,     0.73974,     0.74074,     0.74174,     0.74274,     0.74374,\n",
       "           0.74474,     0.74575,     0.74675,     0.74775,     0.74875,     0.74975,     0.75075,     0.75175,     0.75275,     0.75375,     0.75475,     0.75576,     0.75676,     0.75776,     0.75876,     0.75976,     0.76076,     0.76176,     0.76276,     0.76376,     0.76476,     0.76577,     0.76677,     0.76777,\n",
       "           0.76877,     0.76977,     0.77077,     0.77177,     0.77277,     0.77377,     0.77477,     0.77578,     0.77678,     0.77778,     0.77878,     0.77978,     0.78078,     0.78178,     0.78278,     0.78378,     0.78478,     0.78579,     0.78679,     0.78779,     0.78879,     0.78979,     0.79079,     0.79179,\n",
       "           0.79279,     0.79379,     0.79479,      0.7958,      0.7968,      0.7978,      0.7988,      0.7998,      0.8008,      0.8018,      0.8028,      0.8038,      0.8048,     0.80581,     0.80681,     0.80781,     0.80881,     0.80981,     0.81081,     0.81181,     0.81281,     0.81381,     0.81481,     0.81582,\n",
       "           0.81682,     0.81782,     0.81882,     0.81982,     0.82082,     0.82182,     0.82282,     0.82382,     0.82482,     0.82583,     0.82683,     0.82783,     0.82883,     0.82983,     0.83083,     0.83183,     0.83283,     0.83383,     0.83483,     0.83584,     0.83684,     0.83784,     0.83884,     0.83984,\n",
       "           0.84084,     0.84184,     0.84284,     0.84384,     0.84484,     0.84585,     0.84685,     0.84785,     0.84885,     0.84985,     0.85085,     0.85185,     0.85285,     0.85385,     0.85485,     0.85586,     0.85686,     0.85786,     0.85886,     0.85986,     0.86086,     0.86186,     0.86286,     0.86386,\n",
       "           0.86486,     0.86587,     0.86687,     0.86787,     0.86887,     0.86987,     0.87087,     0.87187,     0.87287,     0.87387,     0.87487,     0.87588,     0.87688,     0.87788,     0.87888,     0.87988,     0.88088,     0.88188,     0.88288,     0.88388,     0.88488,     0.88589,     0.88689,     0.88789,\n",
       "           0.88889,     0.88989,     0.89089,     0.89189,     0.89289,     0.89389,     0.89489,      0.8959,      0.8969,      0.8979,      0.8989,      0.8999,      0.9009,      0.9019,      0.9029,      0.9039,      0.9049,     0.90591,     0.90691,     0.90791,     0.90891,     0.90991,     0.91091,     0.91191,\n",
       "           0.91291,     0.91391,     0.91491,     0.91592,     0.91692,     0.91792,     0.91892,     0.91992,     0.92092,     0.92192,     0.92292,     0.92392,     0.92492,     0.92593,     0.92693,     0.92793,     0.92893,     0.92993,     0.93093,     0.93193,     0.93293,     0.93393,     0.93493,     0.93594,\n",
       "           0.93694,     0.93794,     0.93894,     0.93994,     0.94094,     0.94194,     0.94294,     0.94394,     0.94494,     0.94595,     0.94695,     0.94795,     0.94895,     0.94995,     0.95095,     0.95195,     0.95295,     0.95395,     0.95495,     0.95596,     0.95696,     0.95796,     0.95896,     0.95996,\n",
       "           0.96096,     0.96196,     0.96296,     0.96396,     0.96496,     0.96597,     0.96697,     0.96797,     0.96897,     0.96997,     0.97097,     0.97197,     0.97297,     0.97397,     0.97497,     0.97598,     0.97698,     0.97798,     0.97898,     0.97998,     0.98098,     0.98198,     0.98298,     0.98398,\n",
       "           0.98498,     0.98599,     0.98699,     0.98799,     0.98899,     0.98999,     0.99099,     0.99199,     0.99299,     0.99399,     0.99499,       0.996,       0.997,       0.998,       0.999,           1]), array([[   0.027828,     0.02783,    0.034852, ...,           1,           1,           1],\n",
       "       [   0.035511,    0.035531,     0.04911, ...,           1,           1,           1],\n",
       "       [   0.027133,    0.027133,     0.03452, ...,           1,           1,           1],\n",
       "       ...,\n",
       "       [   0.037994,    0.037994,    0.050517, ...,           1,           1,           1],\n",
       "       [   0.029793,    0.029798,    0.038473, ...,           1,           1,           1],\n",
       "       [   0.028361,    0.028367,    0.036238, ...,           1,           1,           1]]), 'Confidence', 'Precision'], [array([          0,    0.001001,    0.002002,    0.003003,    0.004004,    0.005005,    0.006006,    0.007007,    0.008008,    0.009009,     0.01001,    0.011011,    0.012012,    0.013013,    0.014014,    0.015015,    0.016016,    0.017017,    0.018018,    0.019019,     0.02002,    0.021021,    0.022022,    0.023023,\n",
       "          0.024024,    0.025025,    0.026026,    0.027027,    0.028028,    0.029029,     0.03003,    0.031031,    0.032032,    0.033033,    0.034034,    0.035035,    0.036036,    0.037037,    0.038038,    0.039039,     0.04004,    0.041041,    0.042042,    0.043043,    0.044044,    0.045045,    0.046046,    0.047047,\n",
       "          0.048048,    0.049049,     0.05005,    0.051051,    0.052052,    0.053053,    0.054054,    0.055055,    0.056056,    0.057057,    0.058058,    0.059059,     0.06006,    0.061061,    0.062062,    0.063063,    0.064064,    0.065065,    0.066066,    0.067067,    0.068068,    0.069069,     0.07007,    0.071071,\n",
       "          0.072072,    0.073073,    0.074074,    0.075075,    0.076076,    0.077077,    0.078078,    0.079079,     0.08008,    0.081081,    0.082082,    0.083083,    0.084084,    0.085085,    0.086086,    0.087087,    0.088088,    0.089089,     0.09009,    0.091091,    0.092092,    0.093093,    0.094094,    0.095095,\n",
       "          0.096096,    0.097097,    0.098098,    0.099099,      0.1001,      0.1011,      0.1021,      0.1031,      0.1041,     0.10511,     0.10611,     0.10711,     0.10811,     0.10911,     0.11011,     0.11111,     0.11211,     0.11311,     0.11411,     0.11512,     0.11612,     0.11712,     0.11812,     0.11912,\n",
       "           0.12012,     0.12112,     0.12212,     0.12312,     0.12412,     0.12513,     0.12613,     0.12713,     0.12813,     0.12913,     0.13013,     0.13113,     0.13213,     0.13313,     0.13413,     0.13514,     0.13614,     0.13714,     0.13814,     0.13914,     0.14014,     0.14114,     0.14214,     0.14314,\n",
       "           0.14414,     0.14515,     0.14615,     0.14715,     0.14815,     0.14915,     0.15015,     0.15115,     0.15215,     0.15315,     0.15415,     0.15516,     0.15616,     0.15716,     0.15816,     0.15916,     0.16016,     0.16116,     0.16216,     0.16316,     0.16416,     0.16517,     0.16617,     0.16717,\n",
       "           0.16817,     0.16917,     0.17017,     0.17117,     0.17217,     0.17317,     0.17417,     0.17518,     0.17618,     0.17718,     0.17818,     0.17918,     0.18018,     0.18118,     0.18218,     0.18318,     0.18418,     0.18519,     0.18619,     0.18719,     0.18819,     0.18919,     0.19019,     0.19119,\n",
       "           0.19219,     0.19319,     0.19419,      0.1952,      0.1962,      0.1972,      0.1982,      0.1992,      0.2002,      0.2012,      0.2022,      0.2032,      0.2042,     0.20521,     0.20621,     0.20721,     0.20821,     0.20921,     0.21021,     0.21121,     0.21221,     0.21321,     0.21421,     0.21522,\n",
       "           0.21622,     0.21722,     0.21822,     0.21922,     0.22022,     0.22122,     0.22222,     0.22322,     0.22422,     0.22523,     0.22623,     0.22723,     0.22823,     0.22923,     0.23023,     0.23123,     0.23223,     0.23323,     0.23423,     0.23524,     0.23624,     0.23724,     0.23824,     0.23924,\n",
       "           0.24024,     0.24124,     0.24224,     0.24324,     0.24424,     0.24525,     0.24625,     0.24725,     0.24825,     0.24925,     0.25025,     0.25125,     0.25225,     0.25325,     0.25425,     0.25526,     0.25626,     0.25726,     0.25826,     0.25926,     0.26026,     0.26126,     0.26226,     0.26326,\n",
       "           0.26426,     0.26527,     0.26627,     0.26727,     0.26827,     0.26927,     0.27027,     0.27127,     0.27227,     0.27327,     0.27427,     0.27528,     0.27628,     0.27728,     0.27828,     0.27928,     0.28028,     0.28128,     0.28228,     0.28328,     0.28428,     0.28529,     0.28629,     0.28729,\n",
       "           0.28829,     0.28929,     0.29029,     0.29129,     0.29229,     0.29329,     0.29429,      0.2953,      0.2963,      0.2973,      0.2983,      0.2993,      0.3003,      0.3013,      0.3023,      0.3033,      0.3043,     0.30531,     0.30631,     0.30731,     0.30831,     0.30931,     0.31031,     0.31131,\n",
       "           0.31231,     0.31331,     0.31431,     0.31532,     0.31632,     0.31732,     0.31832,     0.31932,     0.32032,     0.32132,     0.32232,     0.32332,     0.32432,     0.32533,     0.32633,     0.32733,     0.32833,     0.32933,     0.33033,     0.33133,     0.33233,     0.33333,     0.33433,     0.33534,\n",
       "           0.33634,     0.33734,     0.33834,     0.33934,     0.34034,     0.34134,     0.34234,     0.34334,     0.34434,     0.34535,     0.34635,     0.34735,     0.34835,     0.34935,     0.35035,     0.35135,     0.35235,     0.35335,     0.35435,     0.35536,     0.35636,     0.35736,     0.35836,     0.35936,\n",
       "           0.36036,     0.36136,     0.36236,     0.36336,     0.36436,     0.36537,     0.36637,     0.36737,     0.36837,     0.36937,     0.37037,     0.37137,     0.37237,     0.37337,     0.37437,     0.37538,     0.37638,     0.37738,     0.37838,     0.37938,     0.38038,     0.38138,     0.38238,     0.38338,\n",
       "           0.38438,     0.38539,     0.38639,     0.38739,     0.38839,     0.38939,     0.39039,     0.39139,     0.39239,     0.39339,     0.39439,      0.3954,      0.3964,      0.3974,      0.3984,      0.3994,      0.4004,      0.4014,      0.4024,      0.4034,      0.4044,     0.40541,     0.40641,     0.40741,\n",
       "           0.40841,     0.40941,     0.41041,     0.41141,     0.41241,     0.41341,     0.41441,     0.41542,     0.41642,     0.41742,     0.41842,     0.41942,     0.42042,     0.42142,     0.42242,     0.42342,     0.42442,     0.42543,     0.42643,     0.42743,     0.42843,     0.42943,     0.43043,     0.43143,\n",
       "           0.43243,     0.43343,     0.43443,     0.43544,     0.43644,     0.43744,     0.43844,     0.43944,     0.44044,     0.44144,     0.44244,     0.44344,     0.44444,     0.44545,     0.44645,     0.44745,     0.44845,     0.44945,     0.45045,     0.45145,     0.45245,     0.45345,     0.45445,     0.45546,\n",
       "           0.45646,     0.45746,     0.45846,     0.45946,     0.46046,     0.46146,     0.46246,     0.46346,     0.46446,     0.46547,     0.46647,     0.46747,     0.46847,     0.46947,     0.47047,     0.47147,     0.47247,     0.47347,     0.47447,     0.47548,     0.47648,     0.47748,     0.47848,     0.47948,\n",
       "           0.48048,     0.48148,     0.48248,     0.48348,     0.48448,     0.48549,     0.48649,     0.48749,     0.48849,     0.48949,     0.49049,     0.49149,     0.49249,     0.49349,     0.49449,      0.4955,      0.4965,      0.4975,      0.4985,      0.4995,      0.5005,      0.5015,      0.5025,      0.5035,\n",
       "            0.5045,     0.50551,     0.50651,     0.50751,     0.50851,     0.50951,     0.51051,     0.51151,     0.51251,     0.51351,     0.51451,     0.51552,     0.51652,     0.51752,     0.51852,     0.51952,     0.52052,     0.52152,     0.52252,     0.52352,     0.52452,     0.52553,     0.52653,     0.52753,\n",
       "           0.52853,     0.52953,     0.53053,     0.53153,     0.53253,     0.53353,     0.53453,     0.53554,     0.53654,     0.53754,     0.53854,     0.53954,     0.54054,     0.54154,     0.54254,     0.54354,     0.54454,     0.54555,     0.54655,     0.54755,     0.54855,     0.54955,     0.55055,     0.55155,\n",
       "           0.55255,     0.55355,     0.55455,     0.55556,     0.55656,     0.55756,     0.55856,     0.55956,     0.56056,     0.56156,     0.56256,     0.56356,     0.56456,     0.56557,     0.56657,     0.56757,     0.56857,     0.56957,     0.57057,     0.57157,     0.57257,     0.57357,     0.57457,     0.57558,\n",
       "           0.57658,     0.57758,     0.57858,     0.57958,     0.58058,     0.58158,     0.58258,     0.58358,     0.58458,     0.58559,     0.58659,     0.58759,     0.58859,     0.58959,     0.59059,     0.59159,     0.59259,     0.59359,     0.59459,      0.5956,      0.5966,      0.5976,      0.5986,      0.5996,\n",
       "            0.6006,      0.6016,      0.6026,      0.6036,      0.6046,     0.60561,     0.60661,     0.60761,     0.60861,     0.60961,     0.61061,     0.61161,     0.61261,     0.61361,     0.61461,     0.61562,     0.61662,     0.61762,     0.61862,     0.61962,     0.62062,     0.62162,     0.62262,     0.62362,\n",
       "           0.62462,     0.62563,     0.62663,     0.62763,     0.62863,     0.62963,     0.63063,     0.63163,     0.63263,     0.63363,     0.63463,     0.63564,     0.63664,     0.63764,     0.63864,     0.63964,     0.64064,     0.64164,     0.64264,     0.64364,     0.64464,     0.64565,     0.64665,     0.64765,\n",
       "           0.64865,     0.64965,     0.65065,     0.65165,     0.65265,     0.65365,     0.65465,     0.65566,     0.65666,     0.65766,     0.65866,     0.65966,     0.66066,     0.66166,     0.66266,     0.66366,     0.66466,     0.66567,     0.66667,     0.66767,     0.66867,     0.66967,     0.67067,     0.67167,\n",
       "           0.67267,     0.67367,     0.67467,     0.67568,     0.67668,     0.67768,     0.67868,     0.67968,     0.68068,     0.68168,     0.68268,     0.68368,     0.68468,     0.68569,     0.68669,     0.68769,     0.68869,     0.68969,     0.69069,     0.69169,     0.69269,     0.69369,     0.69469,      0.6957,\n",
       "            0.6967,      0.6977,      0.6987,      0.6997,      0.7007,      0.7017,      0.7027,      0.7037,      0.7047,     0.70571,     0.70671,     0.70771,     0.70871,     0.70971,     0.71071,     0.71171,     0.71271,     0.71371,     0.71471,     0.71572,     0.71672,     0.71772,     0.71872,     0.71972,\n",
       "           0.72072,     0.72172,     0.72272,     0.72372,     0.72472,     0.72573,     0.72673,     0.72773,     0.72873,     0.72973,     0.73073,     0.73173,     0.73273,     0.73373,     0.73473,     0.73574,     0.73674,     0.73774,     0.73874,     0.73974,     0.74074,     0.74174,     0.74274,     0.74374,\n",
       "           0.74474,     0.74575,     0.74675,     0.74775,     0.74875,     0.74975,     0.75075,     0.75175,     0.75275,     0.75375,     0.75475,     0.75576,     0.75676,     0.75776,     0.75876,     0.75976,     0.76076,     0.76176,     0.76276,     0.76376,     0.76476,     0.76577,     0.76677,     0.76777,\n",
       "           0.76877,     0.76977,     0.77077,     0.77177,     0.77277,     0.77377,     0.77477,     0.77578,     0.77678,     0.77778,     0.77878,     0.77978,     0.78078,     0.78178,     0.78278,     0.78378,     0.78478,     0.78579,     0.78679,     0.78779,     0.78879,     0.78979,     0.79079,     0.79179,\n",
       "           0.79279,     0.79379,     0.79479,      0.7958,      0.7968,      0.7978,      0.7988,      0.7998,      0.8008,      0.8018,      0.8028,      0.8038,      0.8048,     0.80581,     0.80681,     0.80781,     0.80881,     0.80981,     0.81081,     0.81181,     0.81281,     0.81381,     0.81481,     0.81582,\n",
       "           0.81682,     0.81782,     0.81882,     0.81982,     0.82082,     0.82182,     0.82282,     0.82382,     0.82482,     0.82583,     0.82683,     0.82783,     0.82883,     0.82983,     0.83083,     0.83183,     0.83283,     0.83383,     0.83483,     0.83584,     0.83684,     0.83784,     0.83884,     0.83984,\n",
       "           0.84084,     0.84184,     0.84284,     0.84384,     0.84484,     0.84585,     0.84685,     0.84785,     0.84885,     0.84985,     0.85085,     0.85185,     0.85285,     0.85385,     0.85485,     0.85586,     0.85686,     0.85786,     0.85886,     0.85986,     0.86086,     0.86186,     0.86286,     0.86386,\n",
       "           0.86486,     0.86587,     0.86687,     0.86787,     0.86887,     0.86987,     0.87087,     0.87187,     0.87287,     0.87387,     0.87487,     0.87588,     0.87688,     0.87788,     0.87888,     0.87988,     0.88088,     0.88188,     0.88288,     0.88388,     0.88488,     0.88589,     0.88689,     0.88789,\n",
       "           0.88889,     0.88989,     0.89089,     0.89189,     0.89289,     0.89389,     0.89489,      0.8959,      0.8969,      0.8979,      0.8989,      0.8999,      0.9009,      0.9019,      0.9029,      0.9039,      0.9049,     0.90591,     0.90691,     0.90791,     0.90891,     0.90991,     0.91091,     0.91191,\n",
       "           0.91291,     0.91391,     0.91491,     0.91592,     0.91692,     0.91792,     0.91892,     0.91992,     0.92092,     0.92192,     0.92292,     0.92392,     0.92492,     0.92593,     0.92693,     0.92793,     0.92893,     0.92993,     0.93093,     0.93193,     0.93293,     0.93393,     0.93493,     0.93594,\n",
       "           0.93694,     0.93794,     0.93894,     0.93994,     0.94094,     0.94194,     0.94294,     0.94394,     0.94494,     0.94595,     0.94695,     0.94795,     0.94895,     0.94995,     0.95095,     0.95195,     0.95295,     0.95395,     0.95495,     0.95596,     0.95696,     0.95796,     0.95896,     0.95996,\n",
       "           0.96096,     0.96196,     0.96296,     0.96396,     0.96496,     0.96597,     0.96697,     0.96797,     0.96897,     0.96997,     0.97097,     0.97197,     0.97297,     0.97397,     0.97497,     0.97598,     0.97698,     0.97798,     0.97898,     0.97998,     0.98098,     0.98198,     0.98298,     0.98398,\n",
       "           0.98498,     0.98599,     0.98699,     0.98799,     0.98899,     0.98999,     0.99099,     0.99199,     0.99299,     0.99399,     0.99499,       0.996,       0.997,       0.998,       0.999,           1]), array([[          1,           1,           1, ...,   0.0050042,           0,           0],\n",
       "       [          1,           1,           1, ...,           0,           0,           0],\n",
       "       [          1,           1,           1, ...,           0,           0,           0],\n",
       "       ...,\n",
       "       [          1,           1,           1, ...,           0,           0,           0],\n",
       "       [          1,           1,           1, ...,           0,           0,           0],\n",
       "       [          1,           1,           1, ...,           0,           0,           0]]), 'Confidence', 'Recall']]\n",
       "fitness: 0.6958325585893186\n",
       "keys: ['metrics/precision(B)', 'metrics/recall(B)', 'metrics/mAP50(B)', 'metrics/mAP50-95(B)']\n",
       "maps: array([    0.68151,     0.75445,     0.54623,     0.81362,     0.89742,     0.64329,     0.45838,     0.77175])\n",
       "names: {0: 'anger', 1: 'contempt', 2: 'disgust', 3: 'fear', 4: 'happy', 5: 'neutral', 6: 'sad', 7: 'surprise'}\n",
       "plot: True\n",
       "results_dict: {'metrics/precision(B)': 0.6039918006151154, 'metrics/recall(B)': 0.6952006384003644, 'metrics/mAP50(B)': 0.6958325585893186, 'metrics/mAP50-95(B)': 0.6958325585893186, 'fitness': 0.6958325585893186}\n",
       "save_dir: WindowsPath('runs/detect/train16')\n",
       "speed: {'preprocess': 0.054586812511843164, 'inference': 2.3602188124641543, 'loss': 0.00011262502994213719, 'postprocess': 0.3435355000056006}\n",
       "task: 'detect'"
      ]
     },
     "execution_count": 106,
     "metadata": {},
     "output_type": "execute_result"
    }
   ],
   "execution_count": 106
  },
  {
   "metadata": {
    "ExecuteTime": {
     "end_time": "2025-05-25T18:03:02.881597Z",
     "start_time": "2025-05-25T01:04:05.705454Z"
    }
   },
   "cell_type": "code",
   "source": [
    "from ultralytics import YOLO\n",
    "\n",
    "model1 = YOLO('yolov8m.pt')\n",
    "\n",
    "model1.train(\n",
    "    data='data/YOLO_subset/data.yaml',\n",
    "    epochs=200,           \n",
    "    batch=8,              \n",
    "    imgsz=96,            \n",
    "    patience=50,          \n",
    "    name='exp_augmented_m',\n",
    "    augment=True,\n",
    "    mosaic=0.5,\n",
    "    mixup=0.2,\n",
    "    hsv_h=0.015,\n",
    "    hsv_s=0.7,\n",
    "    hsv_v=0.4,\n",
    "    flipud=0.2,\n",
    "    fliplr=0.5,\n",
    ")\n"
   ],
   "id": "8191db3a2248eb2e",
   "outputs": [
    {
     "name": "stdout",
     "output_type": "stream",
     "text": [
      "Downloading https://github.com/ultralytics/assets/releases/download/v8.3.0/yolov8m.pt to 'yolov8m.pt'...\n"
     ]
    },
    {
     "name": "stderr",
     "output_type": "stream",
     "text": [
      "100%|██████████| 49.7M/49.7M [00:01<00:00, 43.1MB/s]\n"
     ]
    },
    {
     "name": "stdout",
     "output_type": "stream",
     "text": [
      "Ultralytics 8.3.143  Python-3.10.0 torch-2.7.0+cpu CPU (11th Gen Intel Core(TM) i7-11370H 3.30GHz)\n",
      "\u001B[34m\u001B[1mengine\\trainer: \u001B[0magnostic_nms=False, amp=True, augment=True, auto_augment=randaugment, batch=8, bgr=0.0, box=7.5, cache=False, cfg=None, classes=None, close_mosaic=10, cls=0.5, conf=None, copy_paste=0.0, copy_paste_mode=flip, cos_lr=False, cutmix=0.0, data=data/YOLO_subset/data.yaml, degrees=0.0, deterministic=True, device=cpu, dfl=1.5, dnn=False, dropout=0.0, dynamic=False, embed=None, epochs=200, erasing=0.4, exist_ok=False, fliplr=0.5, flipud=0.2, format=torchscript, fraction=1.0, freeze=None, half=False, hsv_h=0.015, hsv_s=0.7, hsv_v=0.4, imgsz=96, int8=False, iou=0.7, keras=False, kobj=1.0, line_width=None, lr0=0.01, lrf=0.01, mask_ratio=4, max_det=300, mixup=0.2, mode=train, model=yolov8m.pt, momentum=0.937, mosaic=0.5, multi_scale=False, name=exp_augmented_m, nbs=64, nms=False, opset=None, optimize=False, optimizer=auto, overlap_mask=True, patience=50, perspective=0.0, plots=True, pose=12.0, pretrained=True, profile=False, project=None, rect=False, resume=False, retina_masks=False, save=True, save_conf=False, save_crop=False, save_dir=runs\\detect\\exp_augmented_m, save_frames=False, save_json=False, save_period=-1, save_txt=False, scale=0.5, seed=0, shear=0.0, show=False, show_boxes=True, show_conf=True, show_labels=True, simplify=True, single_cls=False, source=None, split=val, stream_buffer=False, task=detect, time=None, tracker=botsort.yaml, translate=0.1, val=True, verbose=True, vid_stride=1, visualize=False, warmup_bias_lr=0.1, warmup_epochs=3.0, warmup_momentum=0.8, weight_decay=0.0005, workers=8, workspace=None\n",
      "Overriding model.yaml nc=80 with nc=8\n",
      "\n",
      "                   from  n    params  module                                       arguments                     \n",
      "  0                  -1  1      1392  ultralytics.nn.modules.conv.Conv             [3, 48, 3, 2]                 \n",
      "  1                  -1  1     41664  ultralytics.nn.modules.conv.Conv             [48, 96, 3, 2]                \n",
      "  2                  -1  2    111360  ultralytics.nn.modules.block.C2f             [96, 96, 2, True]             \n",
      "  3                  -1  1    166272  ultralytics.nn.modules.conv.Conv             [96, 192, 3, 2]               \n",
      "  4                  -1  4    813312  ultralytics.nn.modules.block.C2f             [192, 192, 4, True]           \n",
      "  5                  -1  1    664320  ultralytics.nn.modules.conv.Conv             [192, 384, 3, 2]              \n",
      "  6                  -1  4   3248640  ultralytics.nn.modules.block.C2f             [384, 384, 4, True]           \n",
      "  7                  -1  1   1991808  ultralytics.nn.modules.conv.Conv             [384, 576, 3, 2]              \n",
      "  8                  -1  2   3985920  ultralytics.nn.modules.block.C2f             [576, 576, 2, True]           \n",
      "  9                  -1  1    831168  ultralytics.nn.modules.block.SPPF            [576, 576, 5]                 \n",
      " 10                  -1  1         0  torch.nn.modules.upsampling.Upsample         [None, 2, 'nearest']          \n",
      " 11             [-1, 6]  1         0  ultralytics.nn.modules.conv.Concat           [1]                           \n",
      " 12                  -1  2   1993728  ultralytics.nn.modules.block.C2f             [960, 384, 2]                 \n",
      " 13                  -1  1         0  torch.nn.modules.upsampling.Upsample         [None, 2, 'nearest']          \n",
      " 14             [-1, 4]  1         0  ultralytics.nn.modules.conv.Concat           [1]                           \n",
      " 15                  -1  2    517632  ultralytics.nn.modules.block.C2f             [576, 192, 2]                 \n",
      " 16                  -1  1    332160  ultralytics.nn.modules.conv.Conv             [192, 192, 3, 2]              \n",
      " 17            [-1, 12]  1         0  ultralytics.nn.modules.conv.Concat           [1]                           \n",
      " 18                  -1  2   1846272  ultralytics.nn.modules.block.C2f             [576, 384, 2]                 \n",
      " 19                  -1  1   1327872  ultralytics.nn.modules.conv.Conv             [384, 384, 3, 2]              \n",
      " 20             [-1, 9]  1         0  ultralytics.nn.modules.conv.Concat           [1]                           \n",
      " 21                  -1  2   4207104  ultralytics.nn.modules.block.C2f             [960, 576, 2]                 \n",
      " 22        [15, 18, 21]  1   3780328  ultralytics.nn.modules.head.Detect           [8, [192, 384, 576]]          \n",
      "Model summary: 169 layers, 25,860,952 parameters, 25,860,936 gradients, 79.1 GFLOPs\n",
      "\n",
      "Transferred 469/475 items from pretrained weights\n",
      "Freezing layer 'model.22.dfl.conv.weight'\n",
      "\u001B[34m\u001B[1mtrain: \u001B[0mFast image access  (ping: 0.10.1 ms, read: 93.640.9 MB/s, size: 15.7 KB)\n"
     ]
    },
    {
     "name": "stderr",
     "output_type": "stream",
     "text": [
      "\u001B[34m\u001B[1mtrain: \u001B[0mScanning D:\\Sisteme inteligente\\scientificProject1\\data\\YOLO_subset\\train\\labels.cache... 6400 images, 0 backgrounds, 0 corrupt: 100%|██████████| 6400/6400 [00:00<?, ?it/s]"
     ]
    },
    {
     "name": "stdout",
     "output_type": "stream",
     "text": [
      "\u001B[34m\u001B[1mval: \u001B[0mFast image access  (ping: 0.10.0 ms, read: 104.827.4 MB/s, size: 20.2 KB)\n"
     ]
    },
    {
     "name": "stderr",
     "output_type": "stream",
     "text": [
      "\n",
      "\u001B[34m\u001B[1mval: \u001B[0mScanning D:\\Sisteme inteligente\\scientificProject1\\data\\YOLO_subset\\valid\\labels.cache... 1600 images, 0 backgrounds, 0 corrupt: 100%|██████████| 1600/1600 [00:00<?, ?it/s]"
     ]
    },
    {
     "name": "stdout",
     "output_type": "stream",
     "text": [
      "Plotting labels to runs\\detect\\exp_augmented_m\\labels.jpg... \n"
     ]
    },
    {
     "name": "stderr",
     "output_type": "stream",
     "text": [
      "\n"
     ]
    },
    {
     "name": "stdout",
     "output_type": "stream",
     "text": [
      "\u001B[34m\u001B[1moptimizer:\u001B[0m 'optimizer=auto' found, ignoring 'lr0=0.01' and 'momentum=0.937' and determining best 'optimizer', 'lr0' and 'momentum' automatically... \n",
      "\u001B[34m\u001B[1moptimizer:\u001B[0m SGD(lr=0.01, momentum=0.9) with parameter groups 77 weight(decay=0.0), 84 weight(decay=0.0005), 83 bias(decay=0.0)\n",
      "Image sizes 96 train, 96 val\n",
      "Using 0 dataloader workers\n",
      "Logging results to \u001B[1mruns\\detect\\exp_augmented_m\u001B[0m\n",
      "Starting training for 200 epochs...\n",
      "\n",
      "      Epoch    GPU_mem   box_loss   cls_loss   dfl_loss  Instances       Size\n"
     ]
    },
    {
     "name": "stderr",
     "output_type": "stream",
     "text": [
      "      1/200         0G     0.6353      2.444      1.176         20         96: 100%|██████████| 800/800 [05:10<00:00,  2.58it/s]\n",
      "                 Class     Images  Instances      Box(P          R      mAP50  mAP50-95): 100%|██████████| 100/100 [00:27<00:00,  3.65it/s]"
     ]
    },
    {
     "name": "stdout",
     "output_type": "stream",
     "text": [
      "                   all       1600       1600      0.136      0.947      0.202      0.202\n"
     ]
    },
    {
     "name": "stderr",
     "output_type": "stream",
     "text": [
      "\n"
     ]
    },
    {
     "name": "stdout",
     "output_type": "stream",
     "text": [
      "\n",
      "      Epoch    GPU_mem   box_loss   cls_loss   dfl_loss  Instances       Size\n"
     ]
    },
    {
     "name": "stderr",
     "output_type": "stream",
     "text": [
      "      2/200         0G     0.3587      1.779     0.9885         22         96: 100%|██████████| 800/800 [04:21<00:00,  3.06it/s]\n",
      "                 Class     Images  Instances      Box(P          R      mAP50  mAP50-95): 100%|██████████| 100/100 [00:24<00:00,  4.10it/s]"
     ]
    },
    {
     "name": "stdout",
     "output_type": "stream",
     "text": [
      "                   all       1600       1600      0.204      0.732      0.309      0.308\n"
     ]
    },
    {
     "name": "stderr",
     "output_type": "stream",
     "text": [
      "\n"
     ]
    },
    {
     "name": "stdout",
     "output_type": "stream",
     "text": [
      "\n",
      "      Epoch    GPU_mem   box_loss   cls_loss   dfl_loss  Instances       Size\n"
     ]
    },
    {
     "name": "stderr",
     "output_type": "stream",
     "text": [
      "      3/200         0G     0.4178      1.743      1.007         22         96: 100%|██████████| 800/800 [04:26<00:00,  3.00it/s]\n",
      "                 Class     Images  Instances      Box(P          R      mAP50  mAP50-95): 100%|██████████| 100/100 [00:27<00:00,  3.69it/s]"
     ]
    },
    {
     "name": "stdout",
     "output_type": "stream",
     "text": [
      "                   all       1600       1600      0.457      0.498      0.308       0.29\n"
     ]
    },
    {
     "name": "stderr",
     "output_type": "stream",
     "text": [
      "\n"
     ]
    },
    {
     "name": "stdout",
     "output_type": "stream",
     "text": [
      "\n",
      "      Epoch    GPU_mem   box_loss   cls_loss   dfl_loss  Instances       Size\n"
     ]
    },
    {
     "name": "stderr",
     "output_type": "stream",
     "text": [
      "      4/200         0G     0.4328      1.739      1.016         17         96: 100%|██████████| 800/800 [04:25<00:00,  3.01it/s]\n",
      "                 Class     Images  Instances      Box(P          R      mAP50  mAP50-95): 100%|██████████| 100/100 [00:26<00:00,  3.81it/s]"
     ]
    },
    {
     "name": "stdout",
     "output_type": "stream",
     "text": [
      "                   all       1600       1600      0.243      0.708      0.313      0.312\n"
     ]
    },
    {
     "name": "stderr",
     "output_type": "stream",
     "text": [
      "\n"
     ]
    },
    {
     "name": "stdout",
     "output_type": "stream",
     "text": [
      "\n",
      "      Epoch    GPU_mem   box_loss   cls_loss   dfl_loss  Instances       Size\n"
     ]
    },
    {
     "name": "stderr",
     "output_type": "stream",
     "text": [
      "      5/200         0G     0.4016      1.703      1.007         21         96: 100%|██████████| 800/800 [04:25<00:00,  3.01it/s]\n",
      "                 Class     Images  Instances      Box(P          R      mAP50  mAP50-95): 100%|██████████| 100/100 [00:26<00:00,  3.74it/s]"
     ]
    },
    {
     "name": "stdout",
     "output_type": "stream",
     "text": [
      "                   all       1600       1600      0.231      0.664      0.333      0.332\n"
     ]
    },
    {
     "name": "stderr",
     "output_type": "stream",
     "text": [
      "\n"
     ]
    },
    {
     "name": "stdout",
     "output_type": "stream",
     "text": [
      "\n",
      "      Epoch    GPU_mem   box_loss   cls_loss   dfl_loss  Instances       Size\n"
     ]
    },
    {
     "name": "stderr",
     "output_type": "stream",
     "text": [
      "      6/200         0G     0.3696       1.67     0.9979         18         96: 100%|██████████| 800/800 [04:28<00:00,  2.98it/s]\n",
      "                 Class     Images  Instances      Box(P          R      mAP50  mAP50-95): 100%|██████████| 100/100 [00:27<00:00,  3.69it/s]"
     ]
    },
    {
     "name": "stdout",
     "output_type": "stream",
     "text": [
      "                   all       1600       1600      0.249      0.639      0.378      0.378\n"
     ]
    },
    {
     "name": "stderr",
     "output_type": "stream",
     "text": [
      "\n"
     ]
    },
    {
     "name": "stdout",
     "output_type": "stream",
     "text": [
      "\n",
      "      Epoch    GPU_mem   box_loss   cls_loss   dfl_loss  Instances       Size\n"
     ]
    },
    {
     "name": "stderr",
     "output_type": "stream",
     "text": [
      "      7/200         0G     0.3392      1.642     0.9785         16         96: 100%|██████████| 800/800 [04:26<00:00,  3.00it/s]\n",
      "                 Class     Images  Instances      Box(P          R      mAP50  mAP50-95): 100%|██████████| 100/100 [00:27<00:00,  3.70it/s]"
     ]
    },
    {
     "name": "stdout",
     "output_type": "stream",
     "text": [
      "                   all       1600       1600      0.321      0.614      0.384      0.382\n"
     ]
    },
    {
     "name": "stderr",
     "output_type": "stream",
     "text": [
      "\n"
     ]
    },
    {
     "name": "stdout",
     "output_type": "stream",
     "text": [
      "\n",
      "      Epoch    GPU_mem   box_loss   cls_loss   dfl_loss  Instances       Size\n"
     ]
    },
    {
     "name": "stderr",
     "output_type": "stream",
     "text": [
      "      8/200         0G     0.3208      1.621     0.9749         16         96: 100%|██████████| 800/800 [04:24<00:00,  3.02it/s]\n",
      "                 Class     Images  Instances      Box(P          R      mAP50  mAP50-95): 100%|██████████| 100/100 [00:27<00:00,  3.65it/s]"
     ]
    },
    {
     "name": "stdout",
     "output_type": "stream",
     "text": [
      "                   all       1600       1600       0.26      0.676       0.33      0.328\n"
     ]
    },
    {
     "name": "stderr",
     "output_type": "stream",
     "text": [
      "\n"
     ]
    },
    {
     "name": "stdout",
     "output_type": "stream",
     "text": [
      "\n",
      "      Epoch    GPU_mem   box_loss   cls_loss   dfl_loss  Instances       Size\n"
     ]
    },
    {
     "name": "stderr",
     "output_type": "stream",
     "text": [
      "      9/200         0G     0.2985      1.602     0.9657         17         96: 100%|██████████| 800/800 [04:25<00:00,  3.01it/s]\n",
      "                 Class     Images  Instances      Box(P          R      mAP50  mAP50-95): 100%|██████████| 100/100 [00:26<00:00,  3.75it/s]"
     ]
    },
    {
     "name": "stdout",
     "output_type": "stream",
     "text": [
      "                   all       1600       1600      0.339      0.644       0.41      0.407\n"
     ]
    },
    {
     "name": "stderr",
     "output_type": "stream",
     "text": [
      "\n"
     ]
    },
    {
     "name": "stdout",
     "output_type": "stream",
     "text": [
      "\n",
      "      Epoch    GPU_mem   box_loss   cls_loss   dfl_loss  Instances       Size\n"
     ]
    },
    {
     "name": "stderr",
     "output_type": "stream",
     "text": [
      "     10/200         0G     0.2873      1.597     0.9602         16         96: 100%|██████████| 800/800 [04:29<00:00,  2.97it/s]\n",
      "                 Class     Images  Instances      Box(P          R      mAP50  mAP50-95): 100%|██████████| 100/100 [00:28<00:00,  3.48it/s]"
     ]
    },
    {
     "name": "stdout",
     "output_type": "stream",
     "text": [
      "                   all       1600       1600      0.273      0.668      0.408      0.404\n"
     ]
    },
    {
     "name": "stderr",
     "output_type": "stream",
     "text": [
      "\n"
     ]
    },
    {
     "name": "stdout",
     "output_type": "stream",
     "text": [
      "\n",
      "      Epoch    GPU_mem   box_loss   cls_loss   dfl_loss  Instances       Size\n"
     ]
    },
    {
     "name": "stderr",
     "output_type": "stream",
     "text": [
      "     11/200         0G     0.2802      1.575     0.9575         23         96: 100%|██████████| 800/800 [04:26<00:00,  3.01it/s]\n",
      "                 Class     Images  Instances      Box(P          R      mAP50  mAP50-95): 100%|██████████| 100/100 [00:26<00:00,  3.76it/s]"
     ]
    },
    {
     "name": "stdout",
     "output_type": "stream",
     "text": [
      "                   all       1600       1600      0.329      0.675      0.432      0.429\n"
     ]
    },
    {
     "name": "stderr",
     "output_type": "stream",
     "text": [
      "\n"
     ]
    },
    {
     "name": "stdout",
     "output_type": "stream",
     "text": [
      "\n",
      "      Epoch    GPU_mem   box_loss   cls_loss   dfl_loss  Instances       Size\n"
     ]
    },
    {
     "name": "stderr",
     "output_type": "stream",
     "text": [
      "     12/200         0G     0.2673      1.557     0.9542         21         96: 100%|██████████| 800/800 [04:25<00:00,  3.01it/s]\n",
      "                 Class     Images  Instances      Box(P          R      mAP50  mAP50-95): 100%|██████████| 100/100 [00:27<00:00,  3.69it/s]"
     ]
    },
    {
     "name": "stdout",
     "output_type": "stream",
     "text": [
      "                   all       1600       1600      0.352      0.642       0.44       0.44\n"
     ]
    },
    {
     "name": "stderr",
     "output_type": "stream",
     "text": [
      "\n"
     ]
    },
    {
     "name": "stdout",
     "output_type": "stream",
     "text": [
      "\n",
      "      Epoch    GPU_mem   box_loss   cls_loss   dfl_loss  Instances       Size\n"
     ]
    },
    {
     "name": "stderr",
     "output_type": "stream",
     "text": [
      "     13/200         0G     0.2597      1.549      0.955         23         96: 100%|██████████| 800/800 [04:27<00:00,  2.99it/s]\n",
      "                 Class     Images  Instances      Box(P          R      mAP50  mAP50-95): 100%|██████████| 100/100 [00:26<00:00,  3.73it/s]"
     ]
    },
    {
     "name": "stdout",
     "output_type": "stream",
     "text": [
      "                   all       1600       1600      0.344      0.657      0.453      0.452\n"
     ]
    },
    {
     "name": "stderr",
     "output_type": "stream",
     "text": [
      "\n"
     ]
    },
    {
     "name": "stdout",
     "output_type": "stream",
     "text": [
      "\n",
      "      Epoch    GPU_mem   box_loss   cls_loss   dfl_loss  Instances       Size\n"
     ]
    },
    {
     "name": "stderr",
     "output_type": "stream",
     "text": [
      "     14/200         0G     0.2509      1.538     0.9467         21         96: 100%|██████████| 800/800 [04:26<00:00,  3.00it/s]\n",
      "                 Class     Images  Instances      Box(P          R      mAP50  mAP50-95): 100%|██████████| 100/100 [00:27<00:00,  3.59it/s]"
     ]
    },
    {
     "name": "stdout",
     "output_type": "stream",
     "text": [
      "                   all       1600       1600      0.323      0.661       0.47      0.469\n"
     ]
    },
    {
     "name": "stderr",
     "output_type": "stream",
     "text": [
      "\n"
     ]
    },
    {
     "name": "stdout",
     "output_type": "stream",
     "text": [
      "\n",
      "      Epoch    GPU_mem   box_loss   cls_loss   dfl_loss  Instances       Size\n"
     ]
    },
    {
     "name": "stderr",
     "output_type": "stream",
     "text": [
      "     15/200         0G     0.2452      1.526     0.9481         19         96: 100%|██████████| 800/800 [04:26<00:00,  3.00it/s]\n",
      "                 Class     Images  Instances      Box(P          R      mAP50  mAP50-95): 100%|██████████| 100/100 [00:26<00:00,  3.72it/s]"
     ]
    },
    {
     "name": "stdout",
     "output_type": "stream",
     "text": [
      "                   all       1600       1600      0.351      0.679      0.467      0.462\n"
     ]
    },
    {
     "name": "stderr",
     "output_type": "stream",
     "text": [
      "\n"
     ]
    },
    {
     "name": "stdout",
     "output_type": "stream",
     "text": [
      "\n",
      "      Epoch    GPU_mem   box_loss   cls_loss   dfl_loss  Instances       Size\n"
     ]
    },
    {
     "name": "stderr",
     "output_type": "stream",
     "text": [
      "     16/200         0G     0.2395      1.517     0.9457         34         96: 100%|██████████| 800/800 [04:26<00:00,  3.00it/s]\n",
      "                 Class     Images  Instances      Box(P          R      mAP50  mAP50-95): 100%|██████████| 100/100 [00:27<00:00,  3.61it/s]"
     ]
    },
    {
     "name": "stdout",
     "output_type": "stream",
     "text": [
      "                   all       1600       1600      0.498      0.611      0.484      0.484\n"
     ]
    },
    {
     "name": "stderr",
     "output_type": "stream",
     "text": [
      "\n"
     ]
    },
    {
     "name": "stdout",
     "output_type": "stream",
     "text": [
      "\n",
      "      Epoch    GPU_mem   box_loss   cls_loss   dfl_loss  Instances       Size\n"
     ]
    },
    {
     "name": "stderr",
     "output_type": "stream",
     "text": [
      "     17/200         0G     0.2296      1.514     0.9396         20         96: 100%|██████████| 800/800 [04:24<00:00,  3.02it/s]\n",
      "                 Class     Images  Instances      Box(P          R      mAP50  mAP50-95): 100%|██████████| 100/100 [00:26<00:00,  3.73it/s]"
     ]
    },
    {
     "name": "stdout",
     "output_type": "stream",
     "text": [
      "                   all       1600       1600      0.396      0.665      0.499      0.497\n"
     ]
    },
    {
     "name": "stderr",
     "output_type": "stream",
     "text": [
      "\n"
     ]
    },
    {
     "name": "stdout",
     "output_type": "stream",
     "text": [
      "\n",
      "      Epoch    GPU_mem   box_loss   cls_loss   dfl_loss  Instances       Size\n"
     ]
    },
    {
     "name": "stderr",
     "output_type": "stream",
     "text": [
      "     18/200         0G     0.2296      1.506     0.9429         19         96: 100%|██████████| 800/800 [04:24<00:00,  3.02it/s]\n",
      "                 Class     Images  Instances      Box(P          R      mAP50  mAP50-95): 100%|██████████| 100/100 [00:26<00:00,  3.72it/s]"
     ]
    },
    {
     "name": "stdout",
     "output_type": "stream",
     "text": [
      "                   all       1600       1600      0.401      0.661      0.484      0.483\n"
     ]
    },
    {
     "name": "stderr",
     "output_type": "stream",
     "text": [
      "\n"
     ]
    },
    {
     "name": "stdout",
     "output_type": "stream",
     "text": [
      "\n",
      "      Epoch    GPU_mem   box_loss   cls_loss   dfl_loss  Instances       Size\n"
     ]
    },
    {
     "name": "stderr",
     "output_type": "stream",
     "text": [
      "     19/200         0G      0.226      1.501     0.9412          9         96: 100%|██████████| 800/800 [04:13<00:00,  3.16it/s]\n",
      "                 Class     Images  Instances      Box(P          R      mAP50  mAP50-95): 100%|██████████| 100/100 [00:24<00:00,  4.11it/s]"
     ]
    },
    {
     "name": "stdout",
     "output_type": "stream",
     "text": [
      "                   all       1600       1600      0.364      0.666      0.493      0.489\n"
     ]
    },
    {
     "name": "stderr",
     "output_type": "stream",
     "text": [
      "\n"
     ]
    },
    {
     "name": "stdout",
     "output_type": "stream",
     "text": [
      "\n",
      "      Epoch    GPU_mem   box_loss   cls_loss   dfl_loss  Instances       Size\n"
     ]
    },
    {
     "name": "stderr",
     "output_type": "stream",
     "text": [
      "     20/200         0G     0.2179      1.483     0.9374         19         96: 100%|██████████| 800/800 [04:22<00:00,  3.04it/s]\n",
      "                 Class     Images  Instances      Box(P          R      mAP50  mAP50-95): 100%|██████████| 100/100 [00:26<00:00,  3.71it/s]"
     ]
    },
    {
     "name": "stdout",
     "output_type": "stream",
     "text": [
      "                   all       1600       1600      0.401      0.689      0.505      0.504\n"
     ]
    },
    {
     "name": "stderr",
     "output_type": "stream",
     "text": [
      "\n"
     ]
    },
    {
     "name": "stdout",
     "output_type": "stream",
     "text": [
      "\n",
      "      Epoch    GPU_mem   box_loss   cls_loss   dfl_loss  Instances       Size\n"
     ]
    },
    {
     "name": "stderr",
     "output_type": "stream",
     "text": [
      "     21/200         0G     0.2136      1.476      0.939         24         96: 100%|██████████| 800/800 [04:28<00:00,  2.98it/s]\n",
      "                 Class     Images  Instances      Box(P          R      mAP50  mAP50-95): 100%|██████████| 100/100 [00:26<00:00,  3.76it/s]"
     ]
    },
    {
     "name": "stdout",
     "output_type": "stream",
     "text": [
      "                   all       1600       1600       0.41      0.667      0.531       0.53\n"
     ]
    },
    {
     "name": "stderr",
     "output_type": "stream",
     "text": [
      "\n"
     ]
    },
    {
     "name": "stdout",
     "output_type": "stream",
     "text": [
      "\n",
      "      Epoch    GPU_mem   box_loss   cls_loss   dfl_loss  Instances       Size\n"
     ]
    },
    {
     "name": "stderr",
     "output_type": "stream",
     "text": [
      "     22/200         0G     0.2073      1.462     0.9359         17         96: 100%|██████████| 800/800 [04:27<00:00,  2.99it/s]\n",
      "                 Class     Images  Instances      Box(P          R      mAP50  mAP50-95): 100%|██████████| 100/100 [00:26<00:00,  3.73it/s]"
     ]
    },
    {
     "name": "stdout",
     "output_type": "stream",
     "text": [
      "                   all       1600       1600      0.418      0.685      0.524      0.523\n"
     ]
    },
    {
     "name": "stderr",
     "output_type": "stream",
     "text": [
      "\n"
     ]
    },
    {
     "name": "stdout",
     "output_type": "stream",
     "text": [
      "\n",
      "      Epoch    GPU_mem   box_loss   cls_loss   dfl_loss  Instances       Size\n"
     ]
    },
    {
     "name": "stderr",
     "output_type": "stream",
     "text": [
      "     23/200         0G     0.2022      1.463     0.9327         12         96: 100%|██████████| 800/800 [04:27<00:00,  2.99it/s]\n",
      "                 Class     Images  Instances      Box(P          R      mAP50  mAP50-95): 100%|██████████| 100/100 [00:26<00:00,  3.77it/s]"
     ]
    },
    {
     "name": "stdout",
     "output_type": "stream",
     "text": [
      "                   all       1600       1600      0.435      0.704      0.549      0.547\n"
     ]
    },
    {
     "name": "stderr",
     "output_type": "stream",
     "text": [
      "\n"
     ]
    },
    {
     "name": "stdout",
     "output_type": "stream",
     "text": [
      "\n",
      "      Epoch    GPU_mem   box_loss   cls_loss   dfl_loss  Instances       Size\n"
     ]
    },
    {
     "name": "stderr",
     "output_type": "stream",
     "text": [
      "     24/200         0G     0.2005      1.455     0.9333         20         96: 100%|██████████| 800/800 [04:23<00:00,  3.03it/s]\n",
      "                 Class     Images  Instances      Box(P          R      mAP50  mAP50-95): 100%|██████████| 100/100 [00:26<00:00,  3.72it/s]"
     ]
    },
    {
     "name": "stdout",
     "output_type": "stream",
     "text": [
      "                   all       1600       1600      0.468      0.649      0.564       0.56\n"
     ]
    },
    {
     "name": "stderr",
     "output_type": "stream",
     "text": [
      "\n"
     ]
    },
    {
     "name": "stdout",
     "output_type": "stream",
     "text": [
      "\n",
      "      Epoch    GPU_mem   box_loss   cls_loss   dfl_loss  Instances       Size\n"
     ]
    },
    {
     "name": "stderr",
     "output_type": "stream",
     "text": [
      "     25/200         0G     0.2052      1.451      0.935         10         96: 100%|██████████| 800/800 [04:28<00:00,  2.98it/s]\n",
      "                 Class     Images  Instances      Box(P          R      mAP50  mAP50-95): 100%|██████████| 100/100 [00:26<00:00,  3.71it/s]"
     ]
    },
    {
     "name": "stdout",
     "output_type": "stream",
     "text": [
      "                   all       1600       1600      0.438      0.697      0.542      0.539\n"
     ]
    },
    {
     "name": "stderr",
     "output_type": "stream",
     "text": [
      "\n"
     ]
    },
    {
     "name": "stdout",
     "output_type": "stream",
     "text": [
      "\n",
      "      Epoch    GPU_mem   box_loss   cls_loss   dfl_loss  Instances       Size\n"
     ]
    },
    {
     "name": "stderr",
     "output_type": "stream",
     "text": [
      "     26/200         0G     0.1956      1.445     0.9311         22         96: 100%|██████████| 800/800 [04:27<00:00,  2.99it/s]\n",
      "                 Class     Images  Instances      Box(P          R      mAP50  mAP50-95): 100%|██████████| 100/100 [00:26<00:00,  3.72it/s]"
     ]
    },
    {
     "name": "stdout",
     "output_type": "stream",
     "text": [
      "                   all       1600       1600      0.419      0.691      0.549      0.548\n"
     ]
    },
    {
     "name": "stderr",
     "output_type": "stream",
     "text": [
      "\n"
     ]
    },
    {
     "name": "stdout",
     "output_type": "stream",
     "text": [
      "\n",
      "      Epoch    GPU_mem   box_loss   cls_loss   dfl_loss  Instances       Size\n"
     ]
    },
    {
     "name": "stderr",
     "output_type": "stream",
     "text": [
      "     27/200         0G     0.1917      1.437     0.9268         19         96: 100%|██████████| 800/800 [04:24<00:00,  3.02it/s]\n",
      "                 Class     Images  Instances      Box(P          R      mAP50  mAP50-95): 100%|██████████| 100/100 [00:27<00:00,  3.69it/s]"
     ]
    },
    {
     "name": "stdout",
     "output_type": "stream",
     "text": [
      "                   all       1600       1600      0.419      0.729      0.541       0.54\n"
     ]
    },
    {
     "name": "stderr",
     "output_type": "stream",
     "text": [
      "\n"
     ]
    },
    {
     "name": "stdout",
     "output_type": "stream",
     "text": [
      "\n",
      "      Epoch    GPU_mem   box_loss   cls_loss   dfl_loss  Instances       Size\n"
     ]
    },
    {
     "name": "stderr",
     "output_type": "stream",
     "text": [
      "     28/200         0G      0.191      1.436     0.9275         22         96: 100%|██████████| 800/800 [04:26<00:00,  3.01it/s]\n",
      "                 Class     Images  Instances      Box(P          R      mAP50  mAP50-95): 100%|██████████| 100/100 [00:26<00:00,  3.71it/s]"
     ]
    },
    {
     "name": "stdout",
     "output_type": "stream",
     "text": [
      "                   all       1600       1600      0.452      0.679      0.569      0.569\n"
     ]
    },
    {
     "name": "stderr",
     "output_type": "stream",
     "text": [
      "\n"
     ]
    },
    {
     "name": "stdout",
     "output_type": "stream",
     "text": [
      "\n",
      "      Epoch    GPU_mem   box_loss   cls_loss   dfl_loss  Instances       Size\n"
     ]
    },
    {
     "name": "stderr",
     "output_type": "stream",
     "text": [
      "     29/200         0G     0.1902      1.423     0.9286         28         96: 100%|██████████| 800/800 [04:26<00:00,  3.01it/s]\n",
      "                 Class     Images  Instances      Box(P          R      mAP50  mAP50-95): 100%|██████████| 100/100 [00:27<00:00,  3.70it/s]"
     ]
    },
    {
     "name": "stdout",
     "output_type": "stream",
     "text": [
      "                   all       1600       1600      0.429      0.671       0.54       0.54\n"
     ]
    },
    {
     "name": "stderr",
     "output_type": "stream",
     "text": [
      "\n"
     ]
    },
    {
     "name": "stdout",
     "output_type": "stream",
     "text": [
      "\n",
      "      Epoch    GPU_mem   box_loss   cls_loss   dfl_loss  Instances       Size\n"
     ]
    },
    {
     "name": "stderr",
     "output_type": "stream",
     "text": [
      "     30/200         0G      0.186       1.42      0.927         24         96: 100%|██████████| 800/800 [04:25<00:00,  3.02it/s]\n",
      "                 Class     Images  Instances      Box(P          R      mAP50  mAP50-95): 100%|██████████| 100/100 [00:27<00:00,  3.65it/s]"
     ]
    },
    {
     "name": "stdout",
     "output_type": "stream",
     "text": [
      "                   all       1600       1600      0.495       0.66      0.603      0.602\n"
     ]
    },
    {
     "name": "stderr",
     "output_type": "stream",
     "text": [
      "\n"
     ]
    },
    {
     "name": "stdout",
     "output_type": "stream",
     "text": [
      "\n",
      "      Epoch    GPU_mem   box_loss   cls_loss   dfl_loss  Instances       Size\n"
     ]
    },
    {
     "name": "stderr",
     "output_type": "stream",
     "text": [
      "     31/200         0G     0.1834      1.419     0.9277         14         96: 100%|██████████| 800/800 [04:24<00:00,  3.02it/s]\n",
      "                 Class     Images  Instances      Box(P          R      mAP50  mAP50-95): 100%|██████████| 100/100 [00:26<00:00,  3.77it/s]"
     ]
    },
    {
     "name": "stdout",
     "output_type": "stream",
     "text": [
      "                   all       1600       1600      0.458      0.695      0.596      0.594\n"
     ]
    },
    {
     "name": "stderr",
     "output_type": "stream",
     "text": [
      "\n"
     ]
    },
    {
     "name": "stdout",
     "output_type": "stream",
     "text": [
      "\n",
      "      Epoch    GPU_mem   box_loss   cls_loss   dfl_loss  Instances       Size\n"
     ]
    },
    {
     "name": "stderr",
     "output_type": "stream",
     "text": [
      "     32/200         0G     0.1813      1.408     0.9265         24         96: 100%|██████████| 800/800 [04:23<00:00,  3.03it/s]\n",
      "                 Class     Images  Instances      Box(P          R      mAP50  mAP50-95): 100%|██████████| 100/100 [00:26<00:00,  3.71it/s]"
     ]
    },
    {
     "name": "stdout",
     "output_type": "stream",
     "text": [
      "                   all       1600       1600      0.479      0.691      0.602      0.595\n"
     ]
    },
    {
     "name": "stderr",
     "output_type": "stream",
     "text": [
      "\n"
     ]
    },
    {
     "name": "stdout",
     "output_type": "stream",
     "text": [
      "\n",
      "      Epoch    GPU_mem   box_loss   cls_loss   dfl_loss  Instances       Size\n"
     ]
    },
    {
     "name": "stderr",
     "output_type": "stream",
     "text": [
      "     33/200         0G     0.1796      1.408     0.9234         22         96: 100%|██████████| 800/800 [04:25<00:00,  3.01it/s]\n",
      "                 Class     Images  Instances      Box(P          R      mAP50  mAP50-95): 100%|██████████| 100/100 [00:26<00:00,  3.74it/s]"
     ]
    },
    {
     "name": "stdout",
     "output_type": "stream",
     "text": [
      "                   all       1600       1600      0.485      0.663      0.584      0.584\n"
     ]
    },
    {
     "name": "stderr",
     "output_type": "stream",
     "text": [
      "\n"
     ]
    },
    {
     "name": "stdout",
     "output_type": "stream",
     "text": [
      "\n",
      "      Epoch    GPU_mem   box_loss   cls_loss   dfl_loss  Instances       Size\n"
     ]
    },
    {
     "name": "stderr",
     "output_type": "stream",
     "text": [
      "     34/200         0G     0.1797      1.402     0.9264         17         96: 100%|██████████| 800/800 [04:34<00:00,  2.91it/s]\n",
      "                 Class     Images  Instances      Box(P          R      mAP50  mAP50-95): 100%|██████████| 100/100 [00:26<00:00,  3.73it/s]"
     ]
    },
    {
     "name": "stdout",
     "output_type": "stream",
     "text": [
      "                   all       1600       1600      0.515      0.675      0.606      0.605\n"
     ]
    },
    {
     "name": "stderr",
     "output_type": "stream",
     "text": [
      "\n"
     ]
    },
    {
     "name": "stdout",
     "output_type": "stream",
     "text": [
      "\n",
      "      Epoch    GPU_mem   box_loss   cls_loss   dfl_loss  Instances       Size\n"
     ]
    },
    {
     "name": "stderr",
     "output_type": "stream",
     "text": [
      "     35/200         0G     0.1767      1.396     0.9286         24         96: 100%|██████████| 800/800 [04:31<00:00,  2.94it/s]\n",
      "                 Class     Images  Instances      Box(P          R      mAP50  mAP50-95): 100%|██████████| 100/100 [00:27<00:00,  3.64it/s]"
     ]
    },
    {
     "name": "stdout",
     "output_type": "stream",
     "text": [
      "                   all       1600       1600      0.489      0.715       0.63       0.63\n"
     ]
    },
    {
     "name": "stderr",
     "output_type": "stream",
     "text": [
      "\n"
     ]
    },
    {
     "name": "stdout",
     "output_type": "stream",
     "text": [
      "\n",
      "      Epoch    GPU_mem   box_loss   cls_loss   dfl_loss  Instances       Size\n"
     ]
    },
    {
     "name": "stderr",
     "output_type": "stream",
     "text": [
      "     36/200         0G     0.1802      1.398     0.9251         22         96: 100%|██████████| 800/800 [04:24<00:00,  3.03it/s]\n",
      "                 Class     Images  Instances      Box(P          R      mAP50  mAP50-95): 100%|██████████| 100/100 [00:26<00:00,  3.71it/s]"
     ]
    },
    {
     "name": "stdout",
     "output_type": "stream",
     "text": [
      "                   all       1600       1600      0.474      0.684       0.58      0.579\n"
     ]
    },
    {
     "name": "stderr",
     "output_type": "stream",
     "text": [
      "\n"
     ]
    },
    {
     "name": "stdout",
     "output_type": "stream",
     "text": [
      "\n",
      "      Epoch    GPU_mem   box_loss   cls_loss   dfl_loss  Instances       Size\n"
     ]
    },
    {
     "name": "stderr",
     "output_type": "stream",
     "text": [
      "     37/200         0G     0.1728      1.391     0.9202         25         96: 100%|██████████| 800/800 [04:27<00:00,  3.00it/s]\n",
      "                 Class     Images  Instances      Box(P          R      mAP50  mAP50-95): 100%|██████████| 100/100 [00:27<00:00,  3.64it/s]"
     ]
    },
    {
     "name": "stdout",
     "output_type": "stream",
     "text": [
      "                   all       1600       1600      0.527      0.667      0.623      0.622\n"
     ]
    },
    {
     "name": "stderr",
     "output_type": "stream",
     "text": [
      "\n"
     ]
    },
    {
     "name": "stdout",
     "output_type": "stream",
     "text": [
      "\n",
      "      Epoch    GPU_mem   box_loss   cls_loss   dfl_loss  Instances       Size\n"
     ]
    },
    {
     "name": "stderr",
     "output_type": "stream",
     "text": [
      "     38/200         0G     0.1705      1.382     0.9225         17         96: 100%|██████████| 800/800 [04:25<00:00,  3.01it/s]\n",
      "                 Class     Images  Instances      Box(P          R      mAP50  mAP50-95): 100%|██████████| 100/100 [00:27<00:00,  3.62it/s]"
     ]
    },
    {
     "name": "stdout",
     "output_type": "stream",
     "text": [
      "                   all       1600       1600      0.506      0.663        0.6      0.599\n"
     ]
    },
    {
     "name": "stderr",
     "output_type": "stream",
     "text": [
      "\n"
     ]
    },
    {
     "name": "stdout",
     "output_type": "stream",
     "text": [
      "\n",
      "      Epoch    GPU_mem   box_loss   cls_loss   dfl_loss  Instances       Size\n"
     ]
    },
    {
     "name": "stderr",
     "output_type": "stream",
     "text": [
      "     39/200         0G     0.1706      1.388     0.9214         16         96: 100%|██████████| 800/800 [04:18<00:00,  3.10it/s]\n",
      "                 Class     Images  Instances      Box(P          R      mAP50  mAP50-95): 100%|██████████| 100/100 [00:24<00:00,  4.12it/s]"
     ]
    },
    {
     "name": "stdout",
     "output_type": "stream",
     "text": [
      "                   all       1600       1600      0.545      0.691      0.637      0.636\n"
     ]
    },
    {
     "name": "stderr",
     "output_type": "stream",
     "text": [
      "\n"
     ]
    },
    {
     "name": "stdout",
     "output_type": "stream",
     "text": [
      "\n",
      "      Epoch    GPU_mem   box_loss   cls_loss   dfl_loss  Instances       Size\n"
     ]
    },
    {
     "name": "stderr",
     "output_type": "stream",
     "text": [
      "     40/200         0G     0.1714      1.387     0.9226         20         96: 100%|██████████| 800/800 [04:26<00:00,  3.00it/s]\n",
      "                 Class     Images  Instances      Box(P          R      mAP50  mAP50-95): 100%|██████████| 100/100 [00:26<00:00,  3.73it/s]"
     ]
    },
    {
     "name": "stdout",
     "output_type": "stream",
     "text": [
      "                   all       1600       1600      0.489      0.737      0.649      0.648\n"
     ]
    },
    {
     "name": "stderr",
     "output_type": "stream",
     "text": [
      "\n"
     ]
    },
    {
     "name": "stdout",
     "output_type": "stream",
     "text": [
      "\n",
      "      Epoch    GPU_mem   box_loss   cls_loss   dfl_loss  Instances       Size\n"
     ]
    },
    {
     "name": "stderr",
     "output_type": "stream",
     "text": [
      "     41/200         0G     0.1702      1.364     0.9222         13         96: 100%|██████████| 800/800 [04:27<00:00,  2.99it/s]\n",
      "                 Class     Images  Instances      Box(P          R      mAP50  mAP50-95): 100%|██████████| 100/100 [00:26<00:00,  3.72it/s]"
     ]
    },
    {
     "name": "stdout",
     "output_type": "stream",
     "text": [
      "                   all       1600       1600      0.518      0.672      0.633      0.633\n"
     ]
    },
    {
     "name": "stderr",
     "output_type": "stream",
     "text": [
      "\n"
     ]
    },
    {
     "name": "stdout",
     "output_type": "stream",
     "text": [
      "\n",
      "      Epoch    GPU_mem   box_loss   cls_loss   dfl_loss  Instances       Size\n"
     ]
    },
    {
     "name": "stderr",
     "output_type": "stream",
     "text": [
      "     42/200         0G     0.1644      1.376     0.9218         22         96: 100%|██████████| 800/800 [04:25<00:00,  3.02it/s]\n",
      "                 Class     Images  Instances      Box(P          R      mAP50  mAP50-95): 100%|██████████| 100/100 [00:26<00:00,  3.73it/s]"
     ]
    },
    {
     "name": "stdout",
     "output_type": "stream",
     "text": [
      "                   all       1600       1600      0.538      0.671      0.637      0.637\n"
     ]
    },
    {
     "name": "stderr",
     "output_type": "stream",
     "text": [
      "\n"
     ]
    },
    {
     "name": "stdout",
     "output_type": "stream",
     "text": [
      "\n",
      "      Epoch    GPU_mem   box_loss   cls_loss   dfl_loss  Instances       Size\n"
     ]
    },
    {
     "name": "stderr",
     "output_type": "stream",
     "text": [
      "     43/200         0G     0.1656      1.351     0.9201         16         96: 100%|██████████| 800/800 [04:28<00:00,  2.97it/s]\n",
      "                 Class     Images  Instances      Box(P          R      mAP50  mAP50-95): 100%|██████████| 100/100 [00:26<00:00,  3.71it/s]"
     ]
    },
    {
     "name": "stdout",
     "output_type": "stream",
     "text": [
      "                   all       1600       1600      0.562      0.677      0.637      0.635\n"
     ]
    },
    {
     "name": "stderr",
     "output_type": "stream",
     "text": [
      "\n"
     ]
    },
    {
     "name": "stdout",
     "output_type": "stream",
     "text": [
      "\n",
      "      Epoch    GPU_mem   box_loss   cls_loss   dfl_loss  Instances       Size\n"
     ]
    },
    {
     "name": "stderr",
     "output_type": "stream",
     "text": [
      "     44/200         0G     0.1677      1.364     0.9201         27         96: 100%|██████████| 800/800 [04:25<00:00,  3.02it/s]\n",
      "                 Class     Images  Instances      Box(P          R      mAP50  mAP50-95): 100%|██████████| 100/100 [00:26<00:00,  3.73it/s]"
     ]
    },
    {
     "name": "stdout",
     "output_type": "stream",
     "text": [
      "                   all       1600       1600      0.542      0.688       0.64      0.636\n"
     ]
    },
    {
     "name": "stderr",
     "output_type": "stream",
     "text": [
      "\n"
     ]
    },
    {
     "name": "stdout",
     "output_type": "stream",
     "text": [
      "\n",
      "      Epoch    GPU_mem   box_loss   cls_loss   dfl_loss  Instances       Size\n"
     ]
    },
    {
     "name": "stderr",
     "output_type": "stream",
     "text": [
      "     45/200         0G     0.1613      1.347     0.9183         25         96: 100%|██████████| 800/800 [04:25<00:00,  3.01it/s]\n",
      "                 Class     Images  Instances      Box(P          R      mAP50  mAP50-95): 100%|██████████| 100/100 [00:26<00:00,  3.74it/s]"
     ]
    },
    {
     "name": "stdout",
     "output_type": "stream",
     "text": [
      "                   all       1600       1600      0.545       0.68      0.644      0.644\n"
     ]
    },
    {
     "name": "stderr",
     "output_type": "stream",
     "text": [
      "\n"
     ]
    },
    {
     "name": "stdout",
     "output_type": "stream",
     "text": [
      "\n",
      "      Epoch    GPU_mem   box_loss   cls_loss   dfl_loss  Instances       Size\n"
     ]
    },
    {
     "name": "stderr",
     "output_type": "stream",
     "text": [
      "     46/200         0G      0.165      1.356     0.9244         17         96: 100%|██████████| 800/800 [04:25<00:00,  3.01it/s]\n",
      "                 Class     Images  Instances      Box(P          R      mAP50  mAP50-95): 100%|██████████| 100/100 [00:27<00:00,  3.67it/s]"
     ]
    },
    {
     "name": "stdout",
     "output_type": "stream",
     "text": [
      "                   all       1600       1600      0.548      0.704      0.662      0.662\n"
     ]
    },
    {
     "name": "stderr",
     "output_type": "stream",
     "text": [
      "\n"
     ]
    },
    {
     "name": "stdout",
     "output_type": "stream",
     "text": [
      "\n",
      "      Epoch    GPU_mem   box_loss   cls_loss   dfl_loss  Instances       Size\n"
     ]
    },
    {
     "name": "stderr",
     "output_type": "stream",
     "text": [
      "     47/200         0G     0.1588      1.348     0.9218         13         96: 100%|██████████| 800/800 [04:29<00:00,  2.97it/s]\n",
      "                 Class     Images  Instances      Box(P          R      mAP50  mAP50-95): 100%|██████████| 100/100 [00:27<00:00,  3.63it/s]"
     ]
    },
    {
     "name": "stdout",
     "output_type": "stream",
     "text": [
      "                   all       1600       1600       0.59      0.659      0.659      0.659\n"
     ]
    },
    {
     "name": "stderr",
     "output_type": "stream",
     "text": [
      "\n"
     ]
    },
    {
     "name": "stdout",
     "output_type": "stream",
     "text": [
      "\n",
      "      Epoch    GPU_mem   box_loss   cls_loss   dfl_loss  Instances       Size\n"
     ]
    },
    {
     "name": "stderr",
     "output_type": "stream",
     "text": [
      "     48/200         0G     0.1603      1.354     0.9173         23         96: 100%|██████████| 800/800 [04:25<00:00,  3.01it/s]\n",
      "                 Class     Images  Instances      Box(P          R      mAP50  mAP50-95): 100%|██████████| 100/100 [00:26<00:00,  3.72it/s]"
     ]
    },
    {
     "name": "stdout",
     "output_type": "stream",
     "text": [
      "                   all       1600       1600      0.581      0.667      0.653      0.653\n"
     ]
    },
    {
     "name": "stderr",
     "output_type": "stream",
     "text": [
      "\n"
     ]
    },
    {
     "name": "stdout",
     "output_type": "stream",
     "text": [
      "\n",
      "      Epoch    GPU_mem   box_loss   cls_loss   dfl_loss  Instances       Size\n"
     ]
    },
    {
     "name": "stderr",
     "output_type": "stream",
     "text": [
      "     49/200         0G       0.16      1.339     0.9214         17         96: 100%|██████████| 800/800 [04:26<00:00,  3.00it/s]\n",
      "                 Class     Images  Instances      Box(P          R      mAP50  mAP50-95): 100%|██████████| 100/100 [00:26<00:00,  3.71it/s]"
     ]
    },
    {
     "name": "stdout",
     "output_type": "stream",
     "text": [
      "                   all       1600       1600      0.559      0.708      0.662      0.659\n"
     ]
    },
    {
     "name": "stderr",
     "output_type": "stream",
     "text": [
      "\n"
     ]
    },
    {
     "name": "stdout",
     "output_type": "stream",
     "text": [
      "\n",
      "      Epoch    GPU_mem   box_loss   cls_loss   dfl_loss  Instances       Size\n"
     ]
    },
    {
     "name": "stderr",
     "output_type": "stream",
     "text": [
      "     50/200         0G     0.1557       1.34      0.916         17         96: 100%|██████████| 800/800 [04:25<00:00,  3.01it/s]\n",
      "                 Class     Images  Instances      Box(P          R      mAP50  mAP50-95): 100%|██████████| 100/100 [00:28<00:00,  3.49it/s]"
     ]
    },
    {
     "name": "stdout",
     "output_type": "stream",
     "text": [
      "                   all       1600       1600      0.569      0.691      0.666      0.665\n"
     ]
    },
    {
     "name": "stderr",
     "output_type": "stream",
     "text": [
      "\n"
     ]
    },
    {
     "name": "stdout",
     "output_type": "stream",
     "text": [
      "\n",
      "      Epoch    GPU_mem   box_loss   cls_loss   dfl_loss  Instances       Size\n"
     ]
    },
    {
     "name": "stderr",
     "output_type": "stream",
     "text": [
      "     51/200         0G     0.1573      1.335     0.9168         20         96: 100%|██████████| 800/800 [04:32<00:00,  2.93it/s]\n",
      "                 Class     Images  Instances      Box(P          R      mAP50  mAP50-95): 100%|██████████| 100/100 [00:26<00:00,  3.71it/s]"
     ]
    },
    {
     "name": "stdout",
     "output_type": "stream",
     "text": [
      "                   all       1600       1600      0.581       0.68      0.665      0.664\n"
     ]
    },
    {
     "name": "stderr",
     "output_type": "stream",
     "text": [
      "\n"
     ]
    },
    {
     "name": "stdout",
     "output_type": "stream",
     "text": [
      "\n",
      "      Epoch    GPU_mem   box_loss   cls_loss   dfl_loss  Instances       Size\n"
     ]
    },
    {
     "name": "stderr",
     "output_type": "stream",
     "text": [
      "     52/200         0G     0.1515      1.334     0.9166         16         96: 100%|██████████| 800/800 [04:27<00:00,  2.99it/s]\n",
      "                 Class     Images  Instances      Box(P          R      mAP50  mAP50-95): 100%|██████████| 100/100 [00:27<00:00,  3.66it/s]"
     ]
    },
    {
     "name": "stdout",
     "output_type": "stream",
     "text": [
      "                   all       1600       1600      0.573      0.689      0.668      0.667\n"
     ]
    },
    {
     "name": "stderr",
     "output_type": "stream",
     "text": [
      "\n"
     ]
    },
    {
     "name": "stdout",
     "output_type": "stream",
     "text": [
      "\n",
      "      Epoch    GPU_mem   box_loss   cls_loss   dfl_loss  Instances       Size\n"
     ]
    },
    {
     "name": "stderr",
     "output_type": "stream",
     "text": [
      "     53/200         0G     0.1583      1.331     0.9197         25         96: 100%|██████████| 800/800 [04:27<00:00,  2.99it/s]\n",
      "                 Class     Images  Instances      Box(P          R      mAP50  mAP50-95): 100%|██████████| 100/100 [00:26<00:00,  3.72it/s]"
     ]
    },
    {
     "name": "stdout",
     "output_type": "stream",
     "text": [
      "                   all       1600       1600      0.613      0.649      0.672      0.671\n"
     ]
    },
    {
     "name": "stderr",
     "output_type": "stream",
     "text": [
      "\n"
     ]
    },
    {
     "name": "stdout",
     "output_type": "stream",
     "text": [
      "\n",
      "      Epoch    GPU_mem   box_loss   cls_loss   dfl_loss  Instances       Size\n"
     ]
    },
    {
     "name": "stderr",
     "output_type": "stream",
     "text": [
      "     54/200         0G     0.1539      1.324     0.9198          9         96: 100%|██████████| 800/800 [04:25<00:00,  3.02it/s]\n",
      "                 Class     Images  Instances      Box(P          R      mAP50  mAP50-95): 100%|██████████| 100/100 [00:26<00:00,  3.73it/s]"
     ]
    },
    {
     "name": "stdout",
     "output_type": "stream",
     "text": [
      "                   all       1600       1600        0.6       0.66       0.67       0.67\n"
     ]
    },
    {
     "name": "stderr",
     "output_type": "stream",
     "text": [
      "\n"
     ]
    },
    {
     "name": "stdout",
     "output_type": "stream",
     "text": [
      "\n",
      "      Epoch    GPU_mem   box_loss   cls_loss   dfl_loss  Instances       Size\n"
     ]
    },
    {
     "name": "stderr",
     "output_type": "stream",
     "text": [
      "     55/200         0G     0.1557      1.325     0.9187         22         96: 100%|██████████| 800/800 [04:28<00:00,  2.98it/s]\n",
      "                 Class     Images  Instances      Box(P          R      mAP50  mAP50-95): 100%|██████████| 100/100 [00:26<00:00,  3.71it/s]"
     ]
    },
    {
     "name": "stdout",
     "output_type": "stream",
     "text": [
      "                   all       1600       1600      0.595      0.672      0.672      0.671\n"
     ]
    },
    {
     "name": "stderr",
     "output_type": "stream",
     "text": [
      "\n"
     ]
    },
    {
     "name": "stdout",
     "output_type": "stream",
     "text": [
      "\n",
      "      Epoch    GPU_mem   box_loss   cls_loss   dfl_loss  Instances       Size\n"
     ]
    },
    {
     "name": "stderr",
     "output_type": "stream",
     "text": [
      "     56/200         0G      0.153      1.313     0.9182         20         96: 100%|██████████| 800/800 [04:27<00:00,  2.99it/s]\n",
      "                 Class     Images  Instances      Box(P          R      mAP50  mAP50-95): 100%|██████████| 100/100 [00:27<00:00,  3.68it/s]"
     ]
    },
    {
     "name": "stdout",
     "output_type": "stream",
     "text": [
      "                   all       1600       1600      0.627      0.662      0.685      0.685\n"
     ]
    },
    {
     "name": "stderr",
     "output_type": "stream",
     "text": [
      "\n"
     ]
    },
    {
     "name": "stdout",
     "output_type": "stream",
     "text": [
      "\n",
      "      Epoch    GPU_mem   box_loss   cls_loss   dfl_loss  Instances       Size\n"
     ]
    },
    {
     "name": "stderr",
     "output_type": "stream",
     "text": [
      "     57/200         0G     0.1491      1.302     0.9138         24         96: 100%|██████████| 800/800 [04:26<00:00,  3.00it/s]\n",
      "                 Class     Images  Instances      Box(P          R      mAP50  mAP50-95): 100%|██████████| 100/100 [00:27<00:00,  3.61it/s]"
     ]
    },
    {
     "name": "stdout",
     "output_type": "stream",
     "text": [
      "                   all       1600       1600      0.596      0.689      0.681       0.68\n"
     ]
    },
    {
     "name": "stderr",
     "output_type": "stream",
     "text": [
      "\n"
     ]
    },
    {
     "name": "stdout",
     "output_type": "stream",
     "text": [
      "\n",
      "      Epoch    GPU_mem   box_loss   cls_loss   dfl_loss  Instances       Size\n"
     ]
    },
    {
     "name": "stderr",
     "output_type": "stream",
     "text": [
      "     58/200         0G     0.1488      1.308     0.9178         17         96: 100%|██████████| 800/800 [04:27<00:00,  2.99it/s]\n",
      "                 Class     Images  Instances      Box(P          R      mAP50  mAP50-95): 100%|██████████| 100/100 [00:26<00:00,  3.79it/s]"
     ]
    },
    {
     "name": "stdout",
     "output_type": "stream",
     "text": [
      "                   all       1600       1600      0.598       0.69      0.678      0.677\n"
     ]
    },
    {
     "name": "stderr",
     "output_type": "stream",
     "text": [
      "\n"
     ]
    },
    {
     "name": "stdout",
     "output_type": "stream",
     "text": [
      "\n",
      "      Epoch    GPU_mem   box_loss   cls_loss   dfl_loss  Instances       Size\n"
     ]
    },
    {
     "name": "stderr",
     "output_type": "stream",
     "text": [
      "     59/200         0G     0.1503      1.308     0.9132         21         96: 100%|██████████| 800/800 [04:27<00:00,  2.99it/s]\n",
      "                 Class     Images  Instances      Box(P          R      mAP50  mAP50-95): 100%|██████████| 100/100 [00:27<00:00,  3.59it/s]"
     ]
    },
    {
     "name": "stdout",
     "output_type": "stream",
     "text": [
      "                   all       1600       1600      0.583      0.726       0.68      0.679\n"
     ]
    },
    {
     "name": "stderr",
     "output_type": "stream",
     "text": [
      "\n"
     ]
    },
    {
     "name": "stdout",
     "output_type": "stream",
     "text": [
      "\n",
      "      Epoch    GPU_mem   box_loss   cls_loss   dfl_loss  Instances       Size\n"
     ]
    },
    {
     "name": "stderr",
     "output_type": "stream",
     "text": [
      "     60/200         0G     0.1473      1.297      0.917         19         96: 100%|██████████| 800/800 [04:25<00:00,  3.01it/s]\n",
      "                 Class     Images  Instances      Box(P          R      mAP50  mAP50-95): 100%|██████████| 100/100 [00:27<00:00,  3.66it/s]"
     ]
    },
    {
     "name": "stdout",
     "output_type": "stream",
     "text": [
      "                   all       1600       1600      0.624       0.69      0.693      0.693\n"
     ]
    },
    {
     "name": "stderr",
     "output_type": "stream",
     "text": [
      "\n"
     ]
    },
    {
     "name": "stdout",
     "output_type": "stream",
     "text": [
      "\n",
      "      Epoch    GPU_mem   box_loss   cls_loss   dfl_loss  Instances       Size\n"
     ]
    },
    {
     "name": "stderr",
     "output_type": "stream",
     "text": [
      "     61/200         0G     0.1478      1.297     0.9154         26         96: 100%|██████████| 800/800 [04:28<00:00,  2.98it/s]\n",
      "                 Class     Images  Instances      Box(P          R      mAP50  mAP50-95): 100%|██████████| 100/100 [00:27<00:00,  3.63it/s]"
     ]
    },
    {
     "name": "stdout",
     "output_type": "stream",
     "text": [
      "                   all       1600       1600      0.608      0.712      0.695      0.695\n"
     ]
    },
    {
     "name": "stderr",
     "output_type": "stream",
     "text": [
      "\n"
     ]
    },
    {
     "name": "stdout",
     "output_type": "stream",
     "text": [
      "\n",
      "      Epoch    GPU_mem   box_loss   cls_loss   dfl_loss  Instances       Size\n"
     ]
    },
    {
     "name": "stderr",
     "output_type": "stream",
     "text": [
      "     62/200         0G     0.1458      1.295     0.9165         19         96: 100%|██████████| 800/800 [04:26<00:00,  3.01it/s]\n",
      "                 Class     Images  Instances      Box(P          R      mAP50  mAP50-95): 100%|██████████| 100/100 [00:27<00:00,  3.67it/s]"
     ]
    },
    {
     "name": "stdout",
     "output_type": "stream",
     "text": [
      "                   all       1600       1600      0.631      0.673      0.693      0.693\n"
     ]
    },
    {
     "name": "stderr",
     "output_type": "stream",
     "text": [
      "\n"
     ]
    },
    {
     "name": "stdout",
     "output_type": "stream",
     "text": [
      "\n",
      "      Epoch    GPU_mem   box_loss   cls_loss   dfl_loss  Instances       Size\n"
     ]
    },
    {
     "name": "stderr",
     "output_type": "stream",
     "text": [
      "     63/200         0G     0.1455      1.298     0.9161         20         96: 100%|██████████| 800/800 [04:26<00:00,  3.00it/s]\n",
      "                 Class     Images  Instances      Box(P          R      mAP50  mAP50-95): 100%|██████████| 100/100 [00:27<00:00,  3.70it/s]"
     ]
    },
    {
     "name": "stdout",
     "output_type": "stream",
     "text": [
      "                   all       1600       1600      0.608      0.701       0.69       0.69\n"
     ]
    },
    {
     "name": "stderr",
     "output_type": "stream",
     "text": [
      "\n"
     ]
    },
    {
     "name": "stdout",
     "output_type": "stream",
     "text": [
      "\n",
      "      Epoch    GPU_mem   box_loss   cls_loss   dfl_loss  Instances       Size\n"
     ]
    },
    {
     "name": "stderr",
     "output_type": "stream",
     "text": [
      "     64/200         0G     0.1476      1.296     0.9177         22         96: 100%|██████████| 800/800 [04:26<00:00,  3.00it/s]\n",
      "                 Class     Images  Instances      Box(P          R      mAP50  mAP50-95): 100%|██████████| 100/100 [00:26<00:00,  3.71it/s]"
     ]
    },
    {
     "name": "stdout",
     "output_type": "stream",
     "text": [
      "                   all       1600       1600      0.623      0.687        0.7      0.699\n"
     ]
    },
    {
     "name": "stderr",
     "output_type": "stream",
     "text": [
      "\n"
     ]
    },
    {
     "name": "stdout",
     "output_type": "stream",
     "text": [
      "\n",
      "      Epoch    GPU_mem   box_loss   cls_loss   dfl_loss  Instances       Size\n"
     ]
    },
    {
     "name": "stderr",
     "output_type": "stream",
     "text": [
      "     65/200         0G     0.1457      1.281     0.9143         20         96: 100%|██████████| 800/800 [04:25<00:00,  3.01it/s]\n",
      "                 Class     Images  Instances      Box(P          R      mAP50  mAP50-95): 100%|██████████| 100/100 [00:28<00:00,  3.49it/s]"
     ]
    },
    {
     "name": "stdout",
     "output_type": "stream",
     "text": [
      "                   all       1600       1600      0.628      0.686      0.692      0.692\n"
     ]
    },
    {
     "name": "stderr",
     "output_type": "stream",
     "text": [
      "\n"
     ]
    },
    {
     "name": "stdout",
     "output_type": "stream",
     "text": [
      "\n",
      "      Epoch    GPU_mem   box_loss   cls_loss   dfl_loss  Instances       Size\n"
     ]
    },
    {
     "name": "stderr",
     "output_type": "stream",
     "text": [
      "     66/200         0G     0.1424      1.284     0.9133         19         96: 100%|██████████| 800/800 [04:25<00:00,  3.01it/s]\n",
      "                 Class     Images  Instances      Box(P          R      mAP50  mAP50-95): 100%|██████████| 100/100 [00:27<00:00,  3.67it/s]"
     ]
    },
    {
     "name": "stdout",
     "output_type": "stream",
     "text": [
      "                   all       1600       1600      0.625      0.697      0.705      0.705\n"
     ]
    },
    {
     "name": "stderr",
     "output_type": "stream",
     "text": [
      "\n"
     ]
    },
    {
     "name": "stdout",
     "output_type": "stream",
     "text": [
      "\n",
      "      Epoch    GPU_mem   box_loss   cls_loss   dfl_loss  Instances       Size\n"
     ]
    },
    {
     "name": "stderr",
     "output_type": "stream",
     "text": [
      "     67/200         0G     0.1471      1.283     0.9179         16         96: 100%|██████████| 800/800 [04:25<00:00,  3.01it/s]\n",
      "                 Class     Images  Instances      Box(P          R      mAP50  mAP50-95): 100%|██████████| 100/100 [00:27<00:00,  3.66it/s]"
     ]
    },
    {
     "name": "stdout",
     "output_type": "stream",
     "text": [
      "                   all       1600       1600      0.603      0.695      0.695      0.695\n"
     ]
    },
    {
     "name": "stderr",
     "output_type": "stream",
     "text": [
      "\n"
     ]
    },
    {
     "name": "stdout",
     "output_type": "stream",
     "text": [
      "\n",
      "      Epoch    GPU_mem   box_loss   cls_loss   dfl_loss  Instances       Size\n"
     ]
    },
    {
     "name": "stderr",
     "output_type": "stream",
     "text": [
      "     68/200         0G     0.1452      1.284     0.9178         22         96: 100%|██████████| 800/800 [04:25<00:00,  3.01it/s]\n",
      "                 Class     Images  Instances      Box(P          R      mAP50  mAP50-95): 100%|██████████| 100/100 [00:26<00:00,  3.74it/s]"
     ]
    },
    {
     "name": "stdout",
     "output_type": "stream",
     "text": [
      "                   all       1600       1600      0.634      0.678      0.701      0.701\n"
     ]
    },
    {
     "name": "stderr",
     "output_type": "stream",
     "text": [
      "\n"
     ]
    },
    {
     "name": "stdout",
     "output_type": "stream",
     "text": [
      "\n",
      "      Epoch    GPU_mem   box_loss   cls_loss   dfl_loss  Instances       Size\n"
     ]
    },
    {
     "name": "stderr",
     "output_type": "stream",
     "text": [
      "     69/200         0G      0.144      1.281     0.9175         20         96: 100%|██████████| 800/800 [04:25<00:00,  3.01it/s]\n",
      "                 Class     Images  Instances      Box(P          R      mAP50  mAP50-95): 100%|██████████| 100/100 [00:27<00:00,  3.69it/s]"
     ]
    },
    {
     "name": "stdout",
     "output_type": "stream",
     "text": [
      "                   all       1600       1600      0.635      0.709      0.706      0.706\n"
     ]
    },
    {
     "name": "stderr",
     "output_type": "stream",
     "text": [
      "\n"
     ]
    },
    {
     "name": "stdout",
     "output_type": "stream",
     "text": [
      "\n",
      "      Epoch    GPU_mem   box_loss   cls_loss   dfl_loss  Instances       Size\n"
     ]
    },
    {
     "name": "stderr",
     "output_type": "stream",
     "text": [
      "     70/200         0G     0.1405      1.285     0.9145         16         96: 100%|██████████| 800/800 [04:29<00:00,  2.97it/s]\n",
      "                 Class     Images  Instances      Box(P          R      mAP50  mAP50-95): 100%|██████████| 100/100 [00:26<00:00,  3.71it/s]"
     ]
    },
    {
     "name": "stdout",
     "output_type": "stream",
     "text": [
      "                   all       1600       1600      0.612      0.705      0.703      0.703\n"
     ]
    },
    {
     "name": "stderr",
     "output_type": "stream",
     "text": [
      "\n"
     ]
    },
    {
     "name": "stdout",
     "output_type": "stream",
     "text": [
      "\n",
      "      Epoch    GPU_mem   box_loss   cls_loss   dfl_loss  Instances       Size\n"
     ]
    },
    {
     "name": "stderr",
     "output_type": "stream",
     "text": [
      "     71/200         0G     0.1403      1.276     0.9116         15         96: 100%|██████████| 800/800 [04:26<00:00,  3.01it/s]\n",
      "                 Class     Images  Instances      Box(P          R      mAP50  mAP50-95): 100%|██████████| 100/100 [00:27<00:00,  3.67it/s]"
     ]
    },
    {
     "name": "stdout",
     "output_type": "stream",
     "text": [
      "                   all       1600       1600       0.62      0.702      0.707      0.707\n"
     ]
    },
    {
     "name": "stderr",
     "output_type": "stream",
     "text": [
      "\n"
     ]
    },
    {
     "name": "stdout",
     "output_type": "stream",
     "text": [
      "\n",
      "      Epoch    GPU_mem   box_loss   cls_loss   dfl_loss  Instances       Size\n"
     ]
    },
    {
     "name": "stderr",
     "output_type": "stream",
     "text": [
      "     72/200         0G     0.1378      1.269     0.9124         22         96: 100%|██████████| 800/800 [04:26<00:00,  3.00it/s]\n",
      "                 Class     Images  Instances      Box(P          R      mAP50  mAP50-95): 100%|██████████| 100/100 [00:26<00:00,  3.71it/s]"
     ]
    },
    {
     "name": "stdout",
     "output_type": "stream",
     "text": [
      "                   all       1600       1600      0.606      0.718      0.715      0.715\n"
     ]
    },
    {
     "name": "stderr",
     "output_type": "stream",
     "text": [
      "\n"
     ]
    },
    {
     "name": "stdout",
     "output_type": "stream",
     "text": [
      "\n",
      "      Epoch    GPU_mem   box_loss   cls_loss   dfl_loss  Instances       Size\n"
     ]
    },
    {
     "name": "stderr",
     "output_type": "stream",
     "text": [
      "     73/200         0G     0.1382      1.264     0.9113         21         96: 100%|██████████| 800/800 [04:27<00:00,  2.99it/s]\n",
      "                 Class     Images  Instances      Box(P          R      mAP50  mAP50-95): 100%|██████████| 100/100 [00:27<00:00,  3.69it/s]"
     ]
    },
    {
     "name": "stdout",
     "output_type": "stream",
     "text": [
      "                   all       1600       1600      0.629      0.706      0.715      0.715\n"
     ]
    },
    {
     "name": "stderr",
     "output_type": "stream",
     "text": [
      "\n"
     ]
    },
    {
     "name": "stdout",
     "output_type": "stream",
     "text": [
      "\n",
      "      Epoch    GPU_mem   box_loss   cls_loss   dfl_loss  Instances       Size\n"
     ]
    },
    {
     "name": "stderr",
     "output_type": "stream",
     "text": [
      "     74/200         0G     0.1364      1.262     0.9125         26         96: 100%|██████████| 800/800 [04:25<00:00,  3.01it/s]\n",
      "                 Class     Images  Instances      Box(P          R      mAP50  mAP50-95): 100%|██████████| 100/100 [00:27<00:00,  3.68it/s]"
     ]
    },
    {
     "name": "stdout",
     "output_type": "stream",
     "text": [
      "                   all       1600       1600      0.622      0.709      0.715      0.715\n"
     ]
    },
    {
     "name": "stderr",
     "output_type": "stream",
     "text": [
      "\n"
     ]
    },
    {
     "name": "stdout",
     "output_type": "stream",
     "text": [
      "\n",
      "      Epoch    GPU_mem   box_loss   cls_loss   dfl_loss  Instances       Size\n"
     ]
    },
    {
     "name": "stderr",
     "output_type": "stream",
     "text": [
      "     75/200         0G     0.1415      1.261     0.9127         21         96: 100%|██████████| 800/800 [04:23<00:00,  3.04it/s]\n",
      "                 Class     Images  Instances      Box(P          R      mAP50  mAP50-95): 100%|██████████| 100/100 [00:26<00:00,  3.74it/s]"
     ]
    },
    {
     "name": "stdout",
     "output_type": "stream",
     "text": [
      "                   all       1600       1600      0.624      0.708      0.703      0.703\n"
     ]
    },
    {
     "name": "stderr",
     "output_type": "stream",
     "text": [
      "\n"
     ]
    },
    {
     "name": "stdout",
     "output_type": "stream",
     "text": [
      "\n",
      "      Epoch    GPU_mem   box_loss   cls_loss   dfl_loss  Instances       Size\n"
     ]
    },
    {
     "name": "stderr",
     "output_type": "stream",
     "text": [
      "     76/200         0G     0.1355      1.247     0.9136         19         96: 100%|██████████| 800/800 [04:20<00:00,  3.07it/s]\n",
      "                 Class     Images  Instances      Box(P          R      mAP50  mAP50-95): 100%|██████████| 100/100 [00:24<00:00,  4.10it/s]"
     ]
    },
    {
     "name": "stdout",
     "output_type": "stream",
     "text": [
      "                   all       1600       1600       0.64      0.703      0.709      0.708\n"
     ]
    },
    {
     "name": "stderr",
     "output_type": "stream",
     "text": [
      "\n"
     ]
    },
    {
     "name": "stdout",
     "output_type": "stream",
     "text": [
      "\n",
      "      Epoch    GPU_mem   box_loss   cls_loss   dfl_loss  Instances       Size\n"
     ]
    },
    {
     "name": "stderr",
     "output_type": "stream",
     "text": [
      "     77/200         0G     0.1361      1.259     0.9107         20         96: 100%|██████████| 800/800 [04:23<00:00,  3.04it/s]\n",
      "                 Class     Images  Instances      Box(P          R      mAP50  mAP50-95): 100%|██████████| 100/100 [00:26<00:00,  3.71it/s]"
     ]
    },
    {
     "name": "stdout",
     "output_type": "stream",
     "text": [
      "                   all       1600       1600      0.641      0.702      0.718      0.718\n"
     ]
    },
    {
     "name": "stderr",
     "output_type": "stream",
     "text": [
      "\n"
     ]
    },
    {
     "name": "stdout",
     "output_type": "stream",
     "text": [
      "\n",
      "      Epoch    GPU_mem   box_loss   cls_loss   dfl_loss  Instances       Size\n"
     ]
    },
    {
     "name": "stderr",
     "output_type": "stream",
     "text": [
      "     78/200         0G     0.1359      1.245     0.9109         27         96: 100%|██████████| 800/800 [04:26<00:00,  3.00it/s]\n",
      "                 Class     Images  Instances      Box(P          R      mAP50  mAP50-95): 100%|██████████| 100/100 [00:27<00:00,  3.69it/s]"
     ]
    },
    {
     "name": "stdout",
     "output_type": "stream",
     "text": [
      "                   all       1600       1600      0.625      0.709       0.72      0.719\n"
     ]
    },
    {
     "name": "stderr",
     "output_type": "stream",
     "text": [
      "\n"
     ]
    },
    {
     "name": "stdout",
     "output_type": "stream",
     "text": [
      "\n",
      "      Epoch    GPU_mem   box_loss   cls_loss   dfl_loss  Instances       Size\n"
     ]
    },
    {
     "name": "stderr",
     "output_type": "stream",
     "text": [
      "     79/200         0G     0.1334      1.242     0.9112         23         96: 100%|██████████| 800/800 [04:27<00:00,  2.99it/s]\n",
      "                 Class     Images  Instances      Box(P          R      mAP50  mAP50-95): 100%|██████████| 100/100 [00:27<00:00,  3.68it/s]"
     ]
    },
    {
     "name": "stdout",
     "output_type": "stream",
     "text": [
      "                   all       1600       1600      0.621      0.707       0.72      0.719\n"
     ]
    },
    {
     "name": "stderr",
     "output_type": "stream",
     "text": [
      "\n"
     ]
    },
    {
     "name": "stdout",
     "output_type": "stream",
     "text": [
      "\n",
      "      Epoch    GPU_mem   box_loss   cls_loss   dfl_loss  Instances       Size\n"
     ]
    },
    {
     "name": "stderr",
     "output_type": "stream",
     "text": [
      "     80/200         0G     0.1346      1.245      0.912         15         96: 100%|██████████| 800/800 [04:28<00:00,  2.97it/s]\n",
      "                 Class     Images  Instances      Box(P          R      mAP50  mAP50-95): 100%|██████████| 100/100 [00:27<00:00,  3.68it/s]"
     ]
    },
    {
     "name": "stdout",
     "output_type": "stream",
     "text": [
      "                   all       1600       1600      0.663      0.654      0.717      0.716\n"
     ]
    },
    {
     "name": "stderr",
     "output_type": "stream",
     "text": [
      "\n"
     ]
    },
    {
     "name": "stdout",
     "output_type": "stream",
     "text": [
      "\n",
      "      Epoch    GPU_mem   box_loss   cls_loss   dfl_loss  Instances       Size\n"
     ]
    },
    {
     "name": "stderr",
     "output_type": "stream",
     "text": [
      "     81/200         0G     0.1353      1.248     0.9109         11         96: 100%|██████████| 800/800 [04:26<00:00,  3.01it/s]\n",
      "                 Class     Images  Instances      Box(P          R      mAP50  mAP50-95): 100%|██████████| 100/100 [00:27<00:00,  3.67it/s]"
     ]
    },
    {
     "name": "stdout",
     "output_type": "stream",
     "text": [
      "                   all       1600       1600      0.618      0.726      0.721      0.721\n"
     ]
    },
    {
     "name": "stderr",
     "output_type": "stream",
     "text": [
      "\n"
     ]
    },
    {
     "name": "stdout",
     "output_type": "stream",
     "text": [
      "\n",
      "      Epoch    GPU_mem   box_loss   cls_loss   dfl_loss  Instances       Size\n"
     ]
    },
    {
     "name": "stderr",
     "output_type": "stream",
     "text": [
      "     82/200         0G     0.1304       1.24     0.9088         22         96: 100%|██████████| 800/800 [04:29<00:00,  2.97it/s]\n",
      "                 Class     Images  Instances      Box(P          R      mAP50  mAP50-95): 100%|██████████| 100/100 [00:26<00:00,  3.72it/s]"
     ]
    },
    {
     "name": "stdout",
     "output_type": "stream",
     "text": [
      "                   all       1600       1600      0.613      0.739      0.726      0.726\n"
     ]
    },
    {
     "name": "stderr",
     "output_type": "stream",
     "text": [
      "\n"
     ]
    },
    {
     "name": "stdout",
     "output_type": "stream",
     "text": [
      "\n",
      "      Epoch    GPU_mem   box_loss   cls_loss   dfl_loss  Instances       Size\n"
     ]
    },
    {
     "name": "stderr",
     "output_type": "stream",
     "text": [
      "     83/200         0G     0.1342      1.237     0.9126         19         96: 100%|██████████| 800/800 [04:27<00:00,  2.99it/s]\n",
      "                 Class     Images  Instances      Box(P          R      mAP50  mAP50-95): 100%|██████████| 100/100 [00:27<00:00,  3.70it/s]"
     ]
    },
    {
     "name": "stdout",
     "output_type": "stream",
     "text": [
      "                   all       1600       1600      0.649      0.712      0.732      0.732\n"
     ]
    },
    {
     "name": "stderr",
     "output_type": "stream",
     "text": [
      "\n"
     ]
    },
    {
     "name": "stdout",
     "output_type": "stream",
     "text": [
      "\n",
      "      Epoch    GPU_mem   box_loss   cls_loss   dfl_loss  Instances       Size\n"
     ]
    },
    {
     "name": "stderr",
     "output_type": "stream",
     "text": [
      "     84/200         0G     0.1311       1.24     0.9104         19         96: 100%|██████████| 800/800 [04:33<00:00,  2.92it/s]\n",
      "                 Class     Images  Instances      Box(P          R      mAP50  mAP50-95): 100%|██████████| 100/100 [00:27<00:00,  3.63it/s]"
     ]
    },
    {
     "name": "stdout",
     "output_type": "stream",
     "text": [
      "                   all       1600       1600      0.652       0.71      0.724      0.724\n"
     ]
    },
    {
     "name": "stderr",
     "output_type": "stream",
     "text": [
      "\n"
     ]
    },
    {
     "name": "stdout",
     "output_type": "stream",
     "text": [
      "\n",
      "      Epoch    GPU_mem   box_loss   cls_loss   dfl_loss  Instances       Size\n"
     ]
    },
    {
     "name": "stderr",
     "output_type": "stream",
     "text": [
      "     85/200         0G     0.1294      1.235     0.9104         25         96: 100%|██████████| 800/800 [04:29<00:00,  2.97it/s]\n",
      "                 Class     Images  Instances      Box(P          R      mAP50  mAP50-95): 100%|██████████| 100/100 [00:27<00:00,  3.70it/s]"
     ]
    },
    {
     "name": "stdout",
     "output_type": "stream",
     "text": [
      "                   all       1600       1600      0.622      0.742      0.724      0.724\n"
     ]
    },
    {
     "name": "stderr",
     "output_type": "stream",
     "text": [
      "\n"
     ]
    },
    {
     "name": "stdout",
     "output_type": "stream",
     "text": [
      "\n",
      "      Epoch    GPU_mem   box_loss   cls_loss   dfl_loss  Instances       Size\n"
     ]
    },
    {
     "name": "stderr",
     "output_type": "stream",
     "text": [
      "     86/200         0G     0.1298      1.238     0.9125         14         96: 100%|██████████| 800/800 [04:25<00:00,  3.01it/s]\n",
      "                 Class     Images  Instances      Box(P          R      mAP50  mAP50-95): 100%|██████████| 100/100 [00:26<00:00,  3.77it/s]"
     ]
    },
    {
     "name": "stdout",
     "output_type": "stream",
     "text": [
      "                   all       1600       1600      0.626      0.743      0.723      0.723\n"
     ]
    },
    {
     "name": "stderr",
     "output_type": "stream",
     "text": [
      "\n"
     ]
    },
    {
     "name": "stdout",
     "output_type": "stream",
     "text": [
      "\n",
      "      Epoch    GPU_mem   box_loss   cls_loss   dfl_loss  Instances       Size\n"
     ]
    },
    {
     "name": "stderr",
     "output_type": "stream",
     "text": [
      "     87/200         0G      0.131      1.235     0.9093         26         96: 100%|██████████| 800/800 [04:25<00:00,  3.01it/s]\n",
      "                 Class     Images  Instances      Box(P          R      mAP50  mAP50-95): 100%|██████████| 100/100 [00:27<00:00,  3.68it/s]"
     ]
    },
    {
     "name": "stdout",
     "output_type": "stream",
     "text": [
      "                   all       1600       1600      0.639      0.722      0.728      0.728\n"
     ]
    },
    {
     "name": "stderr",
     "output_type": "stream",
     "text": [
      "\n"
     ]
    },
    {
     "name": "stdout",
     "output_type": "stream",
     "text": [
      "\n",
      "      Epoch    GPU_mem   box_loss   cls_loss   dfl_loss  Instances       Size\n"
     ]
    },
    {
     "name": "stderr",
     "output_type": "stream",
     "text": [
      "     88/200         0G     0.1293      1.232     0.9104         12         96: 100%|██████████| 800/800 [04:28<00:00,  2.97it/s]\n",
      "                 Class     Images  Instances      Box(P          R      mAP50  mAP50-95): 100%|██████████| 100/100 [00:26<00:00,  3.71it/s]"
     ]
    },
    {
     "name": "stdout",
     "output_type": "stream",
     "text": [
      "                   all       1600       1600      0.626      0.739      0.729      0.729\n"
     ]
    },
    {
     "name": "stderr",
     "output_type": "stream",
     "text": [
      "\n"
     ]
    },
    {
     "name": "stdout",
     "output_type": "stream",
     "text": [
      "\n",
      "      Epoch    GPU_mem   box_loss   cls_loss   dfl_loss  Instances       Size\n"
     ]
    },
    {
     "name": "stderr",
     "output_type": "stream",
     "text": [
      "     89/200         0G     0.1274       1.23      0.909         22         96: 100%|██████████| 800/800 [04:27<00:00,  2.99it/s]\n",
      "                 Class     Images  Instances      Box(P          R      mAP50  mAP50-95): 100%|██████████| 100/100 [00:27<00:00,  3.70it/s]"
     ]
    },
    {
     "name": "stdout",
     "output_type": "stream",
     "text": [
      "                   all       1600       1600      0.625      0.733      0.728      0.728\n"
     ]
    },
    {
     "name": "stderr",
     "output_type": "stream",
     "text": [
      "\n"
     ]
    },
    {
     "name": "stdout",
     "output_type": "stream",
     "text": [
      "\n",
      "      Epoch    GPU_mem   box_loss   cls_loss   dfl_loss  Instances       Size\n"
     ]
    },
    {
     "name": "stderr",
     "output_type": "stream",
     "text": [
      "     90/200         0G     0.1265      1.229      0.908         26         96: 100%|██████████| 800/800 [04:55<00:00,  2.71it/s]\n",
      "                 Class     Images  Instances      Box(P          R      mAP50  mAP50-95): 100%|██████████| 100/100 [00:26<00:00,  3.77it/s]"
     ]
    },
    {
     "name": "stdout",
     "output_type": "stream",
     "text": [
      "                   all       1600       1600      0.654      0.692      0.727      0.727\n"
     ]
    },
    {
     "name": "stderr",
     "output_type": "stream",
     "text": [
      "\n"
     ]
    },
    {
     "name": "stdout",
     "output_type": "stream",
     "text": [
      "\n",
      "      Epoch    GPU_mem   box_loss   cls_loss   dfl_loss  Instances       Size\n"
     ]
    },
    {
     "name": "stderr",
     "output_type": "stream",
     "text": [
      "     91/200         0G     0.1272      1.224     0.9125         19         96: 100%|██████████| 800/800 [04:15<00:00,  3.13it/s]\n",
      "                 Class     Images  Instances      Box(P          R      mAP50  mAP50-95): 100%|██████████| 100/100 [00:25<00:00,  3.85it/s]"
     ]
    },
    {
     "name": "stdout",
     "output_type": "stream",
     "text": [
      "                   all       1600       1600      0.668      0.663      0.725      0.725\n"
     ]
    },
    {
     "name": "stderr",
     "output_type": "stream",
     "text": [
      "\n"
     ]
    },
    {
     "name": "stdout",
     "output_type": "stream",
     "text": [
      "\n",
      "      Epoch    GPU_mem   box_loss   cls_loss   dfl_loss  Instances       Size\n"
     ]
    },
    {
     "name": "stderr",
     "output_type": "stream",
     "text": [
      "     92/200         0G     0.1263      1.225      0.909         16         96: 100%|██████████| 800/800 [04:16<00:00,  3.11it/s]\n",
      "                 Class     Images  Instances      Box(P          R      mAP50  mAP50-95): 100%|██████████| 100/100 [00:26<00:00,  3.76it/s]"
     ]
    },
    {
     "name": "stdout",
     "output_type": "stream",
     "text": [
      "                   all       1600       1600      0.604      0.754      0.727      0.727\n"
     ]
    },
    {
     "name": "stderr",
     "output_type": "stream",
     "text": [
      "\n"
     ]
    },
    {
     "name": "stdout",
     "output_type": "stream",
     "text": [
      "\n",
      "      Epoch    GPU_mem   box_loss   cls_loss   dfl_loss  Instances       Size\n"
     ]
    },
    {
     "name": "stderr",
     "output_type": "stream",
     "text": [
      "     93/200         0G     0.1249      1.214     0.9089         23         96: 100%|██████████| 800/800 [04:13<00:00,  3.16it/s]\n",
      "                 Class     Images  Instances      Box(P          R      mAP50  mAP50-95): 100%|██████████| 100/100 [00:25<00:00,  3.90it/s]"
     ]
    },
    {
     "name": "stdout",
     "output_type": "stream",
     "text": [
      "                   all       1600       1600      0.614      0.742      0.726      0.726\n"
     ]
    },
    {
     "name": "stderr",
     "output_type": "stream",
     "text": [
      "\n"
     ]
    },
    {
     "name": "stdout",
     "output_type": "stream",
     "text": [
      "\n",
      "      Epoch    GPU_mem   box_loss   cls_loss   dfl_loss  Instances       Size\n"
     ]
    },
    {
     "name": "stderr",
     "output_type": "stream",
     "text": [
      "     94/200         0G     0.1309      1.228      0.912         15         96: 100%|██████████| 800/800 [04:15<00:00,  3.13it/s]\n",
      "                 Class     Images  Instances      Box(P          R      mAP50  mAP50-95): 100%|██████████| 100/100 [00:25<00:00,  3.85it/s]"
     ]
    },
    {
     "name": "stdout",
     "output_type": "stream",
     "text": [
      "                   all       1600       1600      0.622      0.729      0.729      0.729\n"
     ]
    },
    {
     "name": "stderr",
     "output_type": "stream",
     "text": [
      "\n"
     ]
    },
    {
     "name": "stdout",
     "output_type": "stream",
     "text": [
      "\n",
      "      Epoch    GPU_mem   box_loss   cls_loss   dfl_loss  Instances       Size\n"
     ]
    },
    {
     "name": "stderr",
     "output_type": "stream",
     "text": [
      "     95/200         0G     0.1281      1.212     0.9099         27         96: 100%|██████████| 800/800 [04:12<00:00,  3.17it/s]\n",
      "                 Class     Images  Instances      Box(P          R      mAP50  mAP50-95): 100%|██████████| 100/100 [00:26<00:00,  3.83it/s]"
     ]
    },
    {
     "name": "stdout",
     "output_type": "stream",
     "text": [
      "                   all       1600       1600      0.643      0.712      0.735      0.735\n"
     ]
    },
    {
     "name": "stderr",
     "output_type": "stream",
     "text": [
      "\n"
     ]
    },
    {
     "name": "stdout",
     "output_type": "stream",
     "text": [
      "\n",
      "      Epoch    GPU_mem   box_loss   cls_loss   dfl_loss  Instances       Size\n"
     ]
    },
    {
     "name": "stderr",
     "output_type": "stream",
     "text": [
      "     96/200         0G     0.1264      1.198      0.908         19         96: 100%|██████████| 800/800 [04:30<00:00,  2.96it/s]\n",
      "                 Class     Images  Instances      Box(P          R      mAP50  mAP50-95): 100%|██████████| 100/100 [00:26<00:00,  3.76it/s]"
     ]
    },
    {
     "name": "stdout",
     "output_type": "stream",
     "text": [
      "                   all       1600       1600      0.628      0.733      0.736      0.735\n"
     ]
    },
    {
     "name": "stderr",
     "output_type": "stream",
     "text": [
      "\n"
     ]
    },
    {
     "name": "stdout",
     "output_type": "stream",
     "text": [
      "\n",
      "      Epoch    GPU_mem   box_loss   cls_loss   dfl_loss  Instances       Size\n"
     ]
    },
    {
     "name": "stderr",
     "output_type": "stream",
     "text": [
      "     97/200         0G     0.1271      1.217     0.9119         20         96: 100%|██████████| 800/800 [04:37<00:00,  2.88it/s]\n",
      "                 Class     Images  Instances      Box(P          R      mAP50  mAP50-95): 100%|██████████| 100/100 [00:27<00:00,  3.59it/s]"
     ]
    },
    {
     "name": "stdout",
     "output_type": "stream",
     "text": [
      "                   all       1600       1600      0.638      0.708      0.736      0.736\n"
     ]
    },
    {
     "name": "stderr",
     "output_type": "stream",
     "text": [
      "\n"
     ]
    },
    {
     "name": "stdout",
     "output_type": "stream",
     "text": [
      "\n",
      "      Epoch    GPU_mem   box_loss   cls_loss   dfl_loss  Instances       Size\n"
     ]
    },
    {
     "name": "stderr",
     "output_type": "stream",
     "text": [
      "     98/200         0G     0.1238      1.213     0.9073         23         96: 100%|██████████| 800/800 [04:36<00:00,  2.89it/s]\n",
      "                 Class     Images  Instances      Box(P          R      mAP50  mAP50-95): 100%|██████████| 100/100 [00:26<00:00,  3.76it/s]"
     ]
    },
    {
     "name": "stdout",
     "output_type": "stream",
     "text": [
      "                   all       1600       1600      0.616      0.736      0.735      0.735\n"
     ]
    },
    {
     "name": "stderr",
     "output_type": "stream",
     "text": [
      "\n"
     ]
    },
    {
     "name": "stdout",
     "output_type": "stream",
     "text": [
      "\n",
      "      Epoch    GPU_mem   box_loss   cls_loss   dfl_loss  Instances       Size\n"
     ]
    },
    {
     "name": "stderr",
     "output_type": "stream",
     "text": [
      "     99/200         0G     0.1253      1.214     0.9107         14         96: 100%|██████████| 800/800 [04:30<00:00,  2.96it/s]\n",
      "                 Class     Images  Instances      Box(P          R      mAP50  mAP50-95): 100%|██████████| 100/100 [00:27<00:00,  3.61it/s]"
     ]
    },
    {
     "name": "stdout",
     "output_type": "stream",
     "text": [
      "                   all       1600       1600      0.623       0.74      0.735      0.734\n"
     ]
    },
    {
     "name": "stderr",
     "output_type": "stream",
     "text": [
      "\n"
     ]
    },
    {
     "name": "stdout",
     "output_type": "stream",
     "text": [
      "\n",
      "      Epoch    GPU_mem   box_loss   cls_loss   dfl_loss  Instances       Size\n"
     ]
    },
    {
     "name": "stderr",
     "output_type": "stream",
     "text": [
      "    100/200         0G     0.1232      1.194     0.9079         18         96: 100%|██████████| 800/800 [05:12<00:00,  2.56it/s]\n",
      "                 Class     Images  Instances      Box(P          R      mAP50  mAP50-95): 100%|██████████| 100/100 [00:29<00:00,  3.38it/s]"
     ]
    },
    {
     "name": "stdout",
     "output_type": "stream",
     "text": [
      "                   all       1600       1600      0.628      0.728      0.735      0.735\n"
     ]
    },
    {
     "name": "stderr",
     "output_type": "stream",
     "text": [
      "\n"
     ]
    },
    {
     "name": "stdout",
     "output_type": "stream",
     "text": [
      "\n",
      "      Epoch    GPU_mem   box_loss   cls_loss   dfl_loss  Instances       Size\n"
     ]
    },
    {
     "name": "stderr",
     "output_type": "stream",
     "text": [
      "    101/200         0G     0.1234      1.197     0.9067         17         96: 100%|██████████| 800/800 [04:53<00:00,  2.73it/s]\n",
      "                 Class     Images  Instances      Box(P          R      mAP50  mAP50-95): 100%|██████████| 100/100 [00:28<00:00,  3.54it/s]"
     ]
    },
    {
     "name": "stdout",
     "output_type": "stream",
     "text": [
      "                   all       1600       1600      0.653      0.697      0.734      0.734\n"
     ]
    },
    {
     "name": "stderr",
     "output_type": "stream",
     "text": [
      "\n"
     ]
    },
    {
     "name": "stdout",
     "output_type": "stream",
     "text": [
      "\n",
      "      Epoch    GPU_mem   box_loss   cls_loss   dfl_loss  Instances       Size\n"
     ]
    },
    {
     "name": "stderr",
     "output_type": "stream",
     "text": [
      "    102/200         0G     0.1247      1.202     0.9097         22         96: 100%|██████████| 800/800 [04:44<00:00,  2.81it/s]\n",
      "                 Class     Images  Instances      Box(P          R      mAP50  mAP50-95): 100%|██████████| 100/100 [00:27<00:00,  3.68it/s]"
     ]
    },
    {
     "name": "stdout",
     "output_type": "stream",
     "text": [
      "                   all       1600       1600      0.624      0.722      0.731      0.731\n"
     ]
    },
    {
     "name": "stderr",
     "output_type": "stream",
     "text": [
      "\n"
     ]
    },
    {
     "name": "stdout",
     "output_type": "stream",
     "text": [
      "\n",
      "      Epoch    GPU_mem   box_loss   cls_loss   dfl_loss  Instances       Size\n"
     ]
    },
    {
     "name": "stderr",
     "output_type": "stream",
     "text": [
      "    103/200         0G      0.122      1.191     0.9057         15         96: 100%|██████████| 800/800 [04:34<00:00,  2.92it/s]\n",
      "                 Class     Images  Instances      Box(P          R      mAP50  mAP50-95): 100%|██████████| 100/100 [00:26<00:00,  3.73it/s]"
     ]
    },
    {
     "name": "stdout",
     "output_type": "stream",
     "text": [
      "                   all       1600       1600      0.626      0.728      0.735      0.735\n"
     ]
    },
    {
     "name": "stderr",
     "output_type": "stream",
     "text": [
      "\n"
     ]
    },
    {
     "name": "stdout",
     "output_type": "stream",
     "text": [
      "\n",
      "      Epoch    GPU_mem   box_loss   cls_loss   dfl_loss  Instances       Size\n"
     ]
    },
    {
     "name": "stderr",
     "output_type": "stream",
     "text": [
      "    104/200         0G       0.12      1.198     0.9057         28         96: 100%|██████████| 800/800 [04:27<00:00,  3.00it/s]\n",
      "                 Class     Images  Instances      Box(P          R      mAP50  mAP50-95): 100%|██████████| 100/100 [00:26<00:00,  3.80it/s]"
     ]
    },
    {
     "name": "stdout",
     "output_type": "stream",
     "text": [
      "                   all       1600       1600      0.632       0.72      0.734      0.734\n"
     ]
    },
    {
     "name": "stderr",
     "output_type": "stream",
     "text": [
      "\n"
     ]
    },
    {
     "name": "stdout",
     "output_type": "stream",
     "text": [
      "\n",
      "      Epoch    GPU_mem   box_loss   cls_loss   dfl_loss  Instances       Size\n"
     ]
    },
    {
     "name": "stderr",
     "output_type": "stream",
     "text": [
      "    105/200         0G     0.1243      1.202     0.9076         14         96: 100%|██████████| 800/800 [04:24<00:00,  3.02it/s]\n",
      "                 Class     Images  Instances      Box(P          R      mAP50  mAP50-95): 100%|██████████| 100/100 [00:26<00:00,  3.79it/s]"
     ]
    },
    {
     "name": "stdout",
     "output_type": "stream",
     "text": [
      "                   all       1600       1600      0.642      0.712      0.735      0.735\n"
     ]
    },
    {
     "name": "stderr",
     "output_type": "stream",
     "text": [
      "\n"
     ]
    },
    {
     "name": "stdout",
     "output_type": "stream",
     "text": [
      "\n",
      "      Epoch    GPU_mem   box_loss   cls_loss   dfl_loss  Instances       Size\n"
     ]
    },
    {
     "name": "stderr",
     "output_type": "stream",
     "text": [
      "    106/200         0G      0.123      1.195     0.9088         17         96: 100%|██████████| 800/800 [04:28<00:00,  2.98it/s]\n",
      "                 Class     Images  Instances      Box(P          R      mAP50  mAP50-95): 100%|██████████| 100/100 [00:26<00:00,  3.77it/s]"
     ]
    },
    {
     "name": "stdout",
     "output_type": "stream",
     "text": [
      "                   all       1600       1600      0.642      0.718      0.736      0.735\n"
     ]
    },
    {
     "name": "stderr",
     "output_type": "stream",
     "text": [
      "\n"
     ]
    },
    {
     "name": "stdout",
     "output_type": "stream",
     "text": [
      "\n",
      "      Epoch    GPU_mem   box_loss   cls_loss   dfl_loss  Instances       Size\n"
     ]
    },
    {
     "name": "stderr",
     "output_type": "stream",
     "text": [
      "    107/200         0G     0.1218      1.194     0.9086         23         96: 100%|██████████| 800/800 [04:29<00:00,  2.97it/s]\n",
      "                 Class     Images  Instances      Box(P          R      mAP50  mAP50-95): 100%|██████████| 100/100 [00:28<00:00,  3.53it/s]"
     ]
    },
    {
     "name": "stdout",
     "output_type": "stream",
     "text": [
      "                   all       1600       1600      0.662      0.693      0.736      0.736\n"
     ]
    },
    {
     "name": "stderr",
     "output_type": "stream",
     "text": [
      "\n"
     ]
    },
    {
     "name": "stdout",
     "output_type": "stream",
     "text": [
      "\n",
      "      Epoch    GPU_mem   box_loss   cls_loss   dfl_loss  Instances       Size\n"
     ]
    },
    {
     "name": "stderr",
     "output_type": "stream",
     "text": [
      "    108/200         0G     0.1195      1.192     0.9091         30         96: 100%|██████████| 800/800 [04:33<00:00,  2.92it/s]\n",
      "                 Class     Images  Instances      Box(P          R      mAP50  mAP50-95): 100%|██████████| 100/100 [00:28<00:00,  3.57it/s]"
     ]
    },
    {
     "name": "stdout",
     "output_type": "stream",
     "text": [
      "                   all       1600       1600      0.634      0.725      0.737      0.736\n"
     ]
    },
    {
     "name": "stderr",
     "output_type": "stream",
     "text": [
      "\n"
     ]
    },
    {
     "name": "stdout",
     "output_type": "stream",
     "text": [
      "\n",
      "      Epoch    GPU_mem   box_loss   cls_loss   dfl_loss  Instances       Size\n"
     ]
    },
    {
     "name": "stderr",
     "output_type": "stream",
     "text": [
      "    109/200         0G      0.119       1.19     0.9088         24         96: 100%|██████████| 800/800 [04:35<00:00,  2.90it/s]\n",
      "                 Class     Images  Instances      Box(P          R      mAP50  mAP50-95): 100%|██████████| 100/100 [00:27<00:00,  3.60it/s]"
     ]
    },
    {
     "name": "stdout",
     "output_type": "stream",
     "text": [
      "                   all       1600       1600      0.626      0.733      0.734      0.734\n"
     ]
    },
    {
     "name": "stderr",
     "output_type": "stream",
     "text": [
      "\n"
     ]
    },
    {
     "name": "stdout",
     "output_type": "stream",
     "text": [
      "\n",
      "      Epoch    GPU_mem   box_loss   cls_loss   dfl_loss  Instances       Size\n"
     ]
    },
    {
     "name": "stderr",
     "output_type": "stream",
     "text": [
      "    110/200         0G     0.1195      1.186      0.904         22         96: 100%|██████████| 800/800 [04:33<00:00,  2.92it/s]\n",
      "                 Class     Images  Instances      Box(P          R      mAP50  mAP50-95): 100%|██████████| 100/100 [00:27<00:00,  3.66it/s]"
     ]
    },
    {
     "name": "stdout",
     "output_type": "stream",
     "text": [
      "                   all       1600       1600      0.638      0.721      0.735      0.735\n"
     ]
    },
    {
     "name": "stderr",
     "output_type": "stream",
     "text": [
      "\n"
     ]
    },
    {
     "name": "stdout",
     "output_type": "stream",
     "text": [
      "\n",
      "      Epoch    GPU_mem   box_loss   cls_loss   dfl_loss  Instances       Size\n"
     ]
    },
    {
     "name": "stderr",
     "output_type": "stream",
     "text": [
      "    111/200         0G     0.1185      1.187     0.9063         13         96: 100%|██████████| 800/800 [04:40<00:00,  2.85it/s]\n",
      "                 Class     Images  Instances      Box(P          R      mAP50  mAP50-95): 100%|██████████| 100/100 [00:27<00:00,  3.59it/s]"
     ]
    },
    {
     "name": "stdout",
     "output_type": "stream",
     "text": [
      "                   all       1600       1600      0.643      0.726      0.739      0.739\n"
     ]
    },
    {
     "name": "stderr",
     "output_type": "stream",
     "text": [
      "\n"
     ]
    },
    {
     "name": "stdout",
     "output_type": "stream",
     "text": [
      "\n",
      "      Epoch    GPU_mem   box_loss   cls_loss   dfl_loss  Instances       Size\n"
     ]
    },
    {
     "name": "stderr",
     "output_type": "stream",
     "text": [
      "    112/200         0G     0.1203      1.168     0.9069         20         96: 100%|██████████| 800/800 [04:34<00:00,  2.92it/s]\n",
      "                 Class     Images  Instances      Box(P          R      mAP50  mAP50-95): 100%|██████████| 100/100 [00:27<00:00,  3.67it/s]"
     ]
    },
    {
     "name": "stdout",
     "output_type": "stream",
     "text": [
      "                   all       1600       1600      0.641      0.726      0.741      0.741\n"
     ]
    },
    {
     "name": "stderr",
     "output_type": "stream",
     "text": [
      "\n"
     ]
    },
    {
     "name": "stdout",
     "output_type": "stream",
     "text": [
      "\n",
      "      Epoch    GPU_mem   box_loss   cls_loss   dfl_loss  Instances       Size\n"
     ]
    },
    {
     "name": "stderr",
     "output_type": "stream",
     "text": [
      "    113/200         0G     0.1193      1.172     0.9068         15         96: 100%|██████████| 800/800 [04:31<00:00,  2.95it/s]\n",
      "                 Class     Images  Instances      Box(P          R      mAP50  mAP50-95): 100%|██████████| 100/100 [00:27<00:00,  3.65it/s]"
     ]
    },
    {
     "name": "stdout",
     "output_type": "stream",
     "text": [
      "                   all       1600       1600      0.662      0.701      0.741      0.741\n"
     ]
    },
    {
     "name": "stderr",
     "output_type": "stream",
     "text": [
      "\n"
     ]
    },
    {
     "name": "stdout",
     "output_type": "stream",
     "text": [
      "\n",
      "      Epoch    GPU_mem   box_loss   cls_loss   dfl_loss  Instances       Size\n"
     ]
    },
    {
     "name": "stderr",
     "output_type": "stream",
     "text": [
      "    114/200         0G     0.1152      1.165      0.905         16         96: 100%|██████████| 800/800 [04:30<00:00,  2.96it/s]\n",
      "                 Class     Images  Instances      Box(P          R      mAP50  mAP50-95): 100%|██████████| 100/100 [00:27<00:00,  3.67it/s]"
     ]
    },
    {
     "name": "stdout",
     "output_type": "stream",
     "text": [
      "                   all       1600       1600      0.677       0.68      0.738      0.738\n"
     ]
    },
    {
     "name": "stderr",
     "output_type": "stream",
     "text": [
      "\n"
     ]
    },
    {
     "name": "stdout",
     "output_type": "stream",
     "text": [
      "\n",
      "      Epoch    GPU_mem   box_loss   cls_loss   dfl_loss  Instances       Size\n"
     ]
    },
    {
     "name": "stderr",
     "output_type": "stream",
     "text": [
      "    115/200         0G      0.119      1.179     0.9067         13         96: 100%|██████████| 800/800 [04:34<00:00,  2.92it/s]\n",
      "                 Class     Images  Instances      Box(P          R      mAP50  mAP50-95): 100%|██████████| 100/100 [00:27<00:00,  3.61it/s]"
     ]
    },
    {
     "name": "stdout",
     "output_type": "stream",
     "text": [
      "                   all       1600       1600      0.668      0.696       0.74       0.74\n"
     ]
    },
    {
     "name": "stderr",
     "output_type": "stream",
     "text": [
      "\n"
     ]
    },
    {
     "name": "stdout",
     "output_type": "stream",
     "text": [
      "\n",
      "      Epoch    GPU_mem   box_loss   cls_loss   dfl_loss  Instances       Size\n"
     ]
    },
    {
     "name": "stderr",
     "output_type": "stream",
     "text": [
      "    116/200         0G     0.1149      1.168     0.9069         20         96: 100%|██████████| 800/800 [04:43<00:00,  2.82it/s]\n",
      "                 Class     Images  Instances      Box(P          R      mAP50  mAP50-95): 100%|██████████| 100/100 [00:27<00:00,  3.69it/s]"
     ]
    },
    {
     "name": "stdout",
     "output_type": "stream",
     "text": [
      "                   all       1600       1600      0.668      0.698       0.74       0.74\n"
     ]
    },
    {
     "name": "stderr",
     "output_type": "stream",
     "text": [
      "\n"
     ]
    },
    {
     "name": "stdout",
     "output_type": "stream",
     "text": [
      "\n",
      "      Epoch    GPU_mem   box_loss   cls_loss   dfl_loss  Instances       Size\n"
     ]
    },
    {
     "name": "stderr",
     "output_type": "stream",
     "text": [
      "    117/200         0G     0.1147      1.163     0.9086         19         96: 100%|██████████| 800/800 [04:34<00:00,  2.92it/s]\n",
      "                 Class     Images  Instances      Box(P          R      mAP50  mAP50-95): 100%|██████████| 100/100 [00:27<00:00,  3.66it/s]"
     ]
    },
    {
     "name": "stdout",
     "output_type": "stream",
     "text": [
      "                   all       1600       1600      0.667      0.702      0.744      0.744\n"
     ]
    },
    {
     "name": "stderr",
     "output_type": "stream",
     "text": [
      "\n"
     ]
    },
    {
     "name": "stdout",
     "output_type": "stream",
     "text": [
      "\n",
      "      Epoch    GPU_mem   box_loss   cls_loss   dfl_loss  Instances       Size\n"
     ]
    },
    {
     "name": "stderr",
     "output_type": "stream",
     "text": [
      "    118/200         0G     0.1163      1.157     0.9073         17         96: 100%|██████████| 800/800 [04:53<00:00,  2.72it/s]\n",
      "                 Class     Images  Instances      Box(P          R      mAP50  mAP50-95): 100%|██████████| 100/100 [00:26<00:00,  3.84it/s]"
     ]
    },
    {
     "name": "stdout",
     "output_type": "stream",
     "text": [
      "                   all       1600       1600      0.663      0.704      0.745      0.745\n"
     ]
    },
    {
     "name": "stderr",
     "output_type": "stream",
     "text": [
      "\n"
     ]
    },
    {
     "name": "stdout",
     "output_type": "stream",
     "text": [
      "\n",
      "      Epoch    GPU_mem   box_loss   cls_loss   dfl_loss  Instances       Size\n"
     ]
    },
    {
     "name": "stderr",
     "output_type": "stream",
     "text": [
      "    119/200         0G     0.1158      1.166     0.9099         27         96: 100%|██████████| 800/800 [04:44<00:00,  2.81it/s]\n",
      "                 Class     Images  Instances      Box(P          R      mAP50  mAP50-95): 100%|██████████| 100/100 [00:28<00:00,  3.55it/s]"
     ]
    },
    {
     "name": "stdout",
     "output_type": "stream",
     "text": [
      "                   all       1600       1600      0.667      0.704      0.746      0.746\n"
     ]
    },
    {
     "name": "stderr",
     "output_type": "stream",
     "text": [
      "\n"
     ]
    },
    {
     "name": "stdout",
     "output_type": "stream",
     "text": [
      "\n",
      "      Epoch    GPU_mem   box_loss   cls_loss   dfl_loss  Instances       Size\n"
     ]
    },
    {
     "name": "stderr",
     "output_type": "stream",
     "text": [
      "    120/200         0G     0.1144      1.171      0.907         22         96: 100%|██████████| 800/800 [04:39<00:00,  2.86it/s]\n",
      "                 Class     Images  Instances      Box(P          R      mAP50  mAP50-95): 100%|██████████| 100/100 [00:27<00:00,  3.64it/s]"
     ]
    },
    {
     "name": "stdout",
     "output_type": "stream",
     "text": [
      "                   all       1600       1600      0.658      0.706      0.747      0.747\n"
     ]
    },
    {
     "name": "stderr",
     "output_type": "stream",
     "text": [
      "\n"
     ]
    },
    {
     "name": "stdout",
     "output_type": "stream",
     "text": [
      "\n",
      "      Epoch    GPU_mem   box_loss   cls_loss   dfl_loss  Instances       Size\n"
     ]
    },
    {
     "name": "stderr",
     "output_type": "stream",
     "text": [
      "    121/200         0G     0.1148      1.159     0.9029         17         96: 100%|██████████| 800/800 [04:38<00:00,  2.87it/s]\n",
      "                 Class     Images  Instances      Box(P          R      mAP50  mAP50-95): 100%|██████████| 100/100 [00:27<00:00,  3.60it/s]"
     ]
    },
    {
     "name": "stdout",
     "output_type": "stream",
     "text": [
      "                   all       1600       1600      0.659      0.713      0.746      0.746\n"
     ]
    },
    {
     "name": "stderr",
     "output_type": "stream",
     "text": [
      "\n"
     ]
    },
    {
     "name": "stdout",
     "output_type": "stream",
     "text": [
      "\n",
      "      Epoch    GPU_mem   box_loss   cls_loss   dfl_loss  Instances       Size\n"
     ]
    },
    {
     "name": "stderr",
     "output_type": "stream",
     "text": [
      "    122/200         0G     0.1147      1.161     0.9075         20         96: 100%|██████████| 800/800 [04:33<00:00,  2.92it/s]\n",
      "                 Class     Images  Instances      Box(P          R      mAP50  mAP50-95): 100%|██████████| 100/100 [00:27<00:00,  3.64it/s]"
     ]
    },
    {
     "name": "stdout",
     "output_type": "stream",
     "text": [
      "                   all       1600       1600      0.666      0.706      0.746      0.746\n"
     ]
    },
    {
     "name": "stderr",
     "output_type": "stream",
     "text": [
      "\n"
     ]
    },
    {
     "name": "stdout",
     "output_type": "stream",
     "text": [
      "\n",
      "      Epoch    GPU_mem   box_loss   cls_loss   dfl_loss  Instances       Size\n"
     ]
    },
    {
     "name": "stderr",
     "output_type": "stream",
     "text": [
      "    123/200         0G     0.1119      1.154     0.9056         14         96: 100%|██████████| 800/800 [04:37<00:00,  2.89it/s]\n",
      "                 Class     Images  Instances      Box(P          R      mAP50  mAP50-95): 100%|██████████| 100/100 [00:27<00:00,  3.60it/s]"
     ]
    },
    {
     "name": "stdout",
     "output_type": "stream",
     "text": [
      "                   all       1600       1600      0.668      0.711      0.746      0.746\n"
     ]
    },
    {
     "name": "stderr",
     "output_type": "stream",
     "text": [
      "\n"
     ]
    },
    {
     "name": "stdout",
     "output_type": "stream",
     "text": [
      "\n",
      "      Epoch    GPU_mem   box_loss   cls_loss   dfl_loss  Instances       Size\n"
     ]
    },
    {
     "name": "stderr",
     "output_type": "stream",
     "text": [
      "    124/200         0G     0.1113      1.152     0.9067         16         96: 100%|██████████| 800/800 [04:38<00:00,  2.87it/s]\n",
      "                 Class     Images  Instances      Box(P          R      mAP50  mAP50-95): 100%|██████████| 100/100 [00:28<00:00,  3.51it/s]"
     ]
    },
    {
     "name": "stdout",
     "output_type": "stream",
     "text": [
      "                   all       1600       1600      0.663      0.718      0.747      0.747\n"
     ]
    },
    {
     "name": "stderr",
     "output_type": "stream",
     "text": [
      "\n"
     ]
    },
    {
     "name": "stdout",
     "output_type": "stream",
     "text": [
      "\n",
      "      Epoch    GPU_mem   box_loss   cls_loss   dfl_loss  Instances       Size\n"
     ]
    },
    {
     "name": "stderr",
     "output_type": "stream",
     "text": [
      "    125/200         0G     0.1096      1.149     0.9027         20         96: 100%|██████████| 800/800 [04:36<00:00,  2.89it/s]\n",
      "                 Class     Images  Instances      Box(P          R      mAP50  mAP50-95): 100%|██████████| 100/100 [00:29<00:00,  3.36it/s]"
     ]
    },
    {
     "name": "stdout",
     "output_type": "stream",
     "text": [
      "                   all       1600       1600      0.655      0.723      0.747      0.747\n"
     ]
    },
    {
     "name": "stderr",
     "output_type": "stream",
     "text": [
      "\n"
     ]
    },
    {
     "name": "stdout",
     "output_type": "stream",
     "text": [
      "\n",
      "      Epoch    GPU_mem   box_loss   cls_loss   dfl_loss  Instances       Size\n"
     ]
    },
    {
     "name": "stderr",
     "output_type": "stream",
     "text": [
      "    126/200         0G     0.1105      1.134      0.901         17         96: 100%|██████████| 800/800 [04:36<00:00,  2.89it/s]\n",
      "                 Class     Images  Instances      Box(P          R      mAP50  mAP50-95): 100%|██████████| 100/100 [00:29<00:00,  3.45it/s]"
     ]
    },
    {
     "name": "stdout",
     "output_type": "stream",
     "text": [
      "                   all       1600       1600      0.655      0.718      0.746      0.746\n"
     ]
    },
    {
     "name": "stderr",
     "output_type": "stream",
     "text": [
      "\n"
     ]
    },
    {
     "name": "stdout",
     "output_type": "stream",
     "text": [
      "\n",
      "      Epoch    GPU_mem   box_loss   cls_loss   dfl_loss  Instances       Size\n"
     ]
    },
    {
     "name": "stderr",
     "output_type": "stream",
     "text": [
      "    127/200         0G     0.1119      1.156     0.9047         27         96: 100%|██████████| 800/800 [04:37<00:00,  2.89it/s]\n",
      "                 Class     Images  Instances      Box(P          R      mAP50  mAP50-95): 100%|██████████| 100/100 [00:28<00:00,  3.55it/s]"
     ]
    },
    {
     "name": "stdout",
     "output_type": "stream",
     "text": [
      "                   all       1600       1600      0.651      0.725      0.745      0.745\n"
     ]
    },
    {
     "name": "stderr",
     "output_type": "stream",
     "text": [
      "\n"
     ]
    },
    {
     "name": "stdout",
     "output_type": "stream",
     "text": [
      "\n",
      "      Epoch    GPU_mem   box_loss   cls_loss   dfl_loss  Instances       Size\n"
     ]
    },
    {
     "name": "stderr",
     "output_type": "stream",
     "text": [
      "    128/200         0G     0.1086      1.149      0.904         17         96: 100%|██████████| 800/800 [04:36<00:00,  2.89it/s]\n",
      "                 Class     Images  Instances      Box(P          R      mAP50  mAP50-95): 100%|██████████| 100/100 [00:27<00:00,  3.58it/s]"
     ]
    },
    {
     "name": "stdout",
     "output_type": "stream",
     "text": [
      "                   all       1600       1600      0.649      0.725      0.746      0.746\n"
     ]
    },
    {
     "name": "stderr",
     "output_type": "stream",
     "text": [
      "\n"
     ]
    },
    {
     "name": "stdout",
     "output_type": "stream",
     "text": [
      "\n",
      "      Epoch    GPU_mem   box_loss   cls_loss   dfl_loss  Instances       Size\n"
     ]
    },
    {
     "name": "stderr",
     "output_type": "stream",
     "text": [
      "    129/200         0G     0.1088      1.132     0.9044         10         96: 100%|██████████| 800/800 [04:36<00:00,  2.90it/s]\n",
      "                 Class     Images  Instances      Box(P          R      mAP50  mAP50-95): 100%|██████████| 100/100 [00:28<00:00,  3.57it/s]"
     ]
    },
    {
     "name": "stdout",
     "output_type": "stream",
     "text": [
      "                   all       1600       1600      0.649      0.723      0.744      0.744\n"
     ]
    },
    {
     "name": "stderr",
     "output_type": "stream",
     "text": [
      "\n"
     ]
    },
    {
     "name": "stdout",
     "output_type": "stream",
     "text": [
      "\n",
      "      Epoch    GPU_mem   box_loss   cls_loss   dfl_loss  Instances       Size\n"
     ]
    },
    {
     "name": "stderr",
     "output_type": "stream",
     "text": [
      "    130/200         0G     0.1099      1.144     0.9058         22         96: 100%|██████████| 800/800 [04:39<00:00,  2.86it/s]\n",
      "                 Class     Images  Instances      Box(P          R      mAP50  mAP50-95): 100%|██████████| 100/100 [00:27<00:00,  3.65it/s]"
     ]
    },
    {
     "name": "stdout",
     "output_type": "stream",
     "text": [
      "                   all       1600       1600      0.644      0.725      0.744      0.744\n"
     ]
    },
    {
     "name": "stderr",
     "output_type": "stream",
     "text": [
      "\n"
     ]
    },
    {
     "name": "stdout",
     "output_type": "stream",
     "text": [
      "\n",
      "      Epoch    GPU_mem   box_loss   cls_loss   dfl_loss  Instances       Size\n"
     ]
    },
    {
     "name": "stderr",
     "output_type": "stream",
     "text": [
      "    131/200         0G     0.1108      1.142     0.9067         24         96: 100%|██████████| 800/800 [04:43<00:00,  2.83it/s]\n",
      "                 Class     Images  Instances      Box(P          R      mAP50  mAP50-95): 100%|██████████| 100/100 [00:28<00:00,  3.51it/s]"
     ]
    },
    {
     "name": "stdout",
     "output_type": "stream",
     "text": [
      "                   all       1600       1600      0.638      0.732      0.743      0.743\n"
     ]
    },
    {
     "name": "stderr",
     "output_type": "stream",
     "text": [
      "\n"
     ]
    },
    {
     "name": "stdout",
     "output_type": "stream",
     "text": [
      "\n",
      "      Epoch    GPU_mem   box_loss   cls_loss   dfl_loss  Instances       Size\n"
     ]
    },
    {
     "name": "stderr",
     "output_type": "stream",
     "text": [
      "    132/200         0G     0.1062      1.136     0.9042         15         96: 100%|██████████| 800/800 [04:38<00:00,  2.88it/s]\n",
      "                 Class     Images  Instances      Box(P          R      mAP50  mAP50-95): 100%|██████████| 100/100 [00:28<00:00,  3.49it/s]"
     ]
    },
    {
     "name": "stdout",
     "output_type": "stream",
     "text": [
      "                   all       1600       1600      0.641      0.729      0.742      0.742\n"
     ]
    },
    {
     "name": "stderr",
     "output_type": "stream",
     "text": [
      "\n"
     ]
    },
    {
     "name": "stdout",
     "output_type": "stream",
     "text": [
      "\n",
      "      Epoch    GPU_mem   box_loss   cls_loss   dfl_loss  Instances       Size\n"
     ]
    },
    {
     "name": "stderr",
     "output_type": "stream",
     "text": [
      "    133/200         0G      0.109      1.141     0.9048         18         96: 100%|██████████| 800/800 [04:38<00:00,  2.87it/s]\n",
      "                 Class     Images  Instances      Box(P          R      mAP50  mAP50-95): 100%|██████████| 100/100 [00:28<00:00,  3.55it/s]"
     ]
    },
    {
     "name": "stdout",
     "output_type": "stream",
     "text": [
      "                   all       1600       1600       0.64      0.736      0.742      0.742\n"
     ]
    },
    {
     "name": "stderr",
     "output_type": "stream",
     "text": [
      "\n"
     ]
    },
    {
     "name": "stdout",
     "output_type": "stream",
     "text": [
      "\n",
      "      Epoch    GPU_mem   box_loss   cls_loss   dfl_loss  Instances       Size\n"
     ]
    },
    {
     "name": "stderr",
     "output_type": "stream",
     "text": [
      "    134/200         0G      0.107      1.137     0.9063         13         96: 100%|██████████| 800/800 [04:36<00:00,  2.90it/s]\n",
      "                 Class     Images  Instances      Box(P          R      mAP50  mAP50-95): 100%|██████████| 100/100 [00:28<00:00,  3.53it/s]"
     ]
    },
    {
     "name": "stdout",
     "output_type": "stream",
     "text": [
      "                   all       1600       1600      0.645      0.728      0.743      0.743\n"
     ]
    },
    {
     "name": "stderr",
     "output_type": "stream",
     "text": [
      "\n"
     ]
    },
    {
     "name": "stdout",
     "output_type": "stream",
     "text": [
      "\n",
      "      Epoch    GPU_mem   box_loss   cls_loss   dfl_loss  Instances       Size\n"
     ]
    },
    {
     "name": "stderr",
     "output_type": "stream",
     "text": [
      "    135/200         0G     0.1051      1.127     0.9012         24         96: 100%|██████████| 800/800 [04:26<00:00,  3.00it/s]\n",
      "                 Class     Images  Instances      Box(P          R      mAP50  mAP50-95): 100%|██████████| 100/100 [00:25<00:00,  3.95it/s]"
     ]
    },
    {
     "name": "stdout",
     "output_type": "stream",
     "text": [
      "                   all       1600       1600      0.648      0.721      0.744      0.744\n"
     ]
    },
    {
     "name": "stderr",
     "output_type": "stream",
     "text": [
      "\n"
     ]
    },
    {
     "name": "stdout",
     "output_type": "stream",
     "text": [
      "\n",
      "      Epoch    GPU_mem   box_loss   cls_loss   dfl_loss  Instances       Size\n"
     ]
    },
    {
     "name": "stderr",
     "output_type": "stream",
     "text": [
      "    136/200         0G     0.1068      1.129     0.9033         16         96: 100%|██████████| 800/800 [04:35<00:00,  2.91it/s]\n",
      "                 Class     Images  Instances      Box(P          R      mAP50  mAP50-95): 100%|██████████| 100/100 [00:28<00:00,  3.53it/s]"
     ]
    },
    {
     "name": "stdout",
     "output_type": "stream",
     "text": [
      "                   all       1600       1600      0.645      0.718      0.744      0.744\n"
     ]
    },
    {
     "name": "stderr",
     "output_type": "stream",
     "text": [
      "\n"
     ]
    },
    {
     "name": "stdout",
     "output_type": "stream",
     "text": [
      "\n",
      "      Epoch    GPU_mem   box_loss   cls_loss   dfl_loss  Instances       Size\n"
     ]
    },
    {
     "name": "stderr",
     "output_type": "stream",
     "text": [
      "    137/200         0G     0.1064      1.137     0.9019         18         96: 100%|██████████| 800/800 [04:38<00:00,  2.87it/s]\n",
      "                 Class     Images  Instances      Box(P          R      mAP50  mAP50-95): 100%|██████████| 100/100 [00:27<00:00,  3.68it/s]"
     ]
    },
    {
     "name": "stdout",
     "output_type": "stream",
     "text": [
      "                   all       1600       1600      0.681      0.684      0.744      0.744\n"
     ]
    },
    {
     "name": "stderr",
     "output_type": "stream",
     "text": [
      "\n"
     ]
    },
    {
     "name": "stdout",
     "output_type": "stream",
     "text": [
      "\n",
      "      Epoch    GPU_mem   box_loss   cls_loss   dfl_loss  Instances       Size\n"
     ]
    },
    {
     "name": "stderr",
     "output_type": "stream",
     "text": [
      "    138/200         0G     0.1059      1.119     0.9053         17         96: 100%|██████████| 800/800 [04:33<00:00,  2.92it/s]\n",
      "                 Class     Images  Instances      Box(P          R      mAP50  mAP50-95): 100%|██████████| 100/100 [00:27<00:00,  3.62it/s]"
     ]
    },
    {
     "name": "stdout",
     "output_type": "stream",
     "text": [
      "                   all       1600       1600      0.675      0.685      0.743      0.743\n"
     ]
    },
    {
     "name": "stderr",
     "output_type": "stream",
     "text": [
      "\n"
     ]
    },
    {
     "name": "stdout",
     "output_type": "stream",
     "text": [
      "\n",
      "      Epoch    GPU_mem   box_loss   cls_loss   dfl_loss  Instances       Size\n"
     ]
    },
    {
     "name": "stderr",
     "output_type": "stream",
     "text": [
      "    139/200         0G     0.1056      1.127     0.9048         19         96: 100%|██████████| 800/800 [04:37<00:00,  2.88it/s]\n",
      "                 Class     Images  Instances      Box(P          R      mAP50  mAP50-95): 100%|██████████| 100/100 [00:27<00:00,  3.63it/s]"
     ]
    },
    {
     "name": "stdout",
     "output_type": "stream",
     "text": [
      "                   all       1600       1600      0.679       0.68      0.743      0.743\n"
     ]
    },
    {
     "name": "stderr",
     "output_type": "stream",
     "text": [
      "\n"
     ]
    },
    {
     "name": "stdout",
     "output_type": "stream",
     "text": [
      "\n",
      "      Epoch    GPU_mem   box_loss   cls_loss   dfl_loss  Instances       Size\n"
     ]
    },
    {
     "name": "stderr",
     "output_type": "stream",
     "text": [
      "    140/200         0G      0.105      1.116     0.9041         14         96: 100%|██████████| 800/800 [04:37<00:00,  2.89it/s]\n",
      "                 Class     Images  Instances      Box(P          R      mAP50  mAP50-95): 100%|██████████| 100/100 [00:27<00:00,  3.64it/s]"
     ]
    },
    {
     "name": "stdout",
     "output_type": "stream",
     "text": [
      "                   all       1600       1600      0.661      0.698      0.743      0.743\n"
     ]
    },
    {
     "name": "stderr",
     "output_type": "stream",
     "text": [
      "\n"
     ]
    },
    {
     "name": "stdout",
     "output_type": "stream",
     "text": [
      "\n",
      "      Epoch    GPU_mem   box_loss   cls_loss   dfl_loss  Instances       Size\n"
     ]
    },
    {
     "name": "stderr",
     "output_type": "stream",
     "text": [
      "    141/200         0G     0.1022       1.12     0.9039         15         96: 100%|██████████| 800/800 [04:36<00:00,  2.89it/s]\n",
      "                 Class     Images  Instances      Box(P          R      mAP50  mAP50-95): 100%|██████████| 100/100 [00:28<00:00,  3.57it/s]"
     ]
    },
    {
     "name": "stdout",
     "output_type": "stream",
     "text": [
      "                   all       1600       1600       0.66      0.704      0.743      0.743\n"
     ]
    },
    {
     "name": "stderr",
     "output_type": "stream",
     "text": [
      "\n"
     ]
    },
    {
     "name": "stdout",
     "output_type": "stream",
     "text": [
      "\n",
      "      Epoch    GPU_mem   box_loss   cls_loss   dfl_loss  Instances       Size\n"
     ]
    },
    {
     "name": "stderr",
     "output_type": "stream",
     "text": [
      "    142/200         0G     0.1042      1.111     0.9024         15         96: 100%|██████████| 800/800 [04:39<00:00,  2.86it/s]\n",
      "                 Class     Images  Instances      Box(P          R      mAP50  mAP50-95): 100%|██████████| 100/100 [00:27<00:00,  3.63it/s]"
     ]
    },
    {
     "name": "stdout",
     "output_type": "stream",
     "text": [
      "                   all       1600       1600      0.659      0.707      0.742      0.742\n"
     ]
    },
    {
     "name": "stderr",
     "output_type": "stream",
     "text": [
      "\n"
     ]
    },
    {
     "name": "stdout",
     "output_type": "stream",
     "text": [
      "\n",
      "      Epoch    GPU_mem   box_loss   cls_loss   dfl_loss  Instances       Size\n"
     ]
    },
    {
     "name": "stderr",
     "output_type": "stream",
     "text": [
      "    143/200         0G     0.1019      1.106     0.9032         25         96: 100%|██████████| 800/800 [04:39<00:00,  2.86it/s]\n",
      "                 Class     Images  Instances      Box(P          R      mAP50  mAP50-95): 100%|██████████| 100/100 [00:27<00:00,  3.59it/s]"
     ]
    },
    {
     "name": "stdout",
     "output_type": "stream",
     "text": [
      "                   all       1600       1600      0.661      0.708      0.742      0.742\n"
     ]
    },
    {
     "name": "stderr",
     "output_type": "stream",
     "text": [
      "\n"
     ]
    },
    {
     "name": "stdout",
     "output_type": "stream",
     "text": [
      "\n",
      "      Epoch    GPU_mem   box_loss   cls_loss   dfl_loss  Instances       Size\n"
     ]
    },
    {
     "name": "stderr",
     "output_type": "stream",
     "text": [
      "    144/200         0G     0.1034      1.108     0.9024         19         96: 100%|██████████| 800/800 [04:35<00:00,  2.90it/s]\n",
      "                 Class     Images  Instances      Box(P          R      mAP50  mAP50-95): 100%|██████████| 100/100 [00:27<00:00,  3.61it/s]"
     ]
    },
    {
     "name": "stdout",
     "output_type": "stream",
     "text": [
      "                   all       1600       1600      0.651      0.711      0.742      0.742\n"
     ]
    },
    {
     "name": "stderr",
     "output_type": "stream",
     "text": [
      "\n"
     ]
    },
    {
     "name": "stdout",
     "output_type": "stream",
     "text": [
      "\n",
      "      Epoch    GPU_mem   box_loss   cls_loss   dfl_loss  Instances       Size\n"
     ]
    },
    {
     "name": "stderr",
     "output_type": "stream",
     "text": [
      "    145/200         0G     0.1019      1.106     0.9016         16         96: 100%|██████████| 800/800 [04:38<00:00,  2.88it/s]\n",
      "                 Class     Images  Instances      Box(P          R      mAP50  mAP50-95): 100%|██████████| 100/100 [00:27<00:00,  3.67it/s]"
     ]
    },
    {
     "name": "stdout",
     "output_type": "stream",
     "text": [
      "                   all       1600       1600      0.661      0.703      0.742      0.742\n"
     ]
    },
    {
     "name": "stderr",
     "output_type": "stream",
     "text": [
      "\n"
     ]
    },
    {
     "name": "stdout",
     "output_type": "stream",
     "text": [
      "\n",
      "      Epoch    GPU_mem   box_loss   cls_loss   dfl_loss  Instances       Size\n"
     ]
    },
    {
     "name": "stderr",
     "output_type": "stream",
     "text": [
      "    146/200         0G      0.101      1.099     0.9067         23         96: 100%|██████████| 800/800 [04:35<00:00,  2.91it/s]\n",
      "                 Class     Images  Instances      Box(P          R      mAP50  mAP50-95): 100%|██████████| 100/100 [00:27<00:00,  3.64it/s]"
     ]
    },
    {
     "name": "stdout",
     "output_type": "stream",
     "text": [
      "                   all       1600       1600      0.668      0.695      0.742      0.742\n"
     ]
    },
    {
     "name": "stderr",
     "output_type": "stream",
     "text": [
      "\n"
     ]
    },
    {
     "name": "stdout",
     "output_type": "stream",
     "text": [
      "\n",
      "      Epoch    GPU_mem   box_loss   cls_loss   dfl_loss  Instances       Size\n"
     ]
    },
    {
     "name": "stderr",
     "output_type": "stream",
     "text": [
      "    147/200         0G     0.1032       1.11     0.9036         27         96: 100%|██████████| 800/800 [05:05<00:00,  2.62it/s]\n",
      "                 Class     Images  Instances      Box(P          R      mAP50  mAP50-95): 100%|██████████| 100/100 [00:27<00:00,  3.64it/s]"
     ]
    },
    {
     "name": "stdout",
     "output_type": "stream",
     "text": [
      "                   all       1600       1600      0.671      0.695      0.742      0.742\n"
     ]
    },
    {
     "name": "stderr",
     "output_type": "stream",
     "text": [
      "\n"
     ]
    },
    {
     "name": "stdout",
     "output_type": "stream",
     "text": [
      "\n",
      "      Epoch    GPU_mem   box_loss   cls_loss   dfl_loss  Instances       Size\n"
     ]
    },
    {
     "name": "stderr",
     "output_type": "stream",
     "text": [
      "    148/200         0G     0.1011      1.098     0.9029         29         96: 100%|██████████| 800/800 [04:46<00:00,  2.80it/s]\n",
      "                 Class     Images  Instances      Box(P          R      mAP50  mAP50-95): 100%|██████████| 100/100 [00:27<00:00,  3.67it/s]"
     ]
    },
    {
     "name": "stdout",
     "output_type": "stream",
     "text": [
      "                   all       1600       1600      0.671      0.696      0.742      0.742\n"
     ]
    },
    {
     "name": "stderr",
     "output_type": "stream",
     "text": [
      "\n"
     ]
    },
    {
     "name": "stdout",
     "output_type": "stream",
     "text": [
      "\n",
      "      Epoch    GPU_mem   box_loss   cls_loss   dfl_loss  Instances       Size\n"
     ]
    },
    {
     "name": "stderr",
     "output_type": "stream",
     "text": [
      "    149/200         0G        0.1      1.097     0.9063         23         96: 100%|██████████| 800/800 [04:40<00:00,  2.86it/s]\n",
      "                 Class     Images  Instances      Box(P          R      mAP50  mAP50-95): 100%|██████████| 100/100 [00:27<00:00,  3.66it/s]"
     ]
    },
    {
     "name": "stdout",
     "output_type": "stream",
     "text": [
      "                   all       1600       1600      0.672      0.693      0.743      0.743\n"
     ]
    },
    {
     "name": "stderr",
     "output_type": "stream",
     "text": [
      "\n"
     ]
    },
    {
     "name": "stdout",
     "output_type": "stream",
     "text": [
      "\n",
      "      Epoch    GPU_mem   box_loss   cls_loss   dfl_loss  Instances       Size\n"
     ]
    },
    {
     "name": "stderr",
     "output_type": "stream",
     "text": [
      "    150/200         0G     0.1006      1.097     0.8995         23         96: 100%|██████████| 800/800 [04:41<00:00,  2.85it/s]\n",
      "                 Class     Images  Instances      Box(P          R      mAP50  mAP50-95): 100%|██████████| 100/100 [00:27<00:00,  3.61it/s]"
     ]
    },
    {
     "name": "stdout",
     "output_type": "stream",
     "text": [
      "                   all       1600       1600      0.676       0.69      0.744      0.744\n"
     ]
    },
    {
     "name": "stderr",
     "output_type": "stream",
     "text": [
      "\n"
     ]
    },
    {
     "name": "stdout",
     "output_type": "stream",
     "text": [
      "\n",
      "      Epoch    GPU_mem   box_loss   cls_loss   dfl_loss  Instances       Size\n"
     ]
    },
    {
     "name": "stderr",
     "output_type": "stream",
     "text": [
      "    151/200         0G    0.09832      1.096     0.9037         21         96: 100%|██████████| 800/800 [04:41<00:00,  2.84it/s]\n",
      "                 Class     Images  Instances      Box(P          R      mAP50  mAP50-95): 100%|██████████| 100/100 [00:27<00:00,  3.63it/s]"
     ]
    },
    {
     "name": "stdout",
     "output_type": "stream",
     "text": [
      "                   all       1600       1600      0.675      0.693      0.744      0.744\n"
     ]
    },
    {
     "name": "stderr",
     "output_type": "stream",
     "text": [
      "\n"
     ]
    },
    {
     "name": "stdout",
     "output_type": "stream",
     "text": [
      "\n",
      "      Epoch    GPU_mem   box_loss   cls_loss   dfl_loss  Instances       Size\n"
     ]
    },
    {
     "name": "stderr",
     "output_type": "stream",
     "text": [
      "    152/200         0G     0.1008      1.094      0.905         19         96: 100%|██████████| 800/800 [04:41<00:00,  2.84it/s]\n",
      "                 Class     Images  Instances      Box(P          R      mAP50  mAP50-95): 100%|██████████| 100/100 [00:27<00:00,  3.60it/s]"
     ]
    },
    {
     "name": "stdout",
     "output_type": "stream",
     "text": [
      "                   all       1600       1600      0.674      0.693      0.744      0.744\n"
     ]
    },
    {
     "name": "stderr",
     "output_type": "stream",
     "text": [
      "\n"
     ]
    },
    {
     "name": "stdout",
     "output_type": "stream",
     "text": [
      "\n",
      "      Epoch    GPU_mem   box_loss   cls_loss   dfl_loss  Instances       Size\n"
     ]
    },
    {
     "name": "stderr",
     "output_type": "stream",
     "text": [
      "    153/200         0G     0.1016      1.102     0.9026         18         96: 100%|██████████| 800/800 [04:50<00:00,  2.75it/s]\n",
      "                 Class     Images  Instances      Box(P          R      mAP50  mAP50-95): 100%|██████████| 100/100 [00:27<00:00,  3.61it/s]"
     ]
    },
    {
     "name": "stdout",
     "output_type": "stream",
     "text": [
      "                   all       1600       1600       0.67      0.699      0.744      0.744\n"
     ]
    },
    {
     "name": "stderr",
     "output_type": "stream",
     "text": [
      "\n"
     ]
    },
    {
     "name": "stdout",
     "output_type": "stream",
     "text": [
      "\n",
      "      Epoch    GPU_mem   box_loss   cls_loss   dfl_loss  Instances       Size\n"
     ]
    },
    {
     "name": "stderr",
     "output_type": "stream",
     "text": [
      "    154/200         0G    0.09828      1.081     0.9034         17         96: 100%|██████████| 800/800 [04:36<00:00,  2.89it/s]\n",
      "                 Class     Images  Instances      Box(P          R      mAP50  mAP50-95): 100%|██████████| 100/100 [00:27<00:00,  3.65it/s]"
     ]
    },
    {
     "name": "stdout",
     "output_type": "stream",
     "text": [
      "                   all       1600       1600      0.673      0.699      0.744      0.744\n"
     ]
    },
    {
     "name": "stderr",
     "output_type": "stream",
     "text": [
      "\n"
     ]
    },
    {
     "name": "stdout",
     "output_type": "stream",
     "text": [
      "\n",
      "      Epoch    GPU_mem   box_loss   cls_loss   dfl_loss  Instances       Size\n"
     ]
    },
    {
     "name": "stderr",
     "output_type": "stream",
     "text": [
      "    155/200         0G      0.097       1.08     0.8988         19         96: 100%|██████████| 800/800 [04:37<00:00,  2.88it/s]\n",
      "                 Class     Images  Instances      Box(P          R      mAP50  mAP50-95): 100%|██████████| 100/100 [00:26<00:00,  3.71it/s]"
     ]
    },
    {
     "name": "stdout",
     "output_type": "stream",
     "text": [
      "                   all       1600       1600      0.671      0.702      0.745      0.745\n"
     ]
    },
    {
     "name": "stderr",
     "output_type": "stream",
     "text": [
      "\n"
     ]
    },
    {
     "name": "stdout",
     "output_type": "stream",
     "text": [
      "\n",
      "      Epoch    GPU_mem   box_loss   cls_loss   dfl_loss  Instances       Size\n"
     ]
    },
    {
     "name": "stderr",
     "output_type": "stream",
     "text": [
      "    156/200         0G    0.09837      1.088     0.9015         16         96: 100%|██████████| 800/800 [04:52<00:00,  2.74it/s]\n",
      "                 Class     Images  Instances      Box(P          R      mAP50  mAP50-95): 100%|██████████| 100/100 [00:29<00:00,  3.34it/s]"
     ]
    },
    {
     "name": "stdout",
     "output_type": "stream",
     "text": [
      "                   all       1600       1600      0.675        0.7      0.745      0.745\n"
     ]
    },
    {
     "name": "stderr",
     "output_type": "stream",
     "text": [
      "\n"
     ]
    },
    {
     "name": "stdout",
     "output_type": "stream",
     "text": [
      "\n",
      "      Epoch    GPU_mem   box_loss   cls_loss   dfl_loss  Instances       Size\n"
     ]
    },
    {
     "name": "stderr",
     "output_type": "stream",
     "text": [
      "    157/200         0G    0.09797      1.069     0.9014         27         96: 100%|██████████| 800/800 [05:16<00:00,  2.53it/s]\n",
      "                 Class     Images  Instances      Box(P          R      mAP50  mAP50-95): 100%|██████████| 100/100 [00:28<00:00,  3.45it/s]"
     ]
    },
    {
     "name": "stdout",
     "output_type": "stream",
     "text": [
      "                   all       1600       1600      0.678      0.697      0.746      0.746\n"
     ]
    },
    {
     "name": "stderr",
     "output_type": "stream",
     "text": [
      "\n"
     ]
    },
    {
     "name": "stdout",
     "output_type": "stream",
     "text": [
      "\n",
      "      Epoch    GPU_mem   box_loss   cls_loss   dfl_loss  Instances       Size\n"
     ]
    },
    {
     "name": "stderr",
     "output_type": "stream",
     "text": [
      "    158/200         0G    0.09891      1.091     0.9039         19         96: 100%|██████████| 800/800 [05:22<00:00,  2.48it/s]\n",
      "                 Class     Images  Instances      Box(P          R      mAP50  mAP50-95): 100%|██████████| 100/100 [00:29<00:00,  3.39it/s]"
     ]
    },
    {
     "name": "stdout",
     "output_type": "stream",
     "text": [
      "                   all       1600       1600       0.68      0.697      0.746      0.746\n"
     ]
    },
    {
     "name": "stderr",
     "output_type": "stream",
     "text": [
      "\n"
     ]
    },
    {
     "name": "stdout",
     "output_type": "stream",
     "text": [
      "\n",
      "      Epoch    GPU_mem   box_loss   cls_loss   dfl_loss  Instances       Size\n"
     ]
    },
    {
     "name": "stderr",
     "output_type": "stream",
     "text": [
      "    159/200         0G    0.09688      1.071      0.901         15         96: 100%|██████████| 800/800 [04:50<00:00,  2.75it/s]\n",
      "                 Class     Images  Instances      Box(P          R      mAP50  mAP50-95): 100%|██████████| 100/100 [00:28<00:00,  3.53it/s]"
     ]
    },
    {
     "name": "stdout",
     "output_type": "stream",
     "text": [
      "                   all       1600       1600       0.68      0.699      0.746      0.746\n"
     ]
    },
    {
     "name": "stderr",
     "output_type": "stream",
     "text": [
      "\n"
     ]
    },
    {
     "name": "stdout",
     "output_type": "stream",
     "text": [
      "\n",
      "      Epoch    GPU_mem   box_loss   cls_loss   dfl_loss  Instances       Size\n"
     ]
    },
    {
     "name": "stderr",
     "output_type": "stream",
     "text": [
      "    160/200         0G    0.09771      1.083     0.9021         18         96: 100%|██████████| 800/800 [04:44<00:00,  2.81it/s]\n",
      "                 Class     Images  Instances      Box(P          R      mAP50  mAP50-95): 100%|██████████| 100/100 [00:27<00:00,  3.59it/s]"
     ]
    },
    {
     "name": "stdout",
     "output_type": "stream",
     "text": [
      "                   all       1600       1600      0.677      0.702      0.746      0.746\n"
     ]
    },
    {
     "name": "stderr",
     "output_type": "stream",
     "text": [
      "\n"
     ]
    },
    {
     "name": "stdout",
     "output_type": "stream",
     "text": [
      "\n",
      "      Epoch    GPU_mem   box_loss   cls_loss   dfl_loss  Instances       Size\n"
     ]
    },
    {
     "name": "stderr",
     "output_type": "stream",
     "text": [
      "    161/200         0G    0.09363      1.071     0.9022         19         96: 100%|██████████| 800/800 [04:40<00:00,  2.85it/s]\n",
      "                 Class     Images  Instances      Box(P          R      mAP50  mAP50-95): 100%|██████████| 100/100 [00:28<00:00,  3.56it/s]"
     ]
    },
    {
     "name": "stdout",
     "output_type": "stream",
     "text": [
      "                   all       1600       1600      0.677      0.703      0.746      0.746\n"
     ]
    },
    {
     "name": "stderr",
     "output_type": "stream",
     "text": [
      "\n"
     ]
    },
    {
     "name": "stdout",
     "output_type": "stream",
     "text": [
      "\n",
      "      Epoch    GPU_mem   box_loss   cls_loss   dfl_loss  Instances       Size\n"
     ]
    },
    {
     "name": "stderr",
     "output_type": "stream",
     "text": [
      "    162/200         0G    0.09633       1.07     0.9027         24         96: 100%|██████████| 800/800 [04:37<00:00,  2.88it/s]\n",
      "                 Class     Images  Instances      Box(P          R      mAP50  mAP50-95): 100%|██████████| 100/100 [00:27<00:00,  3.66it/s]"
     ]
    },
    {
     "name": "stdout",
     "output_type": "stream",
     "text": [
      "                   all       1600       1600      0.675      0.706      0.747      0.747\n"
     ]
    },
    {
     "name": "stderr",
     "output_type": "stream",
     "text": [
      "\n"
     ]
    },
    {
     "name": "stdout",
     "output_type": "stream",
     "text": [
      "\n",
      "      Epoch    GPU_mem   box_loss   cls_loss   dfl_loss  Instances       Size\n"
     ]
    },
    {
     "name": "stderr",
     "output_type": "stream",
     "text": [
      "    163/200         0G    0.09458      1.076        0.9         18         96: 100%|██████████| 800/800 [04:38<00:00,  2.87it/s]\n",
      "                 Class     Images  Instances      Box(P          R      mAP50  mAP50-95): 100%|██████████| 100/100 [00:27<00:00,  3.58it/s]"
     ]
    },
    {
     "name": "stdout",
     "output_type": "stream",
     "text": [
      "                   all       1600       1600      0.674      0.709      0.747      0.747\n"
     ]
    },
    {
     "name": "stderr",
     "output_type": "stream",
     "text": [
      "\n"
     ]
    },
    {
     "name": "stdout",
     "output_type": "stream",
     "text": [
      "\n",
      "      Epoch    GPU_mem   box_loss   cls_loss   dfl_loss  Instances       Size\n"
     ]
    },
    {
     "name": "stderr",
     "output_type": "stream",
     "text": [
      "    164/200         0G    0.09363      1.062        0.9         18         96: 100%|██████████| 800/800 [05:01<00:00,  2.66it/s]\n",
      "                 Class     Images  Instances      Box(P          R      mAP50  mAP50-95): 100%|██████████| 100/100 [00:29<00:00,  3.34it/s]"
     ]
    },
    {
     "name": "stdout",
     "output_type": "stream",
     "text": [
      "                   all       1600       1600      0.675      0.708      0.747      0.747\n"
     ]
    },
    {
     "name": "stderr",
     "output_type": "stream",
     "text": [
      "\n"
     ]
    },
    {
     "name": "stdout",
     "output_type": "stream",
     "text": [
      "\n",
      "      Epoch    GPU_mem   box_loss   cls_loss   dfl_loss  Instances       Size\n"
     ]
    },
    {
     "name": "stderr",
     "output_type": "stream",
     "text": [
      "    165/200         0G    0.09566      1.072     0.9021         15         96: 100%|██████████| 800/800 [05:02<00:00,  2.65it/s]\n",
      "                 Class     Images  Instances      Box(P          R      mAP50  mAP50-95): 100%|██████████| 100/100 [00:25<00:00,  3.89it/s]"
     ]
    },
    {
     "name": "stdout",
     "output_type": "stream",
     "text": [
      "                   all       1600       1600      0.675      0.706      0.748      0.747\n"
     ]
    },
    {
     "name": "stderr",
     "output_type": "stream",
     "text": [
      "\n"
     ]
    },
    {
     "name": "stdout",
     "output_type": "stream",
     "text": [
      "\n",
      "      Epoch    GPU_mem   box_loss   cls_loss   dfl_loss  Instances       Size\n"
     ]
    },
    {
     "name": "stderr",
     "output_type": "stream",
     "text": [
      "    166/200         0G    0.09167      1.069     0.8977         14         96: 100%|██████████| 800/800 [04:57<00:00,  2.69it/s]\n",
      "                 Class     Images  Instances      Box(P          R      mAP50  mAP50-95): 100%|██████████| 100/100 [00:29<00:00,  3.41it/s]"
     ]
    },
    {
     "name": "stdout",
     "output_type": "stream",
     "text": [
      "                   all       1600       1600      0.676      0.705      0.748      0.748\n"
     ]
    },
    {
     "name": "stderr",
     "output_type": "stream",
     "text": [
      "\n"
     ]
    },
    {
     "name": "stdout",
     "output_type": "stream",
     "text": [
      "\n",
      "      Epoch    GPU_mem   box_loss   cls_loss   dfl_loss  Instances       Size\n"
     ]
    },
    {
     "name": "stderr",
     "output_type": "stream",
     "text": [
      "    167/200         0G    0.09152      1.064     0.9015         17         96: 100%|██████████| 800/800 [04:55<00:00,  2.71it/s]\n",
      "                 Class     Images  Instances      Box(P          R      mAP50  mAP50-95): 100%|██████████| 100/100 [00:27<00:00,  3.65it/s]"
     ]
    },
    {
     "name": "stdout",
     "output_type": "stream",
     "text": [
      "                   all       1600       1600      0.676      0.705      0.748      0.748\n"
     ]
    },
    {
     "name": "stderr",
     "output_type": "stream",
     "text": [
      "\n"
     ]
    },
    {
     "name": "stdout",
     "output_type": "stream",
     "text": [
      "\n",
      "      Epoch    GPU_mem   box_loss   cls_loss   dfl_loss  Instances       Size\n"
     ]
    },
    {
     "name": "stderr",
     "output_type": "stream",
     "text": [
      "    168/200         0G    0.09394      1.059     0.9006         20         96: 100%|██████████| 800/800 [04:57<00:00,  2.69it/s]\n",
      "                 Class     Images  Instances      Box(P          R      mAP50  mAP50-95): 100%|██████████| 100/100 [00:26<00:00,  3.74it/s]"
     ]
    },
    {
     "name": "stdout",
     "output_type": "stream",
     "text": [
      "                   all       1600       1600      0.677      0.705      0.748      0.748\n"
     ]
    },
    {
     "name": "stderr",
     "output_type": "stream",
     "text": [
      "\n"
     ]
    },
    {
     "name": "stdout",
     "output_type": "stream",
     "text": [
      "\n",
      "      Epoch    GPU_mem   box_loss   cls_loss   dfl_loss  Instances       Size\n"
     ]
    },
    {
     "name": "stderr",
     "output_type": "stream",
     "text": [
      "    169/200         0G    0.09245      1.059     0.8965         20         96: 100%|██████████| 800/800 [05:00<00:00,  2.67it/s]\n",
      "                 Class     Images  Instances      Box(P          R      mAP50  mAP50-95): 100%|██████████| 100/100 [00:30<00:00,  3.32it/s]"
     ]
    },
    {
     "name": "stdout",
     "output_type": "stream",
     "text": [
      "                   all       1600       1600      0.679      0.704      0.748      0.748\n"
     ]
    },
    {
     "name": "stderr",
     "output_type": "stream",
     "text": [
      "\n"
     ]
    },
    {
     "name": "stdout",
     "output_type": "stream",
     "text": [
      "\n",
      "      Epoch    GPU_mem   box_loss   cls_loss   dfl_loss  Instances       Size\n"
     ]
    },
    {
     "name": "stderr",
     "output_type": "stream",
     "text": [
      "    170/200         0G    0.09296      1.051     0.8981         19         96: 100%|██████████| 800/800 [04:34<00:00,  2.91it/s]\n",
      "                 Class     Images  Instances      Box(P          R      mAP50  mAP50-95): 100%|██████████| 100/100 [00:25<00:00,  3.86it/s]"
     ]
    },
    {
     "name": "stdout",
     "output_type": "stream",
     "text": [
      "                   all       1600       1600      0.674      0.706      0.748      0.748\n"
     ]
    },
    {
     "name": "stderr",
     "output_type": "stream",
     "text": [
      "\n"
     ]
    },
    {
     "name": "stdout",
     "output_type": "stream",
     "text": [
      "\n",
      "      Epoch    GPU_mem   box_loss   cls_loss   dfl_loss  Instances       Size\n"
     ]
    },
    {
     "name": "stderr",
     "output_type": "stream",
     "text": [
      "    171/200         0G     0.0928       1.05     0.8994         23         96: 100%|██████████| 800/800 [05:28<00:00,  2.44it/s]\n",
      "                 Class     Images  Instances      Box(P          R      mAP50  mAP50-95): 100%|██████████| 100/100 [00:26<00:00,  3.82it/s]"
     ]
    },
    {
     "name": "stdout",
     "output_type": "stream",
     "text": [
      "                   all       1600       1600       0.68      0.703      0.748      0.748\n"
     ]
    },
    {
     "name": "stderr",
     "output_type": "stream",
     "text": [
      "\n"
     ]
    },
    {
     "name": "stdout",
     "output_type": "stream",
     "text": [
      "\n",
      "      Epoch    GPU_mem   box_loss   cls_loss   dfl_loss  Instances       Size\n"
     ]
    },
    {
     "name": "stderr",
     "output_type": "stream",
     "text": [
      "    172/200         0G    0.09296      1.054     0.9017         19         96: 100%|██████████| 800/800 [04:44<00:00,  2.82it/s]\n",
      "                 Class     Images  Instances      Box(P          R      mAP50  mAP50-95): 100%|██████████| 100/100 [00:33<00:00,  3.02it/s]"
     ]
    },
    {
     "name": "stdout",
     "output_type": "stream",
     "text": [
      "                   all       1600       1600       0.68      0.701      0.748      0.748\n"
     ]
    },
    {
     "name": "stderr",
     "output_type": "stream",
     "text": [
      "\n"
     ]
    },
    {
     "name": "stdout",
     "output_type": "stream",
     "text": [
      "\n",
      "      Epoch    GPU_mem   box_loss   cls_loss   dfl_loss  Instances       Size\n"
     ]
    },
    {
     "name": "stderr",
     "output_type": "stream",
     "text": [
      "    173/200         0G    0.09025      1.038     0.9008         19         96: 100%|██████████| 800/800 [04:59<00:00,  2.67it/s]\n",
      "                 Class     Images  Instances      Box(P          R      mAP50  mAP50-95): 100%|██████████| 100/100 [00:28<00:00,  3.52it/s]"
     ]
    },
    {
     "name": "stdout",
     "output_type": "stream",
     "text": [
      "                   all       1600       1600      0.672      0.707      0.748      0.748\n"
     ]
    },
    {
     "name": "stderr",
     "output_type": "stream",
     "text": [
      "\n"
     ]
    },
    {
     "name": "stdout",
     "output_type": "stream",
     "text": [
      "\n",
      "      Epoch    GPU_mem   box_loss   cls_loss   dfl_loss  Instances       Size\n"
     ]
    },
    {
     "name": "stderr",
     "output_type": "stream",
     "text": [
      "    174/200         0G    0.09033      1.046     0.9016         16         96: 100%|██████████| 800/800 [05:48<00:00,  2.30it/s]\n",
      "                 Class     Images  Instances      Box(P          R      mAP50  mAP50-95): 100%|██████████| 100/100 [00:32<00:00,  3.10it/s]"
     ]
    },
    {
     "name": "stdout",
     "output_type": "stream",
     "text": [
      "                   all       1600       1600      0.672      0.707      0.749      0.749\n"
     ]
    },
    {
     "name": "stderr",
     "output_type": "stream",
     "text": [
      "\n"
     ]
    },
    {
     "name": "stdout",
     "output_type": "stream",
     "text": [
      "\n",
      "      Epoch    GPU_mem   box_loss   cls_loss   dfl_loss  Instances       Size\n"
     ]
    },
    {
     "name": "stderr",
     "output_type": "stream",
     "text": [
      "    175/200         0G    0.09011      1.039     0.8997         21         96: 100%|██████████| 800/800 [05:16<00:00,  2.53it/s]\n",
      "                 Class     Images  Instances      Box(P          R      mAP50  mAP50-95): 100%|██████████| 100/100 [00:26<00:00,  3.72it/s]"
     ]
    },
    {
     "name": "stdout",
     "output_type": "stream",
     "text": [
      "                   all       1600       1600      0.676      0.705      0.749      0.749\n"
     ]
    },
    {
     "name": "stderr",
     "output_type": "stream",
     "text": [
      "\n"
     ]
    },
    {
     "name": "stdout",
     "output_type": "stream",
     "text": [
      "\n",
      "      Epoch    GPU_mem   box_loss   cls_loss   dfl_loss  Instances       Size\n"
     ]
    },
    {
     "name": "stderr",
     "output_type": "stream",
     "text": [
      "    176/200         0G    0.09188      1.038     0.8972         24         96: 100%|██████████| 800/800 [05:56<00:00,  2.25it/s]\n",
      "                 Class     Images  Instances      Box(P          R      mAP50  mAP50-95): 100%|██████████| 100/100 [00:27<00:00,  3.59it/s]"
     ]
    },
    {
     "name": "stdout",
     "output_type": "stream",
     "text": [
      "                   all       1600       1600      0.679      0.703      0.749      0.749\n"
     ]
    },
    {
     "name": "stderr",
     "output_type": "stream",
     "text": [
      "\n"
     ]
    },
    {
     "name": "stdout",
     "output_type": "stream",
     "text": [
      "\n",
      "      Epoch    GPU_mem   box_loss   cls_loss   dfl_loss  Instances       Size\n"
     ]
    },
    {
     "name": "stderr",
     "output_type": "stream",
     "text": [
      "    177/200         0G    0.09033      1.033     0.8995         24         96: 100%|██████████| 800/800 [05:40<00:00,  2.35it/s]\n",
      "                 Class     Images  Instances      Box(P          R      mAP50  mAP50-95): 100%|██████████| 100/100 [00:27<00:00,  3.63it/s]"
     ]
    },
    {
     "name": "stdout",
     "output_type": "stream",
     "text": [
      "                   all       1600       1600      0.665      0.715      0.749      0.749\n"
     ]
    },
    {
     "name": "stderr",
     "output_type": "stream",
     "text": [
      "\n"
     ]
    },
    {
     "name": "stdout",
     "output_type": "stream",
     "text": [
      "\n",
      "      Epoch    GPU_mem   box_loss   cls_loss   dfl_loss  Instances       Size\n"
     ]
    },
    {
     "name": "stderr",
     "output_type": "stream",
     "text": [
      "    178/200         0G     0.0909      1.026     0.8973         22         96: 100%|██████████| 800/800 [05:03<00:00,  2.63it/s]\n",
      "                 Class     Images  Instances      Box(P          R      mAP50  mAP50-95): 100%|██████████| 100/100 [00:26<00:00,  3.77it/s]"
     ]
    },
    {
     "name": "stdout",
     "output_type": "stream",
     "text": [
      "                   all       1600       1600      0.665      0.714      0.749      0.749\n"
     ]
    },
    {
     "name": "stderr",
     "output_type": "stream",
     "text": [
      "\n"
     ]
    },
    {
     "name": "stdout",
     "output_type": "stream",
     "text": [
      "\n",
      "      Epoch    GPU_mem   box_loss   cls_loss   dfl_loss  Instances       Size\n"
     ]
    },
    {
     "name": "stderr",
     "output_type": "stream",
     "text": [
      "    179/200         0G    0.08951      1.038     0.9014         22         96: 100%|██████████| 800/800 [04:52<00:00,  2.74it/s]\n",
      "                 Class     Images  Instances      Box(P          R      mAP50  mAP50-95): 100%|██████████| 100/100 [00:25<00:00,  3.87it/s]"
     ]
    },
    {
     "name": "stdout",
     "output_type": "stream",
     "text": [
      "                   all       1600       1600       0.67      0.712      0.749      0.749\n"
     ]
    },
    {
     "name": "stderr",
     "output_type": "stream",
     "text": [
      "\n"
     ]
    },
    {
     "name": "stdout",
     "output_type": "stream",
     "text": [
      "\n",
      "      Epoch    GPU_mem   box_loss   cls_loss   dfl_loss  Instances       Size\n"
     ]
    },
    {
     "name": "stderr",
     "output_type": "stream",
     "text": [
      "    180/200         0G     0.0899      1.023     0.8982         24         96: 100%|██████████| 800/800 [04:43<00:00,  2.82it/s]\n",
      "                 Class     Images  Instances      Box(P          R      mAP50  mAP50-95): 100%|██████████| 100/100 [00:27<00:00,  3.70it/s]"
     ]
    },
    {
     "name": "stdout",
     "output_type": "stream",
     "text": [
      "                   all       1600       1600      0.663      0.717      0.749      0.749\n"
     ]
    },
    {
     "name": "stderr",
     "output_type": "stream",
     "text": [
      "\n"
     ]
    },
    {
     "name": "stdout",
     "output_type": "stream",
     "text": [
      "\n",
      "      Epoch    GPU_mem   box_loss   cls_loss   dfl_loss  Instances       Size\n"
     ]
    },
    {
     "name": "stderr",
     "output_type": "stream",
     "text": [
      "    181/200         0G    0.08921      1.044     0.8971         16         96: 100%|██████████| 800/800 [05:02<00:00,  2.65it/s]\n",
      "                 Class     Images  Instances      Box(P          R      mAP50  mAP50-95): 100%|██████████| 100/100 [01:10<00:00,  1.42it/s]"
     ]
    },
    {
     "name": "stdout",
     "output_type": "stream",
     "text": [
      "                   all       1600       1600       0.67      0.711      0.749      0.749\n"
     ]
    },
    {
     "name": "stderr",
     "output_type": "stream",
     "text": [
      "\n"
     ]
    },
    {
     "name": "stdout",
     "output_type": "stream",
     "text": [
      "\n",
      "      Epoch    GPU_mem   box_loss   cls_loss   dfl_loss  Instances       Size\n"
     ]
    },
    {
     "name": "stderr",
     "output_type": "stream",
     "text": [
      "    182/200         0G    0.08507       1.03     0.8994         22         96: 100%|██████████| 800/800 [04:46<00:00,  2.79it/s]\n",
      "                 Class     Images  Instances      Box(P          R      mAP50  mAP50-95): 100%|██████████| 100/100 [00:27<00:00,  3.63it/s]"
     ]
    },
    {
     "name": "stdout",
     "output_type": "stream",
     "text": [
      "                   all       1600       1600       0.67      0.711      0.749      0.749\n"
     ]
    },
    {
     "name": "stderr",
     "output_type": "stream",
     "text": [
      "\n"
     ]
    },
    {
     "name": "stdout",
     "output_type": "stream",
     "text": [
      "\n",
      "      Epoch    GPU_mem   box_loss   cls_loss   dfl_loss  Instances       Size\n"
     ]
    },
    {
     "name": "stderr",
     "output_type": "stream",
     "text": [
      "    183/200         0G    0.08668      1.021     0.8999         22         96: 100%|██████████| 800/800 [05:28<00:00,  2.43it/s]\n",
      "                 Class     Images  Instances      Box(P          R      mAP50  mAP50-95): 100%|██████████| 100/100 [00:31<00:00,  3.18it/s]"
     ]
    },
    {
     "name": "stdout",
     "output_type": "stream",
     "text": [
      "                   all       1600       1600      0.669      0.712      0.749      0.749\n"
     ]
    },
    {
     "name": "stderr",
     "output_type": "stream",
     "text": [
      "\n"
     ]
    },
    {
     "name": "stdout",
     "output_type": "stream",
     "text": [
      "\n",
      "      Epoch    GPU_mem   box_loss   cls_loss   dfl_loss  Instances       Size\n"
     ]
    },
    {
     "name": "stderr",
     "output_type": "stream",
     "text": [
      "    184/200         0G    0.08837      1.024        0.9         23         96: 100%|██████████| 800/800 [04:39<00:00,  2.86it/s]\n",
      "                 Class     Images  Instances      Box(P          R      mAP50  mAP50-95): 100%|██████████| 100/100 [00:25<00:00,  3.93it/s]"
     ]
    },
    {
     "name": "stdout",
     "output_type": "stream",
     "text": [
      "                   all       1600       1600      0.657      0.726      0.749      0.749\n"
     ]
    },
    {
     "name": "stderr",
     "output_type": "stream",
     "text": [
      "\n"
     ]
    },
    {
     "name": "stdout",
     "output_type": "stream",
     "text": [
      "\n",
      "      Epoch    GPU_mem   box_loss   cls_loss   dfl_loss  Instances       Size\n"
     ]
    },
    {
     "name": "stderr",
     "output_type": "stream",
     "text": [
      "    185/200         0G    0.08625      1.025     0.9002         20         96: 100%|██████████| 800/800 [04:54<00:00,  2.72it/s]\n",
      "                 Class     Images  Instances      Box(P          R      mAP50  mAP50-95): 100%|██████████| 100/100 [00:27<00:00,  3.68it/s]"
     ]
    },
    {
     "name": "stdout",
     "output_type": "stream",
     "text": [
      "                   all       1600       1600      0.658      0.724      0.749      0.749\n"
     ]
    },
    {
     "name": "stderr",
     "output_type": "stream",
     "text": [
      "\n"
     ]
    },
    {
     "name": "stdout",
     "output_type": "stream",
     "text": [
      "\n",
      "      Epoch    GPU_mem   box_loss   cls_loss   dfl_loss  Instances       Size\n"
     ]
    },
    {
     "name": "stderr",
     "output_type": "stream",
     "text": [
      "    186/200         0G    0.08584      1.023     0.8969         18         96: 100%|██████████| 800/800 [04:55<00:00,  2.71it/s]\n",
      "                 Class     Images  Instances      Box(P          R      mAP50  mAP50-95): 100%|██████████| 100/100 [00:28<00:00,  3.46it/s]"
     ]
    },
    {
     "name": "stdout",
     "output_type": "stream",
     "text": [
      "                   all       1600       1600      0.657      0.723      0.749      0.749\n"
     ]
    },
    {
     "name": "stderr",
     "output_type": "stream",
     "text": [
      "\n"
     ]
    },
    {
     "name": "stdout",
     "output_type": "stream",
     "text": [
      "\n",
      "      Epoch    GPU_mem   box_loss   cls_loss   dfl_loss  Instances       Size\n"
     ]
    },
    {
     "name": "stderr",
     "output_type": "stream",
     "text": [
      "    187/200         0G    0.08478      1.009     0.8982         15         96: 100%|██████████| 800/800 [04:58<00:00,  2.68it/s]\n",
      "                 Class     Images  Instances      Box(P          R      mAP50  mAP50-95): 100%|██████████| 100/100 [00:30<00:00,  3.32it/s]"
     ]
    },
    {
     "name": "stdout",
     "output_type": "stream",
     "text": [
      "                   all       1600       1600      0.664      0.716      0.749      0.749\n"
     ]
    },
    {
     "name": "stderr",
     "output_type": "stream",
     "text": [
      "\n"
     ]
    },
    {
     "name": "stdout",
     "output_type": "stream",
     "text": [
      "\n",
      "      Epoch    GPU_mem   box_loss   cls_loss   dfl_loss  Instances       Size\n"
     ]
    },
    {
     "name": "stderr",
     "output_type": "stream",
     "text": [
      "    188/200         0G    0.08468      1.018     0.8965         16         96: 100%|██████████| 800/800 [04:30<00:00,  2.95it/s]\n",
      "                 Class     Images  Instances      Box(P          R      mAP50  mAP50-95): 100%|██████████| 100/100 [00:26<00:00,  3.76it/s]"
     ]
    },
    {
     "name": "stdout",
     "output_type": "stream",
     "text": [
      "                   all       1600       1600      0.663      0.717      0.748      0.748\n"
     ]
    },
    {
     "name": "stderr",
     "output_type": "stream",
     "text": [
      "\n"
     ]
    },
    {
     "name": "stdout",
     "output_type": "stream",
     "text": [
      "\n",
      "      Epoch    GPU_mem   box_loss   cls_loss   dfl_loss  Instances       Size\n"
     ]
    },
    {
     "name": "stderr",
     "output_type": "stream",
     "text": [
      "    189/200         0G    0.08422      1.013     0.8997         24         96: 100%|██████████| 800/800 [04:48<00:00,  2.77it/s]\n",
      "                 Class     Images  Instances      Box(P          R      mAP50  mAP50-95): 100%|██████████| 100/100 [00:25<00:00,  3.87it/s]"
     ]
    },
    {
     "name": "stdout",
     "output_type": "stream",
     "text": [
      "                   all       1600       1600      0.664      0.714      0.749      0.749\n"
     ]
    },
    {
     "name": "stderr",
     "output_type": "stream",
     "text": [
      "\n"
     ]
    },
    {
     "name": "stdout",
     "output_type": "stream",
     "text": [
      "\n",
      "      Epoch    GPU_mem   box_loss   cls_loss   dfl_loss  Instances       Size\n"
     ]
    },
    {
     "name": "stderr",
     "output_type": "stream",
     "text": [
      "    190/200         0G      0.086      1.015     0.8973         10         96: 100%|██████████| 800/800 [04:49<00:00,  2.76it/s]\n",
      "                 Class     Images  Instances      Box(P          R      mAP50  mAP50-95): 100%|██████████| 100/100 [00:26<00:00,  3.73it/s]"
     ]
    },
    {
     "name": "stdout",
     "output_type": "stream",
     "text": [
      "                   all       1600       1600      0.663      0.713      0.749      0.749\n"
     ]
    },
    {
     "name": "stderr",
     "output_type": "stream",
     "text": [
      "\n"
     ]
    },
    {
     "name": "stdout",
     "output_type": "stream",
     "text": [
      "Closing dataloader mosaic\n",
      "\n",
      "      Epoch    GPU_mem   box_loss   cls_loss   dfl_loss  Instances       Size\n"
     ]
    },
    {
     "name": "stderr",
     "output_type": "stream",
     "text": [
      "    191/200         0G    0.04449     0.4712     0.9004          8         96: 100%|██████████| 800/800 [04:45<00:00,  2.80it/s]\n",
      "                 Class     Images  Instances      Box(P          R      mAP50  mAP50-95): 100%|██████████| 100/100 [00:26<00:00,  3.77it/s]"
     ]
    },
    {
     "name": "stdout",
     "output_type": "stream",
     "text": [
      "                   all       1600       1600      0.663      0.718      0.749      0.748\n"
     ]
    },
    {
     "name": "stderr",
     "output_type": "stream",
     "text": [
      "\n"
     ]
    },
    {
     "name": "stdout",
     "output_type": "stream",
     "text": [
      "\n",
      "      Epoch    GPU_mem   box_loss   cls_loss   dfl_loss  Instances       Size\n"
     ]
    },
    {
     "name": "stderr",
     "output_type": "stream",
     "text": [
      "    192/200         0G    0.04288      0.464     0.9028          8         96: 100%|██████████| 800/800 [04:46<00:00,  2.79it/s]\n",
      "                 Class     Images  Instances      Box(P          R      mAP50  mAP50-95): 100%|██████████| 100/100 [00:25<00:00,  3.97it/s]"
     ]
    },
    {
     "name": "stdout",
     "output_type": "stream",
     "text": [
      "                   all       1600       1600      0.663      0.718      0.748      0.748\n"
     ]
    },
    {
     "name": "stderr",
     "output_type": "stream",
     "text": [
      "\n"
     ]
    },
    {
     "name": "stdout",
     "output_type": "stream",
     "text": [
      "\n",
      "      Epoch    GPU_mem   box_loss   cls_loss   dfl_loss  Instances       Size\n"
     ]
    },
    {
     "name": "stderr",
     "output_type": "stream",
     "text": [
      "    193/200         0G    0.04314     0.4506     0.9025          8         96: 100%|██████████| 800/800 [04:47<00:00,  2.78it/s]\n",
      "                 Class     Images  Instances      Box(P          R      mAP50  mAP50-95): 100%|██████████| 100/100 [00:29<00:00,  3.42it/s]"
     ]
    },
    {
     "name": "stdout",
     "output_type": "stream",
     "text": [
      "                   all       1600       1600      0.663       0.72      0.748      0.748\n"
     ]
    },
    {
     "name": "stderr",
     "output_type": "stream",
     "text": [
      "\n"
     ]
    },
    {
     "name": "stdout",
     "output_type": "stream",
     "text": [
      "\n",
      "      Epoch    GPU_mem   box_loss   cls_loss   dfl_loss  Instances       Size\n"
     ]
    },
    {
     "name": "stderr",
     "output_type": "stream",
     "text": [
      "    194/200         0G    0.04267     0.4654     0.9021          8         96: 100%|██████████| 800/800 [04:50<00:00,  2.75it/s]\n",
      "                 Class     Images  Instances      Box(P          R      mAP50  mAP50-95): 100%|██████████| 100/100 [00:28<00:00,  3.48it/s]"
     ]
    },
    {
     "name": "stdout",
     "output_type": "stream",
     "text": [
      "                   all       1600       1600       0.65      0.733      0.748      0.748\n"
     ]
    },
    {
     "name": "stderr",
     "output_type": "stream",
     "text": [
      "\n"
     ]
    },
    {
     "name": "stdout",
     "output_type": "stream",
     "text": [
      "\n",
      "      Epoch    GPU_mem   box_loss   cls_loss   dfl_loss  Instances       Size\n"
     ]
    },
    {
     "name": "stderr",
     "output_type": "stream",
     "text": [
      "    195/200         0G    0.04202      0.453     0.9002          8         96: 100%|██████████| 800/800 [04:48<00:00,  2.77it/s]\n",
      "                 Class     Images  Instances      Box(P          R      mAP50  mAP50-95): 100%|██████████| 100/100 [00:29<00:00,  3.39it/s]"
     ]
    },
    {
     "name": "stdout",
     "output_type": "stream",
     "text": [
      "                   all       1600       1600      0.642       0.74      0.748      0.748\n"
     ]
    },
    {
     "name": "stderr",
     "output_type": "stream",
     "text": [
      "\n"
     ]
    },
    {
     "name": "stdout",
     "output_type": "stream",
     "text": [
      "\n",
      "      Epoch    GPU_mem   box_loss   cls_loss   dfl_loss  Instances       Size\n"
     ]
    },
    {
     "name": "stderr",
     "output_type": "stream",
     "text": [
      "    196/200         0G    0.04236     0.4353     0.9022          8         96: 100%|██████████| 800/800 [04:26<00:00,  3.00it/s]\n",
      "                 Class     Images  Instances      Box(P          R      mAP50  mAP50-95): 100%|██████████| 100/100 [00:25<00:00,  3.94it/s]"
     ]
    },
    {
     "name": "stdout",
     "output_type": "stream",
     "text": [
      "                   all       1600       1600      0.639      0.742      0.749      0.749\n"
     ]
    },
    {
     "name": "stderr",
     "output_type": "stream",
     "text": [
      "\n"
     ]
    },
    {
     "name": "stdout",
     "output_type": "stream",
     "text": [
      "\n",
      "      Epoch    GPU_mem   box_loss   cls_loss   dfl_loss  Instances       Size\n"
     ]
    },
    {
     "name": "stderr",
     "output_type": "stream",
     "text": [
      "    197/200         0G    0.04136      0.433     0.9022          8         96: 100%|██████████| 800/800 [04:50<00:00,  2.75it/s]\n",
      "                 Class     Images  Instances      Box(P          R      mAP50  mAP50-95): 100%|██████████| 100/100 [00:30<00:00,  3.28it/s]"
     ]
    },
    {
     "name": "stdout",
     "output_type": "stream",
     "text": [
      "                   all       1600       1600       0.64      0.742      0.749      0.749\n"
     ]
    },
    {
     "name": "stderr",
     "output_type": "stream",
     "text": [
      "\n"
     ]
    },
    {
     "name": "stdout",
     "output_type": "stream",
     "text": [
      "\n",
      "      Epoch    GPU_mem   box_loss   cls_loss   dfl_loss  Instances       Size\n"
     ]
    },
    {
     "name": "stderr",
     "output_type": "stream",
     "text": [
      "    198/200         0G    0.04224     0.4212     0.8973          8         96: 100%|██████████| 800/800 [04:43<00:00,  2.82it/s]\n",
      "                 Class     Images  Instances      Box(P          R      mAP50  mAP50-95): 100%|██████████| 100/100 [00:25<00:00,  3.94it/s]"
     ]
    },
    {
     "name": "stdout",
     "output_type": "stream",
     "text": [
      "                   all       1600       1600      0.642      0.741      0.749      0.748\n"
     ]
    },
    {
     "name": "stderr",
     "output_type": "stream",
     "text": [
      "\n"
     ]
    },
    {
     "name": "stdout",
     "output_type": "stream",
     "text": [
      "\n",
      "      Epoch    GPU_mem   box_loss   cls_loss   dfl_loss  Instances       Size\n"
     ]
    },
    {
     "name": "stderr",
     "output_type": "stream",
     "text": [
      "    199/200         0G    0.04126     0.4273      0.902          8         96: 100%|██████████| 800/800 [04:32<00:00,  2.94it/s]\n",
      "                 Class     Images  Instances      Box(P          R      mAP50  mAP50-95): 100%|██████████| 100/100 [00:26<00:00,  3.73it/s]"
     ]
    },
    {
     "name": "stdout",
     "output_type": "stream",
     "text": [
      "                   all       1600       1600      0.639      0.742      0.749      0.749\n"
     ]
    },
    {
     "name": "stderr",
     "output_type": "stream",
     "text": [
      "\n"
     ]
    },
    {
     "name": "stdout",
     "output_type": "stream",
     "text": [
      "\n",
      "      Epoch    GPU_mem   box_loss   cls_loss   dfl_loss  Instances       Size\n"
     ]
    },
    {
     "name": "stderr",
     "output_type": "stream",
     "text": [
      "    200/200         0G      0.041     0.4341      0.901          8         96: 100%|██████████| 800/800 [05:07<00:00,  2.60it/s]\n",
      "                 Class     Images  Instances      Box(P          R      mAP50  mAP50-95): 100%|██████████| 100/100 [00:30<00:00,  3.32it/s]"
     ]
    },
    {
     "name": "stdout",
     "output_type": "stream",
     "text": [
      "                   all       1600       1600      0.634      0.753      0.749      0.748\n"
     ]
    },
    {
     "name": "stderr",
     "output_type": "stream",
     "text": [
      "\n"
     ]
    },
    {
     "name": "stdout",
     "output_type": "stream",
     "text": [
      "\n",
      "200 epochs completed in 16.960 hours.\n",
      "Optimizer stripped from runs\\detect\\exp_augmented_m\\weights\\last.pt, 52.0MB\n",
      "Optimizer stripped from runs\\detect\\exp_augmented_m\\weights\\best.pt, 52.0MB\n",
      "\n",
      "Validating runs\\detect\\exp_augmented_m\\weights\\best.pt...\n",
      "Ultralytics 8.3.143  Python-3.10.0 torch-2.7.0+cpu CPU (11th Gen Intel Core(TM) i7-11370H 3.30GHz)\n",
      "Model summary (fused): 92 layers, 25,844,392 parameters, 0 gradients, 78.7 GFLOPs\n"
     ]
    },
    {
     "name": "stderr",
     "output_type": "stream",
     "text": [
      "                 Class     Images  Instances      Box(P          R      mAP50  mAP50-95): 100%|██████████| 100/100 [01:09<00:00,  1.43it/s]\n"
     ]
    },
    {
     "name": "stdout",
     "output_type": "stream",
     "text": [
      "                   all       1600       1600      0.654      0.769      0.738      0.738\n",
      "                 anger        200        200      0.626       0.81      0.712      0.712\n",
      "              contempt        200        200      0.659      0.795      0.738      0.738\n",
      "               disgust        200        200      0.585      0.715      0.656      0.656\n",
      "                  fear        200        200      0.795       0.74      0.796      0.796\n",
      "                 happy        200        200      0.806       0.88      0.926      0.926\n",
      "               neutral        200        200      0.542      0.825       0.71       0.71\n",
      "                   sad        200        200      0.591       0.58      0.578      0.578\n",
      "              surprise        200        200      0.628      0.809       0.79       0.79\n",
      "Speed: 0.1ms preprocess, 40.8ms inference, 0.0ms loss, 0.4ms postprocess per image\n",
      "Results saved to \u001B[1mruns\\detect\\exp_augmented_m\u001B[0m\n"
     ]
    },
    {
     "data": {
      "text/plain": [
       "ultralytics.utils.metrics.DetMetrics object with attributes:\n",
       "\n",
       "ap_class_index: array([0, 1, 2, 3, 4, 5, 6, 7])\n",
       "box: ultralytics.utils.metrics.Metric object\n",
       "confusion_matrix: <ultralytics.utils.metrics.ConfusionMatrix object at 0x000001D4C6383490>\n",
       "curves: ['Precision-Recall(B)', 'F1-Confidence(B)', 'Precision-Confidence(B)', 'Recall-Confidence(B)']\n",
       "curves_results: [[array([          0,    0.001001,    0.002002,    0.003003,    0.004004,    0.005005,    0.006006,    0.007007,    0.008008,    0.009009,     0.01001,    0.011011,    0.012012,    0.013013,    0.014014,    0.015015,    0.016016,    0.017017,    0.018018,    0.019019,     0.02002,    0.021021,    0.022022,    0.023023,\n",
       "          0.024024,    0.025025,    0.026026,    0.027027,    0.028028,    0.029029,     0.03003,    0.031031,    0.032032,    0.033033,    0.034034,    0.035035,    0.036036,    0.037037,    0.038038,    0.039039,     0.04004,    0.041041,    0.042042,    0.043043,    0.044044,    0.045045,    0.046046,    0.047047,\n",
       "          0.048048,    0.049049,     0.05005,    0.051051,    0.052052,    0.053053,    0.054054,    0.055055,    0.056056,    0.057057,    0.058058,    0.059059,     0.06006,    0.061061,    0.062062,    0.063063,    0.064064,    0.065065,    0.066066,    0.067067,    0.068068,    0.069069,     0.07007,    0.071071,\n",
       "          0.072072,    0.073073,    0.074074,    0.075075,    0.076076,    0.077077,    0.078078,    0.079079,     0.08008,    0.081081,    0.082082,    0.083083,    0.084084,    0.085085,    0.086086,    0.087087,    0.088088,    0.089089,     0.09009,    0.091091,    0.092092,    0.093093,    0.094094,    0.095095,\n",
       "          0.096096,    0.097097,    0.098098,    0.099099,      0.1001,      0.1011,      0.1021,      0.1031,      0.1041,     0.10511,     0.10611,     0.10711,     0.10811,     0.10911,     0.11011,     0.11111,     0.11211,     0.11311,     0.11411,     0.11512,     0.11612,     0.11712,     0.11812,     0.11912,\n",
       "           0.12012,     0.12112,     0.12212,     0.12312,     0.12412,     0.12513,     0.12613,     0.12713,     0.12813,     0.12913,     0.13013,     0.13113,     0.13213,     0.13313,     0.13413,     0.13514,     0.13614,     0.13714,     0.13814,     0.13914,     0.14014,     0.14114,     0.14214,     0.14314,\n",
       "           0.14414,     0.14515,     0.14615,     0.14715,     0.14815,     0.14915,     0.15015,     0.15115,     0.15215,     0.15315,     0.15415,     0.15516,     0.15616,     0.15716,     0.15816,     0.15916,     0.16016,     0.16116,     0.16216,     0.16316,     0.16416,     0.16517,     0.16617,     0.16717,\n",
       "           0.16817,     0.16917,     0.17017,     0.17117,     0.17217,     0.17317,     0.17417,     0.17518,     0.17618,     0.17718,     0.17818,     0.17918,     0.18018,     0.18118,     0.18218,     0.18318,     0.18418,     0.18519,     0.18619,     0.18719,     0.18819,     0.18919,     0.19019,     0.19119,\n",
       "           0.19219,     0.19319,     0.19419,      0.1952,      0.1962,      0.1972,      0.1982,      0.1992,      0.2002,      0.2012,      0.2022,      0.2032,      0.2042,     0.20521,     0.20621,     0.20721,     0.20821,     0.20921,     0.21021,     0.21121,     0.21221,     0.21321,     0.21421,     0.21522,\n",
       "           0.21622,     0.21722,     0.21822,     0.21922,     0.22022,     0.22122,     0.22222,     0.22322,     0.22422,     0.22523,     0.22623,     0.22723,     0.22823,     0.22923,     0.23023,     0.23123,     0.23223,     0.23323,     0.23423,     0.23524,     0.23624,     0.23724,     0.23824,     0.23924,\n",
       "           0.24024,     0.24124,     0.24224,     0.24324,     0.24424,     0.24525,     0.24625,     0.24725,     0.24825,     0.24925,     0.25025,     0.25125,     0.25225,     0.25325,     0.25425,     0.25526,     0.25626,     0.25726,     0.25826,     0.25926,     0.26026,     0.26126,     0.26226,     0.26326,\n",
       "           0.26426,     0.26527,     0.26627,     0.26727,     0.26827,     0.26927,     0.27027,     0.27127,     0.27227,     0.27327,     0.27427,     0.27528,     0.27628,     0.27728,     0.27828,     0.27928,     0.28028,     0.28128,     0.28228,     0.28328,     0.28428,     0.28529,     0.28629,     0.28729,\n",
       "           0.28829,     0.28929,     0.29029,     0.29129,     0.29229,     0.29329,     0.29429,      0.2953,      0.2963,      0.2973,      0.2983,      0.2993,      0.3003,      0.3013,      0.3023,      0.3033,      0.3043,     0.30531,     0.30631,     0.30731,     0.30831,     0.30931,     0.31031,     0.31131,\n",
       "           0.31231,     0.31331,     0.31431,     0.31532,     0.31632,     0.31732,     0.31832,     0.31932,     0.32032,     0.32132,     0.32232,     0.32332,     0.32432,     0.32533,     0.32633,     0.32733,     0.32833,     0.32933,     0.33033,     0.33133,     0.33233,     0.33333,     0.33433,     0.33534,\n",
       "           0.33634,     0.33734,     0.33834,     0.33934,     0.34034,     0.34134,     0.34234,     0.34334,     0.34434,     0.34535,     0.34635,     0.34735,     0.34835,     0.34935,     0.35035,     0.35135,     0.35235,     0.35335,     0.35435,     0.35536,     0.35636,     0.35736,     0.35836,     0.35936,\n",
       "           0.36036,     0.36136,     0.36236,     0.36336,     0.36436,     0.36537,     0.36637,     0.36737,     0.36837,     0.36937,     0.37037,     0.37137,     0.37237,     0.37337,     0.37437,     0.37538,     0.37638,     0.37738,     0.37838,     0.37938,     0.38038,     0.38138,     0.38238,     0.38338,\n",
       "           0.38438,     0.38539,     0.38639,     0.38739,     0.38839,     0.38939,     0.39039,     0.39139,     0.39239,     0.39339,     0.39439,      0.3954,      0.3964,      0.3974,      0.3984,      0.3994,      0.4004,      0.4014,      0.4024,      0.4034,      0.4044,     0.40541,     0.40641,     0.40741,\n",
       "           0.40841,     0.40941,     0.41041,     0.41141,     0.41241,     0.41341,     0.41441,     0.41542,     0.41642,     0.41742,     0.41842,     0.41942,     0.42042,     0.42142,     0.42242,     0.42342,     0.42442,     0.42543,     0.42643,     0.42743,     0.42843,     0.42943,     0.43043,     0.43143,\n",
       "           0.43243,     0.43343,     0.43443,     0.43544,     0.43644,     0.43744,     0.43844,     0.43944,     0.44044,     0.44144,     0.44244,     0.44344,     0.44444,     0.44545,     0.44645,     0.44745,     0.44845,     0.44945,     0.45045,     0.45145,     0.45245,     0.45345,     0.45445,     0.45546,\n",
       "           0.45646,     0.45746,     0.45846,     0.45946,     0.46046,     0.46146,     0.46246,     0.46346,     0.46446,     0.46547,     0.46647,     0.46747,     0.46847,     0.46947,     0.47047,     0.47147,     0.47247,     0.47347,     0.47447,     0.47548,     0.47648,     0.47748,     0.47848,     0.47948,\n",
       "           0.48048,     0.48148,     0.48248,     0.48348,     0.48448,     0.48549,     0.48649,     0.48749,     0.48849,     0.48949,     0.49049,     0.49149,     0.49249,     0.49349,     0.49449,      0.4955,      0.4965,      0.4975,      0.4985,      0.4995,      0.5005,      0.5015,      0.5025,      0.5035,\n",
       "            0.5045,     0.50551,     0.50651,     0.50751,     0.50851,     0.50951,     0.51051,     0.51151,     0.51251,     0.51351,     0.51451,     0.51552,     0.51652,     0.51752,     0.51852,     0.51952,     0.52052,     0.52152,     0.52252,     0.52352,     0.52452,     0.52553,     0.52653,     0.52753,\n",
       "           0.52853,     0.52953,     0.53053,     0.53153,     0.53253,     0.53353,     0.53453,     0.53554,     0.53654,     0.53754,     0.53854,     0.53954,     0.54054,     0.54154,     0.54254,     0.54354,     0.54454,     0.54555,     0.54655,     0.54755,     0.54855,     0.54955,     0.55055,     0.55155,\n",
       "           0.55255,     0.55355,     0.55455,     0.55556,     0.55656,     0.55756,     0.55856,     0.55956,     0.56056,     0.56156,     0.56256,     0.56356,     0.56456,     0.56557,     0.56657,     0.56757,     0.56857,     0.56957,     0.57057,     0.57157,     0.57257,     0.57357,     0.57457,     0.57558,\n",
       "           0.57658,     0.57758,     0.57858,     0.57958,     0.58058,     0.58158,     0.58258,     0.58358,     0.58458,     0.58559,     0.58659,     0.58759,     0.58859,     0.58959,     0.59059,     0.59159,     0.59259,     0.59359,     0.59459,      0.5956,      0.5966,      0.5976,      0.5986,      0.5996,\n",
       "            0.6006,      0.6016,      0.6026,      0.6036,      0.6046,     0.60561,     0.60661,     0.60761,     0.60861,     0.60961,     0.61061,     0.61161,     0.61261,     0.61361,     0.61461,     0.61562,     0.61662,     0.61762,     0.61862,     0.61962,     0.62062,     0.62162,     0.62262,     0.62362,\n",
       "           0.62462,     0.62563,     0.62663,     0.62763,     0.62863,     0.62963,     0.63063,     0.63163,     0.63263,     0.63363,     0.63463,     0.63564,     0.63664,     0.63764,     0.63864,     0.63964,     0.64064,     0.64164,     0.64264,     0.64364,     0.64464,     0.64565,     0.64665,     0.64765,\n",
       "           0.64865,     0.64965,     0.65065,     0.65165,     0.65265,     0.65365,     0.65465,     0.65566,     0.65666,     0.65766,     0.65866,     0.65966,     0.66066,     0.66166,     0.66266,     0.66366,     0.66466,     0.66567,     0.66667,     0.66767,     0.66867,     0.66967,     0.67067,     0.67167,\n",
       "           0.67267,     0.67367,     0.67467,     0.67568,     0.67668,     0.67768,     0.67868,     0.67968,     0.68068,     0.68168,     0.68268,     0.68368,     0.68468,     0.68569,     0.68669,     0.68769,     0.68869,     0.68969,     0.69069,     0.69169,     0.69269,     0.69369,     0.69469,      0.6957,\n",
       "            0.6967,      0.6977,      0.6987,      0.6997,      0.7007,      0.7017,      0.7027,      0.7037,      0.7047,     0.70571,     0.70671,     0.70771,     0.70871,     0.70971,     0.71071,     0.71171,     0.71271,     0.71371,     0.71471,     0.71572,     0.71672,     0.71772,     0.71872,     0.71972,\n",
       "           0.72072,     0.72172,     0.72272,     0.72372,     0.72472,     0.72573,     0.72673,     0.72773,     0.72873,     0.72973,     0.73073,     0.73173,     0.73273,     0.73373,     0.73473,     0.73574,     0.73674,     0.73774,     0.73874,     0.73974,     0.74074,     0.74174,     0.74274,     0.74374,\n",
       "           0.74474,     0.74575,     0.74675,     0.74775,     0.74875,     0.74975,     0.75075,     0.75175,     0.75275,     0.75375,     0.75475,     0.75576,     0.75676,     0.75776,     0.75876,     0.75976,     0.76076,     0.76176,     0.76276,     0.76376,     0.76476,     0.76577,     0.76677,     0.76777,\n",
       "           0.76877,     0.76977,     0.77077,     0.77177,     0.77277,     0.77377,     0.77477,     0.77578,     0.77678,     0.77778,     0.77878,     0.77978,     0.78078,     0.78178,     0.78278,     0.78378,     0.78478,     0.78579,     0.78679,     0.78779,     0.78879,     0.78979,     0.79079,     0.79179,\n",
       "           0.79279,     0.79379,     0.79479,      0.7958,      0.7968,      0.7978,      0.7988,      0.7998,      0.8008,      0.8018,      0.8028,      0.8038,      0.8048,     0.80581,     0.80681,     0.80781,     0.80881,     0.80981,     0.81081,     0.81181,     0.81281,     0.81381,     0.81481,     0.81582,\n",
       "           0.81682,     0.81782,     0.81882,     0.81982,     0.82082,     0.82182,     0.82282,     0.82382,     0.82482,     0.82583,     0.82683,     0.82783,     0.82883,     0.82983,     0.83083,     0.83183,     0.83283,     0.83383,     0.83483,     0.83584,     0.83684,     0.83784,     0.83884,     0.83984,\n",
       "           0.84084,     0.84184,     0.84284,     0.84384,     0.84484,     0.84585,     0.84685,     0.84785,     0.84885,     0.84985,     0.85085,     0.85185,     0.85285,     0.85385,     0.85485,     0.85586,     0.85686,     0.85786,     0.85886,     0.85986,     0.86086,     0.86186,     0.86286,     0.86386,\n",
       "           0.86486,     0.86587,     0.86687,     0.86787,     0.86887,     0.86987,     0.87087,     0.87187,     0.87287,     0.87387,     0.87487,     0.87588,     0.87688,     0.87788,     0.87888,     0.87988,     0.88088,     0.88188,     0.88288,     0.88388,     0.88488,     0.88589,     0.88689,     0.88789,\n",
       "           0.88889,     0.88989,     0.89089,     0.89189,     0.89289,     0.89389,     0.89489,      0.8959,      0.8969,      0.8979,      0.8989,      0.8999,      0.9009,      0.9019,      0.9029,      0.9039,      0.9049,     0.90591,     0.90691,     0.90791,     0.90891,     0.90991,     0.91091,     0.91191,\n",
       "           0.91291,     0.91391,     0.91491,     0.91592,     0.91692,     0.91792,     0.91892,     0.91992,     0.92092,     0.92192,     0.92292,     0.92392,     0.92492,     0.92593,     0.92693,     0.92793,     0.92893,     0.92993,     0.93093,     0.93193,     0.93293,     0.93393,     0.93493,     0.93594,\n",
       "           0.93694,     0.93794,     0.93894,     0.93994,     0.94094,     0.94194,     0.94294,     0.94394,     0.94494,     0.94595,     0.94695,     0.94795,     0.94895,     0.94995,     0.95095,     0.95195,     0.95295,     0.95395,     0.95495,     0.95596,     0.95696,     0.95796,     0.95896,     0.95996,\n",
       "           0.96096,     0.96196,     0.96296,     0.96396,     0.96496,     0.96597,     0.96697,     0.96797,     0.96897,     0.96997,     0.97097,     0.97197,     0.97297,     0.97397,     0.97497,     0.97598,     0.97698,     0.97798,     0.97898,     0.97998,     0.98098,     0.98198,     0.98298,     0.98398,\n",
       "           0.98498,     0.98599,     0.98699,     0.98799,     0.98899,     0.98999,     0.99099,     0.99199,     0.99299,     0.99399,     0.99499,       0.996,       0.997,       0.998,       0.999,           1]), array([[          1,           1,           1, ...,    0.044004,    0.044004,           0],\n",
       "       [          1,           1,           1, ...,    0.051164,    0.051164,           0],\n",
       "       [          1,           1,           1, ...,    0.037622,    0.037622,           0],\n",
       "       ...,\n",
       "       [          1,           1,           1, ...,     0.14461,     0.14461,           0],\n",
       "       [          1,           1,           1, ...,    0.035829,    0.035829,           0],\n",
       "       [          1,           1,           1, ...,    0.053937,    0.053937,           0]]), 'Recall', 'Precision'], [array([          0,    0.001001,    0.002002,    0.003003,    0.004004,    0.005005,    0.006006,    0.007007,    0.008008,    0.009009,     0.01001,    0.011011,    0.012012,    0.013013,    0.014014,    0.015015,    0.016016,    0.017017,    0.018018,    0.019019,     0.02002,    0.021021,    0.022022,    0.023023,\n",
       "          0.024024,    0.025025,    0.026026,    0.027027,    0.028028,    0.029029,     0.03003,    0.031031,    0.032032,    0.033033,    0.034034,    0.035035,    0.036036,    0.037037,    0.038038,    0.039039,     0.04004,    0.041041,    0.042042,    0.043043,    0.044044,    0.045045,    0.046046,    0.047047,\n",
       "          0.048048,    0.049049,     0.05005,    0.051051,    0.052052,    0.053053,    0.054054,    0.055055,    0.056056,    0.057057,    0.058058,    0.059059,     0.06006,    0.061061,    0.062062,    0.063063,    0.064064,    0.065065,    0.066066,    0.067067,    0.068068,    0.069069,     0.07007,    0.071071,\n",
       "          0.072072,    0.073073,    0.074074,    0.075075,    0.076076,    0.077077,    0.078078,    0.079079,     0.08008,    0.081081,    0.082082,    0.083083,    0.084084,    0.085085,    0.086086,    0.087087,    0.088088,    0.089089,     0.09009,    0.091091,    0.092092,    0.093093,    0.094094,    0.095095,\n",
       "          0.096096,    0.097097,    0.098098,    0.099099,      0.1001,      0.1011,      0.1021,      0.1031,      0.1041,     0.10511,     0.10611,     0.10711,     0.10811,     0.10911,     0.11011,     0.11111,     0.11211,     0.11311,     0.11411,     0.11512,     0.11612,     0.11712,     0.11812,     0.11912,\n",
       "           0.12012,     0.12112,     0.12212,     0.12312,     0.12412,     0.12513,     0.12613,     0.12713,     0.12813,     0.12913,     0.13013,     0.13113,     0.13213,     0.13313,     0.13413,     0.13514,     0.13614,     0.13714,     0.13814,     0.13914,     0.14014,     0.14114,     0.14214,     0.14314,\n",
       "           0.14414,     0.14515,     0.14615,     0.14715,     0.14815,     0.14915,     0.15015,     0.15115,     0.15215,     0.15315,     0.15415,     0.15516,     0.15616,     0.15716,     0.15816,     0.15916,     0.16016,     0.16116,     0.16216,     0.16316,     0.16416,     0.16517,     0.16617,     0.16717,\n",
       "           0.16817,     0.16917,     0.17017,     0.17117,     0.17217,     0.17317,     0.17417,     0.17518,     0.17618,     0.17718,     0.17818,     0.17918,     0.18018,     0.18118,     0.18218,     0.18318,     0.18418,     0.18519,     0.18619,     0.18719,     0.18819,     0.18919,     0.19019,     0.19119,\n",
       "           0.19219,     0.19319,     0.19419,      0.1952,      0.1962,      0.1972,      0.1982,      0.1992,      0.2002,      0.2012,      0.2022,      0.2032,      0.2042,     0.20521,     0.20621,     0.20721,     0.20821,     0.20921,     0.21021,     0.21121,     0.21221,     0.21321,     0.21421,     0.21522,\n",
       "           0.21622,     0.21722,     0.21822,     0.21922,     0.22022,     0.22122,     0.22222,     0.22322,     0.22422,     0.22523,     0.22623,     0.22723,     0.22823,     0.22923,     0.23023,     0.23123,     0.23223,     0.23323,     0.23423,     0.23524,     0.23624,     0.23724,     0.23824,     0.23924,\n",
       "           0.24024,     0.24124,     0.24224,     0.24324,     0.24424,     0.24525,     0.24625,     0.24725,     0.24825,     0.24925,     0.25025,     0.25125,     0.25225,     0.25325,     0.25425,     0.25526,     0.25626,     0.25726,     0.25826,     0.25926,     0.26026,     0.26126,     0.26226,     0.26326,\n",
       "           0.26426,     0.26527,     0.26627,     0.26727,     0.26827,     0.26927,     0.27027,     0.27127,     0.27227,     0.27327,     0.27427,     0.27528,     0.27628,     0.27728,     0.27828,     0.27928,     0.28028,     0.28128,     0.28228,     0.28328,     0.28428,     0.28529,     0.28629,     0.28729,\n",
       "           0.28829,     0.28929,     0.29029,     0.29129,     0.29229,     0.29329,     0.29429,      0.2953,      0.2963,      0.2973,      0.2983,      0.2993,      0.3003,      0.3013,      0.3023,      0.3033,      0.3043,     0.30531,     0.30631,     0.30731,     0.30831,     0.30931,     0.31031,     0.31131,\n",
       "           0.31231,     0.31331,     0.31431,     0.31532,     0.31632,     0.31732,     0.31832,     0.31932,     0.32032,     0.32132,     0.32232,     0.32332,     0.32432,     0.32533,     0.32633,     0.32733,     0.32833,     0.32933,     0.33033,     0.33133,     0.33233,     0.33333,     0.33433,     0.33534,\n",
       "           0.33634,     0.33734,     0.33834,     0.33934,     0.34034,     0.34134,     0.34234,     0.34334,     0.34434,     0.34535,     0.34635,     0.34735,     0.34835,     0.34935,     0.35035,     0.35135,     0.35235,     0.35335,     0.35435,     0.35536,     0.35636,     0.35736,     0.35836,     0.35936,\n",
       "           0.36036,     0.36136,     0.36236,     0.36336,     0.36436,     0.36537,     0.36637,     0.36737,     0.36837,     0.36937,     0.37037,     0.37137,     0.37237,     0.37337,     0.37437,     0.37538,     0.37638,     0.37738,     0.37838,     0.37938,     0.38038,     0.38138,     0.38238,     0.38338,\n",
       "           0.38438,     0.38539,     0.38639,     0.38739,     0.38839,     0.38939,     0.39039,     0.39139,     0.39239,     0.39339,     0.39439,      0.3954,      0.3964,      0.3974,      0.3984,      0.3994,      0.4004,      0.4014,      0.4024,      0.4034,      0.4044,     0.40541,     0.40641,     0.40741,\n",
       "           0.40841,     0.40941,     0.41041,     0.41141,     0.41241,     0.41341,     0.41441,     0.41542,     0.41642,     0.41742,     0.41842,     0.41942,     0.42042,     0.42142,     0.42242,     0.42342,     0.42442,     0.42543,     0.42643,     0.42743,     0.42843,     0.42943,     0.43043,     0.43143,\n",
       "           0.43243,     0.43343,     0.43443,     0.43544,     0.43644,     0.43744,     0.43844,     0.43944,     0.44044,     0.44144,     0.44244,     0.44344,     0.44444,     0.44545,     0.44645,     0.44745,     0.44845,     0.44945,     0.45045,     0.45145,     0.45245,     0.45345,     0.45445,     0.45546,\n",
       "           0.45646,     0.45746,     0.45846,     0.45946,     0.46046,     0.46146,     0.46246,     0.46346,     0.46446,     0.46547,     0.46647,     0.46747,     0.46847,     0.46947,     0.47047,     0.47147,     0.47247,     0.47347,     0.47447,     0.47548,     0.47648,     0.47748,     0.47848,     0.47948,\n",
       "           0.48048,     0.48148,     0.48248,     0.48348,     0.48448,     0.48549,     0.48649,     0.48749,     0.48849,     0.48949,     0.49049,     0.49149,     0.49249,     0.49349,     0.49449,      0.4955,      0.4965,      0.4975,      0.4985,      0.4995,      0.5005,      0.5015,      0.5025,      0.5035,\n",
       "            0.5045,     0.50551,     0.50651,     0.50751,     0.50851,     0.50951,     0.51051,     0.51151,     0.51251,     0.51351,     0.51451,     0.51552,     0.51652,     0.51752,     0.51852,     0.51952,     0.52052,     0.52152,     0.52252,     0.52352,     0.52452,     0.52553,     0.52653,     0.52753,\n",
       "           0.52853,     0.52953,     0.53053,     0.53153,     0.53253,     0.53353,     0.53453,     0.53554,     0.53654,     0.53754,     0.53854,     0.53954,     0.54054,     0.54154,     0.54254,     0.54354,     0.54454,     0.54555,     0.54655,     0.54755,     0.54855,     0.54955,     0.55055,     0.55155,\n",
       "           0.55255,     0.55355,     0.55455,     0.55556,     0.55656,     0.55756,     0.55856,     0.55956,     0.56056,     0.56156,     0.56256,     0.56356,     0.56456,     0.56557,     0.56657,     0.56757,     0.56857,     0.56957,     0.57057,     0.57157,     0.57257,     0.57357,     0.57457,     0.57558,\n",
       "           0.57658,     0.57758,     0.57858,     0.57958,     0.58058,     0.58158,     0.58258,     0.58358,     0.58458,     0.58559,     0.58659,     0.58759,     0.58859,     0.58959,     0.59059,     0.59159,     0.59259,     0.59359,     0.59459,      0.5956,      0.5966,      0.5976,      0.5986,      0.5996,\n",
       "            0.6006,      0.6016,      0.6026,      0.6036,      0.6046,     0.60561,     0.60661,     0.60761,     0.60861,     0.60961,     0.61061,     0.61161,     0.61261,     0.61361,     0.61461,     0.61562,     0.61662,     0.61762,     0.61862,     0.61962,     0.62062,     0.62162,     0.62262,     0.62362,\n",
       "           0.62462,     0.62563,     0.62663,     0.62763,     0.62863,     0.62963,     0.63063,     0.63163,     0.63263,     0.63363,     0.63463,     0.63564,     0.63664,     0.63764,     0.63864,     0.63964,     0.64064,     0.64164,     0.64264,     0.64364,     0.64464,     0.64565,     0.64665,     0.64765,\n",
       "           0.64865,     0.64965,     0.65065,     0.65165,     0.65265,     0.65365,     0.65465,     0.65566,     0.65666,     0.65766,     0.65866,     0.65966,     0.66066,     0.66166,     0.66266,     0.66366,     0.66466,     0.66567,     0.66667,     0.66767,     0.66867,     0.66967,     0.67067,     0.67167,\n",
       "           0.67267,     0.67367,     0.67467,     0.67568,     0.67668,     0.67768,     0.67868,     0.67968,     0.68068,     0.68168,     0.68268,     0.68368,     0.68468,     0.68569,     0.68669,     0.68769,     0.68869,     0.68969,     0.69069,     0.69169,     0.69269,     0.69369,     0.69469,      0.6957,\n",
       "            0.6967,      0.6977,      0.6987,      0.6997,      0.7007,      0.7017,      0.7027,      0.7037,      0.7047,     0.70571,     0.70671,     0.70771,     0.70871,     0.70971,     0.71071,     0.71171,     0.71271,     0.71371,     0.71471,     0.71572,     0.71672,     0.71772,     0.71872,     0.71972,\n",
       "           0.72072,     0.72172,     0.72272,     0.72372,     0.72472,     0.72573,     0.72673,     0.72773,     0.72873,     0.72973,     0.73073,     0.73173,     0.73273,     0.73373,     0.73473,     0.73574,     0.73674,     0.73774,     0.73874,     0.73974,     0.74074,     0.74174,     0.74274,     0.74374,\n",
       "           0.74474,     0.74575,     0.74675,     0.74775,     0.74875,     0.74975,     0.75075,     0.75175,     0.75275,     0.75375,     0.75475,     0.75576,     0.75676,     0.75776,     0.75876,     0.75976,     0.76076,     0.76176,     0.76276,     0.76376,     0.76476,     0.76577,     0.76677,     0.76777,\n",
       "           0.76877,     0.76977,     0.77077,     0.77177,     0.77277,     0.77377,     0.77477,     0.77578,     0.77678,     0.77778,     0.77878,     0.77978,     0.78078,     0.78178,     0.78278,     0.78378,     0.78478,     0.78579,     0.78679,     0.78779,     0.78879,     0.78979,     0.79079,     0.79179,\n",
       "           0.79279,     0.79379,     0.79479,      0.7958,      0.7968,      0.7978,      0.7988,      0.7998,      0.8008,      0.8018,      0.8028,      0.8038,      0.8048,     0.80581,     0.80681,     0.80781,     0.80881,     0.80981,     0.81081,     0.81181,     0.81281,     0.81381,     0.81481,     0.81582,\n",
       "           0.81682,     0.81782,     0.81882,     0.81982,     0.82082,     0.82182,     0.82282,     0.82382,     0.82482,     0.82583,     0.82683,     0.82783,     0.82883,     0.82983,     0.83083,     0.83183,     0.83283,     0.83383,     0.83483,     0.83584,     0.83684,     0.83784,     0.83884,     0.83984,\n",
       "           0.84084,     0.84184,     0.84284,     0.84384,     0.84484,     0.84585,     0.84685,     0.84785,     0.84885,     0.84985,     0.85085,     0.85185,     0.85285,     0.85385,     0.85485,     0.85586,     0.85686,     0.85786,     0.85886,     0.85986,     0.86086,     0.86186,     0.86286,     0.86386,\n",
       "           0.86486,     0.86587,     0.86687,     0.86787,     0.86887,     0.86987,     0.87087,     0.87187,     0.87287,     0.87387,     0.87487,     0.87588,     0.87688,     0.87788,     0.87888,     0.87988,     0.88088,     0.88188,     0.88288,     0.88388,     0.88488,     0.88589,     0.88689,     0.88789,\n",
       "           0.88889,     0.88989,     0.89089,     0.89189,     0.89289,     0.89389,     0.89489,      0.8959,      0.8969,      0.8979,      0.8989,      0.8999,      0.9009,      0.9019,      0.9029,      0.9039,      0.9049,     0.90591,     0.90691,     0.90791,     0.90891,     0.90991,     0.91091,     0.91191,\n",
       "           0.91291,     0.91391,     0.91491,     0.91592,     0.91692,     0.91792,     0.91892,     0.91992,     0.92092,     0.92192,     0.92292,     0.92392,     0.92492,     0.92593,     0.92693,     0.92793,     0.92893,     0.92993,     0.93093,     0.93193,     0.93293,     0.93393,     0.93493,     0.93594,\n",
       "           0.93694,     0.93794,     0.93894,     0.93994,     0.94094,     0.94194,     0.94294,     0.94394,     0.94494,     0.94595,     0.94695,     0.94795,     0.94895,     0.94995,     0.95095,     0.95195,     0.95295,     0.95395,     0.95495,     0.95596,     0.95696,     0.95796,     0.95896,     0.95996,\n",
       "           0.96096,     0.96196,     0.96296,     0.96396,     0.96496,     0.96597,     0.96697,     0.96797,     0.96897,     0.96997,     0.97097,     0.97197,     0.97297,     0.97397,     0.97497,     0.97598,     0.97698,     0.97798,     0.97898,     0.97998,     0.98098,     0.98198,     0.98298,     0.98398,\n",
       "           0.98498,     0.98599,     0.98699,     0.98799,     0.98899,     0.98999,     0.99099,     0.99199,     0.99299,     0.99399,     0.99499,       0.996,       0.997,       0.998,       0.999,           1]), array([[   0.067013,    0.067017,    0.069946, ...,    0.058422,    0.037981,           0],\n",
       "       [   0.072424,    0.072436,     0.07887, ...,           0,           0,           0],\n",
       "       [   0.066236,    0.066237,    0.070229, ...,    0.015965,           0,           0],\n",
       "       ...,\n",
       "       [   0.071878,    0.071878,     0.08131, ...,           0,           0,           0],\n",
       "       [   0.068481,    0.068484,    0.071928, ...,    0.025888,      0.0141,           0],\n",
       "       [   0.064683,    0.064683,    0.067335, ...,           0,           0,           0]]), 'Confidence', 'F1'], [array([          0,    0.001001,    0.002002,    0.003003,    0.004004,    0.005005,    0.006006,    0.007007,    0.008008,    0.009009,     0.01001,    0.011011,    0.012012,    0.013013,    0.014014,    0.015015,    0.016016,    0.017017,    0.018018,    0.019019,     0.02002,    0.021021,    0.022022,    0.023023,\n",
       "          0.024024,    0.025025,    0.026026,    0.027027,    0.028028,    0.029029,     0.03003,    0.031031,    0.032032,    0.033033,    0.034034,    0.035035,    0.036036,    0.037037,    0.038038,    0.039039,     0.04004,    0.041041,    0.042042,    0.043043,    0.044044,    0.045045,    0.046046,    0.047047,\n",
       "          0.048048,    0.049049,     0.05005,    0.051051,    0.052052,    0.053053,    0.054054,    0.055055,    0.056056,    0.057057,    0.058058,    0.059059,     0.06006,    0.061061,    0.062062,    0.063063,    0.064064,    0.065065,    0.066066,    0.067067,    0.068068,    0.069069,     0.07007,    0.071071,\n",
       "          0.072072,    0.073073,    0.074074,    0.075075,    0.076076,    0.077077,    0.078078,    0.079079,     0.08008,    0.081081,    0.082082,    0.083083,    0.084084,    0.085085,    0.086086,    0.087087,    0.088088,    0.089089,     0.09009,    0.091091,    0.092092,    0.093093,    0.094094,    0.095095,\n",
       "          0.096096,    0.097097,    0.098098,    0.099099,      0.1001,      0.1011,      0.1021,      0.1031,      0.1041,     0.10511,     0.10611,     0.10711,     0.10811,     0.10911,     0.11011,     0.11111,     0.11211,     0.11311,     0.11411,     0.11512,     0.11612,     0.11712,     0.11812,     0.11912,\n",
       "           0.12012,     0.12112,     0.12212,     0.12312,     0.12412,     0.12513,     0.12613,     0.12713,     0.12813,     0.12913,     0.13013,     0.13113,     0.13213,     0.13313,     0.13413,     0.13514,     0.13614,     0.13714,     0.13814,     0.13914,     0.14014,     0.14114,     0.14214,     0.14314,\n",
       "           0.14414,     0.14515,     0.14615,     0.14715,     0.14815,     0.14915,     0.15015,     0.15115,     0.15215,     0.15315,     0.15415,     0.15516,     0.15616,     0.15716,     0.15816,     0.15916,     0.16016,     0.16116,     0.16216,     0.16316,     0.16416,     0.16517,     0.16617,     0.16717,\n",
       "           0.16817,     0.16917,     0.17017,     0.17117,     0.17217,     0.17317,     0.17417,     0.17518,     0.17618,     0.17718,     0.17818,     0.17918,     0.18018,     0.18118,     0.18218,     0.18318,     0.18418,     0.18519,     0.18619,     0.18719,     0.18819,     0.18919,     0.19019,     0.19119,\n",
       "           0.19219,     0.19319,     0.19419,      0.1952,      0.1962,      0.1972,      0.1982,      0.1992,      0.2002,      0.2012,      0.2022,      0.2032,      0.2042,     0.20521,     0.20621,     0.20721,     0.20821,     0.20921,     0.21021,     0.21121,     0.21221,     0.21321,     0.21421,     0.21522,\n",
       "           0.21622,     0.21722,     0.21822,     0.21922,     0.22022,     0.22122,     0.22222,     0.22322,     0.22422,     0.22523,     0.22623,     0.22723,     0.22823,     0.22923,     0.23023,     0.23123,     0.23223,     0.23323,     0.23423,     0.23524,     0.23624,     0.23724,     0.23824,     0.23924,\n",
       "           0.24024,     0.24124,     0.24224,     0.24324,     0.24424,     0.24525,     0.24625,     0.24725,     0.24825,     0.24925,     0.25025,     0.25125,     0.25225,     0.25325,     0.25425,     0.25526,     0.25626,     0.25726,     0.25826,     0.25926,     0.26026,     0.26126,     0.26226,     0.26326,\n",
       "           0.26426,     0.26527,     0.26627,     0.26727,     0.26827,     0.26927,     0.27027,     0.27127,     0.27227,     0.27327,     0.27427,     0.27528,     0.27628,     0.27728,     0.27828,     0.27928,     0.28028,     0.28128,     0.28228,     0.28328,     0.28428,     0.28529,     0.28629,     0.28729,\n",
       "           0.28829,     0.28929,     0.29029,     0.29129,     0.29229,     0.29329,     0.29429,      0.2953,      0.2963,      0.2973,      0.2983,      0.2993,      0.3003,      0.3013,      0.3023,      0.3033,      0.3043,     0.30531,     0.30631,     0.30731,     0.30831,     0.30931,     0.31031,     0.31131,\n",
       "           0.31231,     0.31331,     0.31431,     0.31532,     0.31632,     0.31732,     0.31832,     0.31932,     0.32032,     0.32132,     0.32232,     0.32332,     0.32432,     0.32533,     0.32633,     0.32733,     0.32833,     0.32933,     0.33033,     0.33133,     0.33233,     0.33333,     0.33433,     0.33534,\n",
       "           0.33634,     0.33734,     0.33834,     0.33934,     0.34034,     0.34134,     0.34234,     0.34334,     0.34434,     0.34535,     0.34635,     0.34735,     0.34835,     0.34935,     0.35035,     0.35135,     0.35235,     0.35335,     0.35435,     0.35536,     0.35636,     0.35736,     0.35836,     0.35936,\n",
       "           0.36036,     0.36136,     0.36236,     0.36336,     0.36436,     0.36537,     0.36637,     0.36737,     0.36837,     0.36937,     0.37037,     0.37137,     0.37237,     0.37337,     0.37437,     0.37538,     0.37638,     0.37738,     0.37838,     0.37938,     0.38038,     0.38138,     0.38238,     0.38338,\n",
       "           0.38438,     0.38539,     0.38639,     0.38739,     0.38839,     0.38939,     0.39039,     0.39139,     0.39239,     0.39339,     0.39439,      0.3954,      0.3964,      0.3974,      0.3984,      0.3994,      0.4004,      0.4014,      0.4024,      0.4034,      0.4044,     0.40541,     0.40641,     0.40741,\n",
       "           0.40841,     0.40941,     0.41041,     0.41141,     0.41241,     0.41341,     0.41441,     0.41542,     0.41642,     0.41742,     0.41842,     0.41942,     0.42042,     0.42142,     0.42242,     0.42342,     0.42442,     0.42543,     0.42643,     0.42743,     0.42843,     0.42943,     0.43043,     0.43143,\n",
       "           0.43243,     0.43343,     0.43443,     0.43544,     0.43644,     0.43744,     0.43844,     0.43944,     0.44044,     0.44144,     0.44244,     0.44344,     0.44444,     0.44545,     0.44645,     0.44745,     0.44845,     0.44945,     0.45045,     0.45145,     0.45245,     0.45345,     0.45445,     0.45546,\n",
       "           0.45646,     0.45746,     0.45846,     0.45946,     0.46046,     0.46146,     0.46246,     0.46346,     0.46446,     0.46547,     0.46647,     0.46747,     0.46847,     0.46947,     0.47047,     0.47147,     0.47247,     0.47347,     0.47447,     0.47548,     0.47648,     0.47748,     0.47848,     0.47948,\n",
       "           0.48048,     0.48148,     0.48248,     0.48348,     0.48448,     0.48549,     0.48649,     0.48749,     0.48849,     0.48949,     0.49049,     0.49149,     0.49249,     0.49349,     0.49449,      0.4955,      0.4965,      0.4975,      0.4985,      0.4995,      0.5005,      0.5015,      0.5025,      0.5035,\n",
       "            0.5045,     0.50551,     0.50651,     0.50751,     0.50851,     0.50951,     0.51051,     0.51151,     0.51251,     0.51351,     0.51451,     0.51552,     0.51652,     0.51752,     0.51852,     0.51952,     0.52052,     0.52152,     0.52252,     0.52352,     0.52452,     0.52553,     0.52653,     0.52753,\n",
       "           0.52853,     0.52953,     0.53053,     0.53153,     0.53253,     0.53353,     0.53453,     0.53554,     0.53654,     0.53754,     0.53854,     0.53954,     0.54054,     0.54154,     0.54254,     0.54354,     0.54454,     0.54555,     0.54655,     0.54755,     0.54855,     0.54955,     0.55055,     0.55155,\n",
       "           0.55255,     0.55355,     0.55455,     0.55556,     0.55656,     0.55756,     0.55856,     0.55956,     0.56056,     0.56156,     0.56256,     0.56356,     0.56456,     0.56557,     0.56657,     0.56757,     0.56857,     0.56957,     0.57057,     0.57157,     0.57257,     0.57357,     0.57457,     0.57558,\n",
       "           0.57658,     0.57758,     0.57858,     0.57958,     0.58058,     0.58158,     0.58258,     0.58358,     0.58458,     0.58559,     0.58659,     0.58759,     0.58859,     0.58959,     0.59059,     0.59159,     0.59259,     0.59359,     0.59459,      0.5956,      0.5966,      0.5976,      0.5986,      0.5996,\n",
       "            0.6006,      0.6016,      0.6026,      0.6036,      0.6046,     0.60561,     0.60661,     0.60761,     0.60861,     0.60961,     0.61061,     0.61161,     0.61261,     0.61361,     0.61461,     0.61562,     0.61662,     0.61762,     0.61862,     0.61962,     0.62062,     0.62162,     0.62262,     0.62362,\n",
       "           0.62462,     0.62563,     0.62663,     0.62763,     0.62863,     0.62963,     0.63063,     0.63163,     0.63263,     0.63363,     0.63463,     0.63564,     0.63664,     0.63764,     0.63864,     0.63964,     0.64064,     0.64164,     0.64264,     0.64364,     0.64464,     0.64565,     0.64665,     0.64765,\n",
       "           0.64865,     0.64965,     0.65065,     0.65165,     0.65265,     0.65365,     0.65465,     0.65566,     0.65666,     0.65766,     0.65866,     0.65966,     0.66066,     0.66166,     0.66266,     0.66366,     0.66466,     0.66567,     0.66667,     0.66767,     0.66867,     0.66967,     0.67067,     0.67167,\n",
       "           0.67267,     0.67367,     0.67467,     0.67568,     0.67668,     0.67768,     0.67868,     0.67968,     0.68068,     0.68168,     0.68268,     0.68368,     0.68468,     0.68569,     0.68669,     0.68769,     0.68869,     0.68969,     0.69069,     0.69169,     0.69269,     0.69369,     0.69469,      0.6957,\n",
       "            0.6967,      0.6977,      0.6987,      0.6997,      0.7007,      0.7017,      0.7027,      0.7037,      0.7047,     0.70571,     0.70671,     0.70771,     0.70871,     0.70971,     0.71071,     0.71171,     0.71271,     0.71371,     0.71471,     0.71572,     0.71672,     0.71772,     0.71872,     0.71972,\n",
       "           0.72072,     0.72172,     0.72272,     0.72372,     0.72472,     0.72573,     0.72673,     0.72773,     0.72873,     0.72973,     0.73073,     0.73173,     0.73273,     0.73373,     0.73473,     0.73574,     0.73674,     0.73774,     0.73874,     0.73974,     0.74074,     0.74174,     0.74274,     0.74374,\n",
       "           0.74474,     0.74575,     0.74675,     0.74775,     0.74875,     0.74975,     0.75075,     0.75175,     0.75275,     0.75375,     0.75475,     0.75576,     0.75676,     0.75776,     0.75876,     0.75976,     0.76076,     0.76176,     0.76276,     0.76376,     0.76476,     0.76577,     0.76677,     0.76777,\n",
       "           0.76877,     0.76977,     0.77077,     0.77177,     0.77277,     0.77377,     0.77477,     0.77578,     0.77678,     0.77778,     0.77878,     0.77978,     0.78078,     0.78178,     0.78278,     0.78378,     0.78478,     0.78579,     0.78679,     0.78779,     0.78879,     0.78979,     0.79079,     0.79179,\n",
       "           0.79279,     0.79379,     0.79479,      0.7958,      0.7968,      0.7978,      0.7988,      0.7998,      0.8008,      0.8018,      0.8028,      0.8038,      0.8048,     0.80581,     0.80681,     0.80781,     0.80881,     0.80981,     0.81081,     0.81181,     0.81281,     0.81381,     0.81481,     0.81582,\n",
       "           0.81682,     0.81782,     0.81882,     0.81982,     0.82082,     0.82182,     0.82282,     0.82382,     0.82482,     0.82583,     0.82683,     0.82783,     0.82883,     0.82983,     0.83083,     0.83183,     0.83283,     0.83383,     0.83483,     0.83584,     0.83684,     0.83784,     0.83884,     0.83984,\n",
       "           0.84084,     0.84184,     0.84284,     0.84384,     0.84484,     0.84585,     0.84685,     0.84785,     0.84885,     0.84985,     0.85085,     0.85185,     0.85285,     0.85385,     0.85485,     0.85586,     0.85686,     0.85786,     0.85886,     0.85986,     0.86086,     0.86186,     0.86286,     0.86386,\n",
       "           0.86486,     0.86587,     0.86687,     0.86787,     0.86887,     0.86987,     0.87087,     0.87187,     0.87287,     0.87387,     0.87487,     0.87588,     0.87688,     0.87788,     0.87888,     0.87988,     0.88088,     0.88188,     0.88288,     0.88388,     0.88488,     0.88589,     0.88689,     0.88789,\n",
       "           0.88889,     0.88989,     0.89089,     0.89189,     0.89289,     0.89389,     0.89489,      0.8959,      0.8969,      0.8979,      0.8989,      0.8999,      0.9009,      0.9019,      0.9029,      0.9039,      0.9049,     0.90591,     0.90691,     0.90791,     0.90891,     0.90991,     0.91091,     0.91191,\n",
       "           0.91291,     0.91391,     0.91491,     0.91592,     0.91692,     0.91792,     0.91892,     0.91992,     0.92092,     0.92192,     0.92292,     0.92392,     0.92492,     0.92593,     0.92693,     0.92793,     0.92893,     0.92993,     0.93093,     0.93193,     0.93293,     0.93393,     0.93493,     0.93594,\n",
       "           0.93694,     0.93794,     0.93894,     0.93994,     0.94094,     0.94194,     0.94294,     0.94394,     0.94494,     0.94595,     0.94695,     0.94795,     0.94895,     0.94995,     0.95095,     0.95195,     0.95295,     0.95395,     0.95495,     0.95596,     0.95696,     0.95796,     0.95896,     0.95996,\n",
       "           0.96096,     0.96196,     0.96296,     0.96396,     0.96496,     0.96597,     0.96697,     0.96797,     0.96897,     0.96997,     0.97097,     0.97197,     0.97297,     0.97397,     0.97497,     0.97598,     0.97698,     0.97798,     0.97898,     0.97998,     0.98098,     0.98198,     0.98298,     0.98398,\n",
       "           0.98498,     0.98599,     0.98699,     0.98799,     0.98899,     0.98999,     0.99099,     0.99199,     0.99299,     0.99399,     0.99499,       0.996,       0.997,       0.998,       0.999,           1]), array([[   0.034668,     0.03467,    0.036241, ...,           1,           1,           1],\n",
       "       [   0.037573,    0.037579,    0.041054, ...,           1,           1,           1],\n",
       "       [   0.034252,    0.034253,    0.036392, ...,           1,           1,           1],\n",
       "       ...,\n",
       "       [   0.037279,    0.037279,    0.042378, ...,           1,           1,           1],\n",
       "       [   0.035455,    0.035456,     0.03732, ...,           1,           1,           1],\n",
       "       [   0.033422,    0.033422,    0.034841, ...,           1,           1,           1]]), 'Confidence', 'Precision'], [array([          0,    0.001001,    0.002002,    0.003003,    0.004004,    0.005005,    0.006006,    0.007007,    0.008008,    0.009009,     0.01001,    0.011011,    0.012012,    0.013013,    0.014014,    0.015015,    0.016016,    0.017017,    0.018018,    0.019019,     0.02002,    0.021021,    0.022022,    0.023023,\n",
       "          0.024024,    0.025025,    0.026026,    0.027027,    0.028028,    0.029029,     0.03003,    0.031031,    0.032032,    0.033033,    0.034034,    0.035035,    0.036036,    0.037037,    0.038038,    0.039039,     0.04004,    0.041041,    0.042042,    0.043043,    0.044044,    0.045045,    0.046046,    0.047047,\n",
       "          0.048048,    0.049049,     0.05005,    0.051051,    0.052052,    0.053053,    0.054054,    0.055055,    0.056056,    0.057057,    0.058058,    0.059059,     0.06006,    0.061061,    0.062062,    0.063063,    0.064064,    0.065065,    0.066066,    0.067067,    0.068068,    0.069069,     0.07007,    0.071071,\n",
       "          0.072072,    0.073073,    0.074074,    0.075075,    0.076076,    0.077077,    0.078078,    0.079079,     0.08008,    0.081081,    0.082082,    0.083083,    0.084084,    0.085085,    0.086086,    0.087087,    0.088088,    0.089089,     0.09009,    0.091091,    0.092092,    0.093093,    0.094094,    0.095095,\n",
       "          0.096096,    0.097097,    0.098098,    0.099099,      0.1001,      0.1011,      0.1021,      0.1031,      0.1041,     0.10511,     0.10611,     0.10711,     0.10811,     0.10911,     0.11011,     0.11111,     0.11211,     0.11311,     0.11411,     0.11512,     0.11612,     0.11712,     0.11812,     0.11912,\n",
       "           0.12012,     0.12112,     0.12212,     0.12312,     0.12412,     0.12513,     0.12613,     0.12713,     0.12813,     0.12913,     0.13013,     0.13113,     0.13213,     0.13313,     0.13413,     0.13514,     0.13614,     0.13714,     0.13814,     0.13914,     0.14014,     0.14114,     0.14214,     0.14314,\n",
       "           0.14414,     0.14515,     0.14615,     0.14715,     0.14815,     0.14915,     0.15015,     0.15115,     0.15215,     0.15315,     0.15415,     0.15516,     0.15616,     0.15716,     0.15816,     0.15916,     0.16016,     0.16116,     0.16216,     0.16316,     0.16416,     0.16517,     0.16617,     0.16717,\n",
       "           0.16817,     0.16917,     0.17017,     0.17117,     0.17217,     0.17317,     0.17417,     0.17518,     0.17618,     0.17718,     0.17818,     0.17918,     0.18018,     0.18118,     0.18218,     0.18318,     0.18418,     0.18519,     0.18619,     0.18719,     0.18819,     0.18919,     0.19019,     0.19119,\n",
       "           0.19219,     0.19319,     0.19419,      0.1952,      0.1962,      0.1972,      0.1982,      0.1992,      0.2002,      0.2012,      0.2022,      0.2032,      0.2042,     0.20521,     0.20621,     0.20721,     0.20821,     0.20921,     0.21021,     0.21121,     0.21221,     0.21321,     0.21421,     0.21522,\n",
       "           0.21622,     0.21722,     0.21822,     0.21922,     0.22022,     0.22122,     0.22222,     0.22322,     0.22422,     0.22523,     0.22623,     0.22723,     0.22823,     0.22923,     0.23023,     0.23123,     0.23223,     0.23323,     0.23423,     0.23524,     0.23624,     0.23724,     0.23824,     0.23924,\n",
       "           0.24024,     0.24124,     0.24224,     0.24324,     0.24424,     0.24525,     0.24625,     0.24725,     0.24825,     0.24925,     0.25025,     0.25125,     0.25225,     0.25325,     0.25425,     0.25526,     0.25626,     0.25726,     0.25826,     0.25926,     0.26026,     0.26126,     0.26226,     0.26326,\n",
       "           0.26426,     0.26527,     0.26627,     0.26727,     0.26827,     0.26927,     0.27027,     0.27127,     0.27227,     0.27327,     0.27427,     0.27528,     0.27628,     0.27728,     0.27828,     0.27928,     0.28028,     0.28128,     0.28228,     0.28328,     0.28428,     0.28529,     0.28629,     0.28729,\n",
       "           0.28829,     0.28929,     0.29029,     0.29129,     0.29229,     0.29329,     0.29429,      0.2953,      0.2963,      0.2973,      0.2983,      0.2993,      0.3003,      0.3013,      0.3023,      0.3033,      0.3043,     0.30531,     0.30631,     0.30731,     0.30831,     0.30931,     0.31031,     0.31131,\n",
       "           0.31231,     0.31331,     0.31431,     0.31532,     0.31632,     0.31732,     0.31832,     0.31932,     0.32032,     0.32132,     0.32232,     0.32332,     0.32432,     0.32533,     0.32633,     0.32733,     0.32833,     0.32933,     0.33033,     0.33133,     0.33233,     0.33333,     0.33433,     0.33534,\n",
       "           0.33634,     0.33734,     0.33834,     0.33934,     0.34034,     0.34134,     0.34234,     0.34334,     0.34434,     0.34535,     0.34635,     0.34735,     0.34835,     0.34935,     0.35035,     0.35135,     0.35235,     0.35335,     0.35435,     0.35536,     0.35636,     0.35736,     0.35836,     0.35936,\n",
       "           0.36036,     0.36136,     0.36236,     0.36336,     0.36436,     0.36537,     0.36637,     0.36737,     0.36837,     0.36937,     0.37037,     0.37137,     0.37237,     0.37337,     0.37437,     0.37538,     0.37638,     0.37738,     0.37838,     0.37938,     0.38038,     0.38138,     0.38238,     0.38338,\n",
       "           0.38438,     0.38539,     0.38639,     0.38739,     0.38839,     0.38939,     0.39039,     0.39139,     0.39239,     0.39339,     0.39439,      0.3954,      0.3964,      0.3974,      0.3984,      0.3994,      0.4004,      0.4014,      0.4024,      0.4034,      0.4044,     0.40541,     0.40641,     0.40741,\n",
       "           0.40841,     0.40941,     0.41041,     0.41141,     0.41241,     0.41341,     0.41441,     0.41542,     0.41642,     0.41742,     0.41842,     0.41942,     0.42042,     0.42142,     0.42242,     0.42342,     0.42442,     0.42543,     0.42643,     0.42743,     0.42843,     0.42943,     0.43043,     0.43143,\n",
       "           0.43243,     0.43343,     0.43443,     0.43544,     0.43644,     0.43744,     0.43844,     0.43944,     0.44044,     0.44144,     0.44244,     0.44344,     0.44444,     0.44545,     0.44645,     0.44745,     0.44845,     0.44945,     0.45045,     0.45145,     0.45245,     0.45345,     0.45445,     0.45546,\n",
       "           0.45646,     0.45746,     0.45846,     0.45946,     0.46046,     0.46146,     0.46246,     0.46346,     0.46446,     0.46547,     0.46647,     0.46747,     0.46847,     0.46947,     0.47047,     0.47147,     0.47247,     0.47347,     0.47447,     0.47548,     0.47648,     0.47748,     0.47848,     0.47948,\n",
       "           0.48048,     0.48148,     0.48248,     0.48348,     0.48448,     0.48549,     0.48649,     0.48749,     0.48849,     0.48949,     0.49049,     0.49149,     0.49249,     0.49349,     0.49449,      0.4955,      0.4965,      0.4975,      0.4985,      0.4995,      0.5005,      0.5015,      0.5025,      0.5035,\n",
       "            0.5045,     0.50551,     0.50651,     0.50751,     0.50851,     0.50951,     0.51051,     0.51151,     0.51251,     0.51351,     0.51451,     0.51552,     0.51652,     0.51752,     0.51852,     0.51952,     0.52052,     0.52152,     0.52252,     0.52352,     0.52452,     0.52553,     0.52653,     0.52753,\n",
       "           0.52853,     0.52953,     0.53053,     0.53153,     0.53253,     0.53353,     0.53453,     0.53554,     0.53654,     0.53754,     0.53854,     0.53954,     0.54054,     0.54154,     0.54254,     0.54354,     0.54454,     0.54555,     0.54655,     0.54755,     0.54855,     0.54955,     0.55055,     0.55155,\n",
       "           0.55255,     0.55355,     0.55455,     0.55556,     0.55656,     0.55756,     0.55856,     0.55956,     0.56056,     0.56156,     0.56256,     0.56356,     0.56456,     0.56557,     0.56657,     0.56757,     0.56857,     0.56957,     0.57057,     0.57157,     0.57257,     0.57357,     0.57457,     0.57558,\n",
       "           0.57658,     0.57758,     0.57858,     0.57958,     0.58058,     0.58158,     0.58258,     0.58358,     0.58458,     0.58559,     0.58659,     0.58759,     0.58859,     0.58959,     0.59059,     0.59159,     0.59259,     0.59359,     0.59459,      0.5956,      0.5966,      0.5976,      0.5986,      0.5996,\n",
       "            0.6006,      0.6016,      0.6026,      0.6036,      0.6046,     0.60561,     0.60661,     0.60761,     0.60861,     0.60961,     0.61061,     0.61161,     0.61261,     0.61361,     0.61461,     0.61562,     0.61662,     0.61762,     0.61862,     0.61962,     0.62062,     0.62162,     0.62262,     0.62362,\n",
       "           0.62462,     0.62563,     0.62663,     0.62763,     0.62863,     0.62963,     0.63063,     0.63163,     0.63263,     0.63363,     0.63463,     0.63564,     0.63664,     0.63764,     0.63864,     0.63964,     0.64064,     0.64164,     0.64264,     0.64364,     0.64464,     0.64565,     0.64665,     0.64765,\n",
       "           0.64865,     0.64965,     0.65065,     0.65165,     0.65265,     0.65365,     0.65465,     0.65566,     0.65666,     0.65766,     0.65866,     0.65966,     0.66066,     0.66166,     0.66266,     0.66366,     0.66466,     0.66567,     0.66667,     0.66767,     0.66867,     0.66967,     0.67067,     0.67167,\n",
       "           0.67267,     0.67367,     0.67467,     0.67568,     0.67668,     0.67768,     0.67868,     0.67968,     0.68068,     0.68168,     0.68268,     0.68368,     0.68468,     0.68569,     0.68669,     0.68769,     0.68869,     0.68969,     0.69069,     0.69169,     0.69269,     0.69369,     0.69469,      0.6957,\n",
       "            0.6967,      0.6977,      0.6987,      0.6997,      0.7007,      0.7017,      0.7027,      0.7037,      0.7047,     0.70571,     0.70671,     0.70771,     0.70871,     0.70971,     0.71071,     0.71171,     0.71271,     0.71371,     0.71471,     0.71572,     0.71672,     0.71772,     0.71872,     0.71972,\n",
       "           0.72072,     0.72172,     0.72272,     0.72372,     0.72472,     0.72573,     0.72673,     0.72773,     0.72873,     0.72973,     0.73073,     0.73173,     0.73273,     0.73373,     0.73473,     0.73574,     0.73674,     0.73774,     0.73874,     0.73974,     0.74074,     0.74174,     0.74274,     0.74374,\n",
       "           0.74474,     0.74575,     0.74675,     0.74775,     0.74875,     0.74975,     0.75075,     0.75175,     0.75275,     0.75375,     0.75475,     0.75576,     0.75676,     0.75776,     0.75876,     0.75976,     0.76076,     0.76176,     0.76276,     0.76376,     0.76476,     0.76577,     0.76677,     0.76777,\n",
       "           0.76877,     0.76977,     0.77077,     0.77177,     0.77277,     0.77377,     0.77477,     0.77578,     0.77678,     0.77778,     0.77878,     0.77978,     0.78078,     0.78178,     0.78278,     0.78378,     0.78478,     0.78579,     0.78679,     0.78779,     0.78879,     0.78979,     0.79079,     0.79179,\n",
       "           0.79279,     0.79379,     0.79479,      0.7958,      0.7968,      0.7978,      0.7988,      0.7998,      0.8008,      0.8018,      0.8028,      0.8038,      0.8048,     0.80581,     0.80681,     0.80781,     0.80881,     0.80981,     0.81081,     0.81181,     0.81281,     0.81381,     0.81481,     0.81582,\n",
       "           0.81682,     0.81782,     0.81882,     0.81982,     0.82082,     0.82182,     0.82282,     0.82382,     0.82482,     0.82583,     0.82683,     0.82783,     0.82883,     0.82983,     0.83083,     0.83183,     0.83283,     0.83383,     0.83483,     0.83584,     0.83684,     0.83784,     0.83884,     0.83984,\n",
       "           0.84084,     0.84184,     0.84284,     0.84384,     0.84484,     0.84585,     0.84685,     0.84785,     0.84885,     0.84985,     0.85085,     0.85185,     0.85285,     0.85385,     0.85485,     0.85586,     0.85686,     0.85786,     0.85886,     0.85986,     0.86086,     0.86186,     0.86286,     0.86386,\n",
       "           0.86486,     0.86587,     0.86687,     0.86787,     0.86887,     0.86987,     0.87087,     0.87187,     0.87287,     0.87387,     0.87487,     0.87588,     0.87688,     0.87788,     0.87888,     0.87988,     0.88088,     0.88188,     0.88288,     0.88388,     0.88488,     0.88589,     0.88689,     0.88789,\n",
       "           0.88889,     0.88989,     0.89089,     0.89189,     0.89289,     0.89389,     0.89489,      0.8959,      0.8969,      0.8979,      0.8989,      0.8999,      0.9009,      0.9019,      0.9029,      0.9039,      0.9049,     0.90591,     0.90691,     0.90791,     0.90891,     0.90991,     0.91091,     0.91191,\n",
       "           0.91291,     0.91391,     0.91491,     0.91592,     0.91692,     0.91792,     0.91892,     0.91992,     0.92092,     0.92192,     0.92292,     0.92392,     0.92492,     0.92593,     0.92693,     0.92793,     0.92893,     0.92993,     0.93093,     0.93193,     0.93293,     0.93393,     0.93493,     0.93594,\n",
       "           0.93694,     0.93794,     0.93894,     0.93994,     0.94094,     0.94194,     0.94294,     0.94394,     0.94494,     0.94595,     0.94695,     0.94795,     0.94895,     0.94995,     0.95095,     0.95195,     0.95295,     0.95395,     0.95495,     0.95596,     0.95696,     0.95796,     0.95896,     0.95996,\n",
       "           0.96096,     0.96196,     0.96296,     0.96396,     0.96496,     0.96597,     0.96697,     0.96797,     0.96897,     0.96997,     0.97097,     0.97197,     0.97297,     0.97397,     0.97497,     0.97598,     0.97698,     0.97798,     0.97898,     0.97998,     0.98098,     0.98198,     0.98298,     0.98398,\n",
       "           0.98498,     0.98599,     0.98699,     0.98799,     0.98899,     0.98999,     0.99099,     0.99199,     0.99299,     0.99399,     0.99499,       0.996,       0.997,       0.998,       0.999,           1]), array([[          1,           1,           1, ...,     0.03009,    0.019358,           0],\n",
       "       [          1,           1,           1, ...,           0,           0,           0],\n",
       "       [          1,           1,           1, ...,   0.0080467,           0,           0],\n",
       "       ...,\n",
       "       [          1,           1,           1, ...,           0,           0,           0],\n",
       "       [          1,           1,        0.99, ...,    0.013114,   0.0070999,           0],\n",
       "       [          1,           1,           1, ...,           0,           0,           0]]), 'Confidence', 'Recall']]\n",
       "fitness: 0.7379908392835348\n",
       "keys: ['metrics/precision(B)', 'metrics/recall(B)', 'metrics/mAP50(B)', 'metrics/mAP50-95(B)']\n",
       "maps: array([    0.71154,      0.7381,     0.65577,     0.79554,     0.92576,     0.70984,     0.57765,     0.78975])\n",
       "names: {0: 'anger', 1: 'contempt', 2: 'disgust', 3: 'fear', 4: 'happy', 5: 'neutral', 6: 'sad', 7: 'surprise'}\n",
       "plot: True\n",
       "results_dict: {'metrics/precision(B)': 0.6540108935888159, 'metrics/recall(B)': 0.7692988433697547, 'metrics/mAP50(B)': 0.7379908392835348, 'metrics/mAP50-95(B)': 0.7379908392835348, 'fitness': 0.7379908392835348}\n",
       "save_dir: WindowsPath('runs/detect/exp_augmented_m')\n",
       "speed: {'preprocess': 0.05378612497224822, 'inference': 40.7974952499535, 'loss': 0.0002386249980190769, 'postprocess': 0.3944719375249406}\n",
       "task: 'detect'"
      ]
     },
     "execution_count": 107,
     "metadata": {},
     "output_type": "execute_result"
    }
   ],
   "execution_count": 107
  },
  {
   "metadata": {
    "ExecuteTime": {
     "end_time": "2025-05-25T18:23:38.330121Z",
     "start_time": "2025-05-25T18:23:32.644870Z"
    }
   },
   "cell_type": "code",
   "source": [
    "model_export = YOLO(\"runs/detect/exp_augmented_m/weights/best.pt\")\n",
    "model_export.export(format=\"onnx\")\n"
   ],
   "id": "891e3dd37f986b83",
   "outputs": [
    {
     "name": "stdout",
     "output_type": "stream",
     "text": [
      "Ultralytics 8.3.143  Python-3.10.0 torch-2.7.0+cpu CPU (11th Gen Intel Core(TM) i7-11370H 3.30GHz)\n",
      "Model summary (fused): 92 layers, 25,844,392 parameters, 0 gradients, 78.7 GFLOPs\n",
      "\n",
      "\u001B[34m\u001B[1mPyTorch:\u001B[0m starting from 'runs\\detect\\exp_augmented_m\\weights\\best.pt' with input shape (1, 3, 96, 96) BCHW and output shape(s) (1, 12, 189) (49.6 MB)\n",
      "\n",
      "\u001B[34m\u001B[1mONNX:\u001B[0m starting export with onnx 1.17.0 opset 19...\n",
      "\u001B[34m\u001B[1mONNX:\u001B[0m slimming with onnxslim 0.1.53...\n",
      "\u001B[34m\u001B[1mONNX:\u001B[0m export success  4.0s, saved as 'runs\\detect\\exp_augmented_m\\weights\\best.onnx' (98.7 MB)\n",
      "\n",
      "Export complete (5.3s)\n",
      "Results saved to \u001B[1mD:\\Sisteme inteligente\\scientificProject1\\runs\\detect\\exp_augmented_m\\weights\u001B[0m\n",
      "Predict:         yolo predict task=detect model=runs\\detect\\exp_augmented_m\\weights\\best.onnx imgsz=96  \n",
      "Validate:        yolo val task=detect model=runs\\detect\\exp_augmented_m\\weights\\best.onnx imgsz=96 data=data/YOLO_subset/data.yaml  \n",
      "Visualize:       https://netron.app\n"
     ]
    },
    {
     "data": {
      "text/plain": [
       "'runs\\\\detect\\\\exp_augmented_m\\\\weights\\\\best.onnx'"
      ]
     },
     "execution_count": 108,
     "metadata": {},
     "output_type": "execute_result"
    }
   ],
   "execution_count": 108
  },
  {
   "metadata": {
    "ExecuteTime": {
     "end_time": "2025-05-25T20:51:01.558754Z",
     "start_time": "2025-05-25T20:50:56.531579Z"
    }
   },
   "cell_type": "code",
   "source": [
    "from ultralytics import YOLO\n",
    "import cv2\n",
    "import numpy as np\n",
    "import os\n",
    "\n",
    "model2 = YOLO(r\"D:\\Sisteme inteligente\\scientificProject1\\models\\best.onnx\")\n",
    "\n",
    "image_path = r\"D:\\Sisteme inteligente\\scientificProject1\\fear.jpg\"\n",
    "\n",
    "\n",
    "results = model2.predict(source=image_path, save=False)\n",
    "result = results[0]\n",
    "\n",
    "image = cv2.imread(image_path)\n",
    "if image is None:\n",
    "    raise FileNotFoundError(\"Image not found or couldn't be loaded.\")\n",
    "\n",
    "scale = 4\n",
    "image = cv2.resize(image, (image.shape[1] * scale, image.shape[0] * scale))\n",
    "\n",
    "boxes = result.boxes.xyxy.cpu().numpy()\n",
    "scores = result.boxes.conf.cpu().numpy()\n",
    "class_ids = result.boxes.cls.cpu().numpy().astype(int)\n",
    "names = result.names\n",
    "\n",
    "for box, score, class_id in zip(boxes, scores, class_ids):\n",
    "    x1, y1, x2, y2 = map(int, box * scale)\n",
    "    label = f\"{names[class_id]}: {score:.2f}\"\n",
    "\n",
    "    cv2.rectangle(image, (x1, y1), (x2, y2), (0, 255, 0), 2)\n",
    "    cv2.putText(image, label, (x1, max(20, y1 - 10)), cv2.FONT_HERSHEY_SIMPLEX,\n",
    "                0.7, (0, 255, 0), 2, lineType=cv2.LINE_AA)\n",
    "\n",
    "cv2.imshow(\"YOLOv8 Prediction (Scaled)\", image)\n",
    "cv2.waitKey(0)\n",
    "cv2.destroyAllWindows()\n",
    "\n",
    "cv2.imwrite(\"prediction_output1.png\", image)\n"
   ],
   "id": "a72001dc1846a9d0",
   "outputs": [
    {
     "name": "stdout",
     "output_type": "stream",
     "text": [
      "WARNING Unable to automatically guess model task, assuming 'task=detect'. Explicitly define task for your model, i.e. 'task=detect', 'segment', 'classify','pose' or 'obb'.\n",
      "Loading D:\\Sisteme inteligente\\scientificProject1\\models\\best.onnx for ONNX Runtime inference...\n",
      "Using ONNX Runtime CPUExecutionProvider\n",
      "\n",
      "image 1/1 D:\\Sisteme inteligente\\scientificProject1\\fear.jpg: 96x96 1 fear, 16.1ms\n",
      "Speed: 0.4ms preprocess, 16.1ms inference, 6.8ms postprocess per image at shape (1, 3, 96, 96)\n"
     ]
    },
    {
     "data": {
      "text/plain": [
       "True"
      ]
     },
     "execution_count": 153,
     "metadata": {},
     "output_type": "execute_result"
    }
   ],
   "execution_count": 153
  },
  {
   "metadata": {
    "ExecuteTime": {
     "end_time": "2025-05-25T20:12:30.847739Z",
     "start_time": "2025-05-25T20:11:47.782061Z"
    }
   },
   "cell_type": "code",
   "source": [
    "import cv2\n",
    "from ultralytics import YOLO\n",
    "\n",
    "model = YOLO(r\"D:\\Sisteme inteligente\\scientificProject1\\models\\best.onnx\")\n",
    "\n",
    "input_path  = r\"D:\\Sisteme inteligente\\scientificProject1\\video.mp4\"\n",
    "output_path = r\"D:\\Sisteme inteligente\\scientificProject1\\output_video.mp4\"\n",
    "\n",
    "cap = cv2.VideoCapture(input_path)\n",
    "if not cap.isOpened():\n",
    "    raise RuntimeError(f\"Could not open video {input_path}\")\n",
    "\n",
    "fourcc = cv2.VideoWriter_fourcc(*\"mp4v\")\n",
    "fps    = cap.get(cv2.CAP_PROP_FPS)\n",
    "w      = int(cap.get(cv2.CAP_PROP_FRAME_WIDTH))\n",
    "h      = int(cap.get(cv2.CAP_PROP_FRAME_HEIGHT))\n",
    "scale  = 1 \n",
    "out    = cv2.VideoWriter(output_path, fourcc, fps, (w*scale, h*scale))\n",
    "\n",
    "while True:\n",
    "    ret, frame = cap.read()\n",
    "    if not ret:\n",
    "        break\n",
    "\n",
    "    img96 = cv2.resize(frame, (96, 96), interpolation=cv2.INTER_LINEAR)\n",
    "\n",
    "    results = model.predict(source=img96, imgsz=96, save=False)\n",
    "    r = results[0]\n",
    "\n",
    "    img_in = img96.copy()\n",
    "\n",
    "    img_out = cv2.resize(frame, (w*scale, h*scale), interpolation=cv2.INTER_LINEAR)\n",
    "\n",
    "\n",
    "    for box, conf, cls in zip(\n",
    "        r.boxes.xyxy.cpu().numpy(),\n",
    "        r.boxes.conf.cpu().numpy(),\n",
    "        r.boxes.cls.cpu().numpy().astype(int)\n",
    "    ):\n",
    "        x1, y1, x2, y2 = box\n",
    "        x1 = int(x1 / 96 * w * scale)\n",
    "        y1 = int(y1 / 96 * h * scale)\n",
    "        x2 = int(x2 / 96 * w * scale)\n",
    "        y2 = int(y2 / 96 * h * scale)\n",
    "\n",
    "        label = f\"{r.names[cls]} {conf:.2f}\"\n",
    "        cv2.rectangle(img_out, (x1, y1), (x2, y2), (0,255,0), 2)\n",
    "        cv2.putText(img_out, label, (x1, max(20, y1-10)),\n",
    "                    cv2.FONT_HERSHEY_SIMPLEX, 0.6, (0,255,0), 2)\n",
    "\n",
    "    cv2.imshow(\"YOLOv8 Video\", img_out)\n",
    "    out.write(img_out)\n",
    "\n",
    "    if cv2.waitKey(1) & 0xFF == 27:\n",
    "        break\n",
    "\n",
    "cap.release()\n",
    "out.release()\n",
    "cv2.destroyAllWindows()\n",
    "\n",
    "print(\"Finished processing, saved to\", output_path)\n"
   ],
   "id": "fb8f7579ff65d808",
   "outputs": [
    {
     "name": "stdout",
     "output_type": "stream",
     "text": [
      "WARNING Unable to automatically guess model task, assuming 'task=detect'. Explicitly define task for your model, i.e. 'task=detect', 'segment', 'classify','pose' or 'obb'.\n",
      "Loading D:\\Sisteme inteligente\\scientificProject1\\models\\best.onnx for ONNX Runtime inference...\n",
      "Using ONNX Runtime CPUExecutionProvider\n",
      "\n",
      "0: 96x96 2 fears, 128.5ms\n",
      "Speed: 52.6ms preprocess, 128.5ms inference, 178.9ms postprocess per image at shape (1, 3, 96, 96)\n",
      "\n",
      "0: 96x96 2 fears, 1 sad, 35.5ms\n",
      "Speed: 3.2ms preprocess, 35.5ms inference, 11.1ms postprocess per image at shape (1, 3, 96, 96)\n",
      "\n",
      "0: 96x96 1 fear, 1 sad, 28.0ms\n",
      "Speed: 1.7ms preprocess, 28.0ms inference, 11.9ms postprocess per image at shape (1, 3, 96, 96)\n",
      "\n",
      "0: 96x96 2 fears, 23.6ms\n",
      "Speed: 1.0ms preprocess, 23.6ms inference, 2.0ms postprocess per image at shape (1, 3, 96, 96)\n",
      "\n",
      "0: 96x96 2 fears, 17.1ms\n",
      "Speed: 0.4ms preprocess, 17.1ms inference, 4.8ms postprocess per image at shape (1, 3, 96, 96)\n",
      "\n",
      "0: 96x96 2 fears, 20.2ms\n",
      "Speed: 0.9ms preprocess, 20.2ms inference, 1.3ms postprocess per image at shape (1, 3, 96, 96)\n",
      "\n",
      "0: 96x96 1 disgust, 1 fear, 19.7ms\n",
      "Speed: 1.2ms preprocess, 19.7ms inference, 1.8ms postprocess per image at shape (1, 3, 96, 96)\n",
      "\n",
      "0: 96x96 1 disgust, 1 fear, 18.9ms\n",
      "Speed: 0.3ms preprocess, 18.9ms inference, 1.6ms postprocess per image at shape (1, 3, 96, 96)\n",
      "\n",
      "0: 96x96 1 disgust, 1 fear, 1 sad, 19.9ms\n",
      "Speed: 0.4ms preprocess, 19.9ms inference, 9.2ms postprocess per image at shape (1, 3, 96, 96)\n",
      "\n",
      "0: 96x96 1 disgust, 1 fear, 23.4ms\n",
      "Speed: 0.4ms preprocess, 23.4ms inference, 7.2ms postprocess per image at shape (1, 3, 96, 96)\n",
      "\n",
      "0: 96x96 1 disgust, 1 sad, 14.0ms\n",
      "Speed: 0.3ms preprocess, 14.0ms inference, 20.8ms postprocess per image at shape (1, 3, 96, 96)\n",
      "\n",
      "0: 96x96 1 disgust, 1 fear, 16.9ms\n",
      "Speed: 0.3ms preprocess, 16.9ms inference, 31.2ms postprocess per image at shape (1, 3, 96, 96)\n",
      "\n",
      "0: 96x96 1 disgust, 1 fear, 19.7ms\n",
      "Speed: 0.4ms preprocess, 19.7ms inference, 2.8ms postprocess per image at shape (1, 3, 96, 96)\n",
      "\n",
      "0: 96x96 1 disgust, 1 fear, 18.7ms\n",
      "Speed: 0.5ms preprocess, 18.7ms inference, 1.7ms postprocess per image at shape (1, 3, 96, 96)\n",
      "\n",
      "0: 96x96 1 disgust, 1 fear, 1 sad, 18.0ms\n",
      "Speed: 0.4ms preprocess, 18.0ms inference, 2.1ms postprocess per image at shape (1, 3, 96, 96)\n",
      "\n",
      "0: 96x96 1 disgust, 1 fear, 1 sad, 18.8ms\n",
      "Speed: 0.4ms preprocess, 18.8ms inference, 1.2ms postprocess per image at shape (1, 3, 96, 96)\n",
      "\n",
      "0: 96x96 1 sad, 18.2ms\n",
      "Speed: 0.9ms preprocess, 18.2ms inference, 4.7ms postprocess per image at shape (1, 3, 96, 96)\n",
      "\n",
      "0: 96x96 1 fear, 1 sad, 23.1ms\n",
      "Speed: 0.5ms preprocess, 23.1ms inference, 5.7ms postprocess per image at shape (1, 3, 96, 96)\n",
      "\n",
      "0: 96x96 1 fear, 1 sad, 17.3ms\n",
      "Speed: 0.3ms preprocess, 17.3ms inference, 2.8ms postprocess per image at shape (1, 3, 96, 96)\n",
      "\n",
      "0: 96x96 1 fear, 1 sad, 13.4ms\n",
      "Speed: 4.6ms preprocess, 13.4ms inference, 6.7ms postprocess per image at shape (1, 3, 96, 96)\n",
      "\n",
      "0: 96x96 1 fear, 1 sad, 14.0ms\n",
      "Speed: 0.6ms preprocess, 14.0ms inference, 5.6ms postprocess per image at shape (1, 3, 96, 96)\n",
      "\n",
      "0: 96x96 1 fear, 1 sad, 14.3ms\n",
      "Speed: 0.3ms preprocess, 14.3ms inference, 5.7ms postprocess per image at shape (1, 3, 96, 96)\n",
      "\n",
      "0: 96x96 1 fear, 13.8ms\n",
      "Speed: 0.3ms preprocess, 13.8ms inference, 1.9ms postprocess per image at shape (1, 3, 96, 96)\n",
      "\n",
      "0: 96x96 1 fear, 1 sad, 14.8ms\n",
      "Speed: 0.3ms preprocess, 14.8ms inference, 2.7ms postprocess per image at shape (1, 3, 96, 96)\n",
      "\n",
      "0: 96x96 1 fear, 1 happy, 13.6ms\n",
      "Speed: 0.3ms preprocess, 13.6ms inference, 2.5ms postprocess per image at shape (1, 3, 96, 96)\n",
      "\n",
      "0: 96x96 2 fears, 13.4ms\n",
      "Speed: 0.5ms preprocess, 13.4ms inference, 1.0ms postprocess per image at shape (1, 3, 96, 96)\n",
      "\n",
      "0: 96x96 2 fears, 13.9ms\n",
      "Speed: 0.6ms preprocess, 13.9ms inference, 1.1ms postprocess per image at shape (1, 3, 96, 96)\n",
      "\n",
      "0: 96x96 1 fear, 1 surprise, 14.1ms\n",
      "Speed: 0.3ms preprocess, 14.1ms inference, 1.9ms postprocess per image at shape (1, 3, 96, 96)\n",
      "\n",
      "0: 96x96 1 fear, 1 surprise, 13.2ms\n",
      "Speed: 0.5ms preprocess, 13.2ms inference, 1.1ms postprocess per image at shape (1, 3, 96, 96)\n",
      "\n",
      "0: 96x96 1 fear, 1 surprise, 12.7ms\n",
      "Speed: 0.3ms preprocess, 12.7ms inference, 1.1ms postprocess per image at shape (1, 3, 96, 96)\n",
      "\n",
      "0: 96x96 2 fears, 1 surprise, 12.4ms\n",
      "Speed: 0.2ms preprocess, 12.4ms inference, 1.2ms postprocess per image at shape (1, 3, 96, 96)\n",
      "\n",
      "0: 96x96 1 fear, 1 surprise, 13.5ms\n",
      "Speed: 0.2ms preprocess, 13.5ms inference, 1.0ms postprocess per image at shape (1, 3, 96, 96)\n",
      "\n",
      "0: 96x96 1 fear, 1 surprise, 12.7ms\n",
      "Speed: 0.5ms preprocess, 12.7ms inference, 1.9ms postprocess per image at shape (1, 3, 96, 96)\n",
      "\n",
      "0: 96x96 1 fear, 13.1ms\n",
      "Speed: 0.3ms preprocess, 13.1ms inference, 1.1ms postprocess per image at shape (1, 3, 96, 96)\n",
      "\n",
      "0: 96x96 1 fear, 1 surprise, 12.3ms\n",
      "Speed: 0.3ms preprocess, 12.3ms inference, 1.1ms postprocess per image at shape (1, 3, 96, 96)\n",
      "\n",
      "0: 96x96 1 surprise, 11.7ms\n",
      "Speed: 0.2ms preprocess, 11.7ms inference, 1.5ms postprocess per image at shape (1, 3, 96, 96)\n",
      "\n",
      "0: 96x96 1 surprise, 12.5ms\n",
      "Speed: 0.3ms preprocess, 12.5ms inference, 1.2ms postprocess per image at shape (1, 3, 96, 96)\n",
      "\n",
      "0: 96x96 1 surprise, 17.3ms\n",
      "Speed: 0.3ms preprocess, 17.3ms inference, 3.7ms postprocess per image at shape (1, 3, 96, 96)\n",
      "\n",
      "0: 96x96 1 surprise, 17.6ms\n",
      "Speed: 0.6ms preprocess, 17.6ms inference, 1.5ms postprocess per image at shape (1, 3, 96, 96)\n",
      "\n",
      "0: 96x96 1 surprise, 16.5ms\n",
      "Speed: 0.3ms preprocess, 16.5ms inference, 1.5ms postprocess per image at shape (1, 3, 96, 96)\n",
      "\n",
      "0: 96x96 1 surprise, 15.6ms\n",
      "Speed: 0.5ms preprocess, 15.6ms inference, 1.6ms postprocess per image at shape (1, 3, 96, 96)\n",
      "\n",
      "0: 96x96 1 surprise, 17.2ms\n",
      "Speed: 0.3ms preprocess, 17.2ms inference, 2.4ms postprocess per image at shape (1, 3, 96, 96)\n",
      "\n",
      "0: 96x96 1 surprise, 16.9ms\n",
      "Speed: 0.4ms preprocess, 16.9ms inference, 1.8ms postprocess per image at shape (1, 3, 96, 96)\n",
      "\n",
      "0: 96x96 1 surprise, 17.9ms\n",
      "Speed: 0.3ms preprocess, 17.9ms inference, 1.3ms postprocess per image at shape (1, 3, 96, 96)\n",
      "\n",
      "0: 96x96 1 surprise, 19.6ms\n",
      "Speed: 1.2ms preprocess, 19.6ms inference, 1.3ms postprocess per image at shape (1, 3, 96, 96)\n",
      "\n",
      "0: 96x96 1 surprise, 19.3ms\n",
      "Speed: 0.5ms preprocess, 19.3ms inference, 1.6ms postprocess per image at shape (1, 3, 96, 96)\n",
      "\n",
      "0: 96x96 1 surprise, 17.1ms\n",
      "Speed: 0.6ms preprocess, 17.1ms inference, 1.5ms postprocess per image at shape (1, 3, 96, 96)\n",
      "\n",
      "0: 96x96 1 surprise, 13.7ms\n",
      "Speed: 0.4ms preprocess, 13.7ms inference, 1.1ms postprocess per image at shape (1, 3, 96, 96)\n",
      "\n",
      "0: 96x96 1 surprise, 13.6ms\n",
      "Speed: 0.3ms preprocess, 13.6ms inference, 1.3ms postprocess per image at shape (1, 3, 96, 96)\n",
      "\n",
      "0: 96x96 1 surprise, 13.8ms\n",
      "Speed: 0.6ms preprocess, 13.8ms inference, 0.9ms postprocess per image at shape (1, 3, 96, 96)\n",
      "\n",
      "0: 96x96 1 surprise, 14.5ms\n",
      "Speed: 0.6ms preprocess, 14.5ms inference, 1.0ms postprocess per image at shape (1, 3, 96, 96)\n",
      "\n",
      "0: 96x96 1 surprise, 13.0ms\n",
      "Speed: 0.3ms preprocess, 13.0ms inference, 1.2ms postprocess per image at shape (1, 3, 96, 96)\n",
      "\n",
      "0: 96x96 1 surprise, 13.8ms\n",
      "Speed: 0.2ms preprocess, 13.8ms inference, 1.0ms postprocess per image at shape (1, 3, 96, 96)\n",
      "\n",
      "0: 96x96 1 surprise, 14.4ms\n",
      "Speed: 0.5ms preprocess, 14.4ms inference, 1.0ms postprocess per image at shape (1, 3, 96, 96)\n",
      "\n",
      "0: 96x96 1 surprise, 13.6ms\n",
      "Speed: 0.4ms preprocess, 13.6ms inference, 1.1ms postprocess per image at shape (1, 3, 96, 96)\n",
      "\n",
      "0: 96x96 1 surprise, 14.8ms\n",
      "Speed: 0.5ms preprocess, 14.8ms inference, 1.8ms postprocess per image at shape (1, 3, 96, 96)\n",
      "\n",
      "0: 96x96 1 surprise, 15.6ms\n",
      "Speed: 0.5ms preprocess, 15.6ms inference, 1.2ms postprocess per image at shape (1, 3, 96, 96)\n",
      "\n",
      "0: 96x96 1 surprise, 14.6ms\n",
      "Speed: 0.7ms preprocess, 14.6ms inference, 1.1ms postprocess per image at shape (1, 3, 96, 96)\n",
      "\n",
      "0: 96x96 1 surprise, 14.4ms\n",
      "Speed: 0.4ms preprocess, 14.4ms inference, 1.1ms postprocess per image at shape (1, 3, 96, 96)\n",
      "\n",
      "0: 96x96 1 surprise, 13.1ms\n",
      "Speed: 0.4ms preprocess, 13.1ms inference, 1.0ms postprocess per image at shape (1, 3, 96, 96)\n",
      "\n",
      "0: 96x96 1 surprise, 14.1ms\n",
      "Speed: 0.8ms preprocess, 14.1ms inference, 1.0ms postprocess per image at shape (1, 3, 96, 96)\n",
      "\n",
      "0: 96x96 1 surprise, 14.0ms\n",
      "Speed: 0.2ms preprocess, 14.0ms inference, 0.9ms postprocess per image at shape (1, 3, 96, 96)\n",
      "\n",
      "0: 96x96 (no detections), 13.4ms\n",
      "Speed: 0.6ms preprocess, 13.4ms inference, 0.7ms postprocess per image at shape (1, 3, 96, 96)\n",
      "\n",
      "0: 96x96 1 surprise, 13.7ms\n",
      "Speed: 0.3ms preprocess, 13.7ms inference, 1.0ms postprocess per image at shape (1, 3, 96, 96)\n",
      "\n",
      "0: 96x96 1 surprise, 13.2ms\n",
      "Speed: 0.3ms preprocess, 13.2ms inference, 1.0ms postprocess per image at shape (1, 3, 96, 96)\n",
      "\n",
      "0: 96x96 1 surprise, 14.0ms\n",
      "Speed: 0.3ms preprocess, 14.0ms inference, 1.2ms postprocess per image at shape (1, 3, 96, 96)\n",
      "\n",
      "0: 96x96 1 surprise, 13.1ms\n",
      "Speed: 0.4ms preprocess, 13.1ms inference, 1.8ms postprocess per image at shape (1, 3, 96, 96)\n",
      "\n",
      "0: 96x96 1 surprise, 14.4ms\n",
      "Speed: 0.4ms preprocess, 14.4ms inference, 1.2ms postprocess per image at shape (1, 3, 96, 96)\n",
      "\n",
      "0: 96x96 1 surprise, 12.7ms\n",
      "Speed: 0.2ms preprocess, 12.7ms inference, 1.1ms postprocess per image at shape (1, 3, 96, 96)\n",
      "\n",
      "0: 96x96 1 surprise, 12.8ms\n",
      "Speed: 0.4ms preprocess, 12.8ms inference, 1.0ms postprocess per image at shape (1, 3, 96, 96)\n",
      "\n",
      "0: 96x96 1 surprise, 13.1ms\n",
      "Speed: 0.5ms preprocess, 13.1ms inference, 0.9ms postprocess per image at shape (1, 3, 96, 96)\n",
      "\n",
      "0: 96x96 1 surprise, 12.9ms\n",
      "Speed: 0.2ms preprocess, 12.9ms inference, 1.0ms postprocess per image at shape (1, 3, 96, 96)\n",
      "\n",
      "0: 96x96 1 surprise, 15.5ms\n",
      "Speed: 0.5ms preprocess, 15.5ms inference, 1.0ms postprocess per image at shape (1, 3, 96, 96)\n",
      "\n",
      "0: 96x96 1 surprise, 13.4ms\n",
      "Speed: 0.5ms preprocess, 13.4ms inference, 1.0ms postprocess per image at shape (1, 3, 96, 96)\n",
      "\n",
      "0: 96x96 1 surprise, 13.7ms\n",
      "Speed: 0.6ms preprocess, 13.7ms inference, 1.1ms postprocess per image at shape (1, 3, 96, 96)\n",
      "\n",
      "0: 96x96 1 fear, 1 surprise, 12.7ms\n",
      "Speed: 0.2ms preprocess, 12.7ms inference, 1.0ms postprocess per image at shape (1, 3, 96, 96)\n",
      "\n",
      "0: 96x96 1 surprise, 13.3ms\n",
      "Speed: 0.5ms preprocess, 13.3ms inference, 1.1ms postprocess per image at shape (1, 3, 96, 96)\n",
      "\n",
      "0: 96x96 1 fear, 1 surprise, 12.1ms\n",
      "Speed: 0.2ms preprocess, 12.1ms inference, 1.0ms postprocess per image at shape (1, 3, 96, 96)\n",
      "\n",
      "0: 96x96 1 fear, 1 surprise, 12.8ms\n",
      "Speed: 0.2ms preprocess, 12.8ms inference, 1.0ms postprocess per image at shape (1, 3, 96, 96)\n",
      "\n",
      "0: 96x96 1 surprise, 12.3ms\n",
      "Speed: 0.6ms preprocess, 12.3ms inference, 1.1ms postprocess per image at shape (1, 3, 96, 96)\n",
      "\n",
      "0: 96x96 1 surprise, 12.6ms\n",
      "Speed: 0.2ms preprocess, 12.6ms inference, 1.4ms postprocess per image at shape (1, 3, 96, 96)\n",
      "\n",
      "0: 96x96 1 surprise, 13.3ms\n",
      "Speed: 0.3ms preprocess, 13.3ms inference, 1.0ms postprocess per image at shape (1, 3, 96, 96)\n",
      "\n",
      "0: 96x96 1 surprise, 12.1ms\n",
      "Speed: 0.3ms preprocess, 12.1ms inference, 1.0ms postprocess per image at shape (1, 3, 96, 96)\n",
      "\n",
      "0: 96x96 1 surprise, 13.0ms\n",
      "Speed: 0.3ms preprocess, 13.0ms inference, 1.2ms postprocess per image at shape (1, 3, 96, 96)\n",
      "\n",
      "0: 96x96 1 surprise, 13.5ms\n",
      "Speed: 0.3ms preprocess, 13.5ms inference, 1.1ms postprocess per image at shape (1, 3, 96, 96)\n",
      "\n",
      "0: 96x96 1 surprise, 13.1ms\n",
      "Speed: 0.4ms preprocess, 13.1ms inference, 3.1ms postprocess per image at shape (1, 3, 96, 96)\n",
      "\n",
      "0: 96x96 1 surprise, 12.4ms\n",
      "Speed: 0.5ms preprocess, 12.4ms inference, 1.7ms postprocess per image at shape (1, 3, 96, 96)\n",
      "\n",
      "0: 96x96 1 surprise, 12.5ms\n",
      "Speed: 0.2ms preprocess, 12.5ms inference, 1.0ms postprocess per image at shape (1, 3, 96, 96)\n",
      "\n",
      "0: 96x96 1 surprise, 12.8ms\n",
      "Speed: 0.2ms preprocess, 12.8ms inference, 0.9ms postprocess per image at shape (1, 3, 96, 96)\n",
      "\n",
      "0: 96x96 1 surprise, 12.9ms\n",
      "Speed: 0.6ms preprocess, 12.9ms inference, 1.0ms postprocess per image at shape (1, 3, 96, 96)\n",
      "\n",
      "0: 96x96 1 surprise, 12.4ms\n",
      "Speed: 0.2ms preprocess, 12.4ms inference, 1.4ms postprocess per image at shape (1, 3, 96, 96)\n",
      "\n",
      "0: 96x96 1 surprise, 12.1ms\n",
      "Speed: 0.3ms preprocess, 12.1ms inference, 1.0ms postprocess per image at shape (1, 3, 96, 96)\n",
      "\n",
      "0: 96x96 1 surprise, 12.5ms\n",
      "Speed: 0.3ms preprocess, 12.5ms inference, 1.0ms postprocess per image at shape (1, 3, 96, 96)\n",
      "\n",
      "0: 96x96 1 surprise, 12.6ms\n",
      "Speed: 0.4ms preprocess, 12.6ms inference, 1.0ms postprocess per image at shape (1, 3, 96, 96)\n",
      "\n",
      "0: 96x96 1 surprise, 13.2ms\n",
      "Speed: 0.5ms preprocess, 13.2ms inference, 1.1ms postprocess per image at shape (1, 3, 96, 96)\n",
      "\n",
      "0: 96x96 1 surprise, 12.9ms\n",
      "Speed: 0.4ms preprocess, 12.9ms inference, 0.9ms postprocess per image at shape (1, 3, 96, 96)\n",
      "\n",
      "0: 96x96 1 surprise, 12.9ms\n",
      "Speed: 0.3ms preprocess, 12.9ms inference, 1.2ms postprocess per image at shape (1, 3, 96, 96)\n",
      "\n",
      "0: 96x96 1 surprise, 12.3ms\n",
      "Speed: 0.4ms preprocess, 12.3ms inference, 1.0ms postprocess per image at shape (1, 3, 96, 96)\n",
      "\n",
      "0: 96x96 1 surprise, 12.1ms\n",
      "Speed: 0.5ms preprocess, 12.1ms inference, 1.2ms postprocess per image at shape (1, 3, 96, 96)\n",
      "\n",
      "0: 96x96 1 surprise, 12.8ms\n",
      "Speed: 0.4ms preprocess, 12.8ms inference, 0.9ms postprocess per image at shape (1, 3, 96, 96)\n",
      "\n",
      "0: 96x96 1 surprise, 12.5ms\n",
      "Speed: 0.4ms preprocess, 12.5ms inference, 1.0ms postprocess per image at shape (1, 3, 96, 96)\n",
      "\n",
      "0: 96x96 1 surprise, 12.6ms\n",
      "Speed: 0.5ms preprocess, 12.6ms inference, 1.0ms postprocess per image at shape (1, 3, 96, 96)\n",
      "\n",
      "0: 96x96 1 surprise, 12.8ms\n",
      "Speed: 0.3ms preprocess, 12.8ms inference, 1.1ms postprocess per image at shape (1, 3, 96, 96)\n",
      "\n",
      "0: 96x96 1 disgust, 13.1ms\n",
      "Speed: 0.3ms preprocess, 13.1ms inference, 0.9ms postprocess per image at shape (1, 3, 96, 96)\n",
      "\n",
      "0: 96x96 (no detections), 12.4ms\n",
      "Speed: 0.3ms preprocess, 12.4ms inference, 0.7ms postprocess per image at shape (1, 3, 96, 96)\n",
      "\n",
      "0: 96x96 (no detections), 12.4ms\n",
      "Speed: 0.2ms preprocess, 12.4ms inference, 0.8ms postprocess per image at shape (1, 3, 96, 96)\n",
      "\n",
      "0: 96x96 (no detections), 12.7ms\n",
      "Speed: 0.2ms preprocess, 12.7ms inference, 0.7ms postprocess per image at shape (1, 3, 96, 96)\n",
      "\n",
      "0: 96x96 (no detections), 12.9ms\n",
      "Speed: 0.4ms preprocess, 12.9ms inference, 0.6ms postprocess per image at shape (1, 3, 96, 96)\n",
      "\n",
      "0: 96x96 1 anger, 12.7ms\n",
      "Speed: 0.3ms preprocess, 12.7ms inference, 1.2ms postprocess per image at shape (1, 3, 96, 96)\n",
      "\n",
      "0: 96x96 (no detections), 12.6ms\n",
      "Speed: 0.2ms preprocess, 12.6ms inference, 0.7ms postprocess per image at shape (1, 3, 96, 96)\n",
      "\n",
      "0: 96x96 (no detections), 12.2ms\n",
      "Speed: 0.2ms preprocess, 12.2ms inference, 0.7ms postprocess per image at shape (1, 3, 96, 96)\n",
      "\n",
      "0: 96x96 (no detections), 13.0ms\n",
      "Speed: 0.2ms preprocess, 13.0ms inference, 0.6ms postprocess per image at shape (1, 3, 96, 96)\n",
      "\n",
      "0: 96x96 (no detections), 12.6ms\n",
      "Speed: 0.4ms preprocess, 12.6ms inference, 0.6ms postprocess per image at shape (1, 3, 96, 96)\n",
      "\n",
      "0: 96x96 1 sad, 12.6ms\n",
      "Speed: 0.4ms preprocess, 12.6ms inference, 1.0ms postprocess per image at shape (1, 3, 96, 96)\n",
      "\n",
      "0: 96x96 1 anger, 12.5ms\n",
      "Speed: 0.3ms preprocess, 12.5ms inference, 1.2ms postprocess per image at shape (1, 3, 96, 96)\n",
      "\n",
      "0: 96x96 (no detections), 12.1ms\n",
      "Speed: 0.3ms preprocess, 12.1ms inference, 0.8ms postprocess per image at shape (1, 3, 96, 96)\n",
      "\n",
      "0: 96x96 (no detections), 12.4ms\n",
      "Speed: 0.3ms preprocess, 12.4ms inference, 0.7ms postprocess per image at shape (1, 3, 96, 96)\n",
      "\n",
      "0: 96x96 (no detections), 12.9ms\n",
      "Speed: 0.5ms preprocess, 12.9ms inference, 0.6ms postprocess per image at shape (1, 3, 96, 96)\n",
      "\n",
      "0: 96x96 (no detections), 13.0ms\n",
      "Speed: 0.5ms preprocess, 13.0ms inference, 0.6ms postprocess per image at shape (1, 3, 96, 96)\n",
      "\n",
      "0: 96x96 1 disgust, 12.6ms\n",
      "Speed: 0.5ms preprocess, 12.6ms inference, 0.9ms postprocess per image at shape (1, 3, 96, 96)\n",
      "\n",
      "0: 96x96 1 anger, 1 disgust, 13.4ms\n",
      "Speed: 0.6ms preprocess, 13.4ms inference, 0.9ms postprocess per image at shape (1, 3, 96, 96)\n",
      "\n",
      "0: 96x96 1 anger, 13.2ms\n",
      "Speed: 0.2ms preprocess, 13.2ms inference, 1.0ms postprocess per image at shape (1, 3, 96, 96)\n",
      "\n",
      "0: 96x96 1 sad, 12.4ms\n",
      "Speed: 0.3ms preprocess, 12.4ms inference, 1.0ms postprocess per image at shape (1, 3, 96, 96)\n",
      "\n",
      "0: 96x96 1 fear, 1 surprise, 12.8ms\n",
      "Speed: 0.3ms preprocess, 12.8ms inference, 1.2ms postprocess per image at shape (1, 3, 96, 96)\n",
      "\n",
      "0: 96x96 1 sad, 13.6ms\n",
      "Speed: 0.3ms preprocess, 13.6ms inference, 1.6ms postprocess per image at shape (1, 3, 96, 96)\n",
      "\n",
      "0: 96x96 (no detections), 12.2ms\n",
      "Speed: 0.2ms preprocess, 12.2ms inference, 1.1ms postprocess per image at shape (1, 3, 96, 96)\n",
      "\n",
      "0: 96x96 (no detections), 12.5ms\n",
      "Speed: 0.4ms preprocess, 12.5ms inference, 0.7ms postprocess per image at shape (1, 3, 96, 96)\n",
      "\n",
      "0: 96x96 1 fear, 1 surprise, 14.2ms\n",
      "Speed: 0.3ms preprocess, 14.2ms inference, 1.1ms postprocess per image at shape (1, 3, 96, 96)\n",
      "\n",
      "0: 96x96 1 fear, 1 surprise, 13.9ms\n",
      "Speed: 0.3ms preprocess, 13.9ms inference, 1.2ms postprocess per image at shape (1, 3, 96, 96)\n",
      "\n",
      "0: 96x96 1 fear, 1 surprise, 22.4ms\n",
      "Speed: 0.5ms preprocess, 22.4ms inference, 1.1ms postprocess per image at shape (1, 3, 96, 96)\n",
      "\n",
      "0: 96x96 1 fear, 1 surprise, 17.6ms\n",
      "Speed: 0.6ms preprocess, 17.6ms inference, 1.0ms postprocess per image at shape (1, 3, 96, 96)\n",
      "\n",
      "0: 96x96 1 fear, 1 surprise, 13.1ms\n",
      "Speed: 0.2ms preprocess, 13.1ms inference, 1.0ms postprocess per image at shape (1, 3, 96, 96)\n",
      "\n",
      "0: 96x96 1 fear, 1 surprise, 12.5ms\n",
      "Speed: 0.3ms preprocess, 12.5ms inference, 1.0ms postprocess per image at shape (1, 3, 96, 96)\n",
      "\n",
      "0: 96x96 1 fear, 1 surprise, 12.1ms\n",
      "Speed: 0.4ms preprocess, 12.1ms inference, 1.2ms postprocess per image at shape (1, 3, 96, 96)\n",
      "\n",
      "0: 96x96 1 surprise, 12.9ms\n",
      "Speed: 0.5ms preprocess, 12.9ms inference, 1.0ms postprocess per image at shape (1, 3, 96, 96)\n",
      "\n",
      "0: 96x96 1 sad, 12.4ms\n",
      "Speed: 0.3ms preprocess, 12.4ms inference, 1.0ms postprocess per image at shape (1, 3, 96, 96)\n",
      "\n",
      "0: 96x96 (no detections), 12.4ms\n",
      "Speed: 0.3ms preprocess, 12.4ms inference, 0.7ms postprocess per image at shape (1, 3, 96, 96)\n",
      "\n",
      "0: 96x96 1 sad, 12.1ms\n",
      "Speed: 0.2ms preprocess, 12.1ms inference, 0.9ms postprocess per image at shape (1, 3, 96, 96)\n",
      "\n",
      "0: 96x96 1 surprise, 13.2ms\n",
      "Speed: 0.2ms preprocess, 13.2ms inference, 1.1ms postprocess per image at shape (1, 3, 96, 96)\n",
      "\n",
      "0: 96x96 1 surprise, 13.0ms\n",
      "Speed: 0.2ms preprocess, 13.0ms inference, 1.0ms postprocess per image at shape (1, 3, 96, 96)\n",
      "\n",
      "0: 96x96 1 surprise, 12.2ms\n",
      "Speed: 0.4ms preprocess, 12.2ms inference, 1.1ms postprocess per image at shape (1, 3, 96, 96)\n",
      "\n",
      "0: 96x96 1 surprise, 12.7ms\n",
      "Speed: 0.4ms preprocess, 12.7ms inference, 1.1ms postprocess per image at shape (1, 3, 96, 96)\n",
      "\n",
      "0: 96x96 (no detections), 12.6ms\n",
      "Speed: 0.4ms preprocess, 12.6ms inference, 0.7ms postprocess per image at shape (1, 3, 96, 96)\n",
      "\n",
      "0: 96x96 (no detections), 13.1ms\n",
      "Speed: 0.3ms preprocess, 13.1ms inference, 0.6ms postprocess per image at shape (1, 3, 96, 96)\n",
      "\n",
      "0: 96x96 (no detections), 12.7ms\n",
      "Speed: 0.5ms preprocess, 12.7ms inference, 0.6ms postprocess per image at shape (1, 3, 96, 96)\n",
      "\n",
      "0: 96x96 (no detections), 12.3ms\n",
      "Speed: 0.5ms preprocess, 12.3ms inference, 0.6ms postprocess per image at shape (1, 3, 96, 96)\n",
      "\n",
      "0: 96x96 1 surprise, 13.0ms\n",
      "Speed: 0.5ms preprocess, 13.0ms inference, 1.2ms postprocess per image at shape (1, 3, 96, 96)\n",
      "\n",
      "0: 96x96 1 surprise, 13.3ms\n",
      "Speed: 0.2ms preprocess, 13.3ms inference, 1.3ms postprocess per image at shape (1, 3, 96, 96)\n",
      "\n",
      "0: 96x96 1 surprise, 12.7ms\n",
      "Speed: 0.2ms preprocess, 12.7ms inference, 1.0ms postprocess per image at shape (1, 3, 96, 96)\n",
      "\n",
      "0: 96x96 1 surprise, 12.8ms\n",
      "Speed: 0.3ms preprocess, 12.8ms inference, 1.1ms postprocess per image at shape (1, 3, 96, 96)\n",
      "\n",
      "0: 96x96 1 surprise, 12.7ms\n",
      "Speed: 0.4ms preprocess, 12.7ms inference, 1.0ms postprocess per image at shape (1, 3, 96, 96)\n",
      "\n",
      "0: 96x96 1 surprise, 12.1ms\n",
      "Speed: 0.4ms preprocess, 12.1ms inference, 1.0ms postprocess per image at shape (1, 3, 96, 96)\n",
      "\n",
      "0: 96x96 1 surprise, 12.3ms\n",
      "Speed: 0.2ms preprocess, 12.3ms inference, 1.0ms postprocess per image at shape (1, 3, 96, 96)\n",
      "\n",
      "0: 96x96 (no detections), 13.2ms\n",
      "Speed: 0.3ms preprocess, 13.2ms inference, 0.6ms postprocess per image at shape (1, 3, 96, 96)\n",
      "\n",
      "0: 96x96 1 surprise, 12.5ms\n",
      "Speed: 0.3ms preprocess, 12.5ms inference, 1.0ms postprocess per image at shape (1, 3, 96, 96)\n",
      "\n",
      "0: 96x96 1 sad, 12.4ms\n",
      "Speed: 0.4ms preprocess, 12.4ms inference, 1.0ms postprocess per image at shape (1, 3, 96, 96)\n",
      "\n",
      "0: 96x96 1 sad, 13.9ms\n",
      "Speed: 0.4ms preprocess, 13.9ms inference, 1.0ms postprocess per image at shape (1, 3, 96, 96)\n",
      "\n",
      "0: 96x96 1 sad, 12.8ms\n",
      "Speed: 0.2ms preprocess, 12.8ms inference, 1.0ms postprocess per image at shape (1, 3, 96, 96)\n",
      "\n",
      "0: 96x96 (no detections), 12.3ms\n",
      "Speed: 0.5ms preprocess, 12.3ms inference, 0.6ms postprocess per image at shape (1, 3, 96, 96)\n",
      "\n",
      "0: 96x96 (no detections), 12.6ms\n",
      "Speed: 0.3ms preprocess, 12.6ms inference, 0.9ms postprocess per image at shape (1, 3, 96, 96)\n",
      "\n",
      "0: 96x96 1 disgust, 12.6ms\n",
      "Speed: 0.4ms preprocess, 12.6ms inference, 1.0ms postprocess per image at shape (1, 3, 96, 96)\n",
      "\n",
      "0: 96x96 (no detections), 13.4ms\n",
      "Speed: 0.2ms preprocess, 13.4ms inference, 0.6ms postprocess per image at shape (1, 3, 96, 96)\n",
      "\n",
      "0: 96x96 (no detections), 12.7ms\n",
      "Speed: 0.5ms preprocess, 12.7ms inference, 0.7ms postprocess per image at shape (1, 3, 96, 96)\n",
      "\n",
      "0: 96x96 1 disgust, 24.9ms\n",
      "Speed: 1.1ms preprocess, 24.9ms inference, 2.2ms postprocess per image at shape (1, 3, 96, 96)\n",
      "\n",
      "0: 96x96 1 disgust, 28.7ms\n",
      "Speed: 0.4ms preprocess, 28.7ms inference, 2.3ms postprocess per image at shape (1, 3, 96, 96)\n",
      "\n",
      "0: 96x96 1 disgust, 23.0ms\n",
      "Speed: 0.9ms preprocess, 23.0ms inference, 1.7ms postprocess per image at shape (1, 3, 96, 96)\n",
      "\n",
      "0: 96x96 (no detections), 18.0ms\n",
      "Speed: 0.4ms preprocess, 18.0ms inference, 1.3ms postprocess per image at shape (1, 3, 96, 96)\n",
      "\n",
      "0: 96x96 (no detections), 19.9ms\n",
      "Speed: 0.4ms preprocess, 19.9ms inference, 1.3ms postprocess per image at shape (1, 3, 96, 96)\n",
      "\n",
      "0: 96x96 (no detections), 19.4ms\n",
      "Speed: 0.7ms preprocess, 19.4ms inference, 0.9ms postprocess per image at shape (1, 3, 96, 96)\n",
      "\n",
      "0: 96x96 1 sad, 17.5ms\n",
      "Speed: 0.6ms preprocess, 17.5ms inference, 1.6ms postprocess per image at shape (1, 3, 96, 96)\n",
      "\n",
      "0: 96x96 1 sad, 17.0ms\n",
      "Speed: 0.6ms preprocess, 17.0ms inference, 1.6ms postprocess per image at shape (1, 3, 96, 96)\n",
      "\n",
      "0: 96x96 1 surprise, 18.0ms\n",
      "Speed: 0.4ms preprocess, 18.0ms inference, 1.4ms postprocess per image at shape (1, 3, 96, 96)\n",
      "\n",
      "0: 96x96 1 surprise, 18.1ms\n",
      "Speed: 0.5ms preprocess, 18.1ms inference, 1.4ms postprocess per image at shape (1, 3, 96, 96)\n",
      "\n",
      "0: 96x96 (no detections), 19.9ms\n",
      "Speed: 0.7ms preprocess, 19.9ms inference, 1.1ms postprocess per image at shape (1, 3, 96, 96)\n",
      "\n",
      "0: 96x96 1 surprise, 20.6ms\n",
      "Speed: 0.8ms preprocess, 20.6ms inference, 3.0ms postprocess per image at shape (1, 3, 96, 96)\n",
      "\n",
      "0: 96x96 1 sad, 21.4ms\n",
      "Speed: 0.9ms preprocess, 21.4ms inference, 1.5ms postprocess per image at shape (1, 3, 96, 96)\n",
      "\n",
      "0: 96x96 1 sad, 20.0ms\n",
      "Speed: 0.8ms preprocess, 20.0ms inference, 1.6ms postprocess per image at shape (1, 3, 96, 96)\n",
      "\n",
      "0: 96x96 1 disgust, 21.7ms\n",
      "Speed: 0.3ms preprocess, 21.7ms inference, 1.5ms postprocess per image at shape (1, 3, 96, 96)\n",
      "\n",
      "0: 96x96 1 disgust, 1 surprise, 17.9ms\n",
      "Speed: 0.7ms preprocess, 17.9ms inference, 1.2ms postprocess per image at shape (1, 3, 96, 96)\n",
      "\n",
      "0: 96x96 1 surprise, 20.2ms\n",
      "Speed: 0.4ms preprocess, 20.2ms inference, 2.2ms postprocess per image at shape (1, 3, 96, 96)\n",
      "\n",
      "0: 96x96 1 surprise, 18.8ms\n",
      "Speed: 0.3ms preprocess, 18.8ms inference, 1.2ms postprocess per image at shape (1, 3, 96, 96)\n",
      "\n",
      "0: 96x96 1 surprise, 23.7ms\n",
      "Speed: 0.7ms preprocess, 23.7ms inference, 3.9ms postprocess per image at shape (1, 3, 96, 96)\n",
      "\n",
      "0: 96x96 1 surprise, 20.8ms\n",
      "Speed: 0.5ms preprocess, 20.8ms inference, 1.5ms postprocess per image at shape (1, 3, 96, 96)\n",
      "\n",
      "0: 96x96 1 surprise, 21.4ms\n",
      "Speed: 0.4ms preprocess, 21.4ms inference, 1.8ms postprocess per image at shape (1, 3, 96, 96)\n",
      "\n",
      "0: 96x96 1 surprise, 25.4ms\n",
      "Speed: 0.6ms preprocess, 25.4ms inference, 3.1ms postprocess per image at shape (1, 3, 96, 96)\n",
      "\n",
      "0: 96x96 1 surprise, 21.0ms\n",
      "Speed: 1.2ms preprocess, 21.0ms inference, 1.5ms postprocess per image at shape (1, 3, 96, 96)\n",
      "\n",
      "0: 96x96 (no detections), 19.4ms\n",
      "Speed: 0.3ms preprocess, 19.4ms inference, 1.0ms postprocess per image at shape (1, 3, 96, 96)\n",
      "\n",
      "0: 96x96 (no detections), 21.4ms\n",
      "Speed: 0.4ms preprocess, 21.4ms inference, 0.9ms postprocess per image at shape (1, 3, 96, 96)\n",
      "\n",
      "0: 96x96 1 fear, 21.0ms\n",
      "Speed: 0.5ms preprocess, 21.0ms inference, 1.3ms postprocess per image at shape (1, 3, 96, 96)\n",
      "\n",
      "0: 96x96 1 fear, 19.5ms\n",
      "Speed: 0.9ms preprocess, 19.5ms inference, 1.2ms postprocess per image at shape (1, 3, 96, 96)\n",
      "\n",
      "0: 96x96 (no detections), 21.1ms\n",
      "Speed: 1.7ms preprocess, 21.1ms inference, 1.2ms postprocess per image at shape (1, 3, 96, 96)\n",
      "\n",
      "0: 96x96 1 surprise, 17.4ms\n",
      "Speed: 0.7ms preprocess, 17.4ms inference, 2.5ms postprocess per image at shape (1, 3, 96, 96)\n",
      "\n",
      "0: 96x96 1 surprise, 14.8ms\n",
      "Speed: 0.4ms preprocess, 14.8ms inference, 1.8ms postprocess per image at shape (1, 3, 96, 96)\n",
      "\n",
      "0: 96x96 1 surprise, 14.4ms\n",
      "Speed: 0.4ms preprocess, 14.4ms inference, 1.8ms postprocess per image at shape (1, 3, 96, 96)\n",
      "\n",
      "0: 96x96 (no detections), 14.0ms\n",
      "Speed: 0.4ms preprocess, 14.0ms inference, 0.6ms postprocess per image at shape (1, 3, 96, 96)\n",
      "\n",
      "0: 96x96 1 surprise, 15.8ms\n",
      "Speed: 0.6ms preprocess, 15.8ms inference, 1.4ms postprocess per image at shape (1, 3, 96, 96)\n",
      "\n",
      "0: 96x96 1 surprise, 17.7ms\n",
      "Speed: 0.4ms preprocess, 17.7ms inference, 1.1ms postprocess per image at shape (1, 3, 96, 96)\n",
      "\n",
      "0: 96x96 1 surprise, 13.6ms\n",
      "Speed: 0.3ms preprocess, 13.6ms inference, 1.4ms postprocess per image at shape (1, 3, 96, 96)\n",
      "\n",
      "0: 96x96 1 disgust, 1 surprise, 15.4ms\n",
      "Speed: 0.4ms preprocess, 15.4ms inference, 1.2ms postprocess per image at shape (1, 3, 96, 96)\n",
      "\n",
      "0: 96x96 1 fear, 14.3ms\n",
      "Speed: 0.3ms preprocess, 14.3ms inference, 1.0ms postprocess per image at shape (1, 3, 96, 96)\n",
      "\n",
      "0: 96x96 1 fear, 15.6ms\n",
      "Speed: 0.3ms preprocess, 15.6ms inference, 1.0ms postprocess per image at shape (1, 3, 96, 96)\n",
      "\n",
      "0: 96x96 1 fear, 18.7ms\n",
      "Speed: 0.3ms preprocess, 18.7ms inference, 6.8ms postprocess per image at shape (1, 3, 96, 96)\n",
      "\n",
      "0: 96x96 1 surprise, 17.5ms\n",
      "Speed: 0.4ms preprocess, 17.5ms inference, 1.5ms postprocess per image at shape (1, 3, 96, 96)\n",
      "\n",
      "0: 96x96 1 surprise, 17.0ms\n",
      "Speed: 0.3ms preprocess, 17.0ms inference, 1.4ms postprocess per image at shape (1, 3, 96, 96)\n",
      "\n",
      "0: 96x96 1 surprise, 16.4ms\n",
      "Speed: 0.5ms preprocess, 16.4ms inference, 3.4ms postprocess per image at shape (1, 3, 96, 96)\n",
      "\n",
      "0: 96x96 1 fear, 15.2ms\n",
      "Speed: 0.3ms preprocess, 15.2ms inference, 3.3ms postprocess per image at shape (1, 3, 96, 96)\n",
      "\n",
      "0: 96x96 1 surprise, 15.0ms\n",
      "Speed: 0.4ms preprocess, 15.0ms inference, 1.1ms postprocess per image at shape (1, 3, 96, 96)\n",
      "\n",
      "0: 96x96 1 surprise, 14.5ms\n",
      "Speed: 0.3ms preprocess, 14.5ms inference, 1.4ms postprocess per image at shape (1, 3, 96, 96)\n",
      "\n",
      "0: 96x96 1 surprise, 15.4ms\n",
      "Speed: 2.1ms preprocess, 15.4ms inference, 1.6ms postprocess per image at shape (1, 3, 96, 96)\n",
      "\n",
      "0: 96x96 1 surprise, 13.1ms\n",
      "Speed: 1.0ms preprocess, 13.1ms inference, 1.0ms postprocess per image at shape (1, 3, 96, 96)\n",
      "\n",
      "0: 96x96 1 surprise, 14.1ms\n",
      "Speed: 0.4ms preprocess, 14.1ms inference, 1.0ms postprocess per image at shape (1, 3, 96, 96)\n",
      "\n",
      "0: 96x96 1 surprise, 12.0ms\n",
      "Speed: 0.3ms preprocess, 12.0ms inference, 1.3ms postprocess per image at shape (1, 3, 96, 96)\n",
      "\n",
      "0: 96x96 1 surprise, 13.8ms\n",
      "Speed: 0.5ms preprocess, 13.8ms inference, 1.4ms postprocess per image at shape (1, 3, 96, 96)\n",
      "\n",
      "0: 96x96 1 surprise, 14.1ms\n",
      "Speed: 0.5ms preprocess, 14.1ms inference, 1.6ms postprocess per image at shape (1, 3, 96, 96)\n",
      "\n",
      "0: 96x96 1 surprise, 13.9ms\n",
      "Speed: 0.5ms preprocess, 13.9ms inference, 1.8ms postprocess per image at shape (1, 3, 96, 96)\n",
      "\n",
      "0: 96x96 1 surprise, 14.5ms\n",
      "Speed: 0.5ms preprocess, 14.5ms inference, 1.1ms postprocess per image at shape (1, 3, 96, 96)\n",
      "\n",
      "0: 96x96 1 surprise, 13.2ms\n",
      "Speed: 0.6ms preprocess, 13.2ms inference, 1.0ms postprocess per image at shape (1, 3, 96, 96)\n",
      "\n",
      "0: 96x96 1 surprise, 12.9ms\n",
      "Speed: 0.6ms preprocess, 12.9ms inference, 1.4ms postprocess per image at shape (1, 3, 96, 96)\n",
      "\n",
      "0: 96x96 1 surprise, 13.2ms\n",
      "Speed: 0.5ms preprocess, 13.2ms inference, 1.0ms postprocess per image at shape (1, 3, 96, 96)\n",
      "\n",
      "0: 96x96 1 surprise, 13.7ms\n",
      "Speed: 0.3ms preprocess, 13.7ms inference, 1.0ms postprocess per image at shape (1, 3, 96, 96)\n",
      "\n",
      "0: 96x96 1 surprise, 13.5ms\n",
      "Speed: 0.5ms preprocess, 13.5ms inference, 1.4ms postprocess per image at shape (1, 3, 96, 96)\n",
      "\n",
      "0: 96x96 1 surprise, 13.0ms\n",
      "Speed: 0.6ms preprocess, 13.0ms inference, 1.0ms postprocess per image at shape (1, 3, 96, 96)\n",
      "\n",
      "0: 96x96 1 surprise, 12.7ms\n",
      "Speed: 0.5ms preprocess, 12.7ms inference, 2.1ms postprocess per image at shape (1, 3, 96, 96)\n",
      "\n",
      "0: 96x96 1 surprise, 13.4ms\n",
      "Speed: 0.6ms preprocess, 13.4ms inference, 1.2ms postprocess per image at shape (1, 3, 96, 96)\n",
      "\n",
      "0: 96x96 1 surprise, 12.7ms\n",
      "Speed: 0.4ms preprocess, 12.7ms inference, 1.5ms postprocess per image at shape (1, 3, 96, 96)\n",
      "\n",
      "0: 96x96 1 surprise, 14.1ms\n",
      "Speed: 0.7ms preprocess, 14.1ms inference, 1.1ms postprocess per image at shape (1, 3, 96, 96)\n",
      "\n",
      "0: 96x96 1 surprise, 12.3ms\n",
      "Speed: 0.6ms preprocess, 12.3ms inference, 1.6ms postprocess per image at shape (1, 3, 96, 96)\n",
      "\n",
      "0: 96x96 1 surprise, 13.1ms\n",
      "Speed: 0.4ms preprocess, 13.1ms inference, 1.1ms postprocess per image at shape (1, 3, 96, 96)\n",
      "\n",
      "0: 96x96 1 surprise, 12.8ms\n",
      "Speed: 0.5ms preprocess, 12.8ms inference, 1.1ms postprocess per image at shape (1, 3, 96, 96)\n",
      "\n",
      "0: 96x96 1 surprise, 13.4ms\n",
      "Speed: 0.7ms preprocess, 13.4ms inference, 2.2ms postprocess per image at shape (1, 3, 96, 96)\n",
      "\n",
      "0: 96x96 1 surprise, 14.3ms\n",
      "Speed: 0.5ms preprocess, 14.3ms inference, 1.6ms postprocess per image at shape (1, 3, 96, 96)\n",
      "\n",
      "0: 96x96 1 surprise, 13.5ms\n",
      "Speed: 0.4ms preprocess, 13.5ms inference, 1.1ms postprocess per image at shape (1, 3, 96, 96)\n",
      "\n",
      "0: 96x96 1 surprise, 11.5ms\n",
      "Speed: 0.3ms preprocess, 11.5ms inference, 1.1ms postprocess per image at shape (1, 3, 96, 96)\n",
      "\n",
      "0: 96x96 (no detections), 11.4ms\n",
      "Speed: 0.2ms preprocess, 11.4ms inference, 0.7ms postprocess per image at shape (1, 3, 96, 96)\n",
      "\n",
      "0: 96x96 (no detections), 11.3ms\n",
      "Speed: 0.2ms preprocess, 11.3ms inference, 0.7ms postprocess per image at shape (1, 3, 96, 96)\n",
      "\n",
      "0: 96x96 1 sad, 1 surprise, 11.4ms\n",
      "Speed: 0.4ms preprocess, 11.4ms inference, 1.4ms postprocess per image at shape (1, 3, 96, 96)\n",
      "\n",
      "0: 96x96 1 surprise, 12.0ms\n",
      "Speed: 0.3ms preprocess, 12.0ms inference, 1.1ms postprocess per image at shape (1, 3, 96, 96)\n",
      "\n",
      "0: 96x96 1 fear, 11.9ms\n",
      "Speed: 0.5ms preprocess, 11.9ms inference, 1.0ms postprocess per image at shape (1, 3, 96, 96)\n",
      "\n",
      "0: 96x96 1 fear, 12.2ms\n",
      "Speed: 0.6ms preprocess, 12.2ms inference, 0.9ms postprocess per image at shape (1, 3, 96, 96)\n",
      "\n",
      "0: 96x96 1 fear, 12.0ms\n",
      "Speed: 0.5ms preprocess, 12.0ms inference, 1.1ms postprocess per image at shape (1, 3, 96, 96)\n",
      "\n",
      "0: 96x96 1 fear, 11.5ms\n",
      "Speed: 0.3ms preprocess, 11.5ms inference, 1.1ms postprocess per image at shape (1, 3, 96, 96)\n",
      "\n",
      "0: 96x96 1 fear, 11.8ms\n",
      "Speed: 0.3ms preprocess, 11.8ms inference, 1.1ms postprocess per image at shape (1, 3, 96, 96)\n",
      "\n",
      "0: 96x96 1 anger, 1 fear, 12.4ms\n",
      "Speed: 0.5ms preprocess, 12.4ms inference, 1.0ms postprocess per image at shape (1, 3, 96, 96)\n",
      "\n",
      "0: 96x96 (no detections), 13.1ms\n",
      "Speed: 0.5ms preprocess, 13.1ms inference, 0.6ms postprocess per image at shape (1, 3, 96, 96)\n",
      "\n",
      "0: 96x96 (no detections), 12.3ms\n",
      "Speed: 0.4ms preprocess, 12.3ms inference, 0.6ms postprocess per image at shape (1, 3, 96, 96)\n",
      "\n",
      "0: 96x96 1 fear, 11.5ms\n",
      "Speed: 0.5ms preprocess, 11.5ms inference, 1.0ms postprocess per image at shape (1, 3, 96, 96)\n",
      "\n",
      "0: 96x96 1 sad, 11.7ms\n",
      "Speed: 0.4ms preprocess, 11.7ms inference, 1.1ms postprocess per image at shape (1, 3, 96, 96)\n",
      "\n",
      "0: 96x96 1 sad, 12.3ms\n",
      "Speed: 0.3ms preprocess, 12.3ms inference, 1.1ms postprocess per image at shape (1, 3, 96, 96)\n",
      "\n",
      "0: 96x96 1 surprise, 12.8ms\n",
      "Speed: 0.4ms preprocess, 12.8ms inference, 1.1ms postprocess per image at shape (1, 3, 96, 96)\n",
      "\n",
      "0: 96x96 (no detections), 12.3ms\n",
      "Speed: 0.4ms preprocess, 12.3ms inference, 0.6ms postprocess per image at shape (1, 3, 96, 96)\n",
      "\n",
      "0: 96x96 1 surprise, 11.7ms\n",
      "Speed: 0.3ms preprocess, 11.7ms inference, 1.0ms postprocess per image at shape (1, 3, 96, 96)\n",
      "\n",
      "0: 96x96 1 surprise, 12.8ms\n",
      "Speed: 0.2ms preprocess, 12.8ms inference, 1.0ms postprocess per image at shape (1, 3, 96, 96)\n",
      "\n",
      "0: 96x96 1 surprise, 12.1ms\n",
      "Speed: 0.4ms preprocess, 12.1ms inference, 1.2ms postprocess per image at shape (1, 3, 96, 96)\n",
      "\n",
      "0: 96x96 1 surprise, 12.3ms\n",
      "Speed: 0.5ms preprocess, 12.3ms inference, 1.2ms postprocess per image at shape (1, 3, 96, 96)\n",
      "\n",
      "0: 96x96 1 surprise, 11.3ms\n",
      "Speed: 0.4ms preprocess, 11.3ms inference, 1.1ms postprocess per image at shape (1, 3, 96, 96)\n",
      "\n",
      "0: 96x96 1 surprise, 11.7ms\n",
      "Speed: 0.2ms preprocess, 11.7ms inference, 1.3ms postprocess per image at shape (1, 3, 96, 96)\n",
      "\n",
      "0: 96x96 1 surprise, 11.9ms\n",
      "Speed: 0.3ms preprocess, 11.9ms inference, 1.1ms postprocess per image at shape (1, 3, 96, 96)\n",
      "\n",
      "0: 96x96 1 surprise, 12.0ms\n",
      "Speed: 0.2ms preprocess, 12.0ms inference, 1.0ms postprocess per image at shape (1, 3, 96, 96)\n",
      "\n",
      "0: 96x96 1 disgust, 1 surprise, 12.5ms\n",
      "Speed: 0.4ms preprocess, 12.5ms inference, 1.3ms postprocess per image at shape (1, 3, 96, 96)\n",
      "\n",
      "0: 96x96 1 surprise, 11.9ms\n",
      "Speed: 0.5ms preprocess, 11.9ms inference, 1.0ms postprocess per image at shape (1, 3, 96, 96)\n",
      "\n",
      "0: 96x96 1 surprise, 12.5ms\n",
      "Speed: 0.2ms preprocess, 12.5ms inference, 1.6ms postprocess per image at shape (1, 3, 96, 96)\n",
      "\n",
      "0: 96x96 (no detections), 12.1ms\n",
      "Speed: 0.4ms preprocess, 12.1ms inference, 0.7ms postprocess per image at shape (1, 3, 96, 96)\n",
      "\n",
      "0: 96x96 (no detections), 12.8ms\n",
      "Speed: 0.2ms preprocess, 12.8ms inference, 0.7ms postprocess per image at shape (1, 3, 96, 96)\n",
      "\n",
      "0: 96x96 (no detections), 11.8ms\n",
      "Speed: 0.2ms preprocess, 11.8ms inference, 0.6ms postprocess per image at shape (1, 3, 96, 96)\n",
      "\n",
      "0: 96x96 (no detections), 12.7ms\n",
      "Speed: 0.4ms preprocess, 12.7ms inference, 0.7ms postprocess per image at shape (1, 3, 96, 96)\n",
      "\n",
      "0: 96x96 (no detections), 12.4ms\n",
      "Speed: 0.5ms preprocess, 12.4ms inference, 0.7ms postprocess per image at shape (1, 3, 96, 96)\n",
      "\n",
      "0: 96x96 (no detections), 12.5ms\n",
      "Speed: 0.6ms preprocess, 12.5ms inference, 0.6ms postprocess per image at shape (1, 3, 96, 96)\n",
      "\n",
      "0: 96x96 (no detections), 11.2ms\n",
      "Speed: 0.3ms preprocess, 11.2ms inference, 0.7ms postprocess per image at shape (1, 3, 96, 96)\n",
      "\n",
      "0: 96x96 1 sad, 12.1ms\n",
      "Speed: 0.3ms preprocess, 12.1ms inference, 1.0ms postprocess per image at shape (1, 3, 96, 96)\n",
      "\n",
      "0: 96x96 (no detections), 11.5ms\n",
      "Speed: 0.2ms preprocess, 11.5ms inference, 0.6ms postprocess per image at shape (1, 3, 96, 96)\n",
      "\n",
      "0: 96x96 (no detections), 12.3ms\n",
      "Speed: 0.4ms preprocess, 12.3ms inference, 0.9ms postprocess per image at shape (1, 3, 96, 96)\n",
      "\n",
      "0: 96x96 1 sad, 12.4ms\n",
      "Speed: 0.3ms preprocess, 12.4ms inference, 1.1ms postprocess per image at shape (1, 3, 96, 96)\n",
      "\n",
      "0: 96x96 1 surprise, 12.4ms\n",
      "Speed: 0.3ms preprocess, 12.4ms inference, 1.0ms postprocess per image at shape (1, 3, 96, 96)\n",
      "\n",
      "0: 96x96 1 surprise, 12.2ms\n",
      "Speed: 0.4ms preprocess, 12.2ms inference, 1.0ms postprocess per image at shape (1, 3, 96, 96)\n",
      "\n",
      "0: 96x96 1 sad, 1 surprise, 11.4ms\n",
      "Speed: 0.5ms preprocess, 11.4ms inference, 1.0ms postprocess per image at shape (1, 3, 96, 96)\n",
      "\n",
      "0: 96x96 1 surprise, 11.5ms\n",
      "Speed: 0.4ms preprocess, 11.5ms inference, 1.0ms postprocess per image at shape (1, 3, 96, 96)\n",
      "\n",
      "0: 96x96 1 surprise, 13.0ms\n",
      "Speed: 0.6ms preprocess, 13.0ms inference, 1.2ms postprocess per image at shape (1, 3, 96, 96)\n",
      "\n",
      "0: 96x96 1 surprise, 12.9ms\n",
      "Speed: 0.6ms preprocess, 12.9ms inference, 1.0ms postprocess per image at shape (1, 3, 96, 96)\n",
      "\n",
      "0: 96x96 1 surprise, 11.5ms\n",
      "Speed: 0.4ms preprocess, 11.5ms inference, 1.0ms postprocess per image at shape (1, 3, 96, 96)\n",
      "\n",
      "0: 96x96 1 surprise, 12.4ms\n",
      "Speed: 0.3ms preprocess, 12.4ms inference, 1.1ms postprocess per image at shape (1, 3, 96, 96)\n",
      "\n",
      "0: 96x96 1 surprise, 11.9ms\n",
      "Speed: 0.3ms preprocess, 11.9ms inference, 1.1ms postprocess per image at shape (1, 3, 96, 96)\n",
      "\n",
      "0: 96x96 1 surprise, 12.3ms\n",
      "Speed: 0.3ms preprocess, 12.3ms inference, 1.6ms postprocess per image at shape (1, 3, 96, 96)\n",
      "\n",
      "0: 96x96 1 surprise, 12.6ms\n",
      "Speed: 0.4ms preprocess, 12.6ms inference, 1.0ms postprocess per image at shape (1, 3, 96, 96)\n",
      "\n",
      "0: 96x96 1 surprise, 12.6ms\n",
      "Speed: 0.2ms preprocess, 12.6ms inference, 1.0ms postprocess per image at shape (1, 3, 96, 96)\n",
      "\n",
      "0: 96x96 1 sad, 11.3ms\n",
      "Speed: 0.4ms preprocess, 11.3ms inference, 0.9ms postprocess per image at shape (1, 3, 96, 96)\n",
      "\n",
      "0: 96x96 1 sad, 12.2ms\n",
      "Speed: 0.5ms preprocess, 12.2ms inference, 1.1ms postprocess per image at shape (1, 3, 96, 96)\n",
      "\n",
      "0: 96x96 1 sad, 11.6ms\n",
      "Speed: 0.2ms preprocess, 11.6ms inference, 1.0ms postprocess per image at shape (1, 3, 96, 96)\n",
      "\n",
      "0: 96x96 1 sad, 12.7ms\n",
      "Speed: 0.4ms preprocess, 12.7ms inference, 1.1ms postprocess per image at shape (1, 3, 96, 96)\n",
      "\n",
      "0: 96x96 1 sad, 10.9ms\n",
      "Speed: 0.4ms preprocess, 10.9ms inference, 1.2ms postprocess per image at shape (1, 3, 96, 96)\n",
      "\n",
      "0: 96x96 1 sad, 11.1ms\n",
      "Speed: 0.2ms preprocess, 11.1ms inference, 1.1ms postprocess per image at shape (1, 3, 96, 96)\n",
      "\n",
      "0: 96x96 1 sad, 1 surprise, 11.2ms\n",
      "Speed: 0.4ms preprocess, 11.2ms inference, 1.1ms postprocess per image at shape (1, 3, 96, 96)\n",
      "\n",
      "0: 96x96 1 surprise, 12.0ms\n",
      "Speed: 0.3ms preprocess, 12.0ms inference, 1.1ms postprocess per image at shape (1, 3, 96, 96)\n",
      "\n",
      "0: 96x96 1 sad, 1 surprise, 11.6ms\n",
      "Speed: 0.3ms preprocess, 11.6ms inference, 1.1ms postprocess per image at shape (1, 3, 96, 96)\n",
      "\n",
      "0: 96x96 1 surprise, 12.7ms\n",
      "Speed: 0.3ms preprocess, 12.7ms inference, 1.0ms postprocess per image at shape (1, 3, 96, 96)\n",
      "\n",
      "0: 96x96 1 surprise, 12.0ms\n",
      "Speed: 0.8ms preprocess, 12.0ms inference, 1.1ms postprocess per image at shape (1, 3, 96, 96)\n",
      "\n",
      "0: 96x96 1 surprise, 11.1ms\n",
      "Speed: 0.2ms preprocess, 11.1ms inference, 1.1ms postprocess per image at shape (1, 3, 96, 96)\n",
      "\n",
      "0: 96x96 1 surprise, 11.8ms\n",
      "Speed: 0.4ms preprocess, 11.8ms inference, 1.1ms postprocess per image at shape (1, 3, 96, 96)\n",
      "\n",
      "0: 96x96 1 surprise, 11.3ms\n",
      "Speed: 0.2ms preprocess, 11.3ms inference, 1.1ms postprocess per image at shape (1, 3, 96, 96)\n",
      "\n",
      "0: 96x96 1 surprise, 12.1ms\n",
      "Speed: 0.4ms preprocess, 12.1ms inference, 1.2ms postprocess per image at shape (1, 3, 96, 96)\n",
      "\n",
      "0: 96x96 1 surprise, 12.6ms\n",
      "Speed: 0.2ms preprocess, 12.6ms inference, 1.1ms postprocess per image at shape (1, 3, 96, 96)\n",
      "\n",
      "0: 96x96 1 surprise, 12.1ms\n",
      "Speed: 0.3ms preprocess, 12.1ms inference, 1.0ms postprocess per image at shape (1, 3, 96, 96)\n",
      "\n",
      "0: 96x96 1 surprise, 13.0ms\n",
      "Speed: 0.4ms preprocess, 13.0ms inference, 1.0ms postprocess per image at shape (1, 3, 96, 96)\n",
      "\n",
      "0: 96x96 1 surprise, 11.9ms\n",
      "Speed: 0.5ms preprocess, 11.9ms inference, 1.0ms postprocess per image at shape (1, 3, 96, 96)\n",
      "\n",
      "0: 96x96 1 surprise, 11.4ms\n",
      "Speed: 0.3ms preprocess, 11.4ms inference, 1.0ms postprocess per image at shape (1, 3, 96, 96)\n",
      "\n",
      "0: 96x96 1 surprise, 11.9ms\n",
      "Speed: 0.3ms preprocess, 11.9ms inference, 1.1ms postprocess per image at shape (1, 3, 96, 96)\n",
      "\n",
      "0: 96x96 1 surprise, 11.7ms\n",
      "Speed: 0.4ms preprocess, 11.7ms inference, 1.1ms postprocess per image at shape (1, 3, 96, 96)\n",
      "\n",
      "0: 96x96 1 surprise, 11.4ms\n",
      "Speed: 0.4ms preprocess, 11.4ms inference, 1.4ms postprocess per image at shape (1, 3, 96, 96)\n",
      "\n",
      "0: 96x96 1 surprise, 11.1ms\n",
      "Speed: 0.2ms preprocess, 11.1ms inference, 1.1ms postprocess per image at shape (1, 3, 96, 96)\n",
      "\n",
      "0: 96x96 1 sad, 1 surprise, 12.7ms\n",
      "Speed: 0.2ms preprocess, 12.7ms inference, 1.0ms postprocess per image at shape (1, 3, 96, 96)\n",
      "\n",
      "0: 96x96 1 sad, 1 surprise, 11.6ms\n",
      "Speed: 0.4ms preprocess, 11.6ms inference, 1.0ms postprocess per image at shape (1, 3, 96, 96)\n",
      "\n",
      "0: 96x96 1 sad, 12.5ms\n",
      "Speed: 0.4ms preprocess, 12.5ms inference, 1.0ms postprocess per image at shape (1, 3, 96, 96)\n",
      "\n",
      "0: 96x96 1 sad, 11.6ms\n",
      "Speed: 0.2ms preprocess, 11.6ms inference, 1.0ms postprocess per image at shape (1, 3, 96, 96)\n",
      "\n",
      "0: 96x96 1 surprise, 11.2ms\n",
      "Speed: 0.2ms preprocess, 11.2ms inference, 1.0ms postprocess per image at shape (1, 3, 96, 96)\n",
      "\n",
      "0: 96x96 1 surprise, 12.5ms\n",
      "Speed: 0.4ms preprocess, 12.5ms inference, 1.0ms postprocess per image at shape (1, 3, 96, 96)\n",
      "\n",
      "0: 96x96 1 surprise, 12.6ms\n",
      "Speed: 0.4ms preprocess, 12.6ms inference, 1.1ms postprocess per image at shape (1, 3, 96, 96)\n",
      "\n",
      "0: 96x96 1 surprise, 11.9ms\n",
      "Speed: 0.4ms preprocess, 11.9ms inference, 1.1ms postprocess per image at shape (1, 3, 96, 96)\n",
      "\n",
      "0: 96x96 1 surprise, 12.8ms\n",
      "Speed: 0.2ms preprocess, 12.8ms inference, 1.0ms postprocess per image at shape (1, 3, 96, 96)\n",
      "\n",
      "0: 96x96 1 surprise, 12.3ms\n",
      "Speed: 0.6ms preprocess, 12.3ms inference, 1.0ms postprocess per image at shape (1, 3, 96, 96)\n",
      "\n",
      "0: 96x96 1 surprise, 11.4ms\n",
      "Speed: 0.4ms preprocess, 11.4ms inference, 1.2ms postprocess per image at shape (1, 3, 96, 96)\n",
      "\n",
      "0: 96x96 1 surprise, 11.9ms\n",
      "Speed: 0.4ms preprocess, 11.9ms inference, 1.2ms postprocess per image at shape (1, 3, 96, 96)\n",
      "\n",
      "0: 96x96 1 surprise, 12.2ms\n",
      "Speed: 0.5ms preprocess, 12.2ms inference, 1.0ms postprocess per image at shape (1, 3, 96, 96)\n",
      "\n",
      "0: 96x96 1 surprise, 11.8ms\n",
      "Speed: 0.2ms preprocess, 11.8ms inference, 1.0ms postprocess per image at shape (1, 3, 96, 96)\n",
      "\n",
      "0: 96x96 1 surprise, 12.2ms\n",
      "Speed: 0.4ms preprocess, 12.2ms inference, 1.0ms postprocess per image at shape (1, 3, 96, 96)\n",
      "\n",
      "0: 96x96 1 surprise, 11.8ms\n",
      "Speed: 0.4ms preprocess, 11.8ms inference, 1.0ms postprocess per image at shape (1, 3, 96, 96)\n",
      "\n",
      "0: 96x96 1 surprise, 11.5ms\n",
      "Speed: 0.4ms preprocess, 11.5ms inference, 1.0ms postprocess per image at shape (1, 3, 96, 96)\n",
      "\n",
      "0: 96x96 1 surprise, 11.9ms\n",
      "Speed: 0.4ms preprocess, 11.9ms inference, 1.1ms postprocess per image at shape (1, 3, 96, 96)\n",
      "\n",
      "0: 96x96 1 surprise, 11.1ms\n",
      "Speed: 0.4ms preprocess, 11.1ms inference, 1.0ms postprocess per image at shape (1, 3, 96, 96)\n",
      "\n",
      "0: 96x96 1 surprise, 11.8ms\n",
      "Speed: 0.2ms preprocess, 11.8ms inference, 1.2ms postprocess per image at shape (1, 3, 96, 96)\n",
      "\n",
      "0: 96x96 1 surprise, 13.5ms\n",
      "Speed: 0.2ms preprocess, 13.5ms inference, 1.0ms postprocess per image at shape (1, 3, 96, 96)\n",
      "\n",
      "0: 96x96 1 surprise, 11.8ms\n",
      "Speed: 0.2ms preprocess, 11.8ms inference, 1.0ms postprocess per image at shape (1, 3, 96, 96)\n",
      "\n",
      "0: 96x96 1 surprise, 10.8ms\n",
      "Speed: 0.4ms preprocess, 10.8ms inference, 1.1ms postprocess per image at shape (1, 3, 96, 96)\n",
      "\n",
      "0: 96x96 1 surprise, 11.4ms\n",
      "Speed: 0.4ms preprocess, 11.4ms inference, 0.9ms postprocess per image at shape (1, 3, 96, 96)\n",
      "\n",
      "0: 96x96 1 surprise, 11.3ms\n",
      "Speed: 0.4ms preprocess, 11.3ms inference, 1.0ms postprocess per image at shape (1, 3, 96, 96)\n",
      "\n",
      "0: 96x96 1 surprise, 11.3ms\n",
      "Speed: 0.5ms preprocess, 11.3ms inference, 1.0ms postprocess per image at shape (1, 3, 96, 96)\n",
      "\n",
      "0: 96x96 1 surprise, 11.5ms\n",
      "Speed: 0.4ms preprocess, 11.5ms inference, 1.1ms postprocess per image at shape (1, 3, 96, 96)\n",
      "\n",
      "0: 96x96 1 surprise, 11.4ms\n",
      "Speed: 0.4ms preprocess, 11.4ms inference, 1.1ms postprocess per image at shape (1, 3, 96, 96)\n",
      "\n",
      "0: 96x96 1 surprise, 11.9ms\n",
      "Speed: 0.4ms preprocess, 11.9ms inference, 1.1ms postprocess per image at shape (1, 3, 96, 96)\n",
      "\n",
      "0: 96x96 1 surprise, 12.1ms\n",
      "Speed: 0.4ms preprocess, 12.1ms inference, 1.2ms postprocess per image at shape (1, 3, 96, 96)\n",
      "\n",
      "0: 96x96 1 surprise, 11.3ms\n",
      "Speed: 0.4ms preprocess, 11.3ms inference, 1.2ms postprocess per image at shape (1, 3, 96, 96)\n",
      "\n",
      "0: 96x96 1 surprise, 11.2ms\n",
      "Speed: 0.4ms preprocess, 11.2ms inference, 1.4ms postprocess per image at shape (1, 3, 96, 96)\n",
      "\n",
      "0: 96x96 1 surprise, 12.5ms\n",
      "Speed: 0.4ms preprocess, 12.5ms inference, 1.0ms postprocess per image at shape (1, 3, 96, 96)\n",
      "\n",
      "0: 96x96 (no detections), 12.3ms\n",
      "Speed: 0.4ms preprocess, 12.3ms inference, 0.6ms postprocess per image at shape (1, 3, 96, 96)\n",
      "\n",
      "0: 96x96 1 surprise, 12.2ms\n",
      "Speed: 0.5ms preprocess, 12.2ms inference, 1.0ms postprocess per image at shape (1, 3, 96, 96)\n",
      "\n",
      "0: 96x96 (no detections), 11.0ms\n",
      "Speed: 0.4ms preprocess, 11.0ms inference, 0.7ms postprocess per image at shape (1, 3, 96, 96)\n",
      "\n",
      "0: 96x96 (no detections), 12.4ms\n",
      "Speed: 0.2ms preprocess, 12.4ms inference, 0.6ms postprocess per image at shape (1, 3, 96, 96)\n",
      "\n",
      "0: 96x96 1 surprise, 12.6ms\n",
      "Speed: 0.3ms preprocess, 12.6ms inference, 0.9ms postprocess per image at shape (1, 3, 96, 96)\n",
      "\n",
      "0: 96x96 1 surprise, 12.2ms\n",
      "Speed: 0.5ms preprocess, 12.2ms inference, 1.0ms postprocess per image at shape (1, 3, 96, 96)\n",
      "\n",
      "0: 96x96 1 surprise, 11.3ms\n",
      "Speed: 0.2ms preprocess, 11.3ms inference, 0.9ms postprocess per image at shape (1, 3, 96, 96)\n",
      "\n",
      "0: 96x96 (no detections), 11.6ms\n",
      "Speed: 0.4ms preprocess, 11.6ms inference, 0.6ms postprocess per image at shape (1, 3, 96, 96)\n",
      "\n",
      "0: 96x96 1 surprise, 11.9ms\n",
      "Speed: 0.5ms preprocess, 11.9ms inference, 1.0ms postprocess per image at shape (1, 3, 96, 96)\n",
      "\n",
      "0: 96x96 1 surprise, 12.6ms\n",
      "Speed: 0.4ms preprocess, 12.6ms inference, 1.1ms postprocess per image at shape (1, 3, 96, 96)\n",
      "\n",
      "0: 96x96 1 surprise, 12.4ms\n",
      "Speed: 0.4ms preprocess, 12.4ms inference, 1.1ms postprocess per image at shape (1, 3, 96, 96)\n",
      "\n",
      "0: 96x96 1 surprise, 12.3ms\n",
      "Speed: 0.3ms preprocess, 12.3ms inference, 1.0ms postprocess per image at shape (1, 3, 96, 96)\n",
      "\n",
      "0: 96x96 (no detections), 12.7ms\n",
      "Speed: 0.4ms preprocess, 12.7ms inference, 0.6ms postprocess per image at shape (1, 3, 96, 96)\n",
      "\n",
      "0: 96x96 (no detections), 12.4ms\n",
      "Speed: 0.4ms preprocess, 12.4ms inference, 0.6ms postprocess per image at shape (1, 3, 96, 96)\n",
      "\n",
      "0: 96x96 (no detections), 12.6ms\n",
      "Speed: 0.2ms preprocess, 12.6ms inference, 0.6ms postprocess per image at shape (1, 3, 96, 96)\n",
      "\n",
      "0: 96x96 (no detections), 12.0ms\n",
      "Speed: 0.7ms preprocess, 12.0ms inference, 0.6ms postprocess per image at shape (1, 3, 96, 96)\n",
      "\n",
      "0: 96x96 (no detections), 12.1ms\n",
      "Speed: 0.3ms preprocess, 12.1ms inference, 0.7ms postprocess per image at shape (1, 3, 96, 96)\n",
      "\n",
      "0: 96x96 (no detections), 11.1ms\n",
      "Speed: 0.4ms preprocess, 11.1ms inference, 0.6ms postprocess per image at shape (1, 3, 96, 96)\n",
      "\n",
      "0: 96x96 (no detections), 12.4ms\n",
      "Speed: 0.2ms preprocess, 12.4ms inference, 0.6ms postprocess per image at shape (1, 3, 96, 96)\n",
      "\n",
      "0: 96x96 1 surprise, 11.4ms\n",
      "Speed: 0.4ms preprocess, 11.4ms inference, 1.0ms postprocess per image at shape (1, 3, 96, 96)\n",
      "\n",
      "0: 96x96 1 surprise, 11.2ms\n",
      "Speed: 0.5ms preprocess, 11.2ms inference, 1.0ms postprocess per image at shape (1, 3, 96, 96)\n",
      "\n",
      "0: 96x96 1 sad, 11.9ms\n",
      "Speed: 0.5ms preprocess, 11.9ms inference, 1.0ms postprocess per image at shape (1, 3, 96, 96)\n",
      "\n",
      "0: 96x96 1 sad, 11.7ms\n",
      "Speed: 0.4ms preprocess, 11.7ms inference, 1.1ms postprocess per image at shape (1, 3, 96, 96)\n",
      "\n",
      "0: 96x96 1 surprise, 13.0ms\n",
      "Speed: 0.4ms preprocess, 13.0ms inference, 1.2ms postprocess per image at shape (1, 3, 96, 96)\n",
      "\n",
      "0: 96x96 (no detections), 11.6ms\n",
      "Speed: 0.5ms preprocess, 11.6ms inference, 0.7ms postprocess per image at shape (1, 3, 96, 96)\n",
      "\n",
      "0: 96x96 1 fear, 12.4ms\n",
      "Speed: 0.5ms preprocess, 12.4ms inference, 1.1ms postprocess per image at shape (1, 3, 96, 96)\n",
      "\n",
      "0: 96x96 1 fear, 12.9ms\n",
      "Speed: 0.2ms preprocess, 12.9ms inference, 0.9ms postprocess per image at shape (1, 3, 96, 96)\n",
      "\n",
      "0: 96x96 1 fear, 10.9ms\n",
      "Speed: 0.3ms preprocess, 10.9ms inference, 1.0ms postprocess per image at shape (1, 3, 96, 96)\n",
      "\n",
      "0: 96x96 (no detections), 12.5ms\n",
      "Speed: 0.9ms preprocess, 12.5ms inference, 0.6ms postprocess per image at shape (1, 3, 96, 96)\n",
      "\n",
      "0: 96x96 1 fear, 12.7ms\n",
      "Speed: 0.6ms preprocess, 12.7ms inference, 0.9ms postprocess per image at shape (1, 3, 96, 96)\n",
      "\n",
      "0: 96x96 1 fear, 1 sad, 12.3ms\n",
      "Speed: 0.4ms preprocess, 12.3ms inference, 1.1ms postprocess per image at shape (1, 3, 96, 96)\n",
      "\n",
      "0: 96x96 1 sad, 11.6ms\n",
      "Speed: 0.4ms preprocess, 11.6ms inference, 0.9ms postprocess per image at shape (1, 3, 96, 96)\n",
      "\n",
      "0: 96x96 1 sad, 12.7ms\n",
      "Speed: 0.4ms preprocess, 12.7ms inference, 1.0ms postprocess per image at shape (1, 3, 96, 96)\n",
      "\n",
      "0: 96x96 1 fear, 13.1ms\n",
      "Speed: 0.4ms preprocess, 13.1ms inference, 1.0ms postprocess per image at shape (1, 3, 96, 96)\n",
      "\n",
      "0: 96x96 1 sad, 11.2ms\n",
      "Speed: 0.2ms preprocess, 11.2ms inference, 1.0ms postprocess per image at shape (1, 3, 96, 96)\n",
      "\n",
      "0: 96x96 (no detections), 12.2ms\n",
      "Speed: 0.4ms preprocess, 12.2ms inference, 0.8ms postprocess per image at shape (1, 3, 96, 96)\n",
      "\n",
      "0: 96x96 (no detections), 12.5ms\n",
      "Speed: 0.5ms preprocess, 12.5ms inference, 0.7ms postprocess per image at shape (1, 3, 96, 96)\n",
      "\n",
      "0: 96x96 1 sad, 12.1ms\n",
      "Speed: 0.6ms preprocess, 12.1ms inference, 1.1ms postprocess per image at shape (1, 3, 96, 96)\n",
      "\n",
      "0: 96x96 1 fear, 1 sad, 12.5ms\n",
      "Speed: 0.3ms preprocess, 12.5ms inference, 1.0ms postprocess per image at shape (1, 3, 96, 96)\n",
      "\n",
      "0: 96x96 1 fear, 1 sad, 13.1ms\n",
      "Speed: 0.2ms preprocess, 13.1ms inference, 1.0ms postprocess per image at shape (1, 3, 96, 96)\n",
      "\n",
      "0: 96x96 1 fear, 1 sad, 12.6ms\n",
      "Speed: 0.5ms preprocess, 12.6ms inference, 1.1ms postprocess per image at shape (1, 3, 96, 96)\n",
      "\n",
      "0: 96x96 1 fear, 1 sad, 11.0ms\n",
      "Speed: 0.4ms preprocess, 11.0ms inference, 1.1ms postprocess per image at shape (1, 3, 96, 96)\n",
      "\n",
      "0: 96x96 1 fear, 1 sad, 12.3ms\n",
      "Speed: 0.3ms preprocess, 12.3ms inference, 1.2ms postprocess per image at shape (1, 3, 96, 96)\n",
      "\n",
      "0: 96x96 1 fear, 1 sad, 12.6ms\n",
      "Speed: 0.3ms preprocess, 12.6ms inference, 1.0ms postprocess per image at shape (1, 3, 96, 96)\n",
      "\n",
      "0: 96x96 1 fear, 11.3ms\n",
      "Speed: 0.4ms preprocess, 11.3ms inference, 1.1ms postprocess per image at shape (1, 3, 96, 96)\n",
      "\n",
      "0: 96x96 1 sad, 12.2ms\n",
      "Speed: 0.5ms preprocess, 12.2ms inference, 1.0ms postprocess per image at shape (1, 3, 96, 96)\n",
      "\n",
      "0: 96x96 1 fear, 1 sad, 12.3ms\n",
      "Speed: 0.3ms preprocess, 12.3ms inference, 1.2ms postprocess per image at shape (1, 3, 96, 96)\n",
      "\n",
      "0: 96x96 1 fear, 1 sad, 12.5ms\n",
      "Speed: 0.4ms preprocess, 12.5ms inference, 1.0ms postprocess per image at shape (1, 3, 96, 96)\n",
      "\n",
      "0: 96x96 1 fear, 1 sad, 12.6ms\n",
      "Speed: 0.7ms preprocess, 12.6ms inference, 1.1ms postprocess per image at shape (1, 3, 96, 96)\n",
      "\n",
      "0: 96x96 1 fear, 1 sad, 12.4ms\n",
      "Speed: 0.4ms preprocess, 12.4ms inference, 1.1ms postprocess per image at shape (1, 3, 96, 96)\n",
      "\n",
      "0: 96x96 1 fear, 1 surprise, 12.2ms\n",
      "Speed: 0.4ms preprocess, 12.2ms inference, 1.2ms postprocess per image at shape (1, 3, 96, 96)\n",
      "\n",
      "0: 96x96 1 sad, 11.6ms\n",
      "Speed: 0.2ms preprocess, 11.6ms inference, 1.0ms postprocess per image at shape (1, 3, 96, 96)\n",
      "\n",
      "0: 96x96 1 fear, 1 surprise, 11.3ms\n",
      "Speed: 0.3ms preprocess, 11.3ms inference, 1.1ms postprocess per image at shape (1, 3, 96, 96)\n",
      "\n",
      "0: 96x96 1 fear, 1 surprise, 12.5ms\n",
      "Speed: 0.4ms preprocess, 12.5ms inference, 1.0ms postprocess per image at shape (1, 3, 96, 96)\n",
      "\n",
      "0: 96x96 1 fear, 1 surprise, 12.3ms\n",
      "Speed: 0.4ms preprocess, 12.3ms inference, 1.1ms postprocess per image at shape (1, 3, 96, 96)\n",
      "\n",
      "0: 96x96 1 fear, 1 surprise, 12.3ms\n",
      "Speed: 0.4ms preprocess, 12.3ms inference, 1.1ms postprocess per image at shape (1, 3, 96, 96)\n",
      "\n",
      "0: 96x96 1 fear, 1 sad, 1 surprise, 11.7ms\n",
      "Speed: 0.3ms preprocess, 11.7ms inference, 1.1ms postprocess per image at shape (1, 3, 96, 96)\n",
      "\n",
      "0: 96x96 1 fear, 1 sad, 1 surprise, 12.6ms\n",
      "Speed: 0.3ms preprocess, 12.6ms inference, 1.1ms postprocess per image at shape (1, 3, 96, 96)\n",
      "\n",
      "0: 96x96 1 fear, 1 sad, 1 surprise, 11.3ms\n",
      "Speed: 0.4ms preprocess, 11.3ms inference, 1.1ms postprocess per image at shape (1, 3, 96, 96)\n",
      "\n",
      "0: 96x96 1 fear, 1 surprise, 12.6ms\n",
      "Speed: 0.2ms preprocess, 12.6ms inference, 1.0ms postprocess per image at shape (1, 3, 96, 96)\n",
      "\n",
      "0: 96x96 1 fear, 1 surprise, 11.7ms\n",
      "Speed: 0.6ms preprocess, 11.7ms inference, 1.2ms postprocess per image at shape (1, 3, 96, 96)\n",
      "\n",
      "0: 96x96 1 fear, 1 surprise, 11.3ms\n",
      "Speed: 0.5ms preprocess, 11.3ms inference, 1.1ms postprocess per image at shape (1, 3, 96, 96)\n",
      "\n",
      "0: 96x96 1 fear, 1 surprise, 12.2ms\n",
      "Speed: 0.3ms preprocess, 12.2ms inference, 1.1ms postprocess per image at shape (1, 3, 96, 96)\n",
      "\n",
      "0: 96x96 1 fear, 1 surprise, 11.7ms\n",
      "Speed: 0.4ms preprocess, 11.7ms inference, 1.2ms postprocess per image at shape (1, 3, 96, 96)\n",
      "\n",
      "0: 96x96 1 fear, 1 surprise, 11.0ms\n",
      "Speed: 0.3ms preprocess, 11.0ms inference, 1.4ms postprocess per image at shape (1, 3, 96, 96)\n",
      "\n",
      "0: 96x96 1 fear, 1 surprise, 12.4ms\n",
      "Speed: 0.2ms preprocess, 12.4ms inference, 1.1ms postprocess per image at shape (1, 3, 96, 96)\n",
      "\n",
      "0: 96x96 1 fear, 1 surprise, 12.1ms\n",
      "Speed: 0.4ms preprocess, 12.1ms inference, 1.0ms postprocess per image at shape (1, 3, 96, 96)\n",
      "\n",
      "0: 96x96 1 fear, 1 surprise, 13.0ms\n",
      "Speed: 0.2ms preprocess, 13.0ms inference, 1.1ms postprocess per image at shape (1, 3, 96, 96)\n",
      "\n",
      "0: 96x96 1 fear, 1 surprise, 11.9ms\n",
      "Speed: 0.2ms preprocess, 11.9ms inference, 1.1ms postprocess per image at shape (1, 3, 96, 96)\n",
      "\n",
      "0: 96x96 1 fear, 1 surprise, 12.1ms\n",
      "Speed: 0.3ms preprocess, 12.1ms inference, 1.2ms postprocess per image at shape (1, 3, 96, 96)\n",
      "\n",
      "0: 96x96 1 fear, 1 sad, 12.2ms\n",
      "Speed: 0.3ms preprocess, 12.2ms inference, 1.1ms postprocess per image at shape (1, 3, 96, 96)\n",
      "\n",
      "0: 96x96 1 fear, 1 sad, 12.4ms\n",
      "Speed: 0.2ms preprocess, 12.4ms inference, 1.0ms postprocess per image at shape (1, 3, 96, 96)\n",
      "\n",
      "0: 96x96 1 fear, 12.6ms\n",
      "Speed: 0.6ms preprocess, 12.6ms inference, 0.9ms postprocess per image at shape (1, 3, 96, 96)\n",
      "\n",
      "0: 96x96 1 fear, 11.6ms\n",
      "Speed: 0.5ms preprocess, 11.6ms inference, 1.1ms postprocess per image at shape (1, 3, 96, 96)\n",
      "\n",
      "0: 96x96 1 fear, 13.0ms\n",
      "Speed: 0.3ms preprocess, 13.0ms inference, 1.2ms postprocess per image at shape (1, 3, 96, 96)\n",
      "\n",
      "0: 96x96 1 fear, 12.2ms\n",
      "Speed: 0.4ms preprocess, 12.2ms inference, 1.1ms postprocess per image at shape (1, 3, 96, 96)\n",
      "\n",
      "0: 96x96 1 fear, 1 surprise, 11.1ms\n",
      "Speed: 0.5ms preprocess, 11.1ms inference, 1.1ms postprocess per image at shape (1, 3, 96, 96)\n",
      "\n",
      "0: 96x96 1 fear, 1 surprise, 11.5ms\n",
      "Speed: 0.5ms preprocess, 11.5ms inference, 1.1ms postprocess per image at shape (1, 3, 96, 96)\n",
      "\n",
      "0: 96x96 1 fear, 1 surprise, 12.4ms\n",
      "Speed: 0.3ms preprocess, 12.4ms inference, 1.6ms postprocess per image at shape (1, 3, 96, 96)\n",
      "\n",
      "0: 96x96 1 fear, 1 surprise, 12.5ms\n",
      "Speed: 0.4ms preprocess, 12.5ms inference, 1.0ms postprocess per image at shape (1, 3, 96, 96)\n",
      "\n",
      "0: 96x96 1 fear, 1 surprise, 11.8ms\n",
      "Speed: 0.2ms preprocess, 11.8ms inference, 1.0ms postprocess per image at shape (1, 3, 96, 96)\n",
      "\n",
      "0: 96x96 1 fear, 1 surprise, 11.6ms\n",
      "Speed: 0.3ms preprocess, 11.6ms inference, 1.1ms postprocess per image at shape (1, 3, 96, 96)\n",
      "\n",
      "0: 96x96 1 fear, 1 surprise, 12.4ms\n",
      "Speed: 0.4ms preprocess, 12.4ms inference, 1.3ms postprocess per image at shape (1, 3, 96, 96)\n",
      "\n",
      "0: 96x96 1 fear, 1 surprise, 11.6ms\n",
      "Speed: 0.3ms preprocess, 11.6ms inference, 1.1ms postprocess per image at shape (1, 3, 96, 96)\n",
      "\n",
      "0: 96x96 1 fear, 1 surprise, 12.2ms\n",
      "Speed: 0.4ms preprocess, 12.2ms inference, 1.0ms postprocess per image at shape (1, 3, 96, 96)\n",
      "\n",
      "0: 96x96 1 fear, 1 surprise, 11.0ms\n",
      "Speed: 0.4ms preprocess, 11.0ms inference, 1.0ms postprocess per image at shape (1, 3, 96, 96)\n",
      "\n",
      "0: 96x96 1 fear, 1 surprise, 12.1ms\n",
      "Speed: 0.4ms preprocess, 12.1ms inference, 1.0ms postprocess per image at shape (1, 3, 96, 96)\n",
      "\n",
      "0: 96x96 1 fear, 1 surprise, 11.6ms\n",
      "Speed: 0.4ms preprocess, 11.6ms inference, 1.2ms postprocess per image at shape (1, 3, 96, 96)\n",
      "\n",
      "0: 96x96 1 fear, 1 surprise, 12.1ms\n",
      "Speed: 0.3ms preprocess, 12.1ms inference, 1.1ms postprocess per image at shape (1, 3, 96, 96)\n",
      "\n",
      "0: 96x96 1 fear, 1 surprise, 11.8ms\n",
      "Speed: 0.3ms preprocess, 11.8ms inference, 1.1ms postprocess per image at shape (1, 3, 96, 96)\n",
      "\n",
      "0: 96x96 1 fear, 1 surprise, 14.0ms\n",
      "Speed: 0.5ms preprocess, 14.0ms inference, 1.3ms postprocess per image at shape (1, 3, 96, 96)\n",
      "\n",
      "0: 96x96 1 fear, 1 surprise, 13.3ms\n",
      "Speed: 0.5ms preprocess, 13.3ms inference, 1.2ms postprocess per image at shape (1, 3, 96, 96)\n",
      "\n",
      "0: 96x96 1 fear, 1 surprise, 12.5ms\n",
      "Speed: 0.6ms preprocess, 12.5ms inference, 1.1ms postprocess per image at shape (1, 3, 96, 96)\n",
      "\n",
      "0: 96x96 1 fear, 1 surprise, 13.6ms\n",
      "Speed: 0.2ms preprocess, 13.6ms inference, 1.2ms postprocess per image at shape (1, 3, 96, 96)\n",
      "\n",
      "0: 96x96 1 fear, 1 surprise, 13.5ms\n",
      "Speed: 0.6ms preprocess, 13.5ms inference, 1.1ms postprocess per image at shape (1, 3, 96, 96)\n",
      "\n",
      "0: 96x96 1 fear, 1 surprise, 13.3ms\n",
      "Speed: 0.3ms preprocess, 13.3ms inference, 1.0ms postprocess per image at shape (1, 3, 96, 96)\n",
      "\n",
      "0: 96x96 1 fear, 1 surprise, 13.2ms\n",
      "Speed: 0.5ms preprocess, 13.2ms inference, 1.0ms postprocess per image at shape (1, 3, 96, 96)\n",
      "\n",
      "0: 96x96 1 fear, 1 surprise, 13.3ms\n",
      "Speed: 0.5ms preprocess, 13.3ms inference, 1.1ms postprocess per image at shape (1, 3, 96, 96)\n",
      "\n",
      "0: 96x96 1 fear, 1 surprise, 12.9ms\n",
      "Speed: 0.3ms preprocess, 12.9ms inference, 1.2ms postprocess per image at shape (1, 3, 96, 96)\n",
      "\n",
      "0: 96x96 1 fear, 1 surprise, 12.1ms\n",
      "Speed: 0.2ms preprocess, 12.1ms inference, 1.1ms postprocess per image at shape (1, 3, 96, 96)\n",
      "\n",
      "0: 96x96 1 fear, 1 surprise, 12.9ms\n",
      "Speed: 0.5ms preprocess, 12.9ms inference, 1.5ms postprocess per image at shape (1, 3, 96, 96)\n",
      "\n",
      "0: 96x96 1 fear, 12.8ms\n",
      "Speed: 0.5ms preprocess, 12.8ms inference, 1.1ms postprocess per image at shape (1, 3, 96, 96)\n",
      "\n",
      "0: 96x96 1 fear, 12.3ms\n",
      "Speed: 0.4ms preprocess, 12.3ms inference, 1.1ms postprocess per image at shape (1, 3, 96, 96)\n",
      "\n",
      "0: 96x96 1 fear, 13.0ms\n",
      "Speed: 0.3ms preprocess, 13.0ms inference, 1.1ms postprocess per image at shape (1, 3, 96, 96)\n",
      "\n",
      "0: 96x96 1 fear, 12.8ms\n",
      "Speed: 0.3ms preprocess, 12.8ms inference, 1.1ms postprocess per image at shape (1, 3, 96, 96)\n",
      "\n",
      "0: 96x96 1 fear, 11.8ms\n",
      "Speed: 0.5ms preprocess, 11.8ms inference, 1.2ms postprocess per image at shape (1, 3, 96, 96)\n",
      "\n",
      "0: 96x96 1 fear, 12.7ms\n",
      "Speed: 0.5ms preprocess, 12.7ms inference, 1.3ms postprocess per image at shape (1, 3, 96, 96)\n",
      "\n",
      "0: 96x96 1 fear, 12.9ms\n",
      "Speed: 0.4ms preprocess, 12.9ms inference, 1.0ms postprocess per image at shape (1, 3, 96, 96)\n",
      "\n",
      "0: 96x96 1 fear, 13.2ms\n",
      "Speed: 0.3ms preprocess, 13.2ms inference, 1.0ms postprocess per image at shape (1, 3, 96, 96)\n",
      "\n",
      "0: 96x96 1 fear, 1 sad, 11.9ms\n",
      "Speed: 0.5ms preprocess, 11.9ms inference, 1.0ms postprocess per image at shape (1, 3, 96, 96)\n",
      "\n",
      "0: 96x96 1 sad, 12.3ms\n",
      "Speed: 0.3ms preprocess, 12.3ms inference, 1.2ms postprocess per image at shape (1, 3, 96, 96)\n",
      "\n",
      "0: 96x96 1 fear, 1 sad, 13.2ms\n",
      "Speed: 0.2ms preprocess, 13.2ms inference, 1.1ms postprocess per image at shape (1, 3, 96, 96)\n",
      "\n",
      "0: 96x96 1 fear, 1 sad, 12.4ms\n",
      "Speed: 0.3ms preprocess, 12.4ms inference, 1.1ms postprocess per image at shape (1, 3, 96, 96)\n",
      "\n",
      "0: 96x96 1 fear, 1 sad, 12.5ms\n",
      "Speed: 0.5ms preprocess, 12.5ms inference, 1.1ms postprocess per image at shape (1, 3, 96, 96)\n",
      "\n",
      "0: 96x96 1 sad, 12.8ms\n",
      "Speed: 0.4ms preprocess, 12.8ms inference, 1.1ms postprocess per image at shape (1, 3, 96, 96)\n",
      "\n",
      "0: 96x96 1 sad, 30.3ms\n",
      "Speed: 0.4ms preprocess, 30.3ms inference, 1.1ms postprocess per image at shape (1, 3, 96, 96)\n",
      "\n",
      "0: 96x96 1 sad, 12.5ms\n",
      "Speed: 0.3ms preprocess, 12.5ms inference, 1.3ms postprocess per image at shape (1, 3, 96, 96)\n",
      "\n",
      "0: 96x96 1 sad, 12.1ms\n",
      "Speed: 0.2ms preprocess, 12.1ms inference, 1.1ms postprocess per image at shape (1, 3, 96, 96)\n",
      "\n",
      "0: 96x96 1 sad, 15.8ms\n",
      "Speed: 0.3ms preprocess, 15.8ms inference, 1.0ms postprocess per image at shape (1, 3, 96, 96)\n",
      "\n",
      "0: 96x96 1 fear, 1 sad, 12.2ms\n",
      "Speed: 0.3ms preprocess, 12.2ms inference, 1.2ms postprocess per image at shape (1, 3, 96, 96)\n",
      "\n",
      "0: 96x96 1 sad, 15.8ms\n",
      "Speed: 0.5ms preprocess, 15.8ms inference, 1.1ms postprocess per image at shape (1, 3, 96, 96)\n",
      "\n",
      "0: 96x96 1 fear, 1 sad, 13.1ms\n",
      "Speed: 0.2ms preprocess, 13.1ms inference, 1.0ms postprocess per image at shape (1, 3, 96, 96)\n",
      "\n",
      "0: 96x96 1 fear, 14.7ms\n",
      "Speed: 0.4ms preprocess, 14.7ms inference, 1.1ms postprocess per image at shape (1, 3, 96, 96)\n",
      "\n",
      "0: 96x96 1 fear, 13.7ms\n",
      "Speed: 0.3ms preprocess, 13.7ms inference, 1.0ms postprocess per image at shape (1, 3, 96, 96)\n",
      "\n",
      "0: 96x96 1 fear, 17.0ms\n",
      "Speed: 0.5ms preprocess, 17.0ms inference, 1.1ms postprocess per image at shape (1, 3, 96, 96)\n",
      "\n",
      "0: 96x96 1 fear, 13.0ms\n",
      "Speed: 0.3ms preprocess, 13.0ms inference, 1.0ms postprocess per image at shape (1, 3, 96, 96)\n",
      "\n",
      "0: 96x96 1 fear, 12.9ms\n",
      "Speed: 0.3ms preprocess, 12.9ms inference, 1.4ms postprocess per image at shape (1, 3, 96, 96)\n",
      "\n",
      "0: 96x96 1 fear, 13.0ms\n",
      "Speed: 0.2ms preprocess, 13.0ms inference, 0.9ms postprocess per image at shape (1, 3, 96, 96)\n",
      "\n",
      "0: 96x96 1 fear, 1 sad, 15.9ms\n",
      "Speed: 0.5ms preprocess, 15.9ms inference, 1.0ms postprocess per image at shape (1, 3, 96, 96)\n",
      "\n",
      "0: 96x96 1 fear, 15.5ms\n",
      "Speed: 0.3ms preprocess, 15.5ms inference, 1.1ms postprocess per image at shape (1, 3, 96, 96)\n",
      "\n",
      "0: 96x96 1 fear, 1 surprise, 14.5ms\n",
      "Speed: 0.3ms preprocess, 14.5ms inference, 1.3ms postprocess per image at shape (1, 3, 96, 96)\n",
      "\n",
      "0: 96x96 1 fear, 1 surprise, 18.6ms\n",
      "Speed: 0.3ms preprocess, 18.6ms inference, 1.0ms postprocess per image at shape (1, 3, 96, 96)\n",
      "\n",
      "0: 96x96 1 fear, 1 surprise, 15.1ms\n",
      "Speed: 0.3ms preprocess, 15.1ms inference, 1.1ms postprocess per image at shape (1, 3, 96, 96)\n",
      "\n",
      "0: 96x96 1 fear, 1 surprise, 14.6ms\n",
      "Speed: 0.2ms preprocess, 14.6ms inference, 1.1ms postprocess per image at shape (1, 3, 96, 96)\n",
      "\n",
      "0: 96x96 1 fear, 1 surprise, 15.5ms\n",
      "Speed: 0.4ms preprocess, 15.5ms inference, 1.1ms postprocess per image at shape (1, 3, 96, 96)\n",
      "\n",
      "0: 96x96 1 fear, 1 surprise, 13.5ms\n",
      "Speed: 0.6ms preprocess, 13.5ms inference, 1.1ms postprocess per image at shape (1, 3, 96, 96)\n",
      "\n",
      "0: 96x96 1 fear, 1 surprise, 16.7ms\n",
      "Speed: 0.5ms preprocess, 16.7ms inference, 1.0ms postprocess per image at shape (1, 3, 96, 96)\n",
      "\n",
      "0: 96x96 1 fear, 1 surprise, 16.1ms\n",
      "Speed: 0.5ms preprocess, 16.1ms inference, 1.1ms postprocess per image at shape (1, 3, 96, 96)\n",
      "\n",
      "0: 96x96 1 fear, 1 surprise, 16.7ms\n",
      "Speed: 0.4ms preprocess, 16.7ms inference, 1.2ms postprocess per image at shape (1, 3, 96, 96)\n",
      "\n",
      "0: 96x96 1 fear, 1 surprise, 12.2ms\n",
      "Speed: 0.4ms preprocess, 12.2ms inference, 2.4ms postprocess per image at shape (1, 3, 96, 96)\n",
      "\n",
      "0: 96x96 1 fear, 1 surprise, 14.2ms\n",
      "Speed: 0.4ms preprocess, 14.2ms inference, 1.1ms postprocess per image at shape (1, 3, 96, 96)\n",
      "\n",
      "0: 96x96 1 fear, 1 surprise, 17.7ms\n",
      "Speed: 0.3ms preprocess, 17.7ms inference, 1.2ms postprocess per image at shape (1, 3, 96, 96)\n",
      "\n",
      "0: 96x96 1 fear, 16.2ms\n",
      "Speed: 0.5ms preprocess, 16.2ms inference, 1.1ms postprocess per image at shape (1, 3, 96, 96)\n",
      "\n",
      "0: 96x96 1 fear, 19.0ms\n",
      "Speed: 0.4ms preprocess, 19.0ms inference, 1.0ms postprocess per image at shape (1, 3, 96, 96)\n",
      "\n",
      "0: 96x96 1 fear, 17.3ms\n",
      "Speed: 0.5ms preprocess, 17.3ms inference, 1.1ms postprocess per image at shape (1, 3, 96, 96)\n",
      "\n",
      "0: 96x96 1 fear, 1 surprise, 18.4ms\n",
      "Speed: 0.4ms preprocess, 18.4ms inference, 1.0ms postprocess per image at shape (1, 3, 96, 96)\n",
      "\n",
      "0: 96x96 1 fear, 16.3ms\n",
      "Speed: 0.3ms preprocess, 16.3ms inference, 1.1ms postprocess per image at shape (1, 3, 96, 96)\n",
      "\n",
      "0: 96x96 1 fear, 22.0ms\n",
      "Speed: 0.2ms preprocess, 22.0ms inference, 1.0ms postprocess per image at shape (1, 3, 96, 96)\n",
      "\n",
      "0: 96x96 1 fear, 1 surprise, 22.5ms\n",
      "Speed: 0.4ms preprocess, 22.5ms inference, 1.0ms postprocess per image at shape (1, 3, 96, 96)\n",
      "\n",
      "0: 96x96 1 fear, 1 surprise, 21.4ms\n",
      "Speed: 0.5ms preprocess, 21.4ms inference, 1.0ms postprocess per image at shape (1, 3, 96, 96)\n",
      "\n",
      "0: 96x96 1 fear, 1 surprise, 12.9ms\n",
      "Speed: 0.4ms preprocess, 12.9ms inference, 1.2ms postprocess per image at shape (1, 3, 96, 96)\n",
      "\n",
      "0: 96x96 1 fear, 1 surprise, 13.6ms\n",
      "Speed: 0.3ms preprocess, 13.6ms inference, 1.0ms postprocess per image at shape (1, 3, 96, 96)\n",
      "\n",
      "0: 96x96 1 fear, 1 surprise, 12.9ms\n",
      "Speed: 0.4ms preprocess, 12.9ms inference, 1.4ms postprocess per image at shape (1, 3, 96, 96)\n",
      "\n",
      "0: 96x96 1 fear, 1 surprise, 11.9ms\n",
      "Speed: 0.4ms preprocess, 11.9ms inference, 1.1ms postprocess per image at shape (1, 3, 96, 96)\n",
      "\n",
      "0: 96x96 1 fear, 1 surprise, 12.4ms\n",
      "Speed: 0.4ms preprocess, 12.4ms inference, 1.0ms postprocess per image at shape (1, 3, 96, 96)\n",
      "\n",
      "0: 96x96 1 fear, 1 surprise, 12.9ms\n",
      "Speed: 0.5ms preprocess, 12.9ms inference, 1.0ms postprocess per image at shape (1, 3, 96, 96)\n",
      "\n",
      "0: 96x96 1 fear, 1 surprise, 11.9ms\n",
      "Speed: 0.4ms preprocess, 11.9ms inference, 1.0ms postprocess per image at shape (1, 3, 96, 96)\n",
      "\n",
      "0: 96x96 1 fear, 1 surprise, 12.6ms\n",
      "Speed: 0.6ms preprocess, 12.6ms inference, 1.1ms postprocess per image at shape (1, 3, 96, 96)\n",
      "\n",
      "0: 96x96 1 fear, 1 surprise, 11.8ms\n",
      "Speed: 0.5ms preprocess, 11.8ms inference, 1.2ms postprocess per image at shape (1, 3, 96, 96)\n",
      "\n",
      "0: 96x96 1 fear, 1 surprise, 12.4ms\n",
      "Speed: 0.4ms preprocess, 12.4ms inference, 1.1ms postprocess per image at shape (1, 3, 96, 96)\n",
      "\n",
      "0: 96x96 1 fear, 1 surprise, 13.0ms\n",
      "Speed: 0.3ms preprocess, 13.0ms inference, 1.0ms postprocess per image at shape (1, 3, 96, 96)\n",
      "\n",
      "0: 96x96 1 fear, 12.4ms\n",
      "Speed: 0.5ms preprocess, 12.4ms inference, 1.0ms postprocess per image at shape (1, 3, 96, 96)\n",
      "\n",
      "0: 96x96 1 fear, 1 surprise, 11.8ms\n",
      "Speed: 0.3ms preprocess, 11.8ms inference, 1.3ms postprocess per image at shape (1, 3, 96, 96)\n",
      "\n",
      "0: 96x96 1 fear, 1 surprise, 13.0ms\n",
      "Speed: 0.4ms preprocess, 13.0ms inference, 1.0ms postprocess per image at shape (1, 3, 96, 96)\n",
      "\n",
      "0: 96x96 1 fear, 1 surprise, 13.2ms\n",
      "Speed: 0.4ms preprocess, 13.2ms inference, 1.0ms postprocess per image at shape (1, 3, 96, 96)\n",
      "\n",
      "0: 96x96 1 fear, 12.8ms\n",
      "Speed: 0.2ms preprocess, 12.8ms inference, 1.2ms postprocess per image at shape (1, 3, 96, 96)\n",
      "\n",
      "0: 96x96 1 fear, 13.5ms\n",
      "Speed: 0.4ms preprocess, 13.5ms inference, 1.1ms postprocess per image at shape (1, 3, 96, 96)\n",
      "\n",
      "0: 96x96 1 fear, 1 surprise, 12.0ms\n",
      "Speed: 0.3ms preprocess, 12.0ms inference, 1.0ms postprocess per image at shape (1, 3, 96, 96)\n",
      "\n",
      "0: 96x96 1 fear, 12.0ms\n",
      "Speed: 0.5ms preprocess, 12.0ms inference, 1.3ms postprocess per image at shape (1, 3, 96, 96)\n",
      "\n",
      "0: 96x96 1 fear, 13.1ms\n",
      "Speed: 0.5ms preprocess, 13.1ms inference, 1.0ms postprocess per image at shape (1, 3, 96, 96)\n",
      "\n",
      "0: 96x96 1 fear, 12.5ms\n",
      "Speed: 0.3ms preprocess, 12.5ms inference, 1.2ms postprocess per image at shape (1, 3, 96, 96)\n",
      "\n",
      "0: 96x96 1 fear, 13.7ms\n",
      "Speed: 0.3ms preprocess, 13.7ms inference, 1.1ms postprocess per image at shape (1, 3, 96, 96)\n",
      "\n",
      "0: 96x96 1 fear, 12.0ms\n",
      "Speed: 0.4ms preprocess, 12.0ms inference, 1.1ms postprocess per image at shape (1, 3, 96, 96)\n",
      "\n",
      "0: 96x96 1 fear, 12.8ms\n",
      "Speed: 0.5ms preprocess, 12.8ms inference, 1.0ms postprocess per image at shape (1, 3, 96, 96)\n",
      "\n",
      "0: 96x96 1 fear, 12.5ms\n",
      "Speed: 0.5ms preprocess, 12.5ms inference, 1.3ms postprocess per image at shape (1, 3, 96, 96)\n",
      "\n",
      "0: 96x96 1 fear, 13.6ms\n",
      "Speed: 0.3ms preprocess, 13.6ms inference, 1.1ms postprocess per image at shape (1, 3, 96, 96)\n",
      "\n",
      "0: 96x96 1 fear, 12.7ms\n",
      "Speed: 0.5ms preprocess, 12.7ms inference, 1.1ms postprocess per image at shape (1, 3, 96, 96)\n",
      "\n",
      "0: 96x96 1 fear, 15.2ms\n",
      "Speed: 0.5ms preprocess, 15.2ms inference, 1.2ms postprocess per image at shape (1, 3, 96, 96)\n",
      "\n",
      "0: 96x96 1 fear, 1 surprise, 12.8ms\n",
      "Speed: 0.5ms preprocess, 12.8ms inference, 1.1ms postprocess per image at shape (1, 3, 96, 96)\n",
      "\n",
      "0: 96x96 1 fear, 14.4ms\n",
      "Speed: 0.3ms preprocess, 14.4ms inference, 1.1ms postprocess per image at shape (1, 3, 96, 96)\n",
      "\n",
      "0: 96x96 1 fear, 1 sad, 1 surprise, 12.6ms\n",
      "Speed: 0.3ms preprocess, 12.6ms inference, 1.0ms postprocess per image at shape (1, 3, 96, 96)\n",
      "\n",
      "0: 96x96 1 fear, 12.4ms\n",
      "Speed: 0.5ms preprocess, 12.4ms inference, 1.0ms postprocess per image at shape (1, 3, 96, 96)\n",
      "\n",
      "0: 96x96 1 fear, 12.5ms\n",
      "Speed: 0.3ms preprocess, 12.5ms inference, 1.1ms postprocess per image at shape (1, 3, 96, 96)\n",
      "\n",
      "0: 96x96 1 fear, 13.0ms\n",
      "Speed: 0.3ms preprocess, 13.0ms inference, 1.0ms postprocess per image at shape (1, 3, 96, 96)\n",
      "\n",
      "0: 96x96 1 fear, 12.3ms\n",
      "Speed: 0.4ms preprocess, 12.3ms inference, 1.2ms postprocess per image at shape (1, 3, 96, 96)\n",
      "\n",
      "0: 96x96 1 fear, 12.8ms\n",
      "Speed: 0.4ms preprocess, 12.8ms inference, 1.2ms postprocess per image at shape (1, 3, 96, 96)\n",
      "\n",
      "0: 96x96 1 fear, 12.9ms\n",
      "Speed: 0.5ms preprocess, 12.9ms inference, 1.2ms postprocess per image at shape (1, 3, 96, 96)\n",
      "\n",
      "0: 96x96 1 fear, 12.1ms\n",
      "Speed: 0.5ms preprocess, 12.1ms inference, 1.2ms postprocess per image at shape (1, 3, 96, 96)\n",
      "\n",
      "0: 96x96 1 fear, 12.6ms\n",
      "Speed: 0.4ms preprocess, 12.6ms inference, 1.1ms postprocess per image at shape (1, 3, 96, 96)\n",
      "\n",
      "0: 96x96 1 fear, 13.5ms\n",
      "Speed: 0.3ms preprocess, 13.5ms inference, 1.1ms postprocess per image at shape (1, 3, 96, 96)\n",
      "\n",
      "0: 96x96 1 fear, 13.4ms\n",
      "Speed: 0.3ms preprocess, 13.4ms inference, 1.1ms postprocess per image at shape (1, 3, 96, 96)\n",
      "\n",
      "0: 96x96 1 fear, 1 sad, 13.3ms\n",
      "Speed: 0.4ms preprocess, 13.3ms inference, 1.1ms postprocess per image at shape (1, 3, 96, 96)\n",
      "\n",
      "0: 96x96 1 fear, 1 sad, 12.5ms\n",
      "Speed: 0.4ms preprocess, 12.5ms inference, 1.2ms postprocess per image at shape (1, 3, 96, 96)\n",
      "\n",
      "0: 96x96 1 fear, 10.9ms\n",
      "Speed: 0.2ms preprocess, 10.9ms inference, 1.0ms postprocess per image at shape (1, 3, 96, 96)\n",
      "\n",
      "0: 96x96 1 fear, 1 sad, 13.4ms\n",
      "Speed: 0.4ms preprocess, 13.4ms inference, 1.0ms postprocess per image at shape (1, 3, 96, 96)\n",
      "\n",
      "0: 96x96 1 fear, 1 sad, 12.5ms\n",
      "Speed: 0.3ms preprocess, 12.5ms inference, 1.1ms postprocess per image at shape (1, 3, 96, 96)\n",
      "\n",
      "0: 96x96 1 sad, 13.1ms\n",
      "Speed: 0.5ms preprocess, 13.1ms inference, 1.1ms postprocess per image at shape (1, 3, 96, 96)\n",
      "\n",
      "0: 96x96 1 sad, 13.5ms\n",
      "Speed: 0.4ms preprocess, 13.5ms inference, 1.0ms postprocess per image at shape (1, 3, 96, 96)\n",
      "\n",
      "0: 96x96 1 sad, 12.7ms\n",
      "Speed: 0.4ms preprocess, 12.7ms inference, 1.1ms postprocess per image at shape (1, 3, 96, 96)\n",
      "\n",
      "0: 96x96 1 sad, 12.3ms\n",
      "Speed: 0.3ms preprocess, 12.3ms inference, 1.1ms postprocess per image at shape (1, 3, 96, 96)\n",
      "\n",
      "0: 96x96 1 sad, 13.6ms\n",
      "Speed: 0.3ms preprocess, 13.6ms inference, 1.1ms postprocess per image at shape (1, 3, 96, 96)\n",
      "\n",
      "0: 96x96 1 fear, 1 sad, 12.7ms\n",
      "Speed: 0.6ms preprocess, 12.7ms inference, 1.0ms postprocess per image at shape (1, 3, 96, 96)\n",
      "\n",
      "0: 96x96 1 fear, 12.4ms\n",
      "Speed: 0.5ms preprocess, 12.4ms inference, 1.0ms postprocess per image at shape (1, 3, 96, 96)\n",
      "\n",
      "0: 96x96 1 fear, 13.2ms\n",
      "Speed: 0.3ms preprocess, 13.2ms inference, 1.1ms postprocess per image at shape (1, 3, 96, 96)\n",
      "\n",
      "0: 96x96 1 fear, 1 sad, 13.4ms\n",
      "Speed: 0.2ms preprocess, 13.4ms inference, 0.9ms postprocess per image at shape (1, 3, 96, 96)\n",
      "\n",
      "0: 96x96 1 fear, 1 sad, 12.2ms\n",
      "Speed: 0.4ms preprocess, 12.2ms inference, 1.1ms postprocess per image at shape (1, 3, 96, 96)\n",
      "\n",
      "0: 96x96 1 fear, 12.6ms\n",
      "Speed: 0.5ms preprocess, 12.6ms inference, 1.8ms postprocess per image at shape (1, 3, 96, 96)\n",
      "\n",
      "0: 96x96 1 fear, 12.5ms\n",
      "Speed: 0.3ms preprocess, 12.5ms inference, 0.9ms postprocess per image at shape (1, 3, 96, 96)\n",
      "\n",
      "0: 96x96 1 fear, 12.4ms\n",
      "Speed: 0.4ms preprocess, 12.4ms inference, 1.1ms postprocess per image at shape (1, 3, 96, 96)\n",
      "\n",
      "0: 96x96 1 fear, 12.6ms\n",
      "Speed: 0.4ms preprocess, 12.6ms inference, 1.4ms postprocess per image at shape (1, 3, 96, 96)\n",
      "\n",
      "0: 96x96 1 fear, 13.1ms\n",
      "Speed: 0.4ms preprocess, 13.1ms inference, 1.1ms postprocess per image at shape (1, 3, 96, 96)\n",
      "\n",
      "0: 96x96 1 fear, 12.8ms\n",
      "Speed: 0.5ms preprocess, 12.8ms inference, 1.1ms postprocess per image at shape (1, 3, 96, 96)\n",
      "\n",
      "0: 96x96 1 fear, 13.9ms\n",
      "Speed: 0.4ms preprocess, 13.9ms inference, 1.1ms postprocess per image at shape (1, 3, 96, 96)\n",
      "\n",
      "0: 96x96 1 fear, 12.7ms\n",
      "Speed: 0.2ms preprocess, 12.7ms inference, 1.0ms postprocess per image at shape (1, 3, 96, 96)\n",
      "\n",
      "0: 96x96 1 fear, 1 sad, 11.8ms\n",
      "Speed: 0.2ms preprocess, 11.8ms inference, 1.0ms postprocess per image at shape (1, 3, 96, 96)\n",
      "\n",
      "0: 96x96 1 fear, 1 sad, 12.9ms\n",
      "Speed: 0.4ms preprocess, 12.9ms inference, 1.1ms postprocess per image at shape (1, 3, 96, 96)\n",
      "\n",
      "0: 96x96 1 fear, 13.7ms\n",
      "Speed: 0.5ms preprocess, 13.7ms inference, 1.1ms postprocess per image at shape (1, 3, 96, 96)\n",
      "\n",
      "0: 96x96 1 fear, 13.6ms\n",
      "Speed: 0.3ms preprocess, 13.6ms inference, 1.0ms postprocess per image at shape (1, 3, 96, 96)\n",
      "\n",
      "0: 96x96 1 fear, 13.4ms\n",
      "Speed: 0.2ms preprocess, 13.4ms inference, 1.1ms postprocess per image at shape (1, 3, 96, 96)\n",
      "\n",
      "0: 96x96 1 fear, 12.8ms\n",
      "Speed: 0.3ms preprocess, 12.8ms inference, 1.1ms postprocess per image at shape (1, 3, 96, 96)\n",
      "\n",
      "0: 96x96 1 fear, 13.1ms\n",
      "Speed: 0.3ms preprocess, 13.1ms inference, 1.1ms postprocess per image at shape (1, 3, 96, 96)\n",
      "\n",
      "0: 96x96 1 fear, 13.9ms\n",
      "Speed: 0.3ms preprocess, 13.9ms inference, 1.1ms postprocess per image at shape (1, 3, 96, 96)\n",
      "\n",
      "0: 96x96 1 fear, 12.5ms\n",
      "Speed: 0.3ms preprocess, 12.5ms inference, 1.8ms postprocess per image at shape (1, 3, 96, 96)\n",
      "\n",
      "0: 96x96 1 fear, 1 surprise, 12.5ms\n",
      "Speed: 0.3ms preprocess, 12.5ms inference, 1.0ms postprocess per image at shape (1, 3, 96, 96)\n",
      "\n",
      "0: 96x96 1 fear, 13.2ms\n",
      "Speed: 0.5ms preprocess, 13.2ms inference, 1.1ms postprocess per image at shape (1, 3, 96, 96)\n",
      "\n",
      "0: 96x96 1 fear, 13.5ms\n",
      "Speed: 0.5ms preprocess, 13.5ms inference, 1.0ms postprocess per image at shape (1, 3, 96, 96)\n",
      "\n",
      "0: 96x96 1 fear, 13.0ms\n",
      "Speed: 0.4ms preprocess, 13.0ms inference, 1.1ms postprocess per image at shape (1, 3, 96, 96)\n",
      "\n",
      "0: 96x96 1 fear, 1 sad, 13.3ms\n",
      "Speed: 0.3ms preprocess, 13.3ms inference, 1.1ms postprocess per image at shape (1, 3, 96, 96)\n",
      "\n",
      "0: 96x96 1 fear, 1 sad, 12.3ms\n",
      "Speed: 0.3ms preprocess, 12.3ms inference, 1.1ms postprocess per image at shape (1, 3, 96, 96)\n",
      "\n",
      "0: 96x96 1 fear, 11.3ms\n",
      "Speed: 0.4ms preprocess, 11.3ms inference, 1.1ms postprocess per image at shape (1, 3, 96, 96)\n",
      "\n",
      "0: 96x96 1 fear, 12.7ms\n",
      "Speed: 0.4ms preprocess, 12.7ms inference, 1.0ms postprocess per image at shape (1, 3, 96, 96)\n",
      "\n",
      "0: 96x96 1 fear, 1 sad, 13.0ms\n",
      "Speed: 0.2ms preprocess, 13.0ms inference, 1.4ms postprocess per image at shape (1, 3, 96, 96)\n",
      "\n",
      "0: 96x96 1 sad, 12.6ms\n",
      "Speed: 0.2ms preprocess, 12.6ms inference, 1.0ms postprocess per image at shape (1, 3, 96, 96)\n",
      "\n",
      "0: 96x96 1 fear, 1 sad, 11.8ms\n",
      "Speed: 0.4ms preprocess, 11.8ms inference, 1.0ms postprocess per image at shape (1, 3, 96, 96)\n",
      "\n",
      "0: 96x96 1 sad, 14.0ms\n",
      "Speed: 0.3ms preprocess, 14.0ms inference, 1.0ms postprocess per image at shape (1, 3, 96, 96)\n",
      "\n",
      "0: 96x96 1 fear, 1 sad, 13.5ms\n",
      "Speed: 0.4ms preprocess, 13.5ms inference, 1.0ms postprocess per image at shape (1, 3, 96, 96)\n",
      "\n",
      "0: 96x96 (no detections), 12.8ms\n",
      "Speed: 0.5ms preprocess, 12.8ms inference, 0.7ms postprocess per image at shape (1, 3, 96, 96)\n",
      "\n",
      "0: 96x96 (no detections), 12.7ms\n",
      "Speed: 0.4ms preprocess, 12.7ms inference, 0.8ms postprocess per image at shape (1, 3, 96, 96)\n",
      "\n",
      "0: 96x96 (no detections), 12.9ms\n",
      "Speed: 0.3ms preprocess, 12.9ms inference, 0.6ms postprocess per image at shape (1, 3, 96, 96)\n",
      "\n",
      "0: 96x96 (no detections), 11.9ms\n",
      "Speed: 0.4ms preprocess, 11.9ms inference, 0.6ms postprocess per image at shape (1, 3, 96, 96)\n",
      "\n",
      "0: 96x96 (no detections), 12.4ms\n",
      "Speed: 0.3ms preprocess, 12.4ms inference, 0.6ms postprocess per image at shape (1, 3, 96, 96)\n",
      "\n",
      "0: 96x96 (no detections), 12.5ms\n",
      "Speed: 0.4ms preprocess, 12.5ms inference, 0.6ms postprocess per image at shape (1, 3, 96, 96)\n",
      "\n",
      "0: 96x96 (no detections), 12.4ms\n",
      "Speed: 0.3ms preprocess, 12.4ms inference, 0.6ms postprocess per image at shape (1, 3, 96, 96)\n",
      "\n",
      "0: 96x96 (no detections), 14.3ms\n",
      "Speed: 0.5ms preprocess, 14.3ms inference, 0.8ms postprocess per image at shape (1, 3, 96, 96)\n",
      "\n",
      "0: 96x96 1 sad, 14.6ms\n",
      "Speed: 0.4ms preprocess, 14.6ms inference, 1.1ms postprocess per image at shape (1, 3, 96, 96)\n",
      "\n",
      "0: 96x96 (no detections), 16.6ms\n",
      "Speed: 0.3ms preprocess, 16.6ms inference, 0.8ms postprocess per image at shape (1, 3, 96, 96)\n",
      "\n",
      "0: 96x96 1 sad, 14.1ms\n",
      "Speed: 0.3ms preprocess, 14.1ms inference, 0.9ms postprocess per image at shape (1, 3, 96, 96)\n",
      "\n",
      "0: 96x96 1 sad, 13.5ms\n",
      "Speed: 0.6ms preprocess, 13.5ms inference, 1.3ms postprocess per image at shape (1, 3, 96, 96)\n",
      "\n",
      "0: 96x96 1 sad, 13.3ms\n",
      "Speed: 0.2ms preprocess, 13.3ms inference, 1.1ms postprocess per image at shape (1, 3, 96, 96)\n",
      "\n",
      "0: 96x96 1 surprise, 11.8ms\n",
      "Speed: 0.2ms preprocess, 11.8ms inference, 1.1ms postprocess per image at shape (1, 3, 96, 96)\n",
      "\n",
      "0: 96x96 1 surprise, 12.2ms\n",
      "Speed: 0.4ms preprocess, 12.2ms inference, 1.1ms postprocess per image at shape (1, 3, 96, 96)\n",
      "\n",
      "0: 96x96 1 surprise, 12.6ms\n",
      "Speed: 0.2ms preprocess, 12.6ms inference, 1.1ms postprocess per image at shape (1, 3, 96, 96)\n",
      "\n",
      "0: 96x96 1 surprise, 12.5ms\n",
      "Speed: 0.3ms preprocess, 12.5ms inference, 1.2ms postprocess per image at shape (1, 3, 96, 96)\n",
      "\n",
      "0: 96x96 (no detections), 11.5ms\n",
      "Speed: 0.2ms preprocess, 11.5ms inference, 0.7ms postprocess per image at shape (1, 3, 96, 96)\n",
      "\n",
      "0: 96x96 (no detections), 11.6ms\n",
      "Speed: 0.4ms preprocess, 11.6ms inference, 0.7ms postprocess per image at shape (1, 3, 96, 96)\n",
      "\n",
      "0: 96x96 (no detections), 12.7ms\n",
      "Speed: 0.3ms preprocess, 12.7ms inference, 0.6ms postprocess per image at shape (1, 3, 96, 96)\n",
      "\n",
      "0: 96x96 1 surprise, 12.2ms\n",
      "Speed: 0.5ms preprocess, 12.2ms inference, 1.1ms postprocess per image at shape (1, 3, 96, 96)\n",
      "\n",
      "0: 96x96 (no detections), 12.5ms\n",
      "Speed: 0.3ms preprocess, 12.5ms inference, 0.6ms postprocess per image at shape (1, 3, 96, 96)\n",
      "\n",
      "0: 96x96 (no detections), 12.7ms\n",
      "Speed: 0.2ms preprocess, 12.7ms inference, 0.7ms postprocess per image at shape (1, 3, 96, 96)\n",
      "\n",
      "0: 96x96 (no detections), 12.5ms\n",
      "Speed: 0.3ms preprocess, 12.5ms inference, 0.6ms postprocess per image at shape (1, 3, 96, 96)\n",
      "\n",
      "0: 96x96 1 sad, 13.8ms\n",
      "Speed: 0.5ms preprocess, 13.8ms inference, 1.1ms postprocess per image at shape (1, 3, 96, 96)\n",
      "\n",
      "0: 96x96 1 sad, 1 surprise, 12.4ms\n",
      "Speed: 0.4ms preprocess, 12.4ms inference, 1.0ms postprocess per image at shape (1, 3, 96, 96)\n",
      "\n",
      "0: 96x96 1 sad, 1 surprise, 13.8ms\n",
      "Speed: 0.2ms preprocess, 13.8ms inference, 1.5ms postprocess per image at shape (1, 3, 96, 96)\n",
      "\n",
      "0: 96x96 1 sad, 11.3ms\n",
      "Speed: 0.4ms preprocess, 11.3ms inference, 1.3ms postprocess per image at shape (1, 3, 96, 96)\n",
      "\n",
      "0: 96x96 1 sad, 12.5ms\n",
      "Speed: 0.3ms preprocess, 12.5ms inference, 1.1ms postprocess per image at shape (1, 3, 96, 96)\n",
      "\n",
      "0: 96x96 1 sad, 12.4ms\n",
      "Speed: 0.4ms preprocess, 12.4ms inference, 0.9ms postprocess per image at shape (1, 3, 96, 96)\n",
      "\n",
      "0: 96x96 1 sad, 12.4ms\n",
      "Speed: 0.4ms preprocess, 12.4ms inference, 1.2ms postprocess per image at shape (1, 3, 96, 96)\n",
      "\n",
      "0: 96x96 1 sad, 12.4ms\n",
      "Speed: 0.4ms preprocess, 12.4ms inference, 1.1ms postprocess per image at shape (1, 3, 96, 96)\n",
      "\n",
      "0: 96x96 (no detections), 12.6ms\n",
      "Speed: 0.4ms preprocess, 12.6ms inference, 0.7ms postprocess per image at shape (1, 3, 96, 96)\n",
      "\n",
      "0: 96x96 (no detections), 12.1ms\n",
      "Speed: 0.4ms preprocess, 12.1ms inference, 0.6ms postprocess per image at shape (1, 3, 96, 96)\n",
      "\n",
      "0: 96x96 (no detections), 13.0ms\n",
      "Speed: 0.3ms preprocess, 13.0ms inference, 0.6ms postprocess per image at shape (1, 3, 96, 96)\n",
      "\n",
      "0: 96x96 (no detections), 11.4ms\n",
      "Speed: 0.2ms preprocess, 11.4ms inference, 0.6ms postprocess per image at shape (1, 3, 96, 96)\n",
      "\n",
      "0: 96x96 1 surprise, 12.1ms\n",
      "Speed: 0.3ms preprocess, 12.1ms inference, 0.9ms postprocess per image at shape (1, 3, 96, 96)\n",
      "\n",
      "0: 96x96 (no detections), 12.4ms\n",
      "Speed: 0.6ms preprocess, 12.4ms inference, 0.6ms postprocess per image at shape (1, 3, 96, 96)\n",
      "\n",
      "0: 96x96 (no detections), 11.9ms\n",
      "Speed: 0.2ms preprocess, 11.9ms inference, 0.6ms postprocess per image at shape (1, 3, 96, 96)\n",
      "\n",
      "0: 96x96 1 fear, 11.7ms\n",
      "Speed: 0.4ms preprocess, 11.7ms inference, 1.1ms postprocess per image at shape (1, 3, 96, 96)\n",
      "\n",
      "0: 96x96 1 fear, 1 surprise, 13.1ms\n",
      "Speed: 0.4ms preprocess, 13.1ms inference, 1.1ms postprocess per image at shape (1, 3, 96, 96)\n",
      "\n",
      "0: 96x96 1 surprise, 14.4ms\n",
      "Speed: 0.5ms preprocess, 14.4ms inference, 1.0ms postprocess per image at shape (1, 3, 96, 96)\n",
      "\n",
      "0: 96x96 (no detections), 13.7ms\n",
      "Speed: 0.3ms preprocess, 13.7ms inference, 0.6ms postprocess per image at shape (1, 3, 96, 96)\n",
      "\n",
      "0: 96x96 1 sad, 1 surprise, 14.3ms\n",
      "Speed: 0.4ms preprocess, 14.3ms inference, 1.0ms postprocess per image at shape (1, 3, 96, 96)\n",
      "\n",
      "0: 96x96 1 fear, 1 surprise, 12.9ms\n",
      "Speed: 0.3ms preprocess, 12.9ms inference, 1.0ms postprocess per image at shape (1, 3, 96, 96)\n",
      "\n",
      "0: 96x96 (no detections), 12.1ms\n",
      "Speed: 0.2ms preprocess, 12.1ms inference, 0.7ms postprocess per image at shape (1, 3, 96, 96)\n",
      "\n",
      "0: 96x96 1 sad, 12.4ms\n",
      "Speed: 0.2ms preprocess, 12.4ms inference, 1.0ms postprocess per image at shape (1, 3, 96, 96)\n",
      "\n",
      "0: 96x96 1 sad, 12.2ms\n",
      "Speed: 0.3ms preprocess, 12.2ms inference, 1.0ms postprocess per image at shape (1, 3, 96, 96)\n",
      "\n",
      "0: 96x96 (no detections), 11.7ms\n",
      "Speed: 0.3ms preprocess, 11.7ms inference, 0.6ms postprocess per image at shape (1, 3, 96, 96)\n",
      "\n",
      "0: 96x96 1 sad, 1 surprise, 12.4ms\n",
      "Speed: 0.4ms preprocess, 12.4ms inference, 1.0ms postprocess per image at shape (1, 3, 96, 96)\n",
      "\n",
      "0: 96x96 (no detections), 12.6ms\n",
      "Speed: 0.4ms preprocess, 12.6ms inference, 0.6ms postprocess per image at shape (1, 3, 96, 96)\n",
      "\n",
      "0: 96x96 (no detections), 12.6ms\n",
      "Speed: 0.3ms preprocess, 12.6ms inference, 0.7ms postprocess per image at shape (1, 3, 96, 96)\n",
      "\n",
      "0: 96x96 (no detections), 12.2ms\n",
      "Speed: 0.4ms preprocess, 12.2ms inference, 0.7ms postprocess per image at shape (1, 3, 96, 96)\n",
      "\n",
      "0: 96x96 (no detections), 12.5ms\n",
      "Speed: 0.4ms preprocess, 12.5ms inference, 0.6ms postprocess per image at shape (1, 3, 96, 96)\n",
      "\n",
      "0: 96x96 1 surprise, 12.1ms\n",
      "Speed: 0.4ms preprocess, 12.1ms inference, 1.3ms postprocess per image at shape (1, 3, 96, 96)\n",
      "\n",
      "0: 96x96 1 surprise, 12.5ms\n",
      "Speed: 0.3ms preprocess, 12.5ms inference, 1.0ms postprocess per image at shape (1, 3, 96, 96)\n",
      "\n",
      "0: 96x96 (no detections), 12.2ms\n",
      "Speed: 0.4ms preprocess, 12.2ms inference, 0.7ms postprocess per image at shape (1, 3, 96, 96)\n",
      "\n",
      "0: 96x96 1 sad, 12.9ms\n",
      "Speed: 0.5ms preprocess, 12.9ms inference, 1.1ms postprocess per image at shape (1, 3, 96, 96)\n",
      "\n",
      "0: 96x96 1 sad, 11.7ms\n",
      "Speed: 0.4ms preprocess, 11.7ms inference, 1.1ms postprocess per image at shape (1, 3, 96, 96)\n",
      "\n",
      "0: 96x96 (no detections), 12.4ms\n",
      "Speed: 0.4ms preprocess, 12.4ms inference, 0.7ms postprocess per image at shape (1, 3, 96, 96)\n",
      "\n",
      "0: 96x96 (no detections), 13.1ms\n",
      "Speed: 0.4ms preprocess, 13.1ms inference, 0.6ms postprocess per image at shape (1, 3, 96, 96)\n",
      "\n",
      "0: 96x96 1 sad, 12.5ms\n",
      "Speed: 0.4ms preprocess, 12.5ms inference, 1.0ms postprocess per image at shape (1, 3, 96, 96)\n",
      "\n",
      "0: 96x96 (no detections), 11.7ms\n",
      "Speed: 0.3ms preprocess, 11.7ms inference, 0.7ms postprocess per image at shape (1, 3, 96, 96)\n",
      "\n",
      "0: 96x96 (no detections), 12.8ms\n",
      "Speed: 0.3ms preprocess, 12.8ms inference, 0.7ms postprocess per image at shape (1, 3, 96, 96)\n",
      "\n",
      "0: 96x96 1 surprise, 12.3ms\n",
      "Speed: 0.3ms preprocess, 12.3ms inference, 1.1ms postprocess per image at shape (1, 3, 96, 96)\n",
      "\n",
      "0: 96x96 1 fear, 1 surprise, 11.6ms\n",
      "Speed: 0.4ms preprocess, 11.6ms inference, 1.1ms postprocess per image at shape (1, 3, 96, 96)\n",
      "\n",
      "0: 96x96 1 surprise, 12.3ms\n",
      "Speed: 0.3ms preprocess, 12.3ms inference, 1.2ms postprocess per image at shape (1, 3, 96, 96)\n",
      "\n",
      "0: 96x96 1 surprise, 13.0ms\n",
      "Speed: 0.4ms preprocess, 13.0ms inference, 1.1ms postprocess per image at shape (1, 3, 96, 96)\n",
      "\n",
      "0: 96x96 1 surprise, 12.3ms\n",
      "Speed: 0.6ms preprocess, 12.3ms inference, 1.1ms postprocess per image at shape (1, 3, 96, 96)\n",
      "\n",
      "0: 96x96 1 surprise, 12.2ms\n",
      "Speed: 0.3ms preprocess, 12.2ms inference, 1.2ms postprocess per image at shape (1, 3, 96, 96)\n",
      "\n",
      "0: 96x96 1 fear, 1 surprise, 11.7ms\n",
      "Speed: 0.3ms preprocess, 11.7ms inference, 1.1ms postprocess per image at shape (1, 3, 96, 96)\n",
      "\n",
      "0: 96x96 1 surprise, 11.9ms\n",
      "Speed: 0.4ms preprocess, 11.9ms inference, 1.0ms postprocess per image at shape (1, 3, 96, 96)\n",
      "\n",
      "0: 96x96 1 surprise, 12.4ms\n",
      "Speed: 0.4ms preprocess, 12.4ms inference, 1.0ms postprocess per image at shape (1, 3, 96, 96)\n",
      "\n",
      "0: 96x96 1 sad, 11.1ms\n",
      "Speed: 0.5ms preprocess, 11.1ms inference, 1.0ms postprocess per image at shape (1, 3, 96, 96)\n",
      "\n",
      "0: 96x96 1 sad, 12.6ms\n",
      "Speed: 0.3ms preprocess, 12.6ms inference, 1.1ms postprocess per image at shape (1, 3, 96, 96)\n",
      "\n",
      "0: 96x96 1 sad, 11.8ms\n",
      "Speed: 0.2ms preprocess, 11.8ms inference, 1.0ms postprocess per image at shape (1, 3, 96, 96)\n",
      "\n",
      "0: 96x96 1 sad, 11.8ms\n",
      "Speed: 0.4ms preprocess, 11.8ms inference, 1.1ms postprocess per image at shape (1, 3, 96, 96)\n",
      "\n",
      "0: 96x96 1 sad, 11.8ms\n",
      "Speed: 0.3ms preprocess, 11.8ms inference, 1.3ms postprocess per image at shape (1, 3, 96, 96)\n",
      "\n",
      "0: 96x96 1 sad, 1 surprise, 12.0ms\n",
      "Speed: 0.3ms preprocess, 12.0ms inference, 1.0ms postprocess per image at shape (1, 3, 96, 96)\n",
      "\n",
      "0: 96x96 1 sad, 1 surprise, 12.4ms\n",
      "Speed: 0.3ms preprocess, 12.4ms inference, 1.0ms postprocess per image at shape (1, 3, 96, 96)\n",
      "\n",
      "0: 96x96 1 fear, 1 surprise, 11.7ms\n",
      "Speed: 0.3ms preprocess, 11.7ms inference, 1.1ms postprocess per image at shape (1, 3, 96, 96)\n",
      "\n",
      "0: 96x96 1 fear, 1 surprise, 11.6ms\n",
      "Speed: 0.2ms preprocess, 11.6ms inference, 1.1ms postprocess per image at shape (1, 3, 96, 96)\n",
      "\n",
      "0: 96x96 (no detections), 12.0ms\n",
      "Speed: 0.3ms preprocess, 12.0ms inference, 0.6ms postprocess per image at shape (1, 3, 96, 96)\n",
      "\n",
      "0: 96x96 1 surprise, 10.9ms\n",
      "Speed: 0.4ms preprocess, 10.9ms inference, 1.0ms postprocess per image at shape (1, 3, 96, 96)\n",
      "\n",
      "0: 96x96 (no detections), 12.4ms\n",
      "Speed: 0.5ms preprocess, 12.4ms inference, 0.7ms postprocess per image at shape (1, 3, 96, 96)\n",
      "\n",
      "0: 96x96 (no detections), 12.4ms\n",
      "Speed: 0.4ms preprocess, 12.4ms inference, 0.6ms postprocess per image at shape (1, 3, 96, 96)\n",
      "\n",
      "0: 96x96 (no detections), 12.1ms\n",
      "Speed: 0.3ms preprocess, 12.1ms inference, 0.6ms postprocess per image at shape (1, 3, 96, 96)\n",
      "\n",
      "0: 96x96 (no detections), 12.2ms\n",
      "Speed: 0.2ms preprocess, 12.2ms inference, 0.7ms postprocess per image at shape (1, 3, 96, 96)\n",
      "\n",
      "0: 96x96 1 contempt, 13.0ms\n",
      "Speed: 0.4ms preprocess, 13.0ms inference, 1.0ms postprocess per image at shape (1, 3, 96, 96)\n",
      "\n",
      "0: 96x96 (no detections), 12.2ms\n",
      "Speed: 0.4ms preprocess, 12.2ms inference, 0.6ms postprocess per image at shape (1, 3, 96, 96)\n",
      "\n",
      "0: 96x96 1 surprise, 11.7ms\n",
      "Speed: 0.4ms preprocess, 11.7ms inference, 1.0ms postprocess per image at shape (1, 3, 96, 96)\n",
      "\n",
      "0: 96x96 (no detections), 14.4ms\n",
      "Speed: 0.3ms preprocess, 14.4ms inference, 0.6ms postprocess per image at shape (1, 3, 96, 96)\n",
      "\n",
      "0: 96x96 1 surprise, 13.1ms\n",
      "Speed: 0.5ms preprocess, 13.1ms inference, 1.0ms postprocess per image at shape (1, 3, 96, 96)\n",
      "\n",
      "0: 96x96 (no detections), 12.2ms\n",
      "Speed: 0.5ms preprocess, 12.2ms inference, 0.7ms postprocess per image at shape (1, 3, 96, 96)\n",
      "\n",
      "0: 96x96 (no detections), 12.0ms\n",
      "Speed: 0.2ms preprocess, 12.0ms inference, 0.6ms postprocess per image at shape (1, 3, 96, 96)\n",
      "\n",
      "0: 96x96 1 contempt, 12.2ms\n",
      "Speed: 0.2ms preprocess, 12.2ms inference, 1.2ms postprocess per image at shape (1, 3, 96, 96)\n",
      "\n",
      "0: 96x96 1 contempt, 13.0ms\n",
      "Speed: 0.4ms preprocess, 13.0ms inference, 1.1ms postprocess per image at shape (1, 3, 96, 96)\n",
      "\n",
      "0: 96x96 1 contempt, 11.6ms\n",
      "Speed: 0.4ms preprocess, 11.6ms inference, 0.9ms postprocess per image at shape (1, 3, 96, 96)\n",
      "\n",
      "0: 96x96 (no detections), 11.8ms\n",
      "Speed: 0.2ms preprocess, 11.8ms inference, 0.7ms postprocess per image at shape (1, 3, 96, 96)\n",
      "\n",
      "0: 96x96 (no detections), 12.0ms\n",
      "Speed: 0.4ms preprocess, 12.0ms inference, 0.6ms postprocess per image at shape (1, 3, 96, 96)\n",
      "\n",
      "0: 96x96 (no detections), 12.2ms\n",
      "Speed: 0.4ms preprocess, 12.2ms inference, 0.8ms postprocess per image at shape (1, 3, 96, 96)\n",
      "\n",
      "0: 96x96 (no detections), 12.1ms\n",
      "Speed: 0.6ms preprocess, 12.1ms inference, 0.8ms postprocess per image at shape (1, 3, 96, 96)\n",
      "\n",
      "0: 96x96 (no detections), 11.7ms\n",
      "Speed: 0.2ms preprocess, 11.7ms inference, 0.6ms postprocess per image at shape (1, 3, 96, 96)\n",
      "\n",
      "0: 96x96 1 contempt, 11.3ms\n",
      "Speed: 0.2ms preprocess, 11.3ms inference, 0.9ms postprocess per image at shape (1, 3, 96, 96)\n",
      "\n",
      "0: 96x96 (no detections), 12.2ms\n",
      "Speed: 0.2ms preprocess, 12.2ms inference, 0.8ms postprocess per image at shape (1, 3, 96, 96)\n",
      "\n",
      "0: 96x96 (no detections), 12.5ms\n",
      "Speed: 0.4ms preprocess, 12.5ms inference, 0.7ms postprocess per image at shape (1, 3, 96, 96)\n",
      "\n",
      "0: 96x96 (no detections), 13.9ms\n",
      "Speed: 0.3ms preprocess, 13.9ms inference, 0.7ms postprocess per image at shape (1, 3, 96, 96)\n",
      "\n",
      "0: 96x96 (no detections), 13.2ms\n",
      "Speed: 0.4ms preprocess, 13.2ms inference, 0.8ms postprocess per image at shape (1, 3, 96, 96)\n",
      "\n",
      "0: 96x96 (no detections), 14.1ms\n",
      "Speed: 0.4ms preprocess, 14.1ms inference, 0.6ms postprocess per image at shape (1, 3, 96, 96)\n",
      "\n",
      "0: 96x96 1 sad, 15.3ms\n",
      "Speed: 0.5ms preprocess, 15.3ms inference, 1.2ms postprocess per image at shape (1, 3, 96, 96)\n",
      "\n",
      "0: 96x96 1 sad, 14.6ms\n",
      "Speed: 0.7ms preprocess, 14.6ms inference, 1.2ms postprocess per image at shape (1, 3, 96, 96)\n",
      "\n",
      "0: 96x96 1 sad, 14.0ms\n",
      "Speed: 0.5ms preprocess, 14.0ms inference, 1.0ms postprocess per image at shape (1, 3, 96, 96)\n",
      "\n",
      "0: 96x96 1 sad, 12.8ms\n",
      "Speed: 0.2ms preprocess, 12.8ms inference, 1.2ms postprocess per image at shape (1, 3, 96, 96)\n",
      "\n",
      "0: 96x96 1 sad, 12.9ms\n",
      "Speed: 0.2ms preprocess, 12.9ms inference, 1.1ms postprocess per image at shape (1, 3, 96, 96)\n",
      "\n",
      "0: 96x96 (no detections), 12.8ms\n",
      "Speed: 0.3ms preprocess, 12.8ms inference, 0.6ms postprocess per image at shape (1, 3, 96, 96)\n",
      "\n",
      "0: 96x96 (no detections), 11.8ms\n",
      "Speed: 0.5ms preprocess, 11.8ms inference, 0.7ms postprocess per image at shape (1, 3, 96, 96)\n",
      "\n",
      "0: 96x96 (no detections), 11.9ms\n",
      "Speed: 0.2ms preprocess, 11.9ms inference, 0.6ms postprocess per image at shape (1, 3, 96, 96)\n",
      "\n",
      "0: 96x96 1 contempt, 1 sad, 13.1ms\n",
      "Speed: 0.3ms preprocess, 13.1ms inference, 1.0ms postprocess per image at shape (1, 3, 96, 96)\n",
      "\n",
      "0: 96x96 1 contempt, 12.4ms\n",
      "Speed: 0.2ms preprocess, 12.4ms inference, 1.1ms postprocess per image at shape (1, 3, 96, 96)\n",
      "\n",
      "0: 96x96 1 contempt, 12.7ms\n",
      "Speed: 0.2ms preprocess, 12.7ms inference, 1.0ms postprocess per image at shape (1, 3, 96, 96)\n",
      "\n",
      "0: 96x96 (no detections), 13.3ms\n",
      "Speed: 0.6ms preprocess, 13.3ms inference, 0.7ms postprocess per image at shape (1, 3, 96, 96)\n",
      "\n",
      "0: 96x96 1 sad, 13.6ms\n",
      "Speed: 0.2ms preprocess, 13.6ms inference, 1.0ms postprocess per image at shape (1, 3, 96, 96)\n",
      "\n",
      "0: 96x96 1 sad, 11.1ms\n",
      "Speed: 0.4ms preprocess, 11.1ms inference, 1.1ms postprocess per image at shape (1, 3, 96, 96)\n",
      "\n",
      "0: 96x96 1 sad, 12.3ms\n",
      "Speed: 0.6ms preprocess, 12.3ms inference, 1.0ms postprocess per image at shape (1, 3, 96, 96)\n",
      "\n",
      "0: 96x96 1 sad, 12.5ms\n",
      "Speed: 0.4ms preprocess, 12.5ms inference, 1.2ms postprocess per image at shape (1, 3, 96, 96)\n",
      "\n",
      "0: 96x96 1 sad, 14.2ms\n",
      "Speed: 0.5ms preprocess, 14.2ms inference, 1.5ms postprocess per image at shape (1, 3, 96, 96)\n",
      "\n",
      "0: 96x96 1 sad, 12.9ms\n",
      "Speed: 0.4ms preprocess, 12.9ms inference, 1.2ms postprocess per image at shape (1, 3, 96, 96)\n",
      "\n",
      "0: 96x96 1 sad, 13.3ms\n",
      "Speed: 0.2ms preprocess, 13.3ms inference, 1.1ms postprocess per image at shape (1, 3, 96, 96)\n",
      "\n",
      "0: 96x96 (no detections), 11.7ms\n",
      "Speed: 0.5ms preprocess, 11.7ms inference, 0.7ms postprocess per image at shape (1, 3, 96, 96)\n",
      "\n",
      "0: 96x96 1 sad, 11.3ms\n",
      "Speed: 0.5ms preprocess, 11.3ms inference, 1.1ms postprocess per image at shape (1, 3, 96, 96)\n",
      "\n",
      "0: 96x96 1 sad, 13.2ms\n",
      "Speed: 0.5ms preprocess, 13.2ms inference, 1.3ms postprocess per image at shape (1, 3, 96, 96)\n",
      "\n",
      "0: 96x96 1 sad, 13.5ms\n",
      "Speed: 0.4ms preprocess, 13.5ms inference, 1.0ms postprocess per image at shape (1, 3, 96, 96)\n",
      "\n",
      "0: 96x96 1 sad, 12.0ms\n",
      "Speed: 0.4ms preprocess, 12.0ms inference, 1.2ms postprocess per image at shape (1, 3, 96, 96)\n",
      "\n",
      "0: 96x96 1 sad, 12.1ms\n",
      "Speed: 0.5ms preprocess, 12.1ms inference, 1.1ms postprocess per image at shape (1, 3, 96, 96)\n",
      "\n",
      "0: 96x96 1 sad, 13.2ms\n",
      "Speed: 0.3ms preprocess, 13.2ms inference, 1.1ms postprocess per image at shape (1, 3, 96, 96)\n",
      "\n",
      "0: 96x96 1 sad, 13.1ms\n",
      "Speed: 0.4ms preprocess, 13.1ms inference, 0.9ms postprocess per image at shape (1, 3, 96, 96)\n",
      "\n",
      "0: 96x96 1 sad, 12.0ms\n",
      "Speed: 0.3ms preprocess, 12.0ms inference, 1.1ms postprocess per image at shape (1, 3, 96, 96)\n",
      "\n",
      "0: 96x96 1 contempt, 1 sad, 11.9ms\n",
      "Speed: 0.5ms preprocess, 11.9ms inference, 1.2ms postprocess per image at shape (1, 3, 96, 96)\n",
      "\n",
      "0: 96x96 1 sad, 12.7ms\n",
      "Speed: 0.4ms preprocess, 12.7ms inference, 1.2ms postprocess per image at shape (1, 3, 96, 96)\n",
      "\n",
      "0: 96x96 1 contempt, 1 sad, 12.6ms\n",
      "Speed: 0.2ms preprocess, 12.6ms inference, 1.0ms postprocess per image at shape (1, 3, 96, 96)\n",
      "\n",
      "0: 96x96 1 sad, 13.2ms\n",
      "Speed: 0.3ms preprocess, 13.2ms inference, 1.0ms postprocess per image at shape (1, 3, 96, 96)\n",
      "\n",
      "0: 96x96 1 contempt, 12.7ms\n",
      "Speed: 0.5ms preprocess, 12.7ms inference, 0.9ms postprocess per image at shape (1, 3, 96, 96)\n",
      "\n",
      "0: 96x96 1 sad, 11.1ms\n",
      "Speed: 0.4ms preprocess, 11.1ms inference, 1.1ms postprocess per image at shape (1, 3, 96, 96)\n",
      "\n",
      "0: 96x96 1 sad, 12.8ms\n",
      "Speed: 0.2ms preprocess, 12.8ms inference, 1.1ms postprocess per image at shape (1, 3, 96, 96)\n",
      "\n",
      "0: 96x96 1 sad, 13.2ms\n",
      "Speed: 0.5ms preprocess, 13.2ms inference, 1.0ms postprocess per image at shape (1, 3, 96, 96)\n",
      "\n",
      "0: 96x96 1 sad, 12.2ms\n",
      "Speed: 0.5ms preprocess, 12.2ms inference, 1.0ms postprocess per image at shape (1, 3, 96, 96)\n",
      "\n",
      "0: 96x96 1 sad, 10.9ms\n",
      "Speed: 0.2ms preprocess, 10.9ms inference, 1.1ms postprocess per image at shape (1, 3, 96, 96)\n",
      "\n",
      "0: 96x96 1 sad, 14.5ms\n",
      "Speed: 0.5ms preprocess, 14.5ms inference, 1.8ms postprocess per image at shape (1, 3, 96, 96)\n",
      "\n",
      "0: 96x96 1 sad, 11.9ms\n",
      "Speed: 0.5ms preprocess, 11.9ms inference, 1.1ms postprocess per image at shape (1, 3, 96, 96)\n",
      "\n",
      "0: 96x96 1 fear, 1 sad, 12.2ms\n",
      "Speed: 0.5ms preprocess, 12.2ms inference, 1.1ms postprocess per image at shape (1, 3, 96, 96)\n",
      "\n",
      "0: 96x96 1 sad, 13.1ms\n",
      "Speed: 0.2ms preprocess, 13.1ms inference, 0.9ms postprocess per image at shape (1, 3, 96, 96)\n",
      "\n",
      "0: 96x96 1 sad, 12.1ms\n",
      "Speed: 0.2ms preprocess, 12.1ms inference, 1.2ms postprocess per image at shape (1, 3, 96, 96)\n",
      "\n",
      "0: 96x96 1 fear, 12.5ms\n",
      "Speed: 0.5ms preprocess, 12.5ms inference, 1.0ms postprocess per image at shape (1, 3, 96, 96)\n",
      "\n",
      "0: 96x96 1 sad, 11.9ms\n",
      "Speed: 0.7ms preprocess, 11.9ms inference, 1.1ms postprocess per image at shape (1, 3, 96, 96)\n",
      "\n",
      "0: 96x96 1 sad, 12.5ms\n",
      "Speed: 0.2ms preprocess, 12.5ms inference, 1.3ms postprocess per image at shape (1, 3, 96, 96)\n",
      "\n",
      "0: 96x96 1 fear, 12.9ms\n",
      "Speed: 0.2ms preprocess, 12.9ms inference, 1.0ms postprocess per image at shape (1, 3, 96, 96)\n",
      "\n",
      "0: 96x96 1 fear, 12.7ms\n",
      "Speed: 0.5ms preprocess, 12.7ms inference, 1.1ms postprocess per image at shape (1, 3, 96, 96)\n",
      "\n",
      "0: 96x96 1 sad, 10.8ms\n",
      "Speed: 0.2ms preprocess, 10.8ms inference, 1.1ms postprocess per image at shape (1, 3, 96, 96)\n",
      "\n",
      "0: 96x96 1 sad, 12.0ms\n",
      "Speed: 0.2ms preprocess, 12.0ms inference, 1.1ms postprocess per image at shape (1, 3, 96, 96)\n",
      "\n",
      "0: 96x96 1 sad, 13.3ms\n",
      "Speed: 0.2ms preprocess, 13.3ms inference, 1.0ms postprocess per image at shape (1, 3, 96, 96)\n",
      "\n",
      "0: 96x96 1 sad, 11.7ms\n",
      "Speed: 0.2ms preprocess, 11.7ms inference, 1.0ms postprocess per image at shape (1, 3, 96, 96)\n",
      "\n",
      "0: 96x96 1 sad, 12.9ms\n",
      "Speed: 0.3ms preprocess, 12.9ms inference, 1.0ms postprocess per image at shape (1, 3, 96, 96)\n",
      "\n",
      "0: 96x96 1 fear, 1 sad, 12.6ms\n",
      "Speed: 0.4ms preprocess, 12.6ms inference, 1.6ms postprocess per image at shape (1, 3, 96, 96)\n",
      "\n",
      "0: 96x96 1 fear, 1 surprise, 13.0ms\n",
      "Speed: 0.2ms preprocess, 13.0ms inference, 1.3ms postprocess per image at shape (1, 3, 96, 96)\n",
      "\n",
      "0: 96x96 1 fear, 1 surprise, 13.2ms\n",
      "Speed: 0.4ms preprocess, 13.2ms inference, 1.0ms postprocess per image at shape (1, 3, 96, 96)\n",
      "\n",
      "0: 96x96 1 fear, 1 surprise, 11.7ms\n",
      "Speed: 0.4ms preprocess, 11.7ms inference, 1.1ms postprocess per image at shape (1, 3, 96, 96)\n",
      "\n",
      "0: 96x96 1 fear, 1 surprise, 12.3ms\n",
      "Speed: 0.2ms preprocess, 12.3ms inference, 1.2ms postprocess per image at shape (1, 3, 96, 96)\n",
      "\n",
      "0: 96x96 1 surprise, 13.4ms\n",
      "Speed: 0.4ms preprocess, 13.4ms inference, 1.1ms postprocess per image at shape (1, 3, 96, 96)\n",
      "\n",
      "0: 96x96 1 surprise, 11.3ms\n",
      "Speed: 0.4ms preprocess, 11.3ms inference, 1.0ms postprocess per image at shape (1, 3, 96, 96)\n",
      "\n",
      "0: 96x96 1 surprise, 11.9ms\n",
      "Speed: 0.4ms preprocess, 11.9ms inference, 1.0ms postprocess per image at shape (1, 3, 96, 96)\n",
      "\n",
      "0: 96x96 1 fear, 1 surprise, 12.7ms\n",
      "Speed: 0.5ms preprocess, 12.7ms inference, 1.1ms postprocess per image at shape (1, 3, 96, 96)\n",
      "\n",
      "0: 96x96 1 surprise, 11.8ms\n",
      "Speed: 0.5ms preprocess, 11.8ms inference, 1.0ms postprocess per image at shape (1, 3, 96, 96)\n",
      "\n",
      "0: 96x96 1 fear, 1 surprise, 13.1ms\n",
      "Speed: 0.2ms preprocess, 13.1ms inference, 1.1ms postprocess per image at shape (1, 3, 96, 96)\n",
      "\n",
      "0: 96x96 1 fear, 1 surprise, 12.6ms\n",
      "Speed: 0.4ms preprocess, 12.6ms inference, 1.0ms postprocess per image at shape (1, 3, 96, 96)\n",
      "\n",
      "0: 96x96 1 surprise, 13.9ms\n",
      "Speed: 0.2ms preprocess, 13.9ms inference, 1.1ms postprocess per image at shape (1, 3, 96, 96)\n",
      "\n",
      "0: 96x96 1 fear, 1 surprise, 13.3ms\n",
      "Speed: 0.4ms preprocess, 13.3ms inference, 1.1ms postprocess per image at shape (1, 3, 96, 96)\n",
      "\n",
      "0: 96x96 1 fear, 13.4ms\n",
      "Speed: 0.3ms preprocess, 13.4ms inference, 1.2ms postprocess per image at shape (1, 3, 96, 96)\n",
      "\n",
      "0: 96x96 1 fear, 13.9ms\n",
      "Speed: 0.3ms preprocess, 13.9ms inference, 1.6ms postprocess per image at shape (1, 3, 96, 96)\n",
      "\n",
      "0: 96x96 1 fear, 1 surprise, 13.8ms\n",
      "Speed: 0.4ms preprocess, 13.8ms inference, 1.5ms postprocess per image at shape (1, 3, 96, 96)\n",
      "\n",
      "0: 96x96 1 fear, 14.0ms\n",
      "Speed: 0.4ms preprocess, 14.0ms inference, 1.2ms postprocess per image at shape (1, 3, 96, 96)\n",
      "\n",
      "0: 96x96 1 fear, 1 sad, 13.3ms\n",
      "Speed: 0.4ms preprocess, 13.3ms inference, 2.5ms postprocess per image at shape (1, 3, 96, 96)\n",
      "\n",
      "0: 96x96 1 fear, 13.6ms\n",
      "Speed: 0.4ms preprocess, 13.6ms inference, 1.3ms postprocess per image at shape (1, 3, 96, 96)\n",
      "\n",
      "0: 96x96 1 fear, 13.3ms\n",
      "Speed: 0.5ms preprocess, 13.3ms inference, 1.5ms postprocess per image at shape (1, 3, 96, 96)\n",
      "\n",
      "0: 96x96 1 fear, 13.4ms\n",
      "Speed: 0.4ms preprocess, 13.4ms inference, 1.2ms postprocess per image at shape (1, 3, 96, 96)\n",
      "\n",
      "0: 96x96 1 fear, 15.4ms\n",
      "Speed: 0.4ms preprocess, 15.4ms inference, 1.2ms postprocess per image at shape (1, 3, 96, 96)\n",
      "\n",
      "0: 96x96 1 fear, 14.4ms\n",
      "Speed: 0.4ms preprocess, 14.4ms inference, 1.0ms postprocess per image at shape (1, 3, 96, 96)\n",
      "\n",
      "0: 96x96 1 fear, 13.5ms\n",
      "Speed: 0.6ms preprocess, 13.5ms inference, 1.0ms postprocess per image at shape (1, 3, 96, 96)\n",
      "\n",
      "0: 96x96 1 fear, 12.8ms\n",
      "Speed: 0.3ms preprocess, 12.8ms inference, 1.0ms postprocess per image at shape (1, 3, 96, 96)\n",
      "\n",
      "0: 96x96 1 fear, 12.9ms\n",
      "Speed: 0.4ms preprocess, 12.9ms inference, 1.0ms postprocess per image at shape (1, 3, 96, 96)\n",
      "\n",
      "0: 96x96 1 fear, 14.2ms\n",
      "Speed: 0.4ms preprocess, 14.2ms inference, 1.1ms postprocess per image at shape (1, 3, 96, 96)\n",
      "\n",
      "0: 96x96 1 fear, 12.3ms\n",
      "Speed: 0.2ms preprocess, 12.3ms inference, 1.1ms postprocess per image at shape (1, 3, 96, 96)\n",
      "\n",
      "0: 96x96 1 fear, 12.2ms\n",
      "Speed: 0.5ms preprocess, 12.2ms inference, 1.1ms postprocess per image at shape (1, 3, 96, 96)\n",
      "\n",
      "0: 96x96 1 fear, 12.9ms\n",
      "Speed: 0.5ms preprocess, 12.9ms inference, 1.1ms postprocess per image at shape (1, 3, 96, 96)\n",
      "\n",
      "0: 96x96 1 fear, 12.5ms\n",
      "Speed: 0.5ms preprocess, 12.5ms inference, 0.9ms postprocess per image at shape (1, 3, 96, 96)\n",
      "\n",
      "0: 96x96 1 fear, 12.7ms\n",
      "Speed: 0.4ms preprocess, 12.7ms inference, 1.1ms postprocess per image at shape (1, 3, 96, 96)\n",
      "\n",
      "0: 96x96 1 fear, 14.8ms\n",
      "Speed: 0.5ms preprocess, 14.8ms inference, 1.1ms postprocess per image at shape (1, 3, 96, 96)\n",
      "\n",
      "0: 96x96 1 fear, 12.5ms\n",
      "Speed: 0.5ms preprocess, 12.5ms inference, 1.0ms postprocess per image at shape (1, 3, 96, 96)\n",
      "\n",
      "0: 96x96 1 fear, 1 surprise, 12.9ms\n",
      "Speed: 0.4ms preprocess, 12.9ms inference, 1.1ms postprocess per image at shape (1, 3, 96, 96)\n",
      "\n",
      "0: 96x96 1 fear, 11.7ms\n",
      "Speed: 0.3ms preprocess, 11.7ms inference, 1.0ms postprocess per image at shape (1, 3, 96, 96)\n",
      "\n",
      "0: 96x96 1 fear, 11.2ms\n",
      "Speed: 0.4ms preprocess, 11.2ms inference, 1.2ms postprocess per image at shape (1, 3, 96, 96)\n",
      "\n",
      "0: 96x96 1 fear, 1 sad, 13.2ms\n",
      "Speed: 0.3ms preprocess, 13.2ms inference, 1.1ms postprocess per image at shape (1, 3, 96, 96)\n",
      "\n",
      "0: 96x96 1 fear, 11.2ms\n",
      "Speed: 0.4ms preprocess, 11.2ms inference, 1.0ms postprocess per image at shape (1, 3, 96, 96)\n",
      "\n",
      "0: 96x96 1 fear, 1 sad, 13.4ms\n",
      "Speed: 0.2ms preprocess, 13.4ms inference, 1.0ms postprocess per image at shape (1, 3, 96, 96)\n",
      "\n",
      "0: 96x96 1 sad, 11.6ms\n",
      "Speed: 0.4ms preprocess, 11.6ms inference, 1.0ms postprocess per image at shape (1, 3, 96, 96)\n",
      "\n",
      "0: 96x96 1 sad, 11.9ms\n",
      "Speed: 0.4ms preprocess, 11.9ms inference, 1.0ms postprocess per image at shape (1, 3, 96, 96)\n",
      "\n",
      "0: 96x96 1 sad, 12.5ms\n",
      "Speed: 0.3ms preprocess, 12.5ms inference, 1.1ms postprocess per image at shape (1, 3, 96, 96)\n",
      "\n",
      "0: 96x96 1 sad, 12.6ms\n",
      "Speed: 0.3ms preprocess, 12.6ms inference, 1.1ms postprocess per image at shape (1, 3, 96, 96)\n",
      "\n",
      "0: 96x96 1 sad, 12.9ms\n",
      "Speed: 0.3ms preprocess, 12.9ms inference, 1.0ms postprocess per image at shape (1, 3, 96, 96)\n",
      "\n",
      "0: 96x96 (no detections), 12.0ms\n",
      "Speed: 0.4ms preprocess, 12.0ms inference, 0.6ms postprocess per image at shape (1, 3, 96, 96)\n",
      "\n",
      "0: 96x96 1 sad, 12.5ms\n",
      "Speed: 0.5ms preprocess, 12.5ms inference, 1.2ms postprocess per image at shape (1, 3, 96, 96)\n",
      "\n",
      "0: 96x96 1 sad, 12.2ms\n",
      "Speed: 0.3ms preprocess, 12.2ms inference, 1.3ms postprocess per image at shape (1, 3, 96, 96)\n",
      "\n",
      "0: 96x96 (no detections), 13.6ms\n",
      "Speed: 0.3ms preprocess, 13.6ms inference, 0.6ms postprocess per image at shape (1, 3, 96, 96)\n",
      "\n",
      "0: 96x96 (no detections), 12.2ms\n",
      "Speed: 0.3ms preprocess, 12.2ms inference, 0.6ms postprocess per image at shape (1, 3, 96, 96)\n",
      "\n",
      "0: 96x96 1 sad, 11.1ms\n",
      "Speed: 0.3ms preprocess, 11.1ms inference, 0.9ms postprocess per image at shape (1, 3, 96, 96)\n",
      "\n",
      "0: 96x96 1 sad, 13.7ms\n",
      "Speed: 0.3ms preprocess, 13.7ms inference, 1.0ms postprocess per image at shape (1, 3, 96, 96)\n",
      "\n",
      "0: 96x96 1 sad, 12.9ms\n",
      "Speed: 0.4ms preprocess, 12.9ms inference, 1.1ms postprocess per image at shape (1, 3, 96, 96)\n",
      "\n",
      "0: 96x96 1 sad, 13.1ms\n",
      "Speed: 0.4ms preprocess, 13.1ms inference, 1.1ms postprocess per image at shape (1, 3, 96, 96)\n",
      "\n",
      "0: 96x96 1 sad, 13.2ms\n",
      "Speed: 0.2ms preprocess, 13.2ms inference, 1.0ms postprocess per image at shape (1, 3, 96, 96)\n",
      "\n",
      "0: 96x96 1 fear, 1 sad, 12.7ms\n",
      "Speed: 0.2ms preprocess, 12.7ms inference, 1.0ms postprocess per image at shape (1, 3, 96, 96)\n",
      "\n",
      "0: 96x96 (no detections), 11.5ms\n",
      "Speed: 0.2ms preprocess, 11.5ms inference, 0.7ms postprocess per image at shape (1, 3, 96, 96)\n",
      "\n",
      "0: 96x96 1 sad, 12.3ms\n",
      "Speed: 0.4ms preprocess, 12.3ms inference, 1.3ms postprocess per image at shape (1, 3, 96, 96)\n",
      "\n",
      "0: 96x96 1 sad, 11.7ms\n",
      "Speed: 0.4ms preprocess, 11.7ms inference, 1.0ms postprocess per image at shape (1, 3, 96, 96)\n",
      "\n",
      "0: 96x96 1 contempt, 12.8ms\n",
      "Speed: 0.2ms preprocess, 12.8ms inference, 1.0ms postprocess per image at shape (1, 3, 96, 96)\n",
      "\n",
      "0: 96x96 (no detections), 12.7ms\n",
      "Speed: 0.4ms preprocess, 12.7ms inference, 0.7ms postprocess per image at shape (1, 3, 96, 96)\n",
      "\n",
      "0: 96x96 (no detections), 13.0ms\n",
      "Speed: 0.4ms preprocess, 13.0ms inference, 0.7ms postprocess per image at shape (1, 3, 96, 96)\n",
      "\n",
      "0: 96x96 1 sad, 13.2ms\n",
      "Speed: 0.4ms preprocess, 13.2ms inference, 1.1ms postprocess per image at shape (1, 3, 96, 96)\n",
      "\n",
      "0: 96x96 (no detections), 12.3ms\n",
      "Speed: 0.3ms preprocess, 12.3ms inference, 0.7ms postprocess per image at shape (1, 3, 96, 96)\n",
      "\n",
      "0: 96x96 1 sad, 12.5ms\n",
      "Speed: 0.4ms preprocess, 12.5ms inference, 1.1ms postprocess per image at shape (1, 3, 96, 96)\n",
      "\n",
      "0: 96x96 1 fear, 1 sad, 17.9ms\n",
      "Speed: 0.4ms preprocess, 17.9ms inference, 2.2ms postprocess per image at shape (1, 3, 96, 96)\n",
      "\n",
      "0: 96x96 1 fear, 1 sad, 13.2ms\n",
      "Speed: 0.2ms preprocess, 13.2ms inference, 1.0ms postprocess per image at shape (1, 3, 96, 96)\n",
      "\n",
      "0: 96x96 1 fear, 1 sad, 12.2ms\n",
      "Speed: 0.5ms preprocess, 12.2ms inference, 1.2ms postprocess per image at shape (1, 3, 96, 96)\n",
      "\n",
      "0: 96x96 1 fear, 1 sad, 12.7ms\n",
      "Speed: 0.3ms preprocess, 12.7ms inference, 1.2ms postprocess per image at shape (1, 3, 96, 96)\n",
      "\n",
      "0: 96x96 1 fear, 1 sad, 11.5ms\n",
      "Speed: 0.5ms preprocess, 11.5ms inference, 1.1ms postprocess per image at shape (1, 3, 96, 96)\n",
      "\n",
      "0: 96x96 1 fear, 1 sad, 13.1ms\n",
      "Speed: 0.4ms preprocess, 13.1ms inference, 1.1ms postprocess per image at shape (1, 3, 96, 96)\n",
      "\n",
      "0: 96x96 1 sad, 12.9ms\n",
      "Speed: 0.2ms preprocess, 12.9ms inference, 1.0ms postprocess per image at shape (1, 3, 96, 96)\n",
      "\n",
      "0: 96x96 1 fear, 1 sad, 12.3ms\n",
      "Speed: 0.4ms preprocess, 12.3ms inference, 1.1ms postprocess per image at shape (1, 3, 96, 96)\n",
      "\n",
      "0: 96x96 1 fear, 10.8ms\n",
      "Speed: 0.5ms preprocess, 10.8ms inference, 1.1ms postprocess per image at shape (1, 3, 96, 96)\n",
      "\n",
      "0: 96x96 1 fear, 11.5ms\n",
      "Speed: 0.5ms preprocess, 11.5ms inference, 1.4ms postprocess per image at shape (1, 3, 96, 96)\n",
      "\n",
      "0: 96x96 1 fear, 13.1ms\n",
      "Speed: 0.3ms preprocess, 13.1ms inference, 1.0ms postprocess per image at shape (1, 3, 96, 96)\n",
      "\n",
      "0: 96x96 1 fear, 13.7ms\n",
      "Speed: 0.4ms preprocess, 13.7ms inference, 1.1ms postprocess per image at shape (1, 3, 96, 96)\n",
      "\n",
      "0: 96x96 (no detections), 12.8ms\n",
      "Speed: 0.4ms preprocess, 12.8ms inference, 0.7ms postprocess per image at shape (1, 3, 96, 96)\n",
      "\n",
      "0: 96x96 (no detections), 11.0ms\n",
      "Speed: 0.4ms preprocess, 11.0ms inference, 0.7ms postprocess per image at shape (1, 3, 96, 96)\n",
      "\n",
      "0: 96x96 1 fear, 13.2ms\n",
      "Speed: 0.3ms preprocess, 13.2ms inference, 1.1ms postprocess per image at shape (1, 3, 96, 96)\n",
      "\n",
      "0: 96x96 1 fear, 12.3ms\n",
      "Speed: 0.2ms preprocess, 12.3ms inference, 1.0ms postprocess per image at shape (1, 3, 96, 96)\n",
      "\n",
      "0: 96x96 1 fear, 10.9ms\n",
      "Speed: 0.5ms preprocess, 10.9ms inference, 1.0ms postprocess per image at shape (1, 3, 96, 96)\n",
      "\n",
      "0: 96x96 1 fear, 12.1ms\n",
      "Speed: 0.4ms preprocess, 12.1ms inference, 1.0ms postprocess per image at shape (1, 3, 96, 96)\n",
      "\n",
      "0: 96x96 1 fear, 11.2ms\n",
      "Speed: 0.4ms preprocess, 11.2ms inference, 1.0ms postprocess per image at shape (1, 3, 96, 96)\n",
      "\n",
      "0: 96x96 1 fear, 12.3ms\n",
      "Speed: 0.4ms preprocess, 12.3ms inference, 1.0ms postprocess per image at shape (1, 3, 96, 96)\n",
      "\n",
      "0: 96x96 1 fear, 12.4ms\n",
      "Speed: 0.5ms preprocess, 12.4ms inference, 1.3ms postprocess per image at shape (1, 3, 96, 96)\n",
      "\n",
      "0: 96x96 1 fear, 11.1ms\n",
      "Speed: 0.5ms preprocess, 11.1ms inference, 1.1ms postprocess per image at shape (1, 3, 96, 96)\n",
      "\n",
      "0: 96x96 1 fear, 1 sad, 12.6ms\n",
      "Speed: 0.3ms preprocess, 12.6ms inference, 1.1ms postprocess per image at shape (1, 3, 96, 96)\n",
      "\n",
      "0: 96x96 1 fear, 12.3ms\n",
      "Speed: 0.3ms preprocess, 12.3ms inference, 1.1ms postprocess per image at shape (1, 3, 96, 96)\n",
      "\n",
      "0: 96x96 1 fear, 1 sad, 13.1ms\n",
      "Speed: 0.2ms preprocess, 13.1ms inference, 1.0ms postprocess per image at shape (1, 3, 96, 96)\n",
      "\n",
      "0: 96x96 1 fear, 1 sad, 12.5ms\n",
      "Speed: 0.5ms preprocess, 12.5ms inference, 1.1ms postprocess per image at shape (1, 3, 96, 96)\n",
      "\n",
      "0: 96x96 1 sad, 11.9ms\n",
      "Speed: 0.4ms preprocess, 11.9ms inference, 1.3ms postprocess per image at shape (1, 3, 96, 96)\n",
      "\n",
      "0: 96x96 (no detections), 11.9ms\n",
      "Speed: 0.3ms preprocess, 11.9ms inference, 0.7ms postprocess per image at shape (1, 3, 96, 96)\n",
      "\n",
      "0: 96x96 (no detections), 11.7ms\n",
      "Speed: 0.4ms preprocess, 11.7ms inference, 0.7ms postprocess per image at shape (1, 3, 96, 96)\n",
      "\n",
      "0: 96x96 (no detections), 12.7ms\n",
      "Speed: 0.4ms preprocess, 12.7ms inference, 0.6ms postprocess per image at shape (1, 3, 96, 96)\n",
      "\n",
      "0: 96x96 (no detections), 12.4ms\n",
      "Speed: 0.4ms preprocess, 12.4ms inference, 0.6ms postprocess per image at shape (1, 3, 96, 96)\n",
      "\n",
      "0: 96x96 1 fear, 12.4ms\n",
      "Speed: 0.3ms preprocess, 12.4ms inference, 1.0ms postprocess per image at shape (1, 3, 96, 96)\n",
      "\n",
      "0: 96x96 1 fear, 11.3ms\n",
      "Speed: 0.3ms preprocess, 11.3ms inference, 1.0ms postprocess per image at shape (1, 3, 96, 96)\n",
      "\n",
      "0: 96x96 1 sad, 12.0ms\n",
      "Speed: 0.3ms preprocess, 12.0ms inference, 1.0ms postprocess per image at shape (1, 3, 96, 96)\n",
      "\n",
      "0: 96x96 1 fear, 14.3ms\n",
      "Speed: 0.5ms preprocess, 14.3ms inference, 1.0ms postprocess per image at shape (1, 3, 96, 96)\n",
      "\n",
      "0: 96x96 1 fear, 13.1ms\n",
      "Speed: 0.9ms preprocess, 13.1ms inference, 0.9ms postprocess per image at shape (1, 3, 96, 96)\n",
      "\n",
      "0: 96x96 1 fear, 13.8ms\n",
      "Speed: 0.5ms preprocess, 13.8ms inference, 1.1ms postprocess per image at shape (1, 3, 96, 96)\n",
      "\n",
      "0: 96x96 1 fear, 13.0ms\n",
      "Speed: 0.5ms preprocess, 13.0ms inference, 1.0ms postprocess per image at shape (1, 3, 96, 96)\n",
      "\n",
      "0: 96x96 1 fear, 11.7ms\n",
      "Speed: 0.4ms preprocess, 11.7ms inference, 1.1ms postprocess per image at shape (1, 3, 96, 96)\n",
      "\n",
      "0: 96x96 (no detections), 13.0ms\n",
      "Speed: 0.2ms preprocess, 13.0ms inference, 0.7ms postprocess per image at shape (1, 3, 96, 96)\n",
      "\n",
      "0: 96x96 1 sad, 11.8ms\n",
      "Speed: 0.5ms preprocess, 11.8ms inference, 1.3ms postprocess per image at shape (1, 3, 96, 96)\n",
      "\n",
      "0: 96x96 1 surprise, 12.1ms\n",
      "Speed: 0.5ms preprocess, 12.1ms inference, 1.1ms postprocess per image at shape (1, 3, 96, 96)\n",
      "\n",
      "0: 96x96 1 surprise, 13.2ms\n",
      "Speed: 0.3ms preprocess, 13.2ms inference, 1.0ms postprocess per image at shape (1, 3, 96, 96)\n",
      "\n",
      "0: 96x96 1 fear, 1 surprise, 12.4ms\n",
      "Speed: 0.4ms preprocess, 12.4ms inference, 1.0ms postprocess per image at shape (1, 3, 96, 96)\n",
      "\n",
      "0: 96x96 1 sad, 12.2ms\n",
      "Speed: 0.4ms preprocess, 12.2ms inference, 1.6ms postprocess per image at shape (1, 3, 96, 96)\n",
      "\n",
      "0: 96x96 1 fear, 11.2ms\n",
      "Speed: 0.4ms preprocess, 11.2ms inference, 1.1ms postprocess per image at shape (1, 3, 96, 96)\n",
      "\n",
      "0: 96x96 1 sad, 12.4ms\n",
      "Speed: 0.4ms preprocess, 12.4ms inference, 1.0ms postprocess per image at shape (1, 3, 96, 96)\n",
      "\n",
      "0: 96x96 1 sad, 13.4ms\n",
      "Speed: 0.2ms preprocess, 13.4ms inference, 1.0ms postprocess per image at shape (1, 3, 96, 96)\n",
      "\n",
      "0: 96x96 1 anger, 1 sad, 12.1ms\n",
      "Speed: 0.4ms preprocess, 12.1ms inference, 1.1ms postprocess per image at shape (1, 3, 96, 96)\n",
      "\n",
      "0: 96x96 1 sad, 11.4ms\n",
      "Speed: 0.2ms preprocess, 11.4ms inference, 1.3ms postprocess per image at shape (1, 3, 96, 96)\n",
      "\n",
      "0: 96x96 1 sad, 13.3ms\n",
      "Speed: 0.3ms preprocess, 13.3ms inference, 1.0ms postprocess per image at shape (1, 3, 96, 96)\n",
      "\n",
      "0: 96x96 1 sad, 12.1ms\n",
      "Speed: 0.2ms preprocess, 12.1ms inference, 1.0ms postprocess per image at shape (1, 3, 96, 96)\n",
      "\n",
      "0: 96x96 1 sad, 11.0ms\n",
      "Speed: 0.4ms preprocess, 11.0ms inference, 1.0ms postprocess per image at shape (1, 3, 96, 96)\n",
      "\n",
      "0: 96x96 1 sad, 13.1ms\n",
      "Speed: 0.5ms preprocess, 13.1ms inference, 1.0ms postprocess per image at shape (1, 3, 96, 96)\n",
      "\n",
      "0: 96x96 (no detections), 12.4ms\n",
      "Speed: 0.3ms preprocess, 12.4ms inference, 0.6ms postprocess per image at shape (1, 3, 96, 96)\n",
      "\n",
      "0: 96x96 1 fear, 1 sad, 12.4ms\n",
      "Speed: 0.4ms preprocess, 12.4ms inference, 1.2ms postprocess per image at shape (1, 3, 96, 96)\n",
      "\n",
      "0: 96x96 1 fear, 1 sad, 12.6ms\n",
      "Speed: 0.4ms preprocess, 12.6ms inference, 1.0ms postprocess per image at shape (1, 3, 96, 96)\n",
      "\n",
      "0: 96x96 1 fear, 11.5ms\n",
      "Speed: 0.6ms preprocess, 11.5ms inference, 1.1ms postprocess per image at shape (1, 3, 96, 96)\n",
      "\n",
      "0: 96x96 1 fear, 12.2ms\n",
      "Speed: 0.3ms preprocess, 12.2ms inference, 1.1ms postprocess per image at shape (1, 3, 96, 96)\n",
      "\n",
      "0: 96x96 1 fear, 11.8ms\n",
      "Speed: 0.3ms preprocess, 11.8ms inference, 1.2ms postprocess per image at shape (1, 3, 96, 96)\n",
      "\n",
      "0: 96x96 1 fear, 11.2ms\n",
      "Speed: 0.5ms preprocess, 11.2ms inference, 1.1ms postprocess per image at shape (1, 3, 96, 96)\n",
      "\n",
      "0: 96x96 1 fear, 12.9ms\n",
      "Speed: 0.4ms preprocess, 12.9ms inference, 1.0ms postprocess per image at shape (1, 3, 96, 96)\n",
      "\n",
      "0: 96x96 1 fear, 13.1ms\n",
      "Speed: 0.3ms preprocess, 13.1ms inference, 1.0ms postprocess per image at shape (1, 3, 96, 96)\n",
      "\n",
      "0: 96x96 1 fear, 12.8ms\n",
      "Speed: 0.5ms preprocess, 12.8ms inference, 1.0ms postprocess per image at shape (1, 3, 96, 96)\n",
      "\n",
      "0: 96x96 1 fear, 12.7ms\n",
      "Speed: 0.3ms preprocess, 12.7ms inference, 1.4ms postprocess per image at shape (1, 3, 96, 96)\n",
      "\n",
      "0: 96x96 1 fear, 11.7ms\n",
      "Speed: 0.4ms preprocess, 11.7ms inference, 1.2ms postprocess per image at shape (1, 3, 96, 96)\n",
      "\n",
      "0: 96x96 1 fear, 12.4ms\n",
      "Speed: 0.2ms preprocess, 12.4ms inference, 1.1ms postprocess per image at shape (1, 3, 96, 96)\n",
      "\n",
      "0: 96x96 1 fear, 13.4ms\n",
      "Speed: 0.3ms preprocess, 13.4ms inference, 1.0ms postprocess per image at shape (1, 3, 96, 96)\n",
      "\n",
      "0: 96x96 1 fear, 12.4ms\n",
      "Speed: 0.5ms preprocess, 12.4ms inference, 1.0ms postprocess per image at shape (1, 3, 96, 96)\n",
      "\n",
      "0: 96x96 (no detections), 12.6ms\n",
      "Speed: 0.2ms preprocess, 12.6ms inference, 0.7ms postprocess per image at shape (1, 3, 96, 96)\n",
      "\n",
      "0: 96x96 (no detections), 13.2ms\n",
      "Speed: 0.4ms preprocess, 13.2ms inference, 0.6ms postprocess per image at shape (1, 3, 96, 96)\n",
      "\n",
      "0: 96x96 1 contempt, 12.6ms\n",
      "Speed: 0.2ms preprocess, 12.6ms inference, 0.9ms postprocess per image at shape (1, 3, 96, 96)\n",
      "\n",
      "0: 96x96 1 contempt, 13.2ms\n",
      "Speed: 0.4ms preprocess, 13.2ms inference, 1.3ms postprocess per image at shape (1, 3, 96, 96)\n",
      "\n",
      "0: 96x96 (no detections), 13.0ms\n",
      "Speed: 0.3ms preprocess, 13.0ms inference, 0.6ms postprocess per image at shape (1, 3, 96, 96)\n",
      "\n",
      "0: 96x96 1 contempt, 13.2ms\n",
      "Speed: 0.4ms preprocess, 13.2ms inference, 1.0ms postprocess per image at shape (1, 3, 96, 96)\n",
      "\n",
      "0: 96x96 (no detections), 13.0ms\n",
      "Speed: 0.2ms preprocess, 13.0ms inference, 0.6ms postprocess per image at shape (1, 3, 96, 96)\n",
      "\n",
      "0: 96x96 (no detections), 12.8ms\n",
      "Speed: 0.3ms preprocess, 12.8ms inference, 0.6ms postprocess per image at shape (1, 3, 96, 96)\n",
      "\n",
      "0: 96x96 (no detections), 12.1ms\n",
      "Speed: 0.5ms preprocess, 12.1ms inference, 0.9ms postprocess per image at shape (1, 3, 96, 96)\n",
      "\n",
      "0: 96x96 (no detections), 12.5ms\n",
      "Speed: 0.5ms preprocess, 12.5ms inference, 0.6ms postprocess per image at shape (1, 3, 96, 96)\n",
      "\n",
      "0: 96x96 (no detections), 13.5ms\n",
      "Speed: 0.3ms preprocess, 13.5ms inference, 0.7ms postprocess per image at shape (1, 3, 96, 96)\n",
      "\n",
      "0: 96x96 (no detections), 11.8ms\n",
      "Speed: 0.2ms preprocess, 11.8ms inference, 0.9ms postprocess per image at shape (1, 3, 96, 96)\n",
      "\n",
      "0: 96x96 (no detections), 12.6ms\n",
      "Speed: 0.5ms preprocess, 12.6ms inference, 0.6ms postprocess per image at shape (1, 3, 96, 96)\n",
      "\n",
      "0: 96x96 (no detections), 13.3ms\n",
      "Speed: 0.2ms preprocess, 13.3ms inference, 0.6ms postprocess per image at shape (1, 3, 96, 96)\n",
      "\n",
      "0: 96x96 (no detections), 13.3ms\n",
      "Speed: 0.2ms preprocess, 13.3ms inference, 0.6ms postprocess per image at shape (1, 3, 96, 96)\n",
      "\n",
      "0: 96x96 (no detections), 14.3ms\n",
      "Speed: 0.8ms preprocess, 14.3ms inference, 0.7ms postprocess per image at shape (1, 3, 96, 96)\n",
      "\n",
      "0: 96x96 (no detections), 14.3ms\n",
      "Speed: 0.5ms preprocess, 14.3ms inference, 0.9ms postprocess per image at shape (1, 3, 96, 96)\n",
      "\n",
      "0: 96x96 (no detections), 14.7ms\n",
      "Speed: 0.4ms preprocess, 14.7ms inference, 0.7ms postprocess per image at shape (1, 3, 96, 96)\n",
      "\n",
      "0: 96x96 (no detections), 14.7ms\n",
      "Speed: 0.5ms preprocess, 14.7ms inference, 0.7ms postprocess per image at shape (1, 3, 96, 96)\n",
      "\n",
      "0: 96x96 (no detections), 14.6ms\n",
      "Speed: 0.7ms preprocess, 14.6ms inference, 0.6ms postprocess per image at shape (1, 3, 96, 96)\n",
      "\n",
      "0: 96x96 1 contempt, 15.0ms\n",
      "Speed: 0.4ms preprocess, 15.0ms inference, 1.1ms postprocess per image at shape (1, 3, 96, 96)\n",
      "\n",
      "0: 96x96 1 contempt, 14.2ms\n",
      "Speed: 0.6ms preprocess, 14.2ms inference, 1.1ms postprocess per image at shape (1, 3, 96, 96)\n",
      "\n",
      "0: 96x96 1 contempt, 13.4ms\n",
      "Speed: 0.3ms preprocess, 13.4ms inference, 1.0ms postprocess per image at shape (1, 3, 96, 96)\n",
      "\n",
      "0: 96x96 (no detections), 13.0ms\n",
      "Speed: 0.5ms preprocess, 13.0ms inference, 0.7ms postprocess per image at shape (1, 3, 96, 96)\n",
      "\n",
      "0: 96x96 1 contempt, 13.8ms\n",
      "Speed: 0.2ms preprocess, 13.8ms inference, 1.1ms postprocess per image at shape (1, 3, 96, 96)\n",
      "\n",
      "0: 96x96 (no detections), 12.1ms\n",
      "Speed: 0.5ms preprocess, 12.1ms inference, 0.6ms postprocess per image at shape (1, 3, 96, 96)\n",
      "\n",
      "0: 96x96 (no detections), 12.7ms\n",
      "Speed: 0.3ms preprocess, 12.7ms inference, 0.7ms postprocess per image at shape (1, 3, 96, 96)\n",
      "\n",
      "0: 96x96 (no detections), 12.7ms\n",
      "Speed: 0.4ms preprocess, 12.7ms inference, 0.6ms postprocess per image at shape (1, 3, 96, 96)\n",
      "\n",
      "0: 96x96 (no detections), 11.6ms\n",
      "Speed: 0.2ms preprocess, 11.6ms inference, 0.7ms postprocess per image at shape (1, 3, 96, 96)\n",
      "\n",
      "0: 96x96 1 contempt, 11.4ms\n",
      "Speed: 0.3ms preprocess, 11.4ms inference, 1.2ms postprocess per image at shape (1, 3, 96, 96)\n",
      "\n",
      "0: 96x96 1 contempt, 12.0ms\n",
      "Speed: 0.3ms preprocess, 12.0ms inference, 1.1ms postprocess per image at shape (1, 3, 96, 96)\n",
      "\n",
      "0: 96x96 1 contempt, 12.0ms\n",
      "Speed: 0.2ms preprocess, 12.0ms inference, 1.1ms postprocess per image at shape (1, 3, 96, 96)\n",
      "\n",
      "0: 96x96 1 contempt, 12.7ms\n",
      "Speed: 0.5ms preprocess, 12.7ms inference, 1.0ms postprocess per image at shape (1, 3, 96, 96)\n",
      "\n",
      "0: 96x96 1 sad, 11.8ms\n",
      "Speed: 0.4ms preprocess, 11.8ms inference, 1.0ms postprocess per image at shape (1, 3, 96, 96)\n",
      "\n",
      "0: 96x96 1 contempt, 12.0ms\n",
      "Speed: 0.3ms preprocess, 12.0ms inference, 1.1ms postprocess per image at shape (1, 3, 96, 96)\n",
      "\n",
      "0: 96x96 1 contempt, 1 sad, 12.6ms\n",
      "Speed: 0.4ms preprocess, 12.6ms inference, 1.1ms postprocess per image at shape (1, 3, 96, 96)\n",
      "\n",
      "0: 96x96 1 contempt, 13.4ms\n",
      "Speed: 0.2ms preprocess, 13.4ms inference, 1.0ms postprocess per image at shape (1, 3, 96, 96)\n",
      "\n",
      "0: 96x96 (no detections), 12.3ms\n",
      "Speed: 0.3ms preprocess, 12.3ms inference, 0.6ms postprocess per image at shape (1, 3, 96, 96)\n",
      "\n",
      "0: 96x96 1 contempt, 11.8ms\n",
      "Speed: 0.3ms preprocess, 11.8ms inference, 1.2ms postprocess per image at shape (1, 3, 96, 96)\n",
      "\n",
      "0: 96x96 1 contempt, 14.8ms\n",
      "Speed: 0.4ms preprocess, 14.8ms inference, 1.1ms postprocess per image at shape (1, 3, 96, 96)\n",
      "\n",
      "0: 96x96 1 contempt, 11.4ms\n",
      "Speed: 0.2ms preprocess, 11.4ms inference, 1.1ms postprocess per image at shape (1, 3, 96, 96)\n",
      "\n",
      "0: 96x96 1 contempt, 13.3ms\n",
      "Speed: 0.2ms preprocess, 13.3ms inference, 0.9ms postprocess per image at shape (1, 3, 96, 96)\n",
      "\n",
      "0: 96x96 1 contempt, 12.7ms\n",
      "Speed: 0.4ms preprocess, 12.7ms inference, 1.0ms postprocess per image at shape (1, 3, 96, 96)\n",
      "\n",
      "0: 96x96 1 contempt, 10.5ms\n",
      "Speed: 0.4ms preprocess, 10.5ms inference, 1.0ms postprocess per image at shape (1, 3, 96, 96)\n",
      "\n",
      "0: 96x96 1 contempt, 12.3ms\n",
      "Speed: 0.3ms preprocess, 12.3ms inference, 1.3ms postprocess per image at shape (1, 3, 96, 96)\n",
      "\n",
      "0: 96x96 1 sad, 12.6ms\n",
      "Speed: 0.2ms preprocess, 12.6ms inference, 1.0ms postprocess per image at shape (1, 3, 96, 96)\n",
      "\n",
      "0: 96x96 1 sad, 11.7ms\n",
      "Speed: 0.3ms preprocess, 11.7ms inference, 1.1ms postprocess per image at shape (1, 3, 96, 96)\n",
      "\n",
      "0: 96x96 1 sad, 12.6ms\n",
      "Speed: 0.3ms preprocess, 12.6ms inference, 0.9ms postprocess per image at shape (1, 3, 96, 96)\n",
      "\n",
      "0: 96x96 1 sad, 12.0ms\n",
      "Speed: 0.6ms preprocess, 12.0ms inference, 0.9ms postprocess per image at shape (1, 3, 96, 96)\n",
      "\n",
      "0: 96x96 1 sad, 11.9ms\n",
      "Speed: 0.2ms preprocess, 11.9ms inference, 1.2ms postprocess per image at shape (1, 3, 96, 96)\n",
      "\n",
      "0: 96x96 1 sad, 13.5ms\n",
      "Speed: 0.4ms preprocess, 13.5ms inference, 1.1ms postprocess per image at shape (1, 3, 96, 96)\n",
      "\n",
      "0: 96x96 1 sad, 13.3ms\n",
      "Speed: 0.3ms preprocess, 13.3ms inference, 1.0ms postprocess per image at shape (1, 3, 96, 96)\n",
      "\n",
      "0: 96x96 1 contempt, 1 sad, 12.7ms\n",
      "Speed: 0.5ms preprocess, 12.7ms inference, 1.1ms postprocess per image at shape (1, 3, 96, 96)\n",
      "\n",
      "0: 96x96 1 contempt, 1 sad, 12.4ms\n",
      "Speed: 0.3ms preprocess, 12.4ms inference, 1.3ms postprocess per image at shape (1, 3, 96, 96)\n",
      "\n",
      "0: 96x96 1 contempt, 11.9ms\n",
      "Speed: 0.3ms preprocess, 11.9ms inference, 1.1ms postprocess per image at shape (1, 3, 96, 96)\n",
      "\n",
      "0: 96x96 1 contempt, 11.7ms\n",
      "Speed: 0.5ms preprocess, 11.7ms inference, 1.0ms postprocess per image at shape (1, 3, 96, 96)\n",
      "\n",
      "0: 96x96 1 sad, 12.3ms\n",
      "Speed: 0.2ms preprocess, 12.3ms inference, 0.9ms postprocess per image at shape (1, 3, 96, 96)\n",
      "\n",
      "0: 96x96 1 sad, 12.4ms\n",
      "Speed: 0.3ms preprocess, 12.4ms inference, 1.0ms postprocess per image at shape (1, 3, 96, 96)\n",
      "\n",
      "0: 96x96 1 sad, 12.0ms\n",
      "Speed: 0.3ms preprocess, 12.0ms inference, 1.1ms postprocess per image at shape (1, 3, 96, 96)\n",
      "\n",
      "0: 96x96 1 sad, 11.9ms\n",
      "Speed: 0.3ms preprocess, 11.9ms inference, 1.2ms postprocess per image at shape (1, 3, 96, 96)\n",
      "\n",
      "0: 96x96 1 contempt, 11.6ms\n",
      "Speed: 0.4ms preprocess, 11.6ms inference, 1.2ms postprocess per image at shape (1, 3, 96, 96)\n",
      "\n",
      "0: 96x96 1 sad, 10.8ms\n",
      "Speed: 0.2ms preprocess, 10.8ms inference, 1.3ms postprocess per image at shape (1, 3, 96, 96)\n",
      "\n",
      "0: 96x96 1 sad, 14.8ms\n",
      "Speed: 0.5ms preprocess, 14.8ms inference, 1.5ms postprocess per image at shape (1, 3, 96, 96)\n",
      "\n",
      "0: 96x96 1 sad, 16.4ms\n",
      "Speed: 0.3ms preprocess, 16.4ms inference, 1.2ms postprocess per image at shape (1, 3, 96, 96)\n",
      "\n",
      "0: 96x96 1 sad, 15.4ms\n",
      "Speed: 0.4ms preprocess, 15.4ms inference, 1.0ms postprocess per image at shape (1, 3, 96, 96)\n",
      "\n",
      "0: 96x96 1 sad, 13.6ms\n",
      "Speed: 0.3ms preprocess, 13.6ms inference, 1.0ms postprocess per image at shape (1, 3, 96, 96)\n",
      "\n",
      "0: 96x96 1 sad, 13.0ms\n",
      "Speed: 0.4ms preprocess, 13.0ms inference, 1.1ms postprocess per image at shape (1, 3, 96, 96)\n",
      "\n",
      "0: 96x96 1 contempt, 1 sad, 12.9ms\n",
      "Speed: 0.2ms preprocess, 12.9ms inference, 1.2ms postprocess per image at shape (1, 3, 96, 96)\n",
      "\n",
      "0: 96x96 1 sad, 12.1ms\n",
      "Speed: 0.3ms preprocess, 12.1ms inference, 1.1ms postprocess per image at shape (1, 3, 96, 96)\n",
      "\n",
      "0: 96x96 1 sad, 11.3ms\n",
      "Speed: 0.4ms preprocess, 11.3ms inference, 1.2ms postprocess per image at shape (1, 3, 96, 96)\n",
      "\n",
      "0: 96x96 1 sad, 12.9ms\n",
      "Speed: 0.3ms preprocess, 12.9ms inference, 0.9ms postprocess per image at shape (1, 3, 96, 96)\n",
      "\n",
      "0: 96x96 1 sad, 12.7ms\n",
      "Speed: 0.2ms preprocess, 12.7ms inference, 1.1ms postprocess per image at shape (1, 3, 96, 96)\n",
      "\n",
      "0: 96x96 1 contempt, 11.3ms\n",
      "Speed: 0.4ms preprocess, 11.3ms inference, 1.1ms postprocess per image at shape (1, 3, 96, 96)\n",
      "\n",
      "0: 96x96 1 contempt, 10.8ms\n",
      "Speed: 0.2ms preprocess, 10.8ms inference, 1.0ms postprocess per image at shape (1, 3, 96, 96)\n",
      "\n",
      "0: 96x96 1 contempt, 13.1ms\n",
      "Speed: 0.4ms preprocess, 13.1ms inference, 1.1ms postprocess per image at shape (1, 3, 96, 96)\n",
      "\n",
      "0: 96x96 1 contempt, 12.4ms\n",
      "Speed: 0.5ms preprocess, 12.4ms inference, 1.0ms postprocess per image at shape (1, 3, 96, 96)\n",
      "\n",
      "0: 96x96 (no detections), 12.6ms\n",
      "Speed: 0.6ms preprocess, 12.6ms inference, 0.6ms postprocess per image at shape (1, 3, 96, 96)\n",
      "\n",
      "0: 96x96 (no detections), 13.0ms\n",
      "Speed: 0.2ms preprocess, 13.0ms inference, 0.7ms postprocess per image at shape (1, 3, 96, 96)\n",
      "\n",
      "0: 96x96 (no detections), 12.4ms\n",
      "Speed: 0.4ms preprocess, 12.4ms inference, 0.6ms postprocess per image at shape (1, 3, 96, 96)\n",
      "\n",
      "0: 96x96 1 sad, 12.0ms\n",
      "Speed: 0.3ms preprocess, 12.0ms inference, 0.9ms postprocess per image at shape (1, 3, 96, 96)\n",
      "\n",
      "0: 96x96 1 sad, 12.2ms\n",
      "Speed: 0.4ms preprocess, 12.2ms inference, 1.3ms postprocess per image at shape (1, 3, 96, 96)\n",
      "\n",
      "0: 96x96 1 sad, 11.7ms\n",
      "Speed: 0.3ms preprocess, 11.7ms inference, 1.1ms postprocess per image at shape (1, 3, 96, 96)\n",
      "\n",
      "0: 96x96 1 sad, 11.6ms\n",
      "Speed: 0.2ms preprocess, 11.6ms inference, 1.0ms postprocess per image at shape (1, 3, 96, 96)\n",
      "\n",
      "0: 96x96 1 sad, 11.7ms\n",
      "Speed: 0.3ms preprocess, 11.7ms inference, 1.0ms postprocess per image at shape (1, 3, 96, 96)\n",
      "\n",
      "0: 96x96 1 sad, 13.1ms\n",
      "Speed: 0.7ms preprocess, 13.1ms inference, 1.0ms postprocess per image at shape (1, 3, 96, 96)\n",
      "\n",
      "0: 96x96 1 sad, 12.8ms\n",
      "Speed: 0.3ms preprocess, 12.8ms inference, 1.1ms postprocess per image at shape (1, 3, 96, 96)\n",
      "\n",
      "0: 96x96 1 sad, 12.8ms\n",
      "Speed: 0.4ms preprocess, 12.8ms inference, 1.4ms postprocess per image at shape (1, 3, 96, 96)\n",
      "\n",
      "0: 96x96 1 sad, 12.1ms\n",
      "Speed: 0.5ms preprocess, 12.1ms inference, 1.3ms postprocess per image at shape (1, 3, 96, 96)\n",
      "\n",
      "0: 96x96 1 sad, 13.3ms\n",
      "Speed: 0.4ms preprocess, 13.3ms inference, 1.0ms postprocess per image at shape (1, 3, 96, 96)\n",
      "\n",
      "0: 96x96 1 sad, 12.8ms\n",
      "Speed: 0.5ms preprocess, 12.8ms inference, 1.4ms postprocess per image at shape (1, 3, 96, 96)\n",
      "\n",
      "0: 96x96 1 sad, 12.9ms\n",
      "Speed: 0.5ms preprocess, 12.9ms inference, 1.8ms postprocess per image at shape (1, 3, 96, 96)\n",
      "\n",
      "0: 96x96 1 sad, 12.4ms\n",
      "Speed: 0.4ms preprocess, 12.4ms inference, 1.1ms postprocess per image at shape (1, 3, 96, 96)\n",
      "\n",
      "0: 96x96 1 sad, 12.1ms\n",
      "Speed: 0.3ms preprocess, 12.1ms inference, 1.0ms postprocess per image at shape (1, 3, 96, 96)\n",
      "\n",
      "0: 96x96 1 sad, 12.3ms\n",
      "Speed: 0.4ms preprocess, 12.3ms inference, 1.1ms postprocess per image at shape (1, 3, 96, 96)\n",
      "\n",
      "0: 96x96 1 sad, 12.6ms\n",
      "Speed: 0.3ms preprocess, 12.6ms inference, 1.3ms postprocess per image at shape (1, 3, 96, 96)\n",
      "\n",
      "0: 96x96 1 sad, 13.3ms\n",
      "Speed: 0.2ms preprocess, 13.3ms inference, 1.1ms postprocess per image at shape (1, 3, 96, 96)\n",
      "\n",
      "0: 96x96 1 sad, 12.7ms\n",
      "Speed: 0.2ms preprocess, 12.7ms inference, 1.1ms postprocess per image at shape (1, 3, 96, 96)\n",
      "\n",
      "0: 96x96 1 sad, 11.8ms\n",
      "Speed: 0.4ms preprocess, 11.8ms inference, 1.2ms postprocess per image at shape (1, 3, 96, 96)\n",
      "\n",
      "0: 96x96 1 sad, 12.3ms\n",
      "Speed: 0.3ms preprocess, 12.3ms inference, 1.1ms postprocess per image at shape (1, 3, 96, 96)\n",
      "\n",
      "0: 96x96 1 sad, 11.7ms\n",
      "Speed: 0.3ms preprocess, 11.7ms inference, 1.2ms postprocess per image at shape (1, 3, 96, 96)\n",
      "\n",
      "0: 96x96 1 sad, 10.8ms\n",
      "Speed: 0.4ms preprocess, 10.8ms inference, 1.1ms postprocess per image at shape (1, 3, 96, 96)\n",
      "\n",
      "0: 96x96 1 sad, 12.7ms\n",
      "Speed: 0.2ms preprocess, 12.7ms inference, 1.1ms postprocess per image at shape (1, 3, 96, 96)\n",
      "\n",
      "0: 96x96 1 contempt, 1 sad, 13.2ms\n",
      "Speed: 0.3ms preprocess, 13.2ms inference, 1.0ms postprocess per image at shape (1, 3, 96, 96)\n",
      "\n",
      "0: 96x96 1 sad, 12.3ms\n",
      "Speed: 0.5ms preprocess, 12.3ms inference, 1.0ms postprocess per image at shape (1, 3, 96, 96)\n",
      "\n",
      "0: 96x96 1 contempt, 1 sad, 12.4ms\n",
      "Speed: 0.4ms preprocess, 12.4ms inference, 1.1ms postprocess per image at shape (1, 3, 96, 96)\n",
      "\n",
      "0: 96x96 1 contempt, 1 sad, 13.3ms\n",
      "Speed: 0.2ms preprocess, 13.3ms inference, 1.1ms postprocess per image at shape (1, 3, 96, 96)\n",
      "\n",
      "0: 96x96 1 contempt, 1 sad, 12.7ms\n",
      "Speed: 0.4ms preprocess, 12.7ms inference, 1.1ms postprocess per image at shape (1, 3, 96, 96)\n",
      "\n",
      "0: 96x96 1 sad, 13.0ms\n",
      "Speed: 0.2ms preprocess, 13.0ms inference, 1.2ms postprocess per image at shape (1, 3, 96, 96)\n",
      "\n",
      "0: 96x96 1 contempt, 1 sad, 13.1ms\n",
      "Speed: 0.4ms preprocess, 13.1ms inference, 1.0ms postprocess per image at shape (1, 3, 96, 96)\n",
      "\n",
      "0: 96x96 1 contempt, 1 sad, 11.4ms\n",
      "Speed: 0.4ms preprocess, 11.4ms inference, 1.1ms postprocess per image at shape (1, 3, 96, 96)\n",
      "\n",
      "0: 96x96 1 contempt, 1 sad, 11.2ms\n",
      "Speed: 0.4ms preprocess, 11.2ms inference, 1.1ms postprocess per image at shape (1, 3, 96, 96)\n",
      "\n",
      "0: 96x96 1 sad, 11.4ms\n",
      "Speed: 0.4ms preprocess, 11.4ms inference, 1.1ms postprocess per image at shape (1, 3, 96, 96)\n",
      "\n",
      "0: 96x96 1 sad, 12.5ms\n",
      "Speed: 0.4ms preprocess, 12.5ms inference, 1.3ms postprocess per image at shape (1, 3, 96, 96)\n",
      "\n",
      "0: 96x96 1 sad, 12.2ms\n",
      "Speed: 0.3ms preprocess, 12.2ms inference, 1.1ms postprocess per image at shape (1, 3, 96, 96)\n",
      "\n",
      "0: 96x96 1 sad, 13.0ms\n",
      "Speed: 0.3ms preprocess, 13.0ms inference, 1.1ms postprocess per image at shape (1, 3, 96, 96)\n",
      "\n",
      "0: 96x96 1 contempt, 1 sad, 12.6ms\n",
      "Speed: 0.4ms preprocess, 12.6ms inference, 1.1ms postprocess per image at shape (1, 3, 96, 96)\n",
      "\n",
      "0: 96x96 1 contempt, 11.4ms\n",
      "Speed: 0.5ms preprocess, 11.4ms inference, 1.1ms postprocess per image at shape (1, 3, 96, 96)\n",
      "\n",
      "0: 96x96 1 sad, 12.6ms\n",
      "Speed: 0.4ms preprocess, 12.6ms inference, 1.2ms postprocess per image at shape (1, 3, 96, 96)\n",
      "\n",
      "0: 96x96 1 sad, 12.0ms\n",
      "Speed: 0.3ms preprocess, 12.0ms inference, 1.2ms postprocess per image at shape (1, 3, 96, 96)\n",
      "\n",
      "0: 96x96 1 sad, 11.1ms\n",
      "Speed: 0.4ms preprocess, 11.1ms inference, 1.2ms postprocess per image at shape (1, 3, 96, 96)\n",
      "\n",
      "0: 96x96 1 sad, 11.6ms\n",
      "Speed: 0.2ms preprocess, 11.6ms inference, 1.4ms postprocess per image at shape (1, 3, 96, 96)\n",
      "\n",
      "0: 96x96 1 contempt, 1 sad, 12.4ms\n",
      "Speed: 0.4ms preprocess, 12.4ms inference, 1.0ms postprocess per image at shape (1, 3, 96, 96)\n",
      "\n",
      "0: 96x96 1 sad, 12.5ms\n",
      "Speed: 0.4ms preprocess, 12.5ms inference, 1.0ms postprocess per image at shape (1, 3, 96, 96)\n",
      "\n",
      "0: 96x96 1 sad, 12.2ms\n",
      "Speed: 0.5ms preprocess, 12.2ms inference, 1.1ms postprocess per image at shape (1, 3, 96, 96)\n",
      "\n",
      "0: 96x96 1 contempt, 1 sad, 12.6ms\n",
      "Speed: 0.3ms preprocess, 12.6ms inference, 1.3ms postprocess per image at shape (1, 3, 96, 96)\n",
      "\n",
      "0: 96x96 1 contempt, 1 sad, 11.6ms\n",
      "Speed: 0.3ms preprocess, 11.6ms inference, 1.2ms postprocess per image at shape (1, 3, 96, 96)\n",
      "\n",
      "0: 96x96 1 sad, 11.6ms\n",
      "Speed: 0.2ms preprocess, 11.6ms inference, 1.1ms postprocess per image at shape (1, 3, 96, 96)\n",
      "\n",
      "0: 96x96 1 sad, 12.7ms\n",
      "Speed: 0.3ms preprocess, 12.7ms inference, 1.0ms postprocess per image at shape (1, 3, 96, 96)\n",
      "\n",
      "0: 96x96 1 sad, 11.9ms\n",
      "Speed: 0.4ms preprocess, 11.9ms inference, 1.1ms postprocess per image at shape (1, 3, 96, 96)\n",
      "\n",
      "0: 96x96 1 sad, 11.3ms\n",
      "Speed: 0.3ms preprocess, 11.3ms inference, 1.1ms postprocess per image at shape (1, 3, 96, 96)\n",
      "\n",
      "0: 96x96 1 sad, 12.3ms\n",
      "Speed: 0.3ms preprocess, 12.3ms inference, 1.0ms postprocess per image at shape (1, 3, 96, 96)\n",
      "\n",
      "0: 96x96 1 sad, 11.1ms\n",
      "Speed: 0.4ms preprocess, 11.1ms inference, 1.3ms postprocess per image at shape (1, 3, 96, 96)\n",
      "\n",
      "0: 96x96 1 sad, 11.6ms\n",
      "Speed: 0.3ms preprocess, 11.6ms inference, 1.2ms postprocess per image at shape (1, 3, 96, 96)\n",
      "\n",
      "0: 96x96 1 sad, 12.1ms\n",
      "Speed: 0.4ms preprocess, 12.1ms inference, 1.0ms postprocess per image at shape (1, 3, 96, 96)\n",
      "\n",
      "0: 96x96 1 sad, 12.4ms\n",
      "Speed: 0.4ms preprocess, 12.4ms inference, 1.1ms postprocess per image at shape (1, 3, 96, 96)\n",
      "\n",
      "0: 96x96 1 sad, 12.6ms\n",
      "Speed: 0.4ms preprocess, 12.6ms inference, 1.0ms postprocess per image at shape (1, 3, 96, 96)\n",
      "\n",
      "0: 96x96 1 sad, 12.3ms\n",
      "Speed: 0.6ms preprocess, 12.3ms inference, 1.1ms postprocess per image at shape (1, 3, 96, 96)\n",
      "\n",
      "0: 96x96 1 contempt, 1 sad, 11.4ms\n",
      "Speed: 0.2ms preprocess, 11.4ms inference, 1.1ms postprocess per image at shape (1, 3, 96, 96)\n",
      "\n",
      "0: 96x96 1 contempt, 1 sad, 12.1ms\n",
      "Speed: 0.3ms preprocess, 12.1ms inference, 1.3ms postprocess per image at shape (1, 3, 96, 96)\n",
      "\n",
      "0: 96x96 1 contempt, 1 sad, 12.0ms\n",
      "Speed: 0.4ms preprocess, 12.0ms inference, 1.0ms postprocess per image at shape (1, 3, 96, 96)\n",
      "\n",
      "0: 96x96 1 contempt, 12.5ms\n",
      "Speed: 0.3ms preprocess, 12.5ms inference, 1.0ms postprocess per image at shape (1, 3, 96, 96)\n",
      "\n",
      "0: 96x96 1 contempt, 11.6ms\n",
      "Speed: 0.5ms preprocess, 11.6ms inference, 1.0ms postprocess per image at shape (1, 3, 96, 96)\n",
      "\n",
      "0: 96x96 1 contempt, 12.4ms\n",
      "Speed: 0.3ms preprocess, 12.4ms inference, 1.1ms postprocess per image at shape (1, 3, 96, 96)\n",
      "\n",
      "0: 96x96 1 contempt, 11.2ms\n",
      "Speed: 0.4ms preprocess, 11.2ms inference, 1.3ms postprocess per image at shape (1, 3, 96, 96)\n",
      "\n",
      "0: 96x96 1 contempt, 11.2ms\n",
      "Speed: 0.3ms preprocess, 11.2ms inference, 1.4ms postprocess per image at shape (1, 3, 96, 96)\n",
      "\n",
      "0: 96x96 1 contempt, 12.4ms\n",
      "Speed: 0.5ms preprocess, 12.4ms inference, 0.9ms postprocess per image at shape (1, 3, 96, 96)\n",
      "\n",
      "0: 96x96 1 contempt, 13.2ms\n",
      "Speed: 0.4ms preprocess, 13.2ms inference, 1.0ms postprocess per image at shape (1, 3, 96, 96)\n",
      "\n",
      "0: 96x96 1 contempt, 12.1ms\n",
      "Speed: 0.6ms preprocess, 12.1ms inference, 1.1ms postprocess per image at shape (1, 3, 96, 96)\n",
      "\n",
      "0: 96x96 1 contempt, 12.3ms\n",
      "Speed: 0.4ms preprocess, 12.3ms inference, 1.0ms postprocess per image at shape (1, 3, 96, 96)\n",
      "\n",
      "0: 96x96 1 contempt, 12.2ms\n",
      "Speed: 0.3ms preprocess, 12.2ms inference, 1.2ms postprocess per image at shape (1, 3, 96, 96)\n",
      "\n",
      "0: 96x96 1 contempt, 12.2ms\n",
      "Speed: 0.4ms preprocess, 12.2ms inference, 1.1ms postprocess per image at shape (1, 3, 96, 96)\n",
      "\n",
      "0: 96x96 1 contempt, 11.9ms\n",
      "Speed: 0.5ms preprocess, 11.9ms inference, 1.0ms postprocess per image at shape (1, 3, 96, 96)\n",
      "\n",
      "0: 96x96 1 contempt, 11.0ms\n",
      "Speed: 0.3ms preprocess, 11.0ms inference, 1.1ms postprocess per image at shape (1, 3, 96, 96)\n",
      "\n",
      "0: 96x96 1 contempt, 12.4ms\n",
      "Speed: 0.3ms preprocess, 12.4ms inference, 1.2ms postprocess per image at shape (1, 3, 96, 96)\n",
      "\n",
      "0: 96x96 1 contempt, 1 sad, 11.6ms\n",
      "Speed: 0.5ms preprocess, 11.6ms inference, 1.1ms postprocess per image at shape (1, 3, 96, 96)\n",
      "\n",
      "0: 96x96 1 contempt, 11.8ms\n",
      "Speed: 0.4ms preprocess, 11.8ms inference, 1.2ms postprocess per image at shape (1, 3, 96, 96)\n",
      "\n",
      "0: 96x96 1 contempt, 12.8ms\n",
      "Speed: 0.4ms preprocess, 12.8ms inference, 1.1ms postprocess per image at shape (1, 3, 96, 96)\n",
      "\n",
      "0: 96x96 1 contempt, 11.1ms\n",
      "Speed: 0.3ms preprocess, 11.1ms inference, 1.2ms postprocess per image at shape (1, 3, 96, 96)\n",
      "\n",
      "0: 96x96 1 contempt, 1 sad, 12.0ms\n",
      "Speed: 0.4ms preprocess, 12.0ms inference, 1.0ms postprocess per image at shape (1, 3, 96, 96)\n",
      "\n",
      "0: 96x96 (no detections), 12.3ms\n",
      "Speed: 0.3ms preprocess, 12.3ms inference, 0.7ms postprocess per image at shape (1, 3, 96, 96)\n",
      "\n",
      "0: 96x96 (no detections), 12.2ms\n",
      "Speed: 0.4ms preprocess, 12.2ms inference, 0.6ms postprocess per image at shape (1, 3, 96, 96)\n",
      "\n",
      "0: 96x96 (no detections), 11.6ms\n",
      "Speed: 0.3ms preprocess, 11.6ms inference, 0.6ms postprocess per image at shape (1, 3, 96, 96)\n",
      "\n",
      "0: 96x96 (no detections), 12.6ms\n",
      "Speed: 0.5ms preprocess, 12.6ms inference, 0.7ms postprocess per image at shape (1, 3, 96, 96)\n",
      "\n",
      "0: 96x96 (no detections), 11.3ms\n",
      "Speed: 0.5ms preprocess, 11.3ms inference, 0.6ms postprocess per image at shape (1, 3, 96, 96)\n",
      "\n",
      "0: 96x96 (no detections), 11.5ms\n",
      "Speed: 0.5ms preprocess, 11.5ms inference, 0.7ms postprocess per image at shape (1, 3, 96, 96)\n",
      "\n",
      "0: 96x96 (no detections), 12.4ms\n",
      "Speed: 0.4ms preprocess, 12.4ms inference, 0.7ms postprocess per image at shape (1, 3, 96, 96)\n",
      "\n",
      "0: 96x96 (no detections), 12.1ms\n",
      "Speed: 0.3ms preprocess, 12.1ms inference, 0.7ms postprocess per image at shape (1, 3, 96, 96)\n",
      "\n",
      "0: 96x96 (no detections), 11.2ms\n",
      "Speed: 0.4ms preprocess, 11.2ms inference, 0.8ms postprocess per image at shape (1, 3, 96, 96)\n",
      "\n",
      "0: 96x96 (no detections), 14.2ms\n",
      "Speed: 0.5ms preprocess, 14.2ms inference, 0.8ms postprocess per image at shape (1, 3, 96, 96)\n",
      "\n",
      "0: 96x96 (no detections), 14.3ms\n",
      "Speed: 0.4ms preprocess, 14.3ms inference, 0.6ms postprocess per image at shape (1, 3, 96, 96)\n",
      "\n",
      "0: 96x96 (no detections), 15.8ms\n",
      "Speed: 0.4ms preprocess, 15.8ms inference, 0.8ms postprocess per image at shape (1, 3, 96, 96)\n",
      "\n",
      "0: 96x96 (no detections), 22.1ms\n",
      "Speed: 0.7ms preprocess, 22.1ms inference, 1.0ms postprocess per image at shape (1, 3, 96, 96)\n",
      "\n",
      "0: 96x96 (no detections), 16.1ms\n",
      "Speed: 0.6ms preprocess, 16.1ms inference, 0.8ms postprocess per image at shape (1, 3, 96, 96)\n",
      "\n",
      "0: 96x96 1 contempt, 14.7ms\n",
      "Speed: 0.8ms preprocess, 14.7ms inference, 1.0ms postprocess per image at shape (1, 3, 96, 96)\n",
      "\n",
      "0: 96x96 1 contempt, 13.4ms\n",
      "Speed: 0.2ms preprocess, 13.4ms inference, 1.1ms postprocess per image at shape (1, 3, 96, 96)\n",
      "\n",
      "0: 96x96 1 contempt, 13.2ms\n",
      "Speed: 0.2ms preprocess, 13.2ms inference, 1.0ms postprocess per image at shape (1, 3, 96, 96)\n",
      "\n",
      "0: 96x96 1 contempt, 13.1ms\n",
      "Speed: 0.5ms preprocess, 13.1ms inference, 0.9ms postprocess per image at shape (1, 3, 96, 96)\n",
      "\n",
      "0: 96x96 1 contempt, 14.4ms\n",
      "Speed: 0.3ms preprocess, 14.4ms inference, 1.0ms postprocess per image at shape (1, 3, 96, 96)\n",
      "\n",
      "0: 96x96 1 contempt, 1 fear, 14.4ms\n",
      "Speed: 0.3ms preprocess, 14.4ms inference, 1.1ms postprocess per image at shape (1, 3, 96, 96)\n",
      "\n",
      "0: 96x96 1 contempt, 14.0ms\n",
      "Speed: 0.5ms preprocess, 14.0ms inference, 1.0ms postprocess per image at shape (1, 3, 96, 96)\n",
      "\n",
      "0: 96x96 1 contempt, 12.5ms\n",
      "Speed: 0.6ms preprocess, 12.5ms inference, 1.3ms postprocess per image at shape (1, 3, 96, 96)\n",
      "\n",
      "0: 96x96 1 contempt, 13.6ms\n",
      "Speed: 0.2ms preprocess, 13.6ms inference, 1.0ms postprocess per image at shape (1, 3, 96, 96)\n",
      "\n",
      "0: 96x96 1 contempt, 13.1ms\n",
      "Speed: 0.3ms preprocess, 13.1ms inference, 1.1ms postprocess per image at shape (1, 3, 96, 96)\n",
      "\n",
      "0: 96x96 1 contempt, 13.6ms\n",
      "Speed: 0.2ms preprocess, 13.6ms inference, 0.9ms postprocess per image at shape (1, 3, 96, 96)\n",
      "\n",
      "0: 96x96 1 contempt, 13.6ms\n",
      "Speed: 0.4ms preprocess, 13.6ms inference, 1.2ms postprocess per image at shape (1, 3, 96, 96)\n",
      "\n",
      "0: 96x96 1 contempt, 13.3ms\n",
      "Speed: 0.3ms preprocess, 13.3ms inference, 1.0ms postprocess per image at shape (1, 3, 96, 96)\n",
      "\n",
      "0: 96x96 1 contempt, 13.4ms\n",
      "Speed: 0.2ms preprocess, 13.4ms inference, 1.0ms postprocess per image at shape (1, 3, 96, 96)\n",
      "\n",
      "0: 96x96 1 contempt, 1 sad, 13.4ms\n",
      "Speed: 0.4ms preprocess, 13.4ms inference, 1.0ms postprocess per image at shape (1, 3, 96, 96)\n",
      "\n",
      "0: 96x96 1 fear, 1 sad, 13.9ms\n",
      "Speed: 0.5ms preprocess, 13.9ms inference, 1.1ms postprocess per image at shape (1, 3, 96, 96)\n",
      "\n",
      "0: 96x96 (no detections), 13.6ms\n",
      "Speed: 0.4ms preprocess, 13.6ms inference, 0.6ms postprocess per image at shape (1, 3, 96, 96)\n",
      "\n",
      "0: 96x96 1 contempt, 13.3ms\n",
      "Speed: 0.3ms preprocess, 13.3ms inference, 1.2ms postprocess per image at shape (1, 3, 96, 96)\n",
      "\n",
      "0: 96x96 1 contempt, 13.2ms\n",
      "Speed: 0.5ms preprocess, 13.2ms inference, 1.0ms postprocess per image at shape (1, 3, 96, 96)\n",
      "\n",
      "0: 96x96 1 contempt, 13.9ms\n",
      "Speed: 0.2ms preprocess, 13.9ms inference, 1.0ms postprocess per image at shape (1, 3, 96, 96)\n",
      "\n",
      "0: 96x96 1 contempt, 13.0ms\n",
      "Speed: 0.2ms preprocess, 13.0ms inference, 1.0ms postprocess per image at shape (1, 3, 96, 96)\n",
      "\n",
      "0: 96x96 1 contempt, 13.5ms\n",
      "Speed: 0.3ms preprocess, 13.5ms inference, 1.1ms postprocess per image at shape (1, 3, 96, 96)\n",
      "\n",
      "0: 96x96 1 contempt, 13.8ms\n",
      "Speed: 0.4ms preprocess, 13.8ms inference, 1.0ms postprocess per image at shape (1, 3, 96, 96)\n",
      "\n",
      "0: 96x96 1 contempt, 12.9ms\n",
      "Speed: 0.4ms preprocess, 12.9ms inference, 1.0ms postprocess per image at shape (1, 3, 96, 96)\n",
      "\n",
      "0: 96x96 1 contempt, 13.4ms\n",
      "Speed: 0.2ms preprocess, 13.4ms inference, 1.0ms postprocess per image at shape (1, 3, 96, 96)\n",
      "\n",
      "0: 96x96 1 contempt, 12.9ms\n",
      "Speed: 0.3ms preprocess, 12.9ms inference, 1.1ms postprocess per image at shape (1, 3, 96, 96)\n",
      "\n",
      "0: 96x96 1 contempt, 13.5ms\n",
      "Speed: 0.2ms preprocess, 13.5ms inference, 1.2ms postprocess per image at shape (1, 3, 96, 96)\n",
      "\n",
      "0: 96x96 1 contempt, 13.6ms\n",
      "Speed: 0.4ms preprocess, 13.6ms inference, 1.0ms postprocess per image at shape (1, 3, 96, 96)\n",
      "\n",
      "0: 96x96 1 contempt, 13.1ms\n",
      "Speed: 0.3ms preprocess, 13.1ms inference, 1.1ms postprocess per image at shape (1, 3, 96, 96)\n",
      "\n",
      "0: 96x96 1 contempt, 13.1ms\n",
      "Speed: 0.2ms preprocess, 13.1ms inference, 1.0ms postprocess per image at shape (1, 3, 96, 96)\n",
      "\n",
      "0: 96x96 1 contempt, 13.4ms\n",
      "Speed: 0.3ms preprocess, 13.4ms inference, 0.9ms postprocess per image at shape (1, 3, 96, 96)\n",
      "\n",
      "0: 96x96 1 contempt, 12.8ms\n",
      "Speed: 0.4ms preprocess, 12.8ms inference, 1.0ms postprocess per image at shape (1, 3, 96, 96)\n",
      "\n",
      "0: 96x96 1 contempt, 13.1ms\n",
      "Speed: 0.3ms preprocess, 13.1ms inference, 1.0ms postprocess per image at shape (1, 3, 96, 96)\n",
      "\n",
      "0: 96x96 1 contempt, 13.0ms\n",
      "Speed: 0.2ms preprocess, 13.0ms inference, 1.0ms postprocess per image at shape (1, 3, 96, 96)\n",
      "\n",
      "0: 96x96 1 contempt, 12.6ms\n",
      "Speed: 0.3ms preprocess, 12.6ms inference, 1.0ms postprocess per image at shape (1, 3, 96, 96)\n",
      "\n",
      "0: 96x96 1 contempt, 13.5ms\n",
      "Speed: 0.6ms preprocess, 13.5ms inference, 1.1ms postprocess per image at shape (1, 3, 96, 96)\n",
      "\n",
      "0: 96x96 1 contempt, 13.0ms\n",
      "Speed: 0.4ms preprocess, 13.0ms inference, 1.2ms postprocess per image at shape (1, 3, 96, 96)\n",
      "\n",
      "0: 96x96 1 contempt, 12.1ms\n",
      "Speed: 0.4ms preprocess, 12.1ms inference, 1.0ms postprocess per image at shape (1, 3, 96, 96)\n",
      "\n",
      "0: 96x96 1 contempt, 13.1ms\n",
      "Speed: 0.2ms preprocess, 13.1ms inference, 1.0ms postprocess per image at shape (1, 3, 96, 96)\n",
      "\n",
      "0: 96x96 1 contempt, 13.4ms\n",
      "Speed: 0.4ms preprocess, 13.4ms inference, 1.0ms postprocess per image at shape (1, 3, 96, 96)\n",
      "\n",
      "0: 96x96 (no detections), 12.5ms\n",
      "Speed: 0.2ms preprocess, 12.5ms inference, 0.7ms postprocess per image at shape (1, 3, 96, 96)\n",
      "\n",
      "0: 96x96 1 sad, 12.5ms\n",
      "Speed: 0.3ms preprocess, 12.5ms inference, 1.1ms postprocess per image at shape (1, 3, 96, 96)\n",
      "\n",
      "0: 96x96 1 fear, 1 sad, 13.1ms\n",
      "Speed: 0.4ms preprocess, 13.1ms inference, 1.2ms postprocess per image at shape (1, 3, 96, 96)\n",
      "\n",
      "0: 96x96 1 sad, 13.5ms\n",
      "Speed: 0.3ms preprocess, 13.5ms inference, 1.1ms postprocess per image at shape (1, 3, 96, 96)\n",
      "\n",
      "0: 96x96 1 sad, 13.0ms\n",
      "Speed: 0.3ms preprocess, 13.0ms inference, 1.2ms postprocess per image at shape (1, 3, 96, 96)\n",
      "\n",
      "0: 96x96 1 sad, 13.2ms\n",
      "Speed: 0.4ms preprocess, 13.2ms inference, 1.0ms postprocess per image at shape (1, 3, 96, 96)\n",
      "\n",
      "0: 96x96 1 contempt, 12.5ms\n",
      "Speed: 0.4ms preprocess, 12.5ms inference, 1.0ms postprocess per image at shape (1, 3, 96, 96)\n",
      "\n",
      "0: 96x96 1 contempt, 12.4ms\n",
      "Speed: 0.3ms preprocess, 12.4ms inference, 0.9ms postprocess per image at shape (1, 3, 96, 96)\n",
      "\n",
      "0: 96x96 1 contempt, 12.7ms\n",
      "Speed: 0.4ms preprocess, 12.7ms inference, 1.2ms postprocess per image at shape (1, 3, 96, 96)\n",
      "\n",
      "0: 96x96 1 contempt, 13.1ms\n",
      "Speed: 0.2ms preprocess, 13.1ms inference, 1.0ms postprocess per image at shape (1, 3, 96, 96)\n",
      "\n",
      "0: 96x96 1 contempt, 12.5ms\n",
      "Speed: 0.6ms preprocess, 12.5ms inference, 1.0ms postprocess per image at shape (1, 3, 96, 96)\n",
      "\n",
      "0: 96x96 1 contempt, 1 sad, 12.5ms\n",
      "Speed: 0.5ms preprocess, 12.5ms inference, 1.0ms postprocess per image at shape (1, 3, 96, 96)\n",
      "\n",
      "0: 96x96 1 contempt, 1 sad, 13.8ms\n",
      "Speed: 0.2ms preprocess, 13.8ms inference, 1.1ms postprocess per image at shape (1, 3, 96, 96)\n",
      "\n",
      "0: 96x96 1 sad, 13.6ms\n",
      "Speed: 0.2ms preprocess, 13.6ms inference, 1.0ms postprocess per image at shape (1, 3, 96, 96)\n",
      "\n",
      "0: 96x96 1 sad, 12.7ms\n",
      "Speed: 0.4ms preprocess, 12.7ms inference, 1.0ms postprocess per image at shape (1, 3, 96, 96)\n",
      "\n",
      "0: 96x96 1 sad, 13.0ms\n",
      "Speed: 0.4ms preprocess, 13.0ms inference, 1.1ms postprocess per image at shape (1, 3, 96, 96)\n",
      "\n",
      "0: 96x96 1 sad, 13.3ms\n",
      "Speed: 0.3ms preprocess, 13.3ms inference, 1.0ms postprocess per image at shape (1, 3, 96, 96)\n",
      "\n",
      "0: 96x96 1 sad, 12.3ms\n",
      "Speed: 0.5ms preprocess, 12.3ms inference, 1.1ms postprocess per image at shape (1, 3, 96, 96)\n",
      "\n",
      "0: 96x96 1 sad, 12.7ms\n",
      "Speed: 0.2ms preprocess, 12.7ms inference, 1.2ms postprocess per image at shape (1, 3, 96, 96)\n",
      "\n",
      "0: 96x96 1 sad, 13.2ms\n",
      "Speed: 0.3ms preprocess, 13.2ms inference, 0.9ms postprocess per image at shape (1, 3, 96, 96)\n",
      "\n",
      "0: 96x96 1 sad, 12.5ms\n",
      "Speed: 0.2ms preprocess, 12.5ms inference, 0.9ms postprocess per image at shape (1, 3, 96, 96)\n",
      "\n",
      "0: 96x96 1 sad, 12.9ms\n",
      "Speed: 0.3ms preprocess, 12.9ms inference, 1.0ms postprocess per image at shape (1, 3, 96, 96)\n",
      "\n",
      "0: 96x96 1 sad, 13.1ms\n",
      "Speed: 0.2ms preprocess, 13.1ms inference, 1.0ms postprocess per image at shape (1, 3, 96, 96)\n",
      "\n",
      "0: 96x96 1 sad, 13.4ms\n",
      "Speed: 0.2ms preprocess, 13.4ms inference, 1.2ms postprocess per image at shape (1, 3, 96, 96)\n",
      "\n",
      "0: 96x96 1 sad, 13.1ms\n",
      "Speed: 0.2ms preprocess, 13.1ms inference, 0.9ms postprocess per image at shape (1, 3, 96, 96)\n",
      "\n",
      "0: 96x96 1 sad, 12.5ms\n",
      "Speed: 0.2ms preprocess, 12.5ms inference, 1.0ms postprocess per image at shape (1, 3, 96, 96)\n",
      "\n",
      "0: 96x96 1 sad, 13.3ms\n",
      "Speed: 0.5ms preprocess, 13.3ms inference, 1.0ms postprocess per image at shape (1, 3, 96, 96)\n",
      "\n",
      "0: 96x96 1 sad, 12.5ms\n",
      "Speed: 0.4ms preprocess, 12.5ms inference, 1.0ms postprocess per image at shape (1, 3, 96, 96)\n",
      "\n",
      "0: 96x96 1 sad, 12.6ms\n",
      "Speed: 0.3ms preprocess, 12.6ms inference, 1.1ms postprocess per image at shape (1, 3, 96, 96)\n",
      "\n",
      "0: 96x96 1 sad, 12.7ms\n",
      "Speed: 0.2ms preprocess, 12.7ms inference, 1.0ms postprocess per image at shape (1, 3, 96, 96)\n",
      "\n",
      "0: 96x96 1 sad, 13.4ms\n",
      "Speed: 0.4ms preprocess, 13.4ms inference, 1.0ms postprocess per image at shape (1, 3, 96, 96)\n",
      "\n",
      "0: 96x96 1 sad, 13.5ms\n",
      "Speed: 0.4ms preprocess, 13.5ms inference, 1.0ms postprocess per image at shape (1, 3, 96, 96)\n",
      "\n",
      "0: 96x96 1 sad, 13.4ms\n",
      "Speed: 0.3ms preprocess, 13.4ms inference, 1.0ms postprocess per image at shape (1, 3, 96, 96)\n",
      "\n",
      "0: 96x96 1 sad, 12.7ms\n",
      "Speed: 0.3ms preprocess, 12.7ms inference, 1.1ms postprocess per image at shape (1, 3, 96, 96)\n",
      "\n",
      "0: 96x96 1 sad, 12.8ms\n",
      "Speed: 0.2ms preprocess, 12.8ms inference, 1.3ms postprocess per image at shape (1, 3, 96, 96)\n",
      "\n",
      "0: 96x96 1 sad, 13.5ms\n",
      "Speed: 0.4ms preprocess, 13.5ms inference, 1.1ms postprocess per image at shape (1, 3, 96, 96)\n",
      "\n",
      "0: 96x96 1 sad, 12.5ms\n",
      "Speed: 0.3ms preprocess, 12.5ms inference, 1.0ms postprocess per image at shape (1, 3, 96, 96)\n",
      "\n",
      "0: 96x96 1 fear, 1 sad, 13.3ms\n",
      "Speed: 0.5ms preprocess, 13.3ms inference, 1.0ms postprocess per image at shape (1, 3, 96, 96)\n",
      "\n",
      "0: 96x96 1 fear, 1 sad, 12.8ms\n",
      "Speed: 0.2ms preprocess, 12.8ms inference, 1.0ms postprocess per image at shape (1, 3, 96, 96)\n",
      "\n",
      "0: 96x96 1 fear, 1 sad, 12.9ms\n",
      "Speed: 0.2ms preprocess, 12.9ms inference, 0.9ms postprocess per image at shape (1, 3, 96, 96)\n",
      "\n",
      "0: 96x96 1 sad, 12.9ms\n",
      "Speed: 0.2ms preprocess, 12.9ms inference, 1.3ms postprocess per image at shape (1, 3, 96, 96)\n",
      "\n",
      "0: 96x96 1 sad, 14.7ms\n",
      "Speed: 0.2ms preprocess, 14.7ms inference, 1.0ms postprocess per image at shape (1, 3, 96, 96)\n",
      "\n",
      "0: 96x96 1 sad, 12.6ms\n",
      "Speed: 0.3ms preprocess, 12.6ms inference, 1.0ms postprocess per image at shape (1, 3, 96, 96)\n",
      "\n",
      "0: 96x96 1 sad, 13.0ms\n",
      "Speed: 0.4ms preprocess, 13.0ms inference, 1.0ms postprocess per image at shape (1, 3, 96, 96)\n",
      "\n",
      "0: 96x96 1 sad, 13.4ms\n",
      "Speed: 0.4ms preprocess, 13.4ms inference, 1.1ms postprocess per image at shape (1, 3, 96, 96)\n",
      "\n",
      "0: 96x96 1 sad, 12.7ms\n",
      "Speed: 0.5ms preprocess, 12.7ms inference, 1.1ms postprocess per image at shape (1, 3, 96, 96)\n",
      "\n",
      "0: 96x96 1 sad, 14.7ms\n",
      "Speed: 0.3ms preprocess, 14.7ms inference, 1.0ms postprocess per image at shape (1, 3, 96, 96)\n",
      "\n",
      "0: 96x96 1 sad, 13.3ms\n",
      "Speed: 0.3ms preprocess, 13.3ms inference, 1.0ms postprocess per image at shape (1, 3, 96, 96)\n",
      "\n",
      "0: 96x96 1 sad, 13.0ms\n",
      "Speed: 0.3ms preprocess, 13.0ms inference, 1.1ms postprocess per image at shape (1, 3, 96, 96)\n",
      "\n",
      "0: 96x96 1 sad, 13.2ms\n",
      "Speed: 0.4ms preprocess, 13.2ms inference, 1.0ms postprocess per image at shape (1, 3, 96, 96)\n",
      "\n",
      "0: 96x96 1 sad, 12.8ms\n",
      "Speed: 0.4ms preprocess, 12.8ms inference, 1.2ms postprocess per image at shape (1, 3, 96, 96)\n",
      "\n",
      "0: 96x96 1 sad, 13.2ms\n",
      "Speed: 0.4ms preprocess, 13.2ms inference, 1.1ms postprocess per image at shape (1, 3, 96, 96)\n",
      "\n",
      "0: 96x96 1 sad, 12.8ms\n",
      "Speed: 0.2ms preprocess, 12.8ms inference, 1.2ms postprocess per image at shape (1, 3, 96, 96)\n",
      "\n",
      "0: 96x96 1 sad, 12.8ms\n",
      "Speed: 0.3ms preprocess, 12.8ms inference, 1.0ms postprocess per image at shape (1, 3, 96, 96)\n",
      "\n",
      "0: 96x96 1 sad, 12.3ms\n",
      "Speed: 0.4ms preprocess, 12.3ms inference, 0.9ms postprocess per image at shape (1, 3, 96, 96)\n",
      "\n",
      "0: 96x96 1 sad, 13.0ms\n",
      "Speed: 0.3ms preprocess, 13.0ms inference, 1.0ms postprocess per image at shape (1, 3, 96, 96)\n",
      "\n",
      "0: 96x96 1 sad, 13.5ms\n",
      "Speed: 0.2ms preprocess, 13.5ms inference, 1.1ms postprocess per image at shape (1, 3, 96, 96)\n",
      "\n",
      "0: 96x96 1 sad, 13.0ms\n",
      "Speed: 0.3ms preprocess, 13.0ms inference, 1.0ms postprocess per image at shape (1, 3, 96, 96)\n",
      "\n",
      "0: 96x96 1 sad, 13.2ms\n",
      "Speed: 0.3ms preprocess, 13.2ms inference, 0.9ms postprocess per image at shape (1, 3, 96, 96)\n",
      "\n",
      "0: 96x96 1 sad, 12.8ms\n",
      "Speed: 0.2ms preprocess, 12.8ms inference, 1.0ms postprocess per image at shape (1, 3, 96, 96)\n",
      "\n",
      "0: 96x96 1 sad, 13.4ms\n",
      "Speed: 0.3ms preprocess, 13.4ms inference, 1.0ms postprocess per image at shape (1, 3, 96, 96)\n",
      "\n",
      "0: 96x96 1 sad, 13.3ms\n",
      "Speed: 0.3ms preprocess, 13.3ms inference, 1.0ms postprocess per image at shape (1, 3, 96, 96)\n",
      "\n",
      "0: 96x96 1 sad, 13.4ms\n",
      "Speed: 0.5ms preprocess, 13.4ms inference, 1.0ms postprocess per image at shape (1, 3, 96, 96)\n",
      "\n",
      "0: 96x96 1 sad, 13.1ms\n",
      "Speed: 0.2ms preprocess, 13.1ms inference, 1.1ms postprocess per image at shape (1, 3, 96, 96)\n",
      "\n",
      "0: 96x96 1 sad, 13.3ms\n",
      "Speed: 0.4ms preprocess, 13.3ms inference, 1.1ms postprocess per image at shape (1, 3, 96, 96)\n",
      "\n",
      "0: 96x96 1 sad, 12.3ms\n",
      "Speed: 0.2ms preprocess, 12.3ms inference, 1.1ms postprocess per image at shape (1, 3, 96, 96)\n",
      "\n",
      "0: 96x96 1 fear, 1 sad, 13.5ms\n",
      "Speed: 0.4ms preprocess, 13.5ms inference, 1.0ms postprocess per image at shape (1, 3, 96, 96)\n",
      "\n",
      "0: 96x96 1 sad, 12.4ms\n",
      "Speed: 0.3ms preprocess, 12.4ms inference, 1.1ms postprocess per image at shape (1, 3, 96, 96)\n",
      "\n",
      "0: 96x96 (no detections), 12.3ms\n",
      "Speed: 0.2ms preprocess, 12.3ms inference, 0.6ms postprocess per image at shape (1, 3, 96, 96)\n",
      "\n",
      "0: 96x96 1 fear, 1 sad, 13.4ms\n",
      "Speed: 0.3ms preprocess, 13.4ms inference, 1.0ms postprocess per image at shape (1, 3, 96, 96)\n",
      "\n",
      "0: 96x96 1 fear, 13.4ms\n",
      "Speed: 0.4ms preprocess, 13.4ms inference, 1.0ms postprocess per image at shape (1, 3, 96, 96)\n",
      "\n",
      "0: 96x96 1 fear, 1 sad, 13.2ms\n",
      "Speed: 0.5ms preprocess, 13.2ms inference, 1.0ms postprocess per image at shape (1, 3, 96, 96)\n",
      "\n",
      "0: 96x96 1 fear, 12.1ms\n",
      "Speed: 0.2ms preprocess, 12.1ms inference, 1.0ms postprocess per image at shape (1, 3, 96, 96)\n",
      "\n",
      "0: 96x96 1 fear, 1 sad, 13.4ms\n",
      "Speed: 0.3ms preprocess, 13.4ms inference, 1.0ms postprocess per image at shape (1, 3, 96, 96)\n",
      "\n",
      "0: 96x96 1 fear, 1 sad, 13.7ms\n",
      "Speed: 0.2ms preprocess, 13.7ms inference, 1.2ms postprocess per image at shape (1, 3, 96, 96)\n",
      "\n",
      "0: 96x96 1 fear, 1 sad, 12.7ms\n",
      "Speed: 0.5ms preprocess, 12.7ms inference, 1.2ms postprocess per image at shape (1, 3, 96, 96)\n",
      "\n",
      "0: 96x96 1 fear, 12.8ms\n",
      "Speed: 0.2ms preprocess, 12.8ms inference, 1.0ms postprocess per image at shape (1, 3, 96, 96)\n",
      "\n",
      "0: 96x96 1 fear, 13.0ms\n",
      "Speed: 0.2ms preprocess, 13.0ms inference, 1.0ms postprocess per image at shape (1, 3, 96, 96)\n",
      "\n",
      "0: 96x96 1 fear, 12.9ms\n",
      "Speed: 0.2ms preprocess, 12.9ms inference, 1.2ms postprocess per image at shape (1, 3, 96, 96)\n",
      "\n",
      "0: 96x96 1 fear, 1 sad, 13.2ms\n",
      "Speed: 0.3ms preprocess, 13.2ms inference, 1.1ms postprocess per image at shape (1, 3, 96, 96)\n",
      "\n",
      "0: 96x96 1 fear, 1 sad, 12.7ms\n",
      "Speed: 0.4ms preprocess, 12.7ms inference, 1.0ms postprocess per image at shape (1, 3, 96, 96)\n",
      "\n",
      "0: 96x96 1 fear, 1 sad, 12.6ms\n",
      "Speed: 0.3ms preprocess, 12.6ms inference, 1.1ms postprocess per image at shape (1, 3, 96, 96)\n",
      "\n",
      "0: 96x96 1 fear, 1 sad, 13.2ms\n",
      "Speed: 0.2ms preprocess, 13.2ms inference, 1.0ms postprocess per image at shape (1, 3, 96, 96)\n",
      "\n",
      "0: 96x96 1 fear, 1 sad, 12.7ms\n",
      "Speed: 0.4ms preprocess, 12.7ms inference, 1.2ms postprocess per image at shape (1, 3, 96, 96)\n",
      "\n",
      "0: 96x96 1 fear, 1 sad, 13.1ms\n",
      "Speed: 0.2ms preprocess, 13.1ms inference, 1.0ms postprocess per image at shape (1, 3, 96, 96)\n",
      "\n",
      "0: 96x96 1 fear, 1 sad, 12.9ms\n",
      "Speed: 0.2ms preprocess, 12.9ms inference, 1.3ms postprocess per image at shape (1, 3, 96, 96)\n",
      "\n",
      "0: 96x96 1 fear, 1 sad, 13.3ms\n",
      "Speed: 0.5ms preprocess, 13.3ms inference, 1.1ms postprocess per image at shape (1, 3, 96, 96)\n",
      "\n",
      "0: 96x96 1 fear, 1 sad, 14.1ms\n",
      "Speed: 0.2ms preprocess, 14.1ms inference, 1.1ms postprocess per image at shape (1, 3, 96, 96)\n",
      "\n",
      "0: 96x96 1 fear, 1 sad, 13.8ms\n",
      "Speed: 0.2ms preprocess, 13.8ms inference, 1.0ms postprocess per image at shape (1, 3, 96, 96)\n",
      "\n",
      "0: 96x96 1 fear, 1 sad, 12.9ms\n",
      "Speed: 0.4ms preprocess, 12.9ms inference, 1.0ms postprocess per image at shape (1, 3, 96, 96)\n",
      "\n",
      "0: 96x96 1 fear, 1 sad, 12.7ms\n",
      "Speed: 0.5ms preprocess, 12.7ms inference, 1.0ms postprocess per image at shape (1, 3, 96, 96)\n",
      "\n",
      "0: 96x96 1 fear, 12.9ms\n",
      "Speed: 0.2ms preprocess, 12.9ms inference, 1.1ms postprocess per image at shape (1, 3, 96, 96)\n",
      "\n",
      "0: 96x96 1 fear, 12.6ms\n",
      "Speed: 0.4ms preprocess, 12.6ms inference, 1.0ms postprocess per image at shape (1, 3, 96, 96)\n",
      "\n",
      "0: 96x96 1 fear, 12.3ms\n",
      "Speed: 0.2ms preprocess, 12.3ms inference, 1.1ms postprocess per image at shape (1, 3, 96, 96)\n",
      "\n",
      "0: 96x96 1 fear, 13.0ms\n",
      "Speed: 0.3ms preprocess, 13.0ms inference, 1.0ms postprocess per image at shape (1, 3, 96, 96)\n",
      "\n",
      "0: 96x96 1 fear, 12.4ms\n",
      "Speed: 0.3ms preprocess, 12.4ms inference, 1.0ms postprocess per image at shape (1, 3, 96, 96)\n",
      "\n",
      "0: 96x96 1 fear, 12.3ms\n",
      "Speed: 0.2ms preprocess, 12.3ms inference, 1.1ms postprocess per image at shape (1, 3, 96, 96)\n",
      "\n",
      "0: 96x96 1 fear, 1 surprise, 12.7ms\n",
      "Speed: 0.4ms preprocess, 12.7ms inference, 1.1ms postprocess per image at shape (1, 3, 96, 96)\n",
      "\n",
      "0: 96x96 1 fear, 13.2ms\n",
      "Speed: 0.4ms preprocess, 13.2ms inference, 1.1ms postprocess per image at shape (1, 3, 96, 96)\n",
      "\n",
      "0: 96x96 1 fear, 13.4ms\n",
      "Speed: 0.4ms preprocess, 13.4ms inference, 1.0ms postprocess per image at shape (1, 3, 96, 96)\n",
      "\n",
      "0: 96x96 1 fear, 13.2ms\n",
      "Speed: 0.4ms preprocess, 13.2ms inference, 1.2ms postprocess per image at shape (1, 3, 96, 96)\n",
      "\n",
      "0: 96x96 1 fear, 13.4ms\n",
      "Speed: 0.6ms preprocess, 13.4ms inference, 1.1ms postprocess per image at shape (1, 3, 96, 96)\n",
      "\n",
      "0: 96x96 1 fear, 1 surprise, 12.8ms\n",
      "Speed: 0.3ms preprocess, 12.8ms inference, 1.0ms postprocess per image at shape (1, 3, 96, 96)\n",
      "\n",
      "0: 96x96 1 fear, 1 surprise, 13.4ms\n",
      "Speed: 0.4ms preprocess, 13.4ms inference, 1.0ms postprocess per image at shape (1, 3, 96, 96)\n",
      "\n",
      "0: 96x96 1 fear, 1 surprise, 12.3ms\n",
      "Speed: 0.3ms preprocess, 12.3ms inference, 1.0ms postprocess per image at shape (1, 3, 96, 96)\n",
      "\n",
      "0: 96x96 1 fear, 12.7ms\n",
      "Speed: 0.3ms preprocess, 12.7ms inference, 1.0ms postprocess per image at shape (1, 3, 96, 96)\n",
      "\n",
      "0: 96x96 1 fear, 12.6ms\n",
      "Speed: 0.3ms preprocess, 12.6ms inference, 1.1ms postprocess per image at shape (1, 3, 96, 96)\n",
      "\n",
      "0: 96x96 1 fear, 1 surprise, 12.6ms\n",
      "Speed: 0.2ms preprocess, 12.6ms inference, 1.1ms postprocess per image at shape (1, 3, 96, 96)\n",
      "\n",
      "0: 96x96 1 fear, 1 surprise, 12.9ms\n",
      "Speed: 0.3ms preprocess, 12.9ms inference, 0.9ms postprocess per image at shape (1, 3, 96, 96)\n",
      "\n",
      "0: 96x96 1 fear, 1 surprise, 12.7ms\n",
      "Speed: 0.4ms preprocess, 12.7ms inference, 1.0ms postprocess per image at shape (1, 3, 96, 96)\n",
      "\n",
      "0: 96x96 1 fear, 1 surprise, 13.3ms\n",
      "Speed: 0.2ms preprocess, 13.3ms inference, 1.0ms postprocess per image at shape (1, 3, 96, 96)\n",
      "\n",
      "0: 96x96 1 fear, 1 surprise, 13.7ms\n",
      "Speed: 0.2ms preprocess, 13.7ms inference, 1.0ms postprocess per image at shape (1, 3, 96, 96)\n",
      "\n",
      "0: 96x96 1 fear, 1 surprise, 13.4ms\n",
      "Speed: 0.2ms preprocess, 13.4ms inference, 1.0ms postprocess per image at shape (1, 3, 96, 96)\n",
      "\n",
      "0: 96x96 1 fear, 1 surprise, 13.2ms\n",
      "Speed: 0.2ms preprocess, 13.2ms inference, 1.0ms postprocess per image at shape (1, 3, 96, 96)\n",
      "\n",
      "0: 96x96 1 fear, 1 surprise, 13.1ms\n",
      "Speed: 0.4ms preprocess, 13.1ms inference, 1.0ms postprocess per image at shape (1, 3, 96, 96)\n",
      "\n",
      "0: 96x96 1 fear, 1 surprise, 12.7ms\n",
      "Speed: 0.2ms preprocess, 12.7ms inference, 1.0ms postprocess per image at shape (1, 3, 96, 96)\n",
      "\n",
      "0: 96x96 1 fear, 1 surprise, 12.7ms\n",
      "Speed: 0.2ms preprocess, 12.7ms inference, 1.1ms postprocess per image at shape (1, 3, 96, 96)\n",
      "\n",
      "0: 96x96 1 fear, 1 surprise, 13.0ms\n",
      "Speed: 0.3ms preprocess, 13.0ms inference, 1.1ms postprocess per image at shape (1, 3, 96, 96)\n",
      "\n",
      "0: 96x96 1 fear, 1 surprise, 12.2ms\n",
      "Speed: 0.2ms preprocess, 12.2ms inference, 1.0ms postprocess per image at shape (1, 3, 96, 96)\n",
      "\n",
      "0: 96x96 1 fear, 1 surprise, 12.5ms\n",
      "Speed: 0.4ms preprocess, 12.5ms inference, 1.0ms postprocess per image at shape (1, 3, 96, 96)\n",
      "\n",
      "0: 96x96 1 fear, 1 surprise, 13.3ms\n",
      "Speed: 0.4ms preprocess, 13.3ms inference, 1.0ms postprocess per image at shape (1, 3, 96, 96)\n",
      "\n",
      "0: 96x96 1 fear, 1 surprise, 12.9ms\n",
      "Speed: 0.4ms preprocess, 12.9ms inference, 1.1ms postprocess per image at shape (1, 3, 96, 96)\n",
      "\n",
      "0: 96x96 1 fear, 1 surprise, 13.2ms\n",
      "Speed: 0.6ms preprocess, 13.2ms inference, 1.1ms postprocess per image at shape (1, 3, 96, 96)\n",
      "\n",
      "0: 96x96 1 fear, 1 surprise, 12.5ms\n",
      "Speed: 0.4ms preprocess, 12.5ms inference, 1.0ms postprocess per image at shape (1, 3, 96, 96)\n",
      "\n",
      "0: 96x96 1 fear, 1 surprise, 13.1ms\n",
      "Speed: 0.2ms preprocess, 13.1ms inference, 1.2ms postprocess per image at shape (1, 3, 96, 96)\n",
      "\n",
      "0: 96x96 1 fear, 1 surprise, 13.0ms\n",
      "Speed: 0.5ms preprocess, 13.0ms inference, 1.0ms postprocess per image at shape (1, 3, 96, 96)\n",
      "\n",
      "0: 96x96 1 fear, 1 surprise, 13.3ms\n",
      "Speed: 0.2ms preprocess, 13.3ms inference, 1.0ms postprocess per image at shape (1, 3, 96, 96)\n",
      "\n",
      "0: 96x96 1 fear, 1 surprise, 13.4ms\n",
      "Speed: 0.3ms preprocess, 13.4ms inference, 1.0ms postprocess per image at shape (1, 3, 96, 96)\n",
      "\n",
      "0: 96x96 1 fear, 1 surprise, 13.3ms\n",
      "Speed: 0.2ms preprocess, 13.3ms inference, 1.1ms postprocess per image at shape (1, 3, 96, 96)\n",
      "\n",
      "0: 96x96 1 fear, 1 surprise, 13.4ms\n",
      "Speed: 0.3ms preprocess, 13.4ms inference, 1.0ms postprocess per image at shape (1, 3, 96, 96)\n",
      "\n",
      "0: 96x96 1 fear, 1 surprise, 12.8ms\n",
      "Speed: 0.4ms preprocess, 12.8ms inference, 1.1ms postprocess per image at shape (1, 3, 96, 96)\n",
      "\n",
      "0: 96x96 1 fear, 1 surprise, 12.9ms\n",
      "Speed: 0.2ms preprocess, 12.9ms inference, 1.2ms postprocess per image at shape (1, 3, 96, 96)\n",
      "\n",
      "0: 96x96 1 fear, 1 surprise, 12.7ms\n",
      "Speed: 0.3ms preprocess, 12.7ms inference, 1.1ms postprocess per image at shape (1, 3, 96, 96)\n",
      "\n",
      "0: 96x96 1 fear, 1 surprise, 13.1ms\n",
      "Speed: 0.2ms preprocess, 13.1ms inference, 1.0ms postprocess per image at shape (1, 3, 96, 96)\n",
      "\n",
      "0: 96x96 1 fear, 1 surprise, 12.5ms\n",
      "Speed: 0.2ms preprocess, 12.5ms inference, 1.1ms postprocess per image at shape (1, 3, 96, 96)\n",
      "\n",
      "0: 96x96 1 fear, 1 surprise, 13.7ms\n",
      "Speed: 4.9ms preprocess, 13.7ms inference, 1.1ms postprocess per image at shape (1, 3, 96, 96)\n",
      "\n",
      "0: 96x96 1 fear, 1 surprise, 13.1ms\n",
      "Speed: 0.4ms preprocess, 13.1ms inference, 1.2ms postprocess per image at shape (1, 3, 96, 96)\n",
      "\n",
      "0: 96x96 1 fear, 1 surprise, 12.7ms\n",
      "Speed: 0.2ms preprocess, 12.7ms inference, 1.2ms postprocess per image at shape (1, 3, 96, 96)\n",
      "\n",
      "0: 96x96 1 fear, 1 surprise, 13.2ms\n",
      "Speed: 0.3ms preprocess, 13.2ms inference, 1.0ms postprocess per image at shape (1, 3, 96, 96)\n",
      "\n",
      "0: 96x96 1 fear, 1 surprise, 12.4ms\n",
      "Speed: 0.5ms preprocess, 12.4ms inference, 1.1ms postprocess per image at shape (1, 3, 96, 96)\n",
      "\n",
      "0: 96x96 1 fear, 1 surprise, 12.9ms\n",
      "Speed: 0.2ms preprocess, 12.9ms inference, 1.3ms postprocess per image at shape (1, 3, 96, 96)\n",
      "\n",
      "0: 96x96 1 fear, 1 surprise, 12.6ms\n",
      "Speed: 0.3ms preprocess, 12.6ms inference, 0.9ms postprocess per image at shape (1, 3, 96, 96)\n",
      "\n",
      "0: 96x96 1 fear, 1 surprise, 13.6ms\n",
      "Speed: 0.2ms preprocess, 13.6ms inference, 0.9ms postprocess per image at shape (1, 3, 96, 96)\n",
      "\n",
      "0: 96x96 1 fear, 13.4ms\n",
      "Speed: 0.3ms preprocess, 13.4ms inference, 1.2ms postprocess per image at shape (1, 3, 96, 96)\n",
      "\n",
      "0: 96x96 1 fear, 1 surprise, 13.5ms\n",
      "Speed: 0.4ms preprocess, 13.5ms inference, 1.0ms postprocess per image at shape (1, 3, 96, 96)\n",
      "\n",
      "0: 96x96 1 fear, 13.1ms\n",
      "Speed: 0.3ms preprocess, 13.1ms inference, 0.9ms postprocess per image at shape (1, 3, 96, 96)\n",
      "\n",
      "0: 96x96 1 fear, 1 surprise, 13.2ms\n",
      "Speed: 0.4ms preprocess, 13.2ms inference, 1.1ms postprocess per image at shape (1, 3, 96, 96)\n",
      "\n",
      "0: 96x96 1 fear, 1 surprise, 13.6ms\n",
      "Speed: 0.4ms preprocess, 13.6ms inference, 1.0ms postprocess per image at shape (1, 3, 96, 96)\n",
      "\n",
      "0: 96x96 1 fear, 1 surprise, 12.8ms\n",
      "Speed: 0.2ms preprocess, 12.8ms inference, 1.0ms postprocess per image at shape (1, 3, 96, 96)\n",
      "\n",
      "0: 96x96 1 fear, 1 surprise, 12.7ms\n",
      "Speed: 0.2ms preprocess, 12.7ms inference, 1.2ms postprocess per image at shape (1, 3, 96, 96)\n",
      "\n",
      "0: 96x96 1 fear, 1 surprise, 13.5ms\n",
      "Speed: 0.2ms preprocess, 13.5ms inference, 1.0ms postprocess per image at shape (1, 3, 96, 96)\n",
      "\n",
      "0: 96x96 1 fear, 1 surprise, 12.4ms\n",
      "Speed: 0.5ms preprocess, 12.4ms inference, 1.2ms postprocess per image at shape (1, 3, 96, 96)\n",
      "\n",
      "0: 96x96 1 fear, 1 surprise, 13.3ms\n",
      "Speed: 0.4ms preprocess, 13.3ms inference, 1.1ms postprocess per image at shape (1, 3, 96, 96)\n",
      "\n",
      "0: 96x96 1 fear, 1 surprise, 12.7ms\n",
      "Speed: 0.2ms preprocess, 12.7ms inference, 1.0ms postprocess per image at shape (1, 3, 96, 96)\n",
      "\n",
      "0: 96x96 1 fear, 1 surprise, 13.2ms\n",
      "Speed: 0.5ms preprocess, 13.2ms inference, 1.1ms postprocess per image at shape (1, 3, 96, 96)\n",
      "\n",
      "0: 96x96 1 fear, 1 surprise, 12.7ms\n",
      "Speed: 0.4ms preprocess, 12.7ms inference, 1.0ms postprocess per image at shape (1, 3, 96, 96)\n",
      "\n",
      "0: 96x96 1 fear, 1 surprise, 12.8ms\n",
      "Speed: 0.2ms preprocess, 12.8ms inference, 1.0ms postprocess per image at shape (1, 3, 96, 96)\n",
      "\n",
      "0: 96x96 1 fear, 1 surprise, 13.9ms\n",
      "Speed: 0.3ms preprocess, 13.9ms inference, 1.0ms postprocess per image at shape (1, 3, 96, 96)\n",
      "\n",
      "0: 96x96 1 fear, 1 surprise, 13.7ms\n",
      "Speed: 0.3ms preprocess, 13.7ms inference, 1.0ms postprocess per image at shape (1, 3, 96, 96)\n",
      "\n",
      "0: 96x96 1 fear, 1 surprise, 13.7ms\n",
      "Speed: 0.2ms preprocess, 13.7ms inference, 1.0ms postprocess per image at shape (1, 3, 96, 96)\n",
      "\n",
      "0: 96x96 1 fear, 1 surprise, 13.1ms\n",
      "Speed: 0.4ms preprocess, 13.1ms inference, 0.9ms postprocess per image at shape (1, 3, 96, 96)\n",
      "0: 96x96 1 anger, 11.9ms\n",
      "Speed: 0.6ms preprocess, 11.9ms inference, 1.0ms postprocess per image at shape (1, 3, 96, 96)\n",
      "\n",
      "0: 96x96 1 anger, 13.4ms\n",
      "Speed: 0.4ms preprocess, 13.4ms inference, 1.2ms postprocess per image at shape (1, 3, 96, 96)\n",
      "\n",
      "0: 96x96 1 anger, 12.4ms\n",
      "Speed: 0.4ms preprocess, 12.4ms inference, 1.0ms postprocess per image at shape (1, 3, 96, 96)\n",
      "\n",
      "0: 96x96 1 fear, 12.2ms\n",
      "Speed: 0.4ms preprocess, 12.2ms inference, 1.0ms postprocess per image at shape (1, 3, 96, 96)\n",
      "\n",
      "0: 96x96 1 fear, 12.2ms\n",
      "Speed: 0.2ms preprocess, 12.2ms inference, 1.1ms postprocess per image at shape (1, 3, 96, 96)\n",
      "\n",
      "0: 96x96 1 fear, 12.7ms\n",
      "Speed: 0.5ms preprocess, 12.7ms inference, 1.0ms postprocess per image at shape (1, 3, 96, 96)\n",
      "\n",
      "0: 96x96 1 fear, 13.1ms\n",
      "Speed: 0.3ms preprocess, 13.1ms inference, 0.9ms postprocess per image at shape (1, 3, 96, 96)\n",
      "\n",
      "0: 96x96 1 fear, 12.1ms\n",
      "Speed: 0.4ms preprocess, 12.1ms inference, 1.0ms postprocess per image at shape (1, 3, 96, 96)\n",
      "\n",
      "0: 96x96 1 fear, 1 sad, 12.9ms\n",
      "Speed: 0.5ms preprocess, 12.9ms inference, 1.3ms postprocess per image at shape (1, 3, 96, 96)\n",
      "\n",
      "0: 96x96 1 fear, 1 sad, 12.4ms\n",
      "Speed: 0.2ms preprocess, 12.4ms inference, 1.1ms postprocess per image at shape (1, 3, 96, 96)\n",
      "\n",
      "0: 96x96 1 anger, 1 fear, 1 sad, 11.8ms\n",
      "Speed: 0.5ms preprocess, 11.8ms inference, 1.0ms postprocess per image at shape (1, 3, 96, 96)\n",
      "\n",
      "0: 96x96 1 fear, 13.4ms\n",
      "Speed: 0.4ms preprocess, 13.4ms inference, 1.1ms postprocess per image at shape (1, 3, 96, 96)\n",
      "\n",
      "0: 96x96 1 fear, 13.6ms\n",
      "Speed: 0.5ms preprocess, 13.6ms inference, 1.1ms postprocess per image at shape (1, 3, 96, 96)\n",
      "\n",
      "0: 96x96 1 fear, 12.4ms\n",
      "Speed: 0.5ms preprocess, 12.4ms inference, 1.1ms postprocess per image at shape (1, 3, 96, 96)\n",
      "\n",
      "0: 96x96 1 fear, 12.7ms\n",
      "Speed: 0.6ms preprocess, 12.7ms inference, 1.1ms postprocess per image at shape (1, 3, 96, 96)\n",
      "\n",
      "0: 96x96 1 fear, 14.0ms\n",
      "Speed: 0.3ms preprocess, 14.0ms inference, 1.2ms postprocess per image at shape (1, 3, 96, 96)\n",
      "\n",
      "0: 96x96 1 fear, 12.8ms\n",
      "Speed: 0.3ms preprocess, 12.8ms inference, 1.4ms postprocess per image at shape (1, 3, 96, 96)\n",
      "\n",
      "0: 96x96 1 fear, 13.4ms\n",
      "Speed: 0.4ms preprocess, 13.4ms inference, 1.0ms postprocess per image at shape (1, 3, 96, 96)\n",
      "\n",
      "0: 96x96 1 fear, 12.7ms\n",
      "Speed: 0.3ms preprocess, 12.7ms inference, 1.1ms postprocess per image at shape (1, 3, 96, 96)\n",
      "\n",
      "0: 96x96 1 fear, 13.2ms\n",
      "Speed: 0.2ms preprocess, 13.2ms inference, 1.1ms postprocess per image at shape (1, 3, 96, 96)\n",
      "\n",
      "0: 96x96 1 fear, 13.7ms\n",
      "Speed: 0.7ms preprocess, 13.7ms inference, 1.0ms postprocess per image at shape (1, 3, 96, 96)\n",
      "\n",
      "0: 96x96 1 fear, 13.0ms\n",
      "Speed: 0.2ms preprocess, 13.0ms inference, 1.0ms postprocess per image at shape (1, 3, 96, 96)\n",
      "\n",
      "0: 96x96 1 fear, 11.9ms\n",
      "Speed: 0.4ms preprocess, 11.9ms inference, 1.0ms postprocess per image at shape (1, 3, 96, 96)\n",
      "\n",
      "0: 96x96 1 anger, 1 fear, 13.5ms\n",
      "Speed: 0.3ms preprocess, 13.5ms inference, 1.0ms postprocess per image at shape (1, 3, 96, 96)\n",
      "\n",
      "0: 96x96 1 fear, 13.4ms\n",
      "Speed: 0.4ms preprocess, 13.4ms inference, 1.0ms postprocess per image at shape (1, 3, 96, 96)\n",
      "\n",
      "0: 96x96 1 anger, 1 fear, 12.0ms\n",
      "Speed: 0.2ms preprocess, 12.0ms inference, 1.2ms postprocess per image at shape (1, 3, 96, 96)\n",
      "\n",
      "0: 96x96 1 anger, 1 fear, 13.2ms\n",
      "Speed: 0.3ms preprocess, 13.2ms inference, 1.0ms postprocess per image at shape (1, 3, 96, 96)\n",
      "\n",
      "0: 96x96 1 anger, 1 fear, 12.4ms\n",
      "Speed: 0.6ms preprocess, 12.4ms inference, 1.0ms postprocess per image at shape (1, 3, 96, 96)\n",
      "\n",
      "0: 96x96 1 anger, 1 fear, 12.4ms\n",
      "Speed: 0.4ms preprocess, 12.4ms inference, 1.1ms postprocess per image at shape (1, 3, 96, 96)\n",
      "\n",
      "0: 96x96 1 anger, 1 fear, 13.8ms\n",
      "Speed: 0.4ms preprocess, 13.8ms inference, 1.1ms postprocess per image at shape (1, 3, 96, 96)\n",
      "\n",
      "0: 96x96 1 anger, 1 fear, 12.2ms\n",
      "Speed: 0.5ms preprocess, 12.2ms inference, 1.1ms postprocess per image at shape (1, 3, 96, 96)\n",
      "\n",
      "0: 96x96 1 anger, 1 fear, 12.8ms\n",
      "Speed: 0.4ms preprocess, 12.8ms inference, 1.1ms postprocess per image at shape (1, 3, 96, 96)\n",
      "\n",
      "0: 96x96 1 anger, 11.4ms\n",
      "Speed: 0.4ms preprocess, 11.4ms inference, 1.3ms postprocess per image at shape (1, 3, 96, 96)\n",
      "\n",
      "0: 96x96 1 anger, 1 fear, 13.5ms\n",
      "Speed: 0.3ms preprocess, 13.5ms inference, 1.1ms postprocess per image at shape (1, 3, 96, 96)\n",
      "\n",
      "0: 96x96 1 anger, 1 fear, 12.6ms\n",
      "Speed: 0.3ms preprocess, 12.6ms inference, 1.0ms postprocess per image at shape (1, 3, 96, 96)\n",
      "\n",
      "0: 96x96 1 anger, 1 fear, 11.9ms\n",
      "Speed: 0.3ms preprocess, 11.9ms inference, 1.3ms postprocess per image at shape (1, 3, 96, 96)\n",
      "\n",
      "0: 96x96 1 anger, 1 fear, 12.6ms\n",
      "Speed: 0.4ms preprocess, 12.6ms inference, 1.0ms postprocess per image at shape (1, 3, 96, 96)\n",
      "\n",
      "0: 96x96 1 anger, 1 fear, 13.3ms\n",
      "Speed: 0.2ms preprocess, 13.3ms inference, 1.0ms postprocess per image at shape (1, 3, 96, 96)\n",
      "\n",
      "0: 96x96 1 anger, 1 fear, 13.6ms\n",
      "Speed: 0.4ms preprocess, 13.6ms inference, 1.1ms postprocess per image at shape (1, 3, 96, 96)\n",
      "\n",
      "0: 96x96 1 anger, 12.8ms\n",
      "Speed: 0.5ms preprocess, 12.8ms inference, 1.0ms postprocess per image at shape (1, 3, 96, 96)\n",
      "\n",
      "0: 96x96 1 anger, 12.8ms\n",
      "Speed: 0.4ms preprocess, 12.8ms inference, 1.2ms postprocess per image at shape (1, 3, 96, 96)\n",
      "\n",
      "0: 96x96 1 anger, 13.3ms\n",
      "Speed: 0.2ms preprocess, 13.3ms inference, 1.1ms postprocess per image at shape (1, 3, 96, 96)\n",
      "\n",
      "0: 96x96 1 anger, 11.8ms\n",
      "Speed: 0.4ms preprocess, 11.8ms inference, 1.1ms postprocess per image at shape (1, 3, 96, 96)\n",
      "\n",
      "0: 96x96 1 anger, 12.3ms\n",
      "Speed: 0.5ms preprocess, 12.3ms inference, 1.1ms postprocess per image at shape (1, 3, 96, 96)\n",
      "\n",
      "0: 96x96 1 anger, 13.2ms\n",
      "Speed: 0.3ms preprocess, 13.2ms inference, 1.0ms postprocess per image at shape (1, 3, 96, 96)\n",
      "\n",
      "0: 96x96 1 anger, 11.4ms\n",
      "Speed: 0.3ms preprocess, 11.4ms inference, 1.0ms postprocess per image at shape (1, 3, 96, 96)\n",
      "\n",
      "0: 96x96 1 anger, 11.6ms\n",
      "Speed: 0.3ms preprocess, 11.6ms inference, 0.9ms postprocess per image at shape (1, 3, 96, 96)\n",
      "\n",
      "0: 96x96 1 anger, 12.9ms\n",
      "Speed: 0.4ms preprocess, 12.9ms inference, 1.8ms postprocess per image at shape (1, 3, 96, 96)\n",
      "\n",
      "0: 96x96 1 anger, 12.6ms\n",
      "Speed: 0.5ms preprocess, 12.6ms inference, 1.0ms postprocess per image at shape (1, 3, 96, 96)\n",
      "\n",
      "0: 96x96 1 anger, 12.8ms\n",
      "Speed: 0.3ms preprocess, 12.8ms inference, 1.2ms postprocess per image at shape (1, 3, 96, 96)\n",
      "\n",
      "0: 96x96 1 anger, 12.8ms\n",
      "Speed: 0.5ms preprocess, 12.8ms inference, 1.1ms postprocess per image at shape (1, 3, 96, 96)\n",
      "\n",
      "0: 96x96 1 anger, 12.5ms\n",
      "Speed: 0.5ms preprocess, 12.5ms inference, 1.1ms postprocess per image at shape (1, 3, 96, 96)\n",
      "\n",
      "0: 96x96 1 anger, 16.2ms\n",
      "Speed: 0.3ms preprocess, 16.2ms inference, 1.1ms postprocess per image at shape (1, 3, 96, 96)\n",
      "\n",
      "0: 96x96 1 anger, 13.9ms\n",
      "Speed: 0.3ms preprocess, 13.9ms inference, 1.0ms postprocess per image at shape (1, 3, 96, 96)\n",
      "\n",
      "0: 96x96 1 anger, 13.1ms\n",
      "Speed: 0.2ms preprocess, 13.1ms inference, 1.1ms postprocess per image at shape (1, 3, 96, 96)\n",
      "\n",
      "0: 96x96 1 anger, 12.4ms\n",
      "Speed: 0.3ms preprocess, 12.4ms inference, 1.0ms postprocess per image at shape (1, 3, 96, 96)\n",
      "\n",
      "0: 96x96 1 anger, 11.6ms\n",
      "Speed: 0.3ms preprocess, 11.6ms inference, 1.0ms postprocess per image at shape (1, 3, 96, 96)\n",
      "\n",
      "0: 96x96 1 anger, 12.5ms\n",
      "Speed: 0.4ms preprocess, 12.5ms inference, 1.1ms postprocess per image at shape (1, 3, 96, 96)\n",
      "\n",
      "0: 96x96 1 anger, 13.3ms\n",
      "Speed: 0.2ms preprocess, 13.3ms inference, 1.0ms postprocess per image at shape (1, 3, 96, 96)\n",
      "\n",
      "0: 96x96 1 anger, 12.9ms\n",
      "Speed: 0.5ms preprocess, 12.9ms inference, 1.2ms postprocess per image at shape (1, 3, 96, 96)\n",
      "\n",
      "0: 96x96 1 anger, 12.9ms\n",
      "Speed: 0.4ms preprocess, 12.9ms inference, 1.1ms postprocess per image at shape (1, 3, 96, 96)\n",
      "\n",
      "0: 96x96 1 anger, 12.3ms\n",
      "Speed: 0.4ms preprocess, 12.3ms inference, 1.2ms postprocess per image at shape (1, 3, 96, 96)\n",
      "\n",
      "0: 96x96 1 anger, 13.3ms\n",
      "Speed: 0.4ms preprocess, 13.3ms inference, 1.1ms postprocess per image at shape (1, 3, 96, 96)\n",
      "\n",
      "0: 96x96 1 anger, 13.9ms\n",
      "Speed: 0.3ms preprocess, 13.9ms inference, 1.0ms postprocess per image at shape (1, 3, 96, 96)\n",
      "\n",
      "0: 96x96 1 anger, 13.2ms\n",
      "Speed: 0.4ms preprocess, 13.2ms inference, 1.2ms postprocess per image at shape (1, 3, 96, 96)\n",
      "\n",
      "0: 96x96 1 anger, 13.2ms\n",
      "Speed: 0.4ms preprocess, 13.2ms inference, 1.1ms postprocess per image at shape (1, 3, 96, 96)\n",
      "\n",
      "0: 96x96 1 anger, 12.1ms\n",
      "Speed: 0.4ms preprocess, 12.1ms inference, 1.2ms postprocess per image at shape (1, 3, 96, 96)\n",
      "\n",
      "0: 96x96 1 anger, 13.0ms\n",
      "Speed: 0.4ms preprocess, 13.0ms inference, 1.0ms postprocess per image at shape (1, 3, 96, 96)\n",
      "\n",
      "0: 96x96 1 anger, 12.0ms\n",
      "Speed: 0.3ms preprocess, 12.0ms inference, 1.0ms postprocess per image at shape (1, 3, 96, 96)\n",
      "\n",
      "0: 96x96 1 anger, 11.8ms\n",
      "Speed: 0.5ms preprocess, 11.8ms inference, 1.0ms postprocess per image at shape (1, 3, 96, 96)\n",
      "\n",
      "0: 96x96 1 anger, 12.5ms\n",
      "Speed: 0.3ms preprocess, 12.5ms inference, 1.0ms postprocess per image at shape (1, 3, 96, 96)\n",
      "\n",
      "0: 96x96 1 anger, 12.7ms\n",
      "Speed: 0.4ms preprocess, 12.7ms inference, 1.0ms postprocess per image at shape (1, 3, 96, 96)\n",
      "\n",
      "0: 96x96 1 anger, 12.1ms\n",
      "Speed: 0.6ms preprocess, 12.1ms inference, 1.0ms postprocess per image at shape (1, 3, 96, 96)\n",
      "\n",
      "0: 96x96 1 anger, 10.8ms\n",
      "Speed: 0.5ms preprocess, 10.8ms inference, 1.0ms postprocess per image at shape (1, 3, 96, 96)\n",
      "\n",
      "0: 96x96 1 anger, 13.7ms\n",
      "Speed: 0.5ms preprocess, 13.7ms inference, 1.0ms postprocess per image at shape (1, 3, 96, 96)\n",
      "\n",
      "0: 96x96 1 anger, 13.1ms\n",
      "Speed: 0.4ms preprocess, 13.1ms inference, 1.0ms postprocess per image at shape (1, 3, 96, 96)\n",
      "\n",
      "0: 96x96 1 anger, 13.2ms\n",
      "Speed: 0.4ms preprocess, 13.2ms inference, 1.2ms postprocess per image at shape (1, 3, 96, 96)\n",
      "\n",
      "0: 96x96 1 anger, 1 sad, 13.3ms\n",
      "Speed: 0.5ms preprocess, 13.3ms inference, 1.0ms postprocess per image at shape (1, 3, 96, 96)\n",
      "\n",
      "0: 96x96 1 anger, 13.0ms\n",
      "Speed: 0.5ms preprocess, 13.0ms inference, 0.9ms postprocess per image at shape (1, 3, 96, 96)\n",
      "\n",
      "0: 96x96 1 anger, 12.3ms\n",
      "Speed: 0.2ms preprocess, 12.3ms inference, 1.1ms postprocess per image at shape (1, 3, 96, 96)\n",
      "\n",
      "0: 96x96 1 anger, 12.3ms\n",
      "Speed: 0.3ms preprocess, 12.3ms inference, 1.0ms postprocess per image at shape (1, 3, 96, 96)\n",
      "\n",
      "0: 96x96 1 anger, 11.4ms\n",
      "Speed: 0.4ms preprocess, 11.4ms inference, 1.1ms postprocess per image at shape (1, 3, 96, 96)\n",
      "\n",
      "0: 96x96 (no detections), 12.3ms\n",
      "Speed: 0.4ms preprocess, 12.3ms inference, 0.6ms postprocess per image at shape (1, 3, 96, 96)\n",
      "\n",
      "0: 96x96 (no detections), 12.2ms\n",
      "Speed: 0.2ms preprocess, 12.2ms inference, 0.6ms postprocess per image at shape (1, 3, 96, 96)\n",
      "\n",
      "0: 96x96 (no detections), 12.1ms\n",
      "Speed: 0.3ms preprocess, 12.1ms inference, 0.7ms postprocess per image at shape (1, 3, 96, 96)\n",
      "\n",
      "0: 96x96 (no detections), 12.7ms\n",
      "Speed: 0.3ms preprocess, 12.7ms inference, 0.9ms postprocess per image at shape (1, 3, 96, 96)\n",
      "\n",
      "0: 96x96 1 anger, 1 sad, 12.5ms\n",
      "Speed: 0.2ms preprocess, 12.5ms inference, 1.0ms postprocess per image at shape (1, 3, 96, 96)\n",
      "\n",
      "0: 96x96 1 anger, 1 sad, 12.3ms\n",
      "Speed: 0.2ms preprocess, 12.3ms inference, 1.2ms postprocess per image at shape (1, 3, 96, 96)\n",
      "\n",
      "0: 96x96 1 anger, 1 sad, 13.4ms\n",
      "Speed: 0.4ms preprocess, 13.4ms inference, 1.0ms postprocess per image at shape (1, 3, 96, 96)\n",
      "\n",
      "0: 96x96 (no detections), 12.7ms\n",
      "Speed: 0.4ms preprocess, 12.7ms inference, 0.6ms postprocess per image at shape (1, 3, 96, 96)\n",
      "\n",
      "0: 96x96 1 anger, 1 surprise, 14.0ms\n",
      "Speed: 0.3ms preprocess, 14.0ms inference, 1.4ms postprocess per image at shape (1, 3, 96, 96)\n",
      "\n",
      "0: 96x96 1 surprise, 13.0ms\n",
      "Speed: 0.3ms preprocess, 13.0ms inference, 1.0ms postprocess per image at shape (1, 3, 96, 96)\n",
      "\n",
      "0: 96x96 (no detections), 12.7ms\n",
      "Speed: 0.5ms preprocess, 12.7ms inference, 0.9ms postprocess per image at shape (1, 3, 96, 96)\n",
      "\n",
      "0: 96x96 1 sad, 12.9ms\n",
      "Speed: 0.6ms preprocess, 12.9ms inference, 1.0ms postprocess per image at shape (1, 3, 96, 96)\n",
      "\n",
      "0: 96x96 (no detections), 13.3ms\n",
      "Speed: 0.4ms preprocess, 13.3ms inference, 0.6ms postprocess per image at shape (1, 3, 96, 96)\n",
      "\n",
      "0: 96x96 (no detections), 12.2ms\n",
      "Speed: 0.2ms preprocess, 12.2ms inference, 0.6ms postprocess per image at shape (1, 3, 96, 96)\n",
      "\n",
      "0: 96x96 (no detections), 13.4ms\n",
      "Speed: 0.4ms preprocess, 13.4ms inference, 0.7ms postprocess per image at shape (1, 3, 96, 96)\n",
      "\n",
      "0: 96x96 (no detections), 12.6ms\n",
      "Speed: 0.2ms preprocess, 12.6ms inference, 0.7ms postprocess per image at shape (1, 3, 96, 96)\n",
      "\n",
      "0: 96x96 1 fear, 1 surprise, 12.7ms\n",
      "Speed: 0.3ms preprocess, 12.7ms inference, 1.0ms postprocess per image at shape (1, 3, 96, 96)\n",
      "\n",
      "0: 96x96 (no detections), 12.4ms\n",
      "Speed: 0.5ms preprocess, 12.4ms inference, 0.6ms postprocess per image at shape (1, 3, 96, 96)\n",
      "\n",
      "0: 96x96 (no detections), 11.5ms\n",
      "Speed: 0.3ms preprocess, 11.5ms inference, 0.8ms postprocess per image at shape (1, 3, 96, 96)\n",
      "\n",
      "0: 96x96 1 sad, 12.2ms\n",
      "Speed: 0.3ms preprocess, 12.2ms inference, 1.4ms postprocess per image at shape (1, 3, 96, 96)\n",
      "\n",
      "0: 96x96 1 fear, 1 surprise, 12.9ms\n",
      "Speed: 0.3ms preprocess, 12.9ms inference, 1.0ms postprocess per image at shape (1, 3, 96, 96)\n",
      "\n",
      "0: 96x96 (no detections), 13.2ms\n",
      "Speed: 0.7ms preprocess, 13.2ms inference, 0.6ms postprocess per image at shape (1, 3, 96, 96)\n",
      "\n",
      "0: 96x96 (no detections), 12.1ms\n",
      "Speed: 0.6ms preprocess, 12.1ms inference, 0.6ms postprocess per image at shape (1, 3, 96, 96)\n",
      "\n",
      "0: 96x96 1 anger, 1 sad, 11.3ms\n",
      "Speed: 0.4ms preprocess, 11.3ms inference, 1.0ms postprocess per image at shape (1, 3, 96, 96)\n",
      "\n",
      "0: 96x96 1 anger, 12.9ms\n",
      "Speed: 0.3ms preprocess, 12.9ms inference, 1.1ms postprocess per image at shape (1, 3, 96, 96)\n",
      "\n",
      "0: 96x96 1 anger, 10.9ms\n",
      "Speed: 0.3ms preprocess, 10.9ms inference, 1.1ms postprocess per image at shape (1, 3, 96, 96)\n",
      "\n",
      "0: 96x96 1 anger, 12.6ms\n",
      "Speed: 0.4ms preprocess, 12.6ms inference, 1.0ms postprocess per image at shape (1, 3, 96, 96)\n",
      "\n",
      "0: 96x96 1 anger, 12.4ms\n",
      "Speed: 0.4ms preprocess, 12.4ms inference, 1.1ms postprocess per image at shape (1, 3, 96, 96)\n",
      "\n",
      "0: 96x96 1 anger, 11.2ms\n",
      "Speed: 0.4ms preprocess, 11.2ms inference, 1.1ms postprocess per image at shape (1, 3, 96, 96)\n",
      "\n",
      "0: 96x96 1 anger, 12.3ms\n",
      "Speed: 0.3ms preprocess, 12.3ms inference, 1.3ms postprocess per image at shape (1, 3, 96, 96)\n",
      "\n",
      "0: 96x96 1 anger, 10.9ms\n",
      "Speed: 0.2ms preprocess, 10.9ms inference, 1.2ms postprocess per image at shape (1, 3, 96, 96)\n",
      "\n",
      "0: 96x96 1 anger, 1 surprise, 12.8ms\n",
      "Speed: 0.4ms preprocess, 12.8ms inference, 1.1ms postprocess per image at shape (1, 3, 96, 96)\n",
      "\n",
      "0: 96x96 1 anger, 1 surprise, 11.9ms\n",
      "Speed: 0.4ms preprocess, 11.9ms inference, 1.0ms postprocess per image at shape (1, 3, 96, 96)\n",
      "\n",
      "0: 96x96 1 anger, 1 surprise, 10.8ms\n",
      "Speed: 0.6ms preprocess, 10.8ms inference, 1.0ms postprocess per image at shape (1, 3, 96, 96)\n",
      "\n",
      "0: 96x96 1 anger, 1 surprise, 12.5ms\n",
      "Speed: 0.5ms preprocess, 12.5ms inference, 1.1ms postprocess per image at shape (1, 3, 96, 96)\n",
      "\n",
      "0: 96x96 1 anger, 12.3ms\n",
      "Speed: 0.3ms preprocess, 12.3ms inference, 1.1ms postprocess per image at shape (1, 3, 96, 96)\n",
      "\n",
      "0: 96x96 1 anger, 1 fear, 1 surprise, 11.8ms\n",
      "Speed: 0.3ms preprocess, 11.8ms inference, 1.1ms postprocess per image at shape (1, 3, 96, 96)\n",
      "\n",
      "0: 96x96 1 anger, 1 surprise, 12.1ms\n",
      "Speed: 0.3ms preprocess, 12.1ms inference, 1.0ms postprocess per image at shape (1, 3, 96, 96)\n",
      "\n",
      "0: 96x96 1 anger, 1 fear, 12.5ms\n",
      "Speed: 0.5ms preprocess, 12.5ms inference, 1.1ms postprocess per image at shape (1, 3, 96, 96)\n",
      "\n",
      "0: 96x96 1 anger, 1 fear, 1 surprise, 11.7ms\n",
      "Speed: 0.3ms preprocess, 11.7ms inference, 1.0ms postprocess per image at shape (1, 3, 96, 96)\n",
      "\n",
      "0: 96x96 1 anger, 1 fear, 10.8ms\n",
      "Speed: 0.4ms preprocess, 10.8ms inference, 1.3ms postprocess per image at shape (1, 3, 96, 96)\n",
      "\n",
      "0: 96x96 1 anger, 1 fear, 11.7ms\n",
      "Speed: 0.2ms preprocess, 11.7ms inference, 1.0ms postprocess per image at shape (1, 3, 96, 96)\n",
      "\n",
      "0: 96x96 1 anger, 1 fear, 11.1ms\n",
      "Speed: 0.4ms preprocess, 11.1ms inference, 1.1ms postprocess per image at shape (1, 3, 96, 96)\n",
      "\n",
      "0: 96x96 1 anger, 1 fear, 13.5ms\n",
      "Speed: 0.3ms preprocess, 13.5ms inference, 1.0ms postprocess per image at shape (1, 3, 96, 96)\n",
      "\n",
      "0: 96x96 1 anger, 12.9ms\n",
      "Speed: 0.5ms preprocess, 12.9ms inference, 1.1ms postprocess per image at shape (1, 3, 96, 96)\n",
      "\n",
      "0: 96x96 1 anger, 1 sad, 11.4ms\n",
      "Speed: 0.4ms preprocess, 11.4ms inference, 1.2ms postprocess per image at shape (1, 3, 96, 96)\n",
      "\n",
      "0: 96x96 1 anger, 1 sad, 12.7ms\n",
      "Speed: 0.3ms preprocess, 12.7ms inference, 1.0ms postprocess per image at shape (1, 3, 96, 96)\n",
      "\n",
      "0: 96x96 1 anger, 12.6ms\n",
      "Speed: 0.4ms preprocess, 12.6ms inference, 1.4ms postprocess per image at shape (1, 3, 96, 96)\n",
      "\n",
      "0: 96x96 1 anger, 12.1ms\n",
      "Speed: 0.4ms preprocess, 12.1ms inference, 1.2ms postprocess per image at shape (1, 3, 96, 96)\n",
      "\n",
      "0: 96x96 1 anger, 11.5ms\n",
      "Speed: 0.4ms preprocess, 11.5ms inference, 1.3ms postprocess per image at shape (1, 3, 96, 96)\n",
      "\n",
      "0: 96x96 1 anger, 11.8ms\n",
      "Speed: 0.2ms preprocess, 11.8ms inference, 1.1ms postprocess per image at shape (1, 3, 96, 96)\n",
      "\n",
      "0: 96x96 1 anger, 13.3ms\n",
      "Speed: 0.2ms preprocess, 13.3ms inference, 1.1ms postprocess per image at shape (1, 3, 96, 96)\n",
      "\n",
      "0: 96x96 1 anger, 11.4ms\n",
      "Speed: 0.4ms preprocess, 11.4ms inference, 1.1ms postprocess per image at shape (1, 3, 96, 96)\n",
      "\n",
      "0: 96x96 1 anger, 12.8ms\n",
      "Speed: 0.6ms preprocess, 12.8ms inference, 1.0ms postprocess per image at shape (1, 3, 96, 96)\n",
      "\n",
      "0: 96x96 1 anger, 13.4ms\n",
      "Speed: 0.4ms preprocess, 13.4ms inference, 1.0ms postprocess per image at shape (1, 3, 96, 96)\n",
      "\n",
      "0: 96x96 1 anger, 12.9ms\n",
      "Speed: 0.3ms preprocess, 12.9ms inference, 1.0ms postprocess per image at shape (1, 3, 96, 96)\n",
      "\n",
      "0: 96x96 1 anger, 12.6ms\n",
      "Speed: 0.4ms preprocess, 12.6ms inference, 1.0ms postprocess per image at shape (1, 3, 96, 96)\n",
      "\n",
      "0: 96x96 1 anger, 11.9ms\n",
      "Speed: 0.3ms preprocess, 11.9ms inference, 1.3ms postprocess per image at shape (1, 3, 96, 96)\n",
      "\n",
      "0: 96x96 1 anger, 10.8ms\n",
      "Speed: 0.3ms preprocess, 10.8ms inference, 1.2ms postprocess per image at shape (1, 3, 96, 96)\n",
      "\n",
      "0: 96x96 1 anger, 13.2ms\n",
      "Speed: 0.2ms preprocess, 13.2ms inference, 1.0ms postprocess per image at shape (1, 3, 96, 96)\n",
      "\n",
      "0: 96x96 1 anger, 12.2ms\n",
      "Speed: 0.3ms preprocess, 12.2ms inference, 1.0ms postprocess per image at shape (1, 3, 96, 96)\n",
      "\n",
      "0: 96x96 1 anger, 12.6ms\n",
      "Speed: 0.5ms preprocess, 12.6ms inference, 1.1ms postprocess per image at shape (1, 3, 96, 96)\n",
      "\n",
      "0: 96x96 1 anger, 12.0ms\n",
      "Speed: 0.5ms preprocess, 12.0ms inference, 1.2ms postprocess per image at shape (1, 3, 96, 96)\n",
      "\n",
      "0: 96x96 1 anger, 13.0ms\n",
      "Speed: 0.4ms preprocess, 13.0ms inference, 1.1ms postprocess per image at shape (1, 3, 96, 96)\n",
      "\n",
      "0: 96x96 1 anger, 12.4ms\n",
      "Speed: 0.4ms preprocess, 12.4ms inference, 1.1ms postprocess per image at shape (1, 3, 96, 96)\n",
      "\n",
      "0: 96x96 1 anger, 12.8ms\n",
      "Speed: 0.6ms preprocess, 12.8ms inference, 1.0ms postprocess per image at shape (1, 3, 96, 96)\n",
      "\n",
      "0: 96x96 1 anger, 11.9ms\n",
      "Speed: 0.3ms preprocess, 11.9ms inference, 1.1ms postprocess per image at shape (1, 3, 96, 96)\n",
      "\n",
      "0: 96x96 1 anger, 12.6ms\n",
      "Speed: 0.3ms preprocess, 12.6ms inference, 1.3ms postprocess per image at shape (1, 3, 96, 96)\n",
      "\n",
      "0: 96x96 1 anger, 12.3ms\n",
      "Speed: 0.4ms preprocess, 12.3ms inference, 1.0ms postprocess per image at shape (1, 3, 96, 96)\n",
      "\n",
      "0: 96x96 1 anger, 11.9ms\n",
      "Speed: 0.5ms preprocess, 11.9ms inference, 0.9ms postprocess per image at shape (1, 3, 96, 96)\n",
      "\n",
      "0: 96x96 1 anger, 12.9ms\n",
      "Speed: 0.6ms preprocess, 12.9ms inference, 1.3ms postprocess per image at shape (1, 3, 96, 96)\n",
      "\n",
      "0: 96x96 1 anger, 12.5ms\n",
      "Speed: 0.3ms preprocess, 12.5ms inference, 1.1ms postprocess per image at shape (1, 3, 96, 96)\n",
      "\n",
      "0: 96x96 (no detections), 11.3ms\n",
      "Speed: 0.3ms preprocess, 11.3ms inference, 0.7ms postprocess per image at shape (1, 3, 96, 96)\n",
      "\n",
      "0: 96x96 (no detections), 12.6ms\n",
      "Speed: 0.4ms preprocess, 12.6ms inference, 0.7ms postprocess per image at shape (1, 3, 96, 96)\n",
      "\n",
      "0: 96x96 (no detections), 12.8ms\n",
      "Speed: 0.3ms preprocess, 12.8ms inference, 0.6ms postprocess per image at shape (1, 3, 96, 96)\n",
      "\n",
      "0: 96x96 1 fear, 12.7ms\n",
      "Speed: 0.4ms preprocess, 12.7ms inference, 0.9ms postprocess per image at shape (1, 3, 96, 96)\n",
      "\n",
      "0: 96x96 (no detections), 13.5ms\n",
      "Speed: 0.3ms preprocess, 13.5ms inference, 0.6ms postprocess per image at shape (1, 3, 96, 96)\n",
      "\n",
      "0: 96x96 (no detections), 12.5ms\n",
      "Speed: 0.4ms preprocess, 12.5ms inference, 0.6ms postprocess per image at shape (1, 3, 96, 96)\n",
      "\n",
      "0: 96x96 (no detections), 13.0ms\n",
      "Speed: 0.3ms preprocess, 13.0ms inference, 0.6ms postprocess per image at shape (1, 3, 96, 96)\n",
      "\n",
      "0: 96x96 (no detections), 11.9ms\n",
      "Speed: 0.4ms preprocess, 11.9ms inference, 0.7ms postprocess per image at shape (1, 3, 96, 96)\n",
      "\n",
      "0: 96x96 (no detections), 11.7ms\n",
      "Speed: 0.3ms preprocess, 11.7ms inference, 0.7ms postprocess per image at shape (1, 3, 96, 96)\n",
      "\n",
      "0: 96x96 1 fear, 1 surprise, 14.1ms\n",
      "Speed: 0.5ms preprocess, 14.1ms inference, 3.1ms postprocess per image at shape (1, 3, 96, 96)\n",
      "\n",
      "0: 96x96 1 fear, 1 surprise, 12.0ms\n",
      "Speed: 0.5ms preprocess, 12.0ms inference, 1.1ms postprocess per image at shape (1, 3, 96, 96)\n",
      "\n",
      "0: 96x96 1 fear, 1 surprise, 12.0ms\n",
      "Speed: 0.2ms preprocess, 12.0ms inference, 1.2ms postprocess per image at shape (1, 3, 96, 96)\n",
      "\n",
      "0: 96x96 1 fear, 1 surprise, 11.8ms\n",
      "Speed: 0.4ms preprocess, 11.8ms inference, 1.2ms postprocess per image at shape (1, 3, 96, 96)\n"
     ]
    }
   ],
   "execution_count": 138
  }
 ],
 "metadata": {
  "kernelspec": {
   "display_name": "Python 3",
   "language": "python",
   "name": "python3"
  },
  "language_info": {
   "codemirror_mode": {
    "name": "ipython",
    "version": 2
   },
   "file_extension": ".py",
   "mimetype": "text/x-python",
   "name": "python",
   "nbconvert_exporter": "python",
   "pygments_lexer": "ipython2",
   "version": "2.7.6"
  }
 },
 "nbformat": 4,
 "nbformat_minor": 5
}
